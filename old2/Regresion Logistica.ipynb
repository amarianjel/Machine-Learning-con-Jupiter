{
 "cells": [
  {
   "cell_type": "markdown",
   "id": "d0741d17",
   "metadata": {},
   "source": [
    "<h2 align='center'>  Regresión Logística </h2> "
   ]
  },
  {
   "cell_type": "markdown",
   "id": "4a1aecb0",
   "metadata": {},
   "source": [
    "## Grafica"
   ]
  },
  {
   "cell_type": "code",
   "execution_count": 2,
   "id": "823a6619",
   "metadata": {},
   "outputs": [],
   "source": [
    "import numpy as np\n",
    "from matplotlib import pyplot as plt"
   ]
  },
  {
   "cell_type": "code",
   "execution_count": 3,
   "id": "80f27d90",
   "metadata": {
    "scrolled": true
   },
   "outputs": [
    {
     "data": {
      "image/png": "[encoded data removed]",
      "text/plain": [
       "<Figure size 640x480 with 1 Axes>"
      ]
     },
     "metadata": {},
     "output_type": "display_data"
    }
   ],
   "source": [
    "x = np.linspace(-10,10)\n",
    "y = 1/(1+np.exp(-x))\n",
    "plt.plot(x,y)\n",
    "plt.title('Función logística')\n",
    "plt.grid()\n",
    "plt.axis\n",
    "plt.show()"
   ]
  },
  {
   "cell_type": "markdown",
   "id": "6e07a1fb",
   "metadata": {},
   "source": [
    "## Tipos de modelos de Regresión Logística\n",
    "\n",
    "* **Regresión Logística Binaria:** la variable objetivo tiene solo dos resultados posible, Llueve o NO Llueve, Sube o Baja.\n",
    "* **Regresión Logística Multinomial:** la variable objetivo tiene tres o más categorías nominales, como predecir el tipo de vino.\n",
    "* **Regresión Logística Ordinal:** la variable objetivo tiene tres o más categorías ordinales, como clasificar un restaurante o un producto del 1 al 5"
   ]
  },
  {
   "cell_type": "markdown",
   "id": "6c7f0308",
   "metadata": {},
   "source": [
    "<h2> Mapa </h2>\n",
    "<ul>\n",
    "    <li>1-. Formular la pregunta y determinar los datos requeridos</li>\n",
    "    <li>2-. Adquirir los datos en un formato accesible</li>\n",
    "    <li>3-. Identifique y corrija los puntos de datos faltantes/anomalías según sea necesario</li>\n",
    "    <li>4-. Preparar los datos para el modelo de aprendizaje automático</li>\n",
    "    <li>5-. Entrenar el modelo en los datos de entrenamiento</li>\n",
    "    <li>6-. Predicciones sobre los datos de prueba</li>\n",
    "    <li>7-. Comparar las predicciones con los objetivos conocidos del conjunto de pruebas y calcule las métricas de rendimiento</li>\n",
    "    <li>8-. Reducción de caracteristicas, si el modelo no fue satisfactorio</li>\n",
    "    <li>9-. Interpretación el modelo y reporte los resultados visual y numéricamente</li>\n",
    "</ul>"
   ]
  },
  {
   "cell_type": "markdown",
   "id": "6007df8b",
   "metadata": {},
   "source": [
    "# 2-. Adquisición de datos\n",
    "Primero, necesitamos algunos datos. Para usar un ejemplo realista, recuperé datos de pacientes del Hospital Herminda Martin de Chillan. En general, aproximadamente el 80 % del tiempo dedicado al análisis de datos es limpiar y recuperar datos, pero esta carga de trabajo se puede reducir encontrando fuentes de datos de alta calidad."
   ]
  },
  {
   "cell_type": "code",
   "execution_count": 5,
   "id": "51d456c1",
   "metadata": {},
   "outputs": [
    {
     "data": {
      "text/html": [
       "<div>\n",
       "<style scoped>\n",
       "    .dataframe tbody tr th:only-of-type {\n",
       "        vertical-align: middle;\n",
       "    }\n",
       "\n",
       "    .dataframe tbody tr th {\n",
       "        vertical-align: top;\n",
       "    }\n",
       "\n",
       "    .dataframe thead th {\n",
       "        text-align: right;\n",
       "    }\n",
       "</style>\n",
       "<table border=\"1\" class=\"dataframe\">\n",
       "  <thead>\n",
       "    <tr style=\"text-align: right;\">\n",
       "      <th></th>\n",
       "      <th>CLAVE</th>\n",
       "      <th>COMUNA</th>\n",
       "      <th>TELEFONOS</th>\n",
       "      <th>FICHA CLINICA</th>\n",
       "      <th>CTA CTE</th>\n",
       "      <th>EDAD</th>\n",
       "      <th>PESO</th>\n",
       "      <th>TALLA</th>\n",
       "      <th>HTA</th>\n",
       "      <th>DIABETES</th>\n",
       "      <th>...</th>\n",
       "      <th>PCR/VEGF ratio</th>\n",
       "      <th>PCR/PLGF ratio</th>\n",
       "      <th>IL-6 (pg/ml)</th>\n",
       "      <th>IL-6 corregida</th>\n",
       "      <th>log IL-6</th>\n",
       "      <th>IL-6/VEGF</th>\n",
       "      <th>IL-6/PlGF</th>\n",
       "      <th>ESTADO_INICIO</th>\n",
       "      <th>ESTADO</th>\n",
       "      <th>NESTADO</th>\n",
       "    </tr>\n",
       "  </thead>\n",
       "  <tbody>\n",
       "    <tr>\n",
       "      <th>0</th>\n",
       "      <td>1</td>\n",
       "      <td>san carlos</td>\n",
       "      <td>NaN</td>\n",
       "      <td>2012418042</td>\n",
       "      <td>11998898</td>\n",
       "      <td>53.0</td>\n",
       "      <td>NaN</td>\n",
       "      <td>NaN</td>\n",
       "      <td>NaN</td>\n",
       "      <td>NaN</td>\n",
       "      <td>...</td>\n",
       "      <td>0.096293</td>\n",
       "      <td>0.174814</td>\n",
       "      <td>18.586835</td>\n",
       "      <td>0.156953</td>\n",
       "      <td>-0.804231</td>\n",
       "      <td>-0.454840</td>\n",
       "      <td>-0.825732</td>\n",
       "      <td>Gravisimo</td>\n",
       "      <td>Gravisimo</td>\n",
       "      <td>4</td>\n",
       "    </tr>\n",
       "    <tr>\n",
       "      <th>1</th>\n",
       "      <td>2</td>\n",
       "      <td>coihueco</td>\n",
       "      <td>41723921-74822219</td>\n",
       "      <td>2000149601</td>\n",
       "      <td>12002852</td>\n",
       "      <td>54.0</td>\n",
       "      <td>88.0</td>\n",
       "      <td>165.0</td>\n",
       "      <td>si</td>\n",
       "      <td>si</td>\n",
       "      <td>...</td>\n",
       "      <td>0.103920</td>\n",
       "      <td>0.127286</td>\n",
       "      <td>1.263441</td>\n",
       "      <td>0.012818</td>\n",
       "      <td>-1.892186</td>\n",
       "      <td>-0.882899</td>\n",
       "      <td>-1.081411</td>\n",
       "      <td>Buen Pronostico</td>\n",
       "      <td>Buen Pronostico</td>\n",
       "      <td>2</td>\n",
       "    </tr>\n",
       "    <tr>\n",
       "      <th>2</th>\n",
       "      <td>3</td>\n",
       "      <td>chillan</td>\n",
       "      <td>71818219-50323843</td>\n",
       "      <td>98085992</td>\n",
       "      <td>12003092</td>\n",
       "      <td>78.0</td>\n",
       "      <td>NaN</td>\n",
       "      <td>NaN</td>\n",
       "      <td>si</td>\n",
       "      <td>si</td>\n",
       "      <td>...</td>\n",
       "      <td>0.693933</td>\n",
       "      <td>0.892673</td>\n",
       "      <td>49.091862</td>\n",
       "      <td>0.436365</td>\n",
       "      <td>-0.360150</td>\n",
       "      <td>-0.230736</td>\n",
       "      <td>-0.296817</td>\n",
       "      <td>Buen Pronostico</td>\n",
       "      <td>Buen Pronostico</td>\n",
       "      <td>2</td>\n",
       "    </tr>\n",
       "    <tr>\n",
       "      <th>3</th>\n",
       "      <td>4</td>\n",
       "      <td>coihueco</td>\n",
       "      <td>77107584-93406930</td>\n",
       "      <td>9772094</td>\n",
       "      <td>11995391</td>\n",
       "      <td>87.0</td>\n",
       "      <td>52.5</td>\n",
       "      <td>NaN</td>\n",
       "      <td>si</td>\n",
       "      <td>si</td>\n",
       "      <td>...</td>\n",
       "      <td>0.026919</td>\n",
       "      <td>0.036559</td>\n",
       "      <td>96.544126</td>\n",
       "      <td>0.934859</td>\n",
       "      <td>-0.029254</td>\n",
       "      <td>-0.012974</td>\n",
       "      <td>-0.017620</td>\n",
       "      <td>Trombolisando</td>\n",
       "      <td>Trombolisando</td>\n",
       "      <td>1</td>\n",
       "    </tr>\n",
       "    <tr>\n",
       "      <th>4</th>\n",
       "      <td>5</td>\n",
       "      <td>yungay</td>\n",
       "      <td>99240760-77884029</td>\n",
       "      <td>98095110</td>\n",
       "      <td>12014450</td>\n",
       "      <td>69.0</td>\n",
       "      <td>94.0</td>\n",
       "      <td>NaN</td>\n",
       "      <td>si</td>\n",
       "      <td>si</td>\n",
       "      <td>...</td>\n",
       "      <td>0.053197</td>\n",
       "      <td>0.061578</td>\n",
       "      <td>43.309864</td>\n",
       "      <td>0.379102</td>\n",
       "      <td>-0.421244</td>\n",
       "      <td>-0.209021</td>\n",
       "      <td>-0.241949</td>\n",
       "      <td>Trombolisando</td>\n",
       "      <td>Trombolisando</td>\n",
       "      <td>1</td>\n",
       "    </tr>\n",
       "  </tbody>\n",
       "</table>\n",
       "<p>5 rows × 88 columns</p>\n",
       "</div>"
      ],
      "text/plain": [
       "  CLAVE      COMUNA         TELEFONOS   FICHA CLINICA   CTA CTE  EDAD  PESO  \\\n",
       "0     1  san carlos                NaN     2012418042  11998898  53.0   NaN   \n",
       "1     2    coihueco  41723921-74822219     2000149601  12002852  54.0  88.0   \n",
       "2     3     chillan  71818219-50323843       98085992  12003092  78.0   NaN   \n",
       "3     4    coihueco  77107584-93406930        9772094  11995391  87.0  52.5   \n",
       "4     5      yungay  99240760-77884029       98095110  12014450  69.0  94.0   \n",
       "\n",
       "   TALLA  HTA DIABETES  ... PCR/VEGF ratio PCR/PLGF ratio  IL-6 (pg/ml)  \\\n",
       "0    NaN  NaN      NaN  ...       0.096293       0.174814     18.586835   \n",
       "1  165.0   si       si  ...       0.103920       0.127286      1.263441   \n",
       "2    NaN   si       si  ...       0.693933       0.892673     49.091862   \n",
       "3    NaN   si       si  ...       0.026919       0.036559     96.544126   \n",
       "4    NaN   si       si  ...       0.053197       0.061578     43.309864   \n",
       "\n",
       "   IL-6 corregida  log IL-6  IL-6/VEGF  IL-6/PlGF    ESTADO_INICIO  \\\n",
       "0        0.156953 -0.804231  -0.454840  -0.825732        Gravisimo   \n",
       "1        0.012818 -1.892186  -0.882899  -1.081411  Buen Pronostico   \n",
       "2        0.436365 -0.360150  -0.230736  -0.296817  Buen Pronostico   \n",
       "3        0.934859 -0.029254  -0.012974  -0.017620    Trombolisando   \n",
       "4        0.379102 -0.421244  -0.209021  -0.241949    Trombolisando   \n",
       "\n",
       "            ESTADO  NESTADO  \n",
       "0        Gravisimo        4  \n",
       "1  Buen Pronostico        2  \n",
       "2  Buen Pronostico        2  \n",
       "3    Trombolisando        1  \n",
       "4    Trombolisando        1  \n",
       "\n",
       "[5 rows x 88 columns]"
      ]
     },
     "execution_count": 5,
     "metadata": {},
     "output_type": "execute_result"
    }
   ],
   "source": [
    "# Libreria para la manipulación de los datos\n",
    "import pandas as pd\n",
    "import numpy as np\n",
    "\n",
    "# Leer el dataframe\n",
    "dataframe = pd.read_excel('../bdd/dataframe.xlsx')\n",
    "dataframe.head(5)"
   ]
  },
  {
   "cell_type": "code",
   "execution_count": 6,
   "id": "ab133186",
   "metadata": {},
   "outputs": [
    {
     "name": "stdout",
     "output_type": "stream",
     "text": [
      "Existen 44 pacientes con 88 variables.\n"
     ]
    }
   ],
   "source": [
    "print('Existen {} pacientes con {} variables.'.format(*dataframe.shape))"
   ]
  },
  {
   "cell_type": "markdown",
   "id": "74ad3255",
   "metadata": {},
   "source": [
    "# 3-. Identifique y corrija los puntos de datos faltantes/anomalías según sea necesario\n",
    "\n",
    "En este item, la base de datos será rellenada."
   ]
  },
  {
   "cell_type": "code",
   "execution_count": 7,
   "id": "656e3a85",
   "metadata": {},
   "outputs": [
    {
     "name": "stderr",
     "output_type": "stream",
     "text": [
      "C:\\Users\\Abraham\\AppData\\Local\\Temp\\ipykernel_8528\\2763670976.py:6: SettingWithCopyWarning: \n",
      "A value is trying to be set on a copy of a slice from a DataFrame.\n",
      "Try using .loc[row_indexer,col_indexer] = value instead\n",
      "\n",
      "See the caveats in the documentation: https://pandas.pydata.org/pandas-docs/stable/user_guide/indexing.html#returning-a-view-versus-a-copy\n",
      "  dataset['NIHSS 6M'] = dataset['NIHSS 6M'].replace( ['fallecido'], 0)\n",
      "C:\\Users\\Abraham\\AppData\\Local\\Temp\\ipykernel_8528\\2763670976.py:7: SettingWithCopyWarning: \n",
      "A value is trying to be set on a copy of a slice from a DataFrame.\n",
      "Try using .loc[row_indexer,col_indexer] = value instead\n",
      "\n",
      "See the caveats in the documentation: https://pandas.pydata.org/pandas-docs/stable/user_guide/indexing.html#returning-a-view-versus-a-copy\n",
      "  dataset['RANKIN 6M'] = dataset['RANKIN 6M'].replace( ['no'], 0)\n"
     ]
    },
    {
     "data": {
      "text/html": [
       "<div>\n",
       "<style scoped>\n",
       "    .dataframe tbody tr th:only-of-type {\n",
       "        vertical-align: middle;\n",
       "    }\n",
       "\n",
       "    .dataframe tbody tr th {\n",
       "        vertical-align: top;\n",
       "    }\n",
       "\n",
       "    .dataframe thead th {\n",
       "        text-align: right;\n",
       "    }\n",
       "</style>\n",
       "<table border=\"1\" class=\"dataframe\">\n",
       "  <thead>\n",
       "    <tr style=\"text-align: right;\">\n",
       "      <th></th>\n",
       "      <th>HTA</th>\n",
       "      <th>DIABETES</th>\n",
       "      <th>EDAD</th>\n",
       "      <th>TRIGLICERIDOS</th>\n",
       "      <th>PESO</th>\n",
       "      <th>TALLA</th>\n",
       "      <th>FC</th>\n",
       "      <th>GLUCOSA</th>\n",
       "      <th>Hb A/C  %</th>\n",
       "      <th>COL. TOTAL</th>\n",
       "      <th>...</th>\n",
       "      <th>Gamma glutamil</th>\n",
       "      <th>Transaminasa piruvica</th>\n",
       "      <th>Trans oxal</th>\n",
       "      <th>GLASGOW AL INICO ACV</th>\n",
       "      <th>NIHSS_INICO_ACV</th>\n",
       "      <th>RANKIN INICIO ACV</th>\n",
       "      <th>NIHSS alta ACV</th>\n",
       "      <th>RANKIN alta ACV</th>\n",
       "      <th>NIHSS 6M</th>\n",
       "      <th>RANKIN 6M</th>\n",
       "    </tr>\n",
       "  </thead>\n",
       "  <tbody>\n",
       "    <tr>\n",
       "      <th>0</th>\n",
       "      <td>DESCONOCIDO</td>\n",
       "      <td>DESCONOCIDO</td>\n",
       "      <td>53.0</td>\n",
       "      <td>130.0</td>\n",
       "      <td>78.25</td>\n",
       "      <td>164.25</td>\n",
       "      <td>78.416667</td>\n",
       "      <td>137.090000</td>\n",
       "      <td>5.9</td>\n",
       "      <td>268.0</td>\n",
       "      <td>...</td>\n",
       "      <td>41.660000</td>\n",
       "      <td>20.39000</td>\n",
       "      <td>25.51</td>\n",
       "      <td>11.0</td>\n",
       "      <td>14.0</td>\n",
       "      <td>5.0</td>\n",
       "      <td>42.0</td>\n",
       "      <td>6.0</td>\n",
       "      <td>0.000000</td>\n",
       "      <td>6.000000</td>\n",
       "    </tr>\n",
       "    <tr>\n",
       "      <th>1</th>\n",
       "      <td>si</td>\n",
       "      <td>si</td>\n",
       "      <td>54.0</td>\n",
       "      <td>130.0</td>\n",
       "      <td>88.00</td>\n",
       "      <td>165.00</td>\n",
       "      <td>56.000000</td>\n",
       "      <td>136.732703</td>\n",
       "      <td>6.5</td>\n",
       "      <td>187.0</td>\n",
       "      <td>...</td>\n",
       "      <td>39.527317</td>\n",
       "      <td>27.22425</td>\n",
       "      <td>27.34</td>\n",
       "      <td>15.0</td>\n",
       "      <td>6.0</td>\n",
       "      <td>5.0</td>\n",
       "      <td>0.0</td>\n",
       "      <td>2.0</td>\n",
       "      <td>0.000000</td>\n",
       "      <td>2.000000</td>\n",
       "    </tr>\n",
       "    <tr>\n",
       "      <th>2</th>\n",
       "      <td>si</td>\n",
       "      <td>si</td>\n",
       "      <td>78.0</td>\n",
       "      <td>97.0</td>\n",
       "      <td>78.25</td>\n",
       "      <td>164.25</td>\n",
       "      <td>91.000000</td>\n",
       "      <td>359.420000</td>\n",
       "      <td>13.8</td>\n",
       "      <td>159.0</td>\n",
       "      <td>...</td>\n",
       "      <td>130.390000</td>\n",
       "      <td>49.57000</td>\n",
       "      <td>23.40</td>\n",
       "      <td>15.0</td>\n",
       "      <td>5.0</td>\n",
       "      <td>3.0</td>\n",
       "      <td>2.0</td>\n",
       "      <td>1.0</td>\n",
       "      <td>2.052632</td>\n",
       "      <td>2.526316</td>\n",
       "    </tr>\n",
       "    <tr>\n",
       "      <th>3</th>\n",
       "      <td>si</td>\n",
       "      <td>si</td>\n",
       "      <td>87.0</td>\n",
       "      <td>133.0</td>\n",
       "      <td>52.50</td>\n",
       "      <td>164.25</td>\n",
       "      <td>59.000000</td>\n",
       "      <td>186.200000</td>\n",
       "      <td>5.9</td>\n",
       "      <td>193.0</td>\n",
       "      <td>...</td>\n",
       "      <td>33.950000</td>\n",
       "      <td>15.59000</td>\n",
       "      <td>22.93</td>\n",
       "      <td>15.0</td>\n",
       "      <td>1.0</td>\n",
       "      <td>4.0</td>\n",
       "      <td>0.0</td>\n",
       "      <td>2.0</td>\n",
       "      <td>0.000000</td>\n",
       "      <td>2.000000</td>\n",
       "    </tr>\n",
       "    <tr>\n",
       "      <th>4</th>\n",
       "      <td>si</td>\n",
       "      <td>si</td>\n",
       "      <td>69.0</td>\n",
       "      <td>137.0</td>\n",
       "      <td>94.00</td>\n",
       "      <td>164.25</td>\n",
       "      <td>104.000000</td>\n",
       "      <td>170.000000</td>\n",
       "      <td>16.7</td>\n",
       "      <td>184.0</td>\n",
       "      <td>...</td>\n",
       "      <td>39.527317</td>\n",
       "      <td>27.22425</td>\n",
       "      <td>27.34</td>\n",
       "      <td>15.0</td>\n",
       "      <td>3.0</td>\n",
       "      <td>4.0</td>\n",
       "      <td>2.0</td>\n",
       "      <td>1.0</td>\n",
       "      <td>0.000000</td>\n",
       "      <td>1.000000</td>\n",
       "    </tr>\n",
       "  </tbody>\n",
       "</table>\n",
       "<p>5 rows × 41 columns</p>\n",
       "</div>"
      ],
      "text/plain": [
       "           HTA     DIABETES  EDAD  TRIGLICERIDOS   PESO   TALLA          FC  \\\n",
       "0  DESCONOCIDO  DESCONOCIDO  53.0          130.0  78.25  164.25   78.416667   \n",
       "1           si           si  54.0          130.0  88.00  165.00   56.000000   \n",
       "2           si           si  78.0           97.0  78.25  164.25   91.000000   \n",
       "3           si           si  87.0          133.0  52.50  164.25   59.000000   \n",
       "4           si           si  69.0          137.0  94.00  164.25  104.000000   \n",
       "\n",
       "      GLUCOSA  Hb A/C  %  COL. TOTAL  ...  Gamma glutamil  \\\n",
       "0  137.090000        5.9       268.0  ...       41.660000   \n",
       "1  136.732703        6.5       187.0  ...       39.527317   \n",
       "2  359.420000       13.8       159.0  ...      130.390000   \n",
       "3  186.200000        5.9       193.0  ...       33.950000   \n",
       "4  170.000000       16.7       184.0  ...       39.527317   \n",
       "\n",
       "   Transaminasa piruvica  Trans oxal  GLASGOW AL INICO ACV  NIHSS_INICO_ACV  \\\n",
       "0               20.39000       25.51                  11.0             14.0   \n",
       "1               27.22425       27.34                  15.0              6.0   \n",
       "2               49.57000       23.40                  15.0              5.0   \n",
       "3               15.59000       22.93                  15.0              1.0   \n",
       "4               27.22425       27.34                  15.0              3.0   \n",
       "\n",
       "   RANKIN INICIO ACV  NIHSS alta ACV  RANKIN alta ACV  NIHSS 6M  RANKIN 6M  \n",
       "0                5.0            42.0              6.0  0.000000   6.000000  \n",
       "1                5.0             0.0              2.0  0.000000   2.000000  \n",
       "2                3.0             2.0              1.0  2.052632   2.526316  \n",
       "3                4.0             0.0              2.0  0.000000   2.000000  \n",
       "4                4.0             2.0              1.0  0.000000   1.000000  \n",
       "\n",
       "[5 rows x 41 columns]"
      ]
     },
     "execution_count": 7,
     "metadata": {},
     "output_type": "execute_result"
    }
   ],
   "source": [
    "# Tomaremos las variables más significativas para la investigación\n",
    "columnasMuestra = ['HTA', 'DIABETES', 'EDAD','TRIGLICERIDOS', 'PESO', 'TALLA', 'FC', 'GLUCOSA', 'Hb A/C  %', 'COL. TOTAL', 'TRIGLICERIDOS', 'LDL', 'HDL', 'HCTO', 'HB', 'VCM', 'HCM', 'VHS', 'PLAQUETAS', 'INR', 'CONTEO G.B.', 'P.C.R', 'Nitrogeno Ureico', 'Uremia', 'Creatinina', 'TTPA', 'TP', 'NA', 'K', 'CL', 'Fosfatasa Alcalina', 'Gamma glutamil', 'Transaminasa piruvica', 'Trans oxal', 'GLASGOW AL INICO ACV', 'NIHSS_INICO_ACV', 'RANKIN INICIO ACV', 'NIHSS alta ACV', 'RANKIN alta ACV', 'NIHSS 6M', 'RANKIN 6M']\n",
    "dataset = dataframe[[*columnasMuestra]]\n",
    "\n",
    "# Para los datos fallecidos y NaN realizamos la impuntación y manejo de datos a través del promedio\n",
    "dataset['NIHSS 6M'] = dataset['NIHSS 6M'].replace( ['fallecido'], 0)\n",
    "dataset['RANKIN 6M'] = dataset['RANKIN 6M'].replace( ['no'], 0)\n",
    "\n",
    "valores_por_defecto = {'HTA': \"DESCONOCIDO\",\n",
    "                       'DIABETES' : \"DESCONOCIDO\",\n",
    "                       'EDAD':dataset[\"EDAD\"].mean(),\n",
    "                       'TRIGLICERIDOS':dataset[\"TRIGLICERIDOS\"].mean(), \n",
    "                       'PESO':dataset[\"PESO\"].mean(),\n",
    "                       'TALLA':dataset[\"TALLA\"].mean(),\n",
    "                       'FC':dataset[\"FC\"].mean(),\n",
    "                       'GLUCOSA':dataset[\"GLUCOSA\"].mean(),\n",
    "                       'Hb A/C  %':dataset[\"Hb A/C  %\"].mean(), \n",
    "                       'COL. TOTAL':dataset[\"COL. TOTAL\"].mean(), \n",
    "                       'TRIGLICERIDOS':dataset[\"TRIGLICERIDOS\"].mean(),\n",
    "                       'LDL':dataset[\"LDL\"].mean(), \n",
    "                       'HDL':dataset[\"HDL\"].mean(),\n",
    "                       'HCTO':dataset[\"HCTO\"].mean(), \n",
    "                       'HB':dataset[\"HB\"].mean(),\n",
    "                       'VCM':dataset[\"VCM\"].mean(),\n",
    "                       'HCM':dataset[\"HCM\"].mean(), \n",
    "                       'VHS':dataset[\"VHS\"].mean(),\n",
    "                       'PLAQUETAS':dataset[\"PLAQUETAS\"].mean(),\n",
    "                       'INR':dataset[\"INR\"].mean(),\n",
    "                       'CONTEO G.B.':dataset[\"CONTEO G.B.\"].mean(),\n",
    "                       'P.C.R':dataset[\"P.C.R\"].mean(),\n",
    "                       'Nitrogeno Ureico':dataset[\"Nitrogeno Ureico\"].mean(),\n",
    "                       'Uremia':dataset[\"Uremia\"].mean(),\n",
    "                       'Creatinina':dataset[\"Creatinina\"].mean(), \n",
    "                       'TTPA':dataset[\"TTPA\"].mean(),\n",
    "                       'TP':dataset[\"TP\"].mean(), \n",
    "                       'NA':dataset[\"NA\"].mean(), \n",
    "                       'K':dataset[\"K\"].mean(),\n",
    "                       'CL':dataset[\"CL\"].mean(),\n",
    "                       'Fosfatasa Alcalina':dataset[\"Fosfatasa Alcalina\"].mean(),\n",
    "                       'Gamma glutamil':dataset[\"Gamma glutamil\"].mean(), \n",
    "                       'Transaminasa piruvica':dataset[\"Transaminasa piruvica\"].mean(),\n",
    "                       'Trans oxal':dataset[\"Trans oxal\"].mean(), \n",
    "                       'GLASGOW AL INICO ACV':dataset[\"GLASGOW AL INICO ACV\"].mean(),\n",
    "                       'NIHSS_INICO_ACV':dataset[\"NIHSS_INICO_ACV\"].mean().round(), \n",
    "                       'RANKIN INICIO ACV':dataset[\"RANKIN INICIO ACV\"].mean(), \n",
    "                       'NIHSS alta ACV':dataset[\"NIHSS alta ACV\"].mean(), \n",
    "                       'RANKIN alta ACV':dataset[\"RANKIN alta ACV\"].mean(), \n",
    "                       'NIHSS 6M':dataset[\"NIHSS 6M\"].mean(), \n",
    "                       'RANKIN 6M':dataset[\"RANKIN 6M\"].mean()\n",
    "                      }\n",
    "\n",
    "dataset = dataset.fillna(value=valores_por_defecto)\n",
    "dataset.head(5)"
   ]
  },
  {
   "cell_type": "code",
   "execution_count": 8,
   "id": "6a34fba7",
   "metadata": {},
   "outputs": [
    {
     "data": {
      "text/html": [
       "<div>\n",
       "<style scoped>\n",
       "    .dataframe tbody tr th:only-of-type {\n",
       "        vertical-align: middle;\n",
       "    }\n",
       "\n",
       "    .dataframe tbody tr th {\n",
       "        vertical-align: top;\n",
       "    }\n",
       "\n",
       "    .dataframe thead th {\n",
       "        text-align: right;\n",
       "    }\n",
       "</style>\n",
       "<table border=\"1\" class=\"dataframe\">\n",
       "  <thead>\n",
       "    <tr style=\"text-align: right;\">\n",
       "      <th></th>\n",
       "      <th>EDAD</th>\n",
       "      <th>TRIGLICERIDOS</th>\n",
       "      <th>PESO</th>\n",
       "      <th>TALLA</th>\n",
       "      <th>FC</th>\n",
       "      <th>GLUCOSA</th>\n",
       "      <th>Hb A/C  %</th>\n",
       "      <th>COL. TOTAL</th>\n",
       "      <th>TRIGLICERIDOS</th>\n",
       "      <th>LDL</th>\n",
       "      <th>...</th>\n",
       "      <th>Gamma glutamil</th>\n",
       "      <th>Transaminasa piruvica</th>\n",
       "      <th>Trans oxal</th>\n",
       "      <th>GLASGOW AL INICO ACV</th>\n",
       "      <th>NIHSS_INICO_ACV</th>\n",
       "      <th>RANKIN INICIO ACV</th>\n",
       "      <th>NIHSS alta ACV</th>\n",
       "      <th>RANKIN alta ACV</th>\n",
       "      <th>NIHSS 6M</th>\n",
       "      <th>RANKIN 6M</th>\n",
       "    </tr>\n",
       "  </thead>\n",
       "  <tbody>\n",
       "    <tr>\n",
       "      <th>count</th>\n",
       "      <td>44.00</td>\n",
       "      <td>44.00</td>\n",
       "      <td>44.00</td>\n",
       "      <td>44.00</td>\n",
       "      <td>44.00</td>\n",
       "      <td>44.00</td>\n",
       "      <td>44.00</td>\n",
       "      <td>44.00</td>\n",
       "      <td>44.00</td>\n",
       "      <td>44.00</td>\n",
       "      <td>...</td>\n",
       "      <td>44.00</td>\n",
       "      <td>44.00</td>\n",
       "      <td>44.00</td>\n",
       "      <td>44.00</td>\n",
       "      <td>44.00</td>\n",
       "      <td>44.00</td>\n",
       "      <td>44.00</td>\n",
       "      <td>44.00</td>\n",
       "      <td>44.00</td>\n",
       "      <td>44.00</td>\n",
       "    </tr>\n",
       "    <tr>\n",
       "      <th>mean</th>\n",
       "      <td>71.69</td>\n",
       "      <td>122.97</td>\n",
       "      <td>78.25</td>\n",
       "      <td>164.25</td>\n",
       "      <td>78.42</td>\n",
       "      <td>136.73</td>\n",
       "      <td>8.98</td>\n",
       "      <td>162.46</td>\n",
       "      <td>122.97</td>\n",
       "      <td>95.46</td>\n",
       "      <td>...</td>\n",
       "      <td>39.53</td>\n",
       "      <td>27.22</td>\n",
       "      <td>27.34</td>\n",
       "      <td>13.97</td>\n",
       "      <td>5.66</td>\n",
       "      <td>3.64</td>\n",
       "      <td>5.69</td>\n",
       "      <td>2.37</td>\n",
       "      <td>2.05</td>\n",
       "      <td>2.53</td>\n",
       "    </tr>\n",
       "    <tr>\n",
       "      <th>std</th>\n",
       "      <td>12.00</td>\n",
       "      <td>44.34</td>\n",
       "      <td>9.13</td>\n",
       "      <td>1.30</td>\n",
       "      <td>16.32</td>\n",
       "      <td>50.51</td>\n",
       "      <td>3.37</td>\n",
       "      <td>49.86</td>\n",
       "      <td>44.34</td>\n",
       "      <td>45.11</td>\n",
       "      <td>...</td>\n",
       "      <td>23.75</td>\n",
       "      <td>18.70</td>\n",
       "      <td>16.64</td>\n",
       "      <td>1.45</td>\n",
       "      <td>4.31</td>\n",
       "      <td>1.38</td>\n",
       "      <td>9.75</td>\n",
       "      <td>1.78</td>\n",
       "      <td>4.38</td>\n",
       "      <td>2.05</td>\n",
       "    </tr>\n",
       "    <tr>\n",
       "      <th>min</th>\n",
       "      <td>38.00</td>\n",
       "      <td>57.00</td>\n",
       "      <td>52.50</td>\n",
       "      <td>158.00</td>\n",
       "      <td>40.00</td>\n",
       "      <td>82.61</td>\n",
       "      <td>4.80</td>\n",
       "      <td>85.00</td>\n",
       "      <td>57.00</td>\n",
       "      <td>18.00</td>\n",
       "      <td>...</td>\n",
       "      <td>11.61</td>\n",
       "      <td>10.27</td>\n",
       "      <td>10.52</td>\n",
       "      <td>8.00</td>\n",
       "      <td>0.00</td>\n",
       "      <td>0.00</td>\n",
       "      <td>0.00</td>\n",
       "      <td>0.00</td>\n",
       "      <td>0.00</td>\n",
       "      <td>0.00</td>\n",
       "    </tr>\n",
       "    <tr>\n",
       "      <th>25%</th>\n",
       "      <td>64.25</td>\n",
       "      <td>91.50</td>\n",
       "      <td>78.25</td>\n",
       "      <td>164.25</td>\n",
       "      <td>67.75</td>\n",
       "      <td>101.17</td>\n",
       "      <td>5.90</td>\n",
       "      <td>120.50</td>\n",
       "      <td>91.50</td>\n",
       "      <td>63.50</td>\n",
       "      <td>...</td>\n",
       "      <td>24.94</td>\n",
       "      <td>15.90</td>\n",
       "      <td>19.32</td>\n",
       "      <td>13.97</td>\n",
       "      <td>3.00</td>\n",
       "      <td>3.00</td>\n",
       "      <td>0.00</td>\n",
       "      <td>1.00</td>\n",
       "      <td>0.00</td>\n",
       "      <td>1.00</td>\n",
       "    </tr>\n",
       "    <tr>\n",
       "      <th>50%</th>\n",
       "      <td>71.85</td>\n",
       "      <td>122.97</td>\n",
       "      <td>78.25</td>\n",
       "      <td>164.25</td>\n",
       "      <td>78.42</td>\n",
       "      <td>130.59</td>\n",
       "      <td>8.98</td>\n",
       "      <td>162.46</td>\n",
       "      <td>122.97</td>\n",
       "      <td>95.46</td>\n",
       "      <td>...</td>\n",
       "      <td>33.11</td>\n",
       "      <td>21.88</td>\n",
       "      <td>23.60</td>\n",
       "      <td>13.98</td>\n",
       "      <td>5.00</td>\n",
       "      <td>4.00</td>\n",
       "      <td>2.00</td>\n",
       "      <td>2.00</td>\n",
       "      <td>0.00</td>\n",
       "      <td>2.00</td>\n",
       "    </tr>\n",
       "    <tr>\n",
       "      <th>75%</th>\n",
       "      <td>80.50</td>\n",
       "      <td>137.00</td>\n",
       "      <td>78.25</td>\n",
       "      <td>164.25</td>\n",
       "      <td>90.00</td>\n",
       "      <td>161.17</td>\n",
       "      <td>11.00</td>\n",
       "      <td>184.75</td>\n",
       "      <td>137.00</td>\n",
       "      <td>114.25</td>\n",
       "      <td>...</td>\n",
       "      <td>42.33</td>\n",
       "      <td>29.39</td>\n",
       "      <td>27.45</td>\n",
       "      <td>15.00</td>\n",
       "      <td>6.00</td>\n",
       "      <td>5.00</td>\n",
       "      <td>5.69</td>\n",
       "      <td>4.00</td>\n",
       "      <td>2.05</td>\n",
       "      <td>4.00</td>\n",
       "    </tr>\n",
       "    <tr>\n",
       "      <th>max</th>\n",
       "      <td>90.00</td>\n",
       "      <td>232.00</td>\n",
       "      <td>110.00</td>\n",
       "      <td>170.00</td>\n",
       "      <td>126.00</td>\n",
       "      <td>359.42</td>\n",
       "      <td>16.70</td>\n",
       "      <td>342.00</td>\n",
       "      <td>232.00</td>\n",
       "      <td>254.00</td>\n",
       "      <td>...</td>\n",
       "      <td>130.39</td>\n",
       "      <td>105.36</td>\n",
       "      <td>104.42</td>\n",
       "      <td>15.00</td>\n",
       "      <td>21.00</td>\n",
       "      <td>5.00</td>\n",
       "      <td>42.00</td>\n",
       "      <td>6.00</td>\n",
       "      <td>25.00</td>\n",
       "      <td>6.00</td>\n",
       "    </tr>\n",
       "  </tbody>\n",
       "</table>\n",
       "<p>8 rows × 39 columns</p>\n",
       "</div>"
      ],
      "text/plain": [
       "        EDAD  TRIGLICERIDOS    PESO   TALLA      FC  GLUCOSA  Hb A/C  %  \\\n",
       "count  44.00          44.00   44.00   44.00   44.00    44.00      44.00   \n",
       "mean   71.69         122.97   78.25  164.25   78.42   136.73       8.98   \n",
       "std    12.00          44.34    9.13    1.30   16.32    50.51       3.37   \n",
       "min    38.00          57.00   52.50  158.00   40.00    82.61       4.80   \n",
       "25%    64.25          91.50   78.25  164.25   67.75   101.17       5.90   \n",
       "50%    71.85         122.97   78.25  164.25   78.42   130.59       8.98   \n",
       "75%    80.50         137.00   78.25  164.25   90.00   161.17      11.00   \n",
       "max    90.00         232.00  110.00  170.00  126.00   359.42      16.70   \n",
       "\n",
       "       COL. TOTAL  TRIGLICERIDOS     LDL  ...  Gamma glutamil  \\\n",
       "count       44.00          44.00   44.00  ...           44.00   \n",
       "mean       162.46         122.97   95.46  ...           39.53   \n",
       "std         49.86          44.34   45.11  ...           23.75   \n",
       "min         85.00          57.00   18.00  ...           11.61   \n",
       "25%        120.50          91.50   63.50  ...           24.94   \n",
       "50%        162.46         122.97   95.46  ...           33.11   \n",
       "75%        184.75         137.00  114.25  ...           42.33   \n",
       "max        342.00         232.00  254.00  ...          130.39   \n",
       "\n",
       "       Transaminasa piruvica  Trans oxal  GLASGOW AL INICO ACV  \\\n",
       "count                  44.00       44.00                 44.00   \n",
       "mean                   27.22       27.34                 13.97   \n",
       "std                    18.70       16.64                  1.45   \n",
       "min                    10.27       10.52                  8.00   \n",
       "25%                    15.90       19.32                 13.97   \n",
       "50%                    21.88       23.60                 13.98   \n",
       "75%                    29.39       27.45                 15.00   \n",
       "max                   105.36      104.42                 15.00   \n",
       "\n",
       "       NIHSS_INICO_ACV  RANKIN INICIO ACV  NIHSS alta ACV  RANKIN alta ACV  \\\n",
       "count            44.00              44.00           44.00            44.00   \n",
       "mean              5.66               3.64            5.69             2.37   \n",
       "std               4.31               1.38            9.75             1.78   \n",
       "min               0.00               0.00            0.00             0.00   \n",
       "25%               3.00               3.00            0.00             1.00   \n",
       "50%               5.00               4.00            2.00             2.00   \n",
       "75%               6.00               5.00            5.69             4.00   \n",
       "max              21.00               5.00           42.00             6.00   \n",
       "\n",
       "       NIHSS 6M  RANKIN 6M  \n",
       "count     44.00      44.00  \n",
       "mean       2.05       2.53  \n",
       "std        4.38       2.05  \n",
       "min        0.00       0.00  \n",
       "25%        0.00       1.00  \n",
       "50%        0.00       2.00  \n",
       "75%        2.05       4.00  \n",
       "max       25.00       6.00  \n",
       "\n",
       "[8 rows x 39 columns]"
      ]
     },
     "execution_count": 8,
     "metadata": {},
     "output_type": "execute_result"
    }
   ],
   "source": [
    "round(dataset.describe(), 2)"
   ]
  },
  {
   "cell_type": "markdown",
   "id": "cd133d14",
   "metadata": {},
   "source": [
    "### Número de clase"
   ]
  },
  {
   "cell_type": "code",
   "execution_count": 9,
   "id": "d742fb1e",
   "metadata": {},
   "outputs": [
    {
     "name": "stdout",
     "output_type": "stream",
     "text": [
      "NIHSS_INICO_ACV\n",
      "0.0     1\n",
      "1.0     3\n",
      "2.0     6\n",
      "3.0     3\n",
      "4.0     7\n",
      "5.0     4\n",
      "6.0     4\n",
      "7.0     4\n",
      "10.0    1\n",
      "13.0    1\n",
      "14.0    1\n",
      "15.0    1\n",
      "16.0    1\n",
      "21.0    1\n",
      "dtype: int64\n"
     ]
    }
   ],
   "source": [
    "print(dataframe.groupby('NIHSS_INICO_ACV').size())"
   ]
  },
  {
   "cell_type": "code",
   "execution_count": 10,
   "id": "65e5743a",
   "metadata": {},
   "outputs": [
    {
     "data": {
      "image/png": "[encoded data removed]",
      "text/plain": [
       "<Figure size 600x384 with 1 Axes>"
      ]
     },
     "metadata": {},
     "output_type": "display_data"
    }
   ],
   "source": [
    "# Gráficos\n",
    "# ==============================================================================\n",
    "import matplotlib.pyplot as plt\n",
    "from matplotlib import style\n",
    "import seaborn as sns\n",
    "\n",
    "fig, ax = plt.subplots(figsize=(6, 3.84))\n",
    "\n",
    "sns.violinplot(\n",
    "        x     = 'HTA',\n",
    "        y     = 'NIHSS_INICO_ACV',\n",
    "        data  = dataset,\n",
    "        #color = \"white\",\n",
    "        ax    = ax\n",
    "    )\n",
    "\n",
    "ax.set_title('Distribución Hipertensión por NIHSS escala de llegada');"
   ]
  },
  {
   "cell_type": "code",
   "execution_count": 11,
   "id": "c4647bdd",
   "metadata": {},
   "outputs": [
    {
     "name": "stderr",
     "output_type": "stream",
     "text": [
      "C:\\Users\\Abraham\\AppData\\Local\\Temp\\ipykernel_8528\\3489633589.py:8: FutureWarning: In a future version of pandas all arguments of DataFrame.drop except for the argument 'labels' will be keyword-only.\n",
      "  dataframeMuestra.drop(['NIHSS_INICO_ACV'],1).hist()\n"
     ]
    },
    {
     "data": {
      "text/plain": [
       "<Figure size 100x100 with 0 Axes>"
      ]
     },
     "metadata": {},
     "output_type": "display_data"
    },
    {
     "data": {
      "image/png": "[encoded data removed]",
      "text/plain": [
       "<Figure size 640x480 with 4 Axes>"
      ]
     },
     "metadata": {},
     "output_type": "display_data"
    }
   ],
   "source": [
    "# Muestra\n",
    "columnasMuestra = ['HTA', 'DIABETES', 'EDAD','TRIGLICERIDOS', 'PESO', 'NIHSS_INICO_ACV']\n",
    "dataframeMuestra = dataframe[[*columnasMuestra]]\n",
    "\n",
    "\n",
    "\n",
    "plt.figure(figsize=(10,10), dpi=10)\n",
    "dataframeMuestra.drop(['NIHSS_INICO_ACV'],1).hist()\n",
    "plt.show()\n",
    "\n",
    "# Funciona para pocas columnas, pero es util para ver como estan respecto a la columna tomada."
   ]
  },
  {
   "cell_type": "markdown",
   "id": "f65c3bcc",
   "metadata": {},
   "source": [
    "# 4-. Preparar los datos para el modelo de aprendizaje automático\n",
    "## Preparación de datos\n",
    "\n",
    "Los pasos exactos para la preparación de los datos dependerán del modelo utilizado y de los datos recopilados, pero se requerirá cierta cantidad de manipulación de datos para cualquier aplicación de aprendizaje automático.\n",
    "\n",
    "##### Codificación One-Hot\n",
    "\n",
    "El primer paso para nosotros se conoce como codificación one-hotde los datos Este proceso toma variables categóricas, como Diabetes, y las convierte en una representación numérica sin un orden arbitrario"
   ]
  },
  {
   "cell_type": "code",
   "execution_count": 12,
   "id": "f20bdbda",
   "metadata": {},
   "outputs": [],
   "source": [
    "# One Hot Encoding\n",
    "dataset = pd.get_dummies(dataset)\n",
    "\n",
    "dataset.head(5)\n",
    "\n",
    "# Lista de características para uso posterior\n",
    "features = dataset.drop('NIHSS_INICO_ACV', axis = 1)\n",
    "feature_list = list(features.columns)"
   ]
  },
  {
   "cell_type": "markdown",
   "id": "191d64f4",
   "metadata": {},
   "source": [
    "# 5-. Entrenar el modelo en los datos de entrenamiento"
   ]
  },
  {
   "cell_type": "code",
   "execution_count": 13,
   "id": "a6a991b4",
   "metadata": {},
   "outputs": [],
   "source": [
    "from sklearn.model_selection import train_test_split\n",
    "\n",
    "# X son nuestras variables independientes\n",
    "X = dataset.drop('NIHSS_INICO_ACV', axis = 1)\n",
    "\n",
    "# y es nuestra variable dependiente\n",
    "y = dataset['NIHSS_INICO_ACV']\n",
    "\n",
    "# Uso de Skicit-learn para dividir datos en conjuntos de entrenamiento y prueba \n",
    "# División 75% de datos para entrenamiento, 25% de datos para test\n",
    "X_train, X_test, y_train, y_test = train_test_split(X, y, test_size=0.8, random_state=0)"
   ]
  },
  {
   "cell_type": "markdown",
   "id": "f57641d3",
   "metadata": {},
   "source": [
    "### Creamos el modelo y entrenamos"
   ]
  },
  {
   "cell_type": "code",
   "execution_count": 14,
   "id": "14060283",
   "metadata": {},
   "outputs": [
    {
     "data": {
      "text/html": [
       "<style>#sk-container-id-1 {color: black;background-color: white;}#sk-container-id-1 pre{padding: 0;}#sk-container-id-1 div.sk-toggleable {background-color: white;}#sk-container-id-1 label.sk-toggleable__label {cursor: pointer;display: block;width: 100%;margin-bottom: 0;padding: 0.3em;box-sizing: border-box;text-align: center;}#sk-container-id-1 label.sk-toggleable__label-arrow:before {content: \"▸\";float: left;margin-right: 0.25em;color: #696969;}#sk-container-id-1 label.sk-toggleable__label-arrow:hover:before {color: black;}#sk-container-id-1 div.sk-estimator:hover label.sk-toggleable__label-arrow:before {color: black;}#sk-container-id-1 div.sk-toggleable__content {max-height: 0;max-width: 0;overflow: hidden;text-align: left;background-color: #f0f8ff;}#sk-container-id-1 div.sk-toggleable__content pre {margin: 0.2em;color: black;border-radius: 0.25em;background-color: #f0f8ff;}#sk-container-id-1 input.sk-toggleable__control:checked~div.sk-toggleable__content {max-height: 200px;max-width: 100%;overflow: auto;}#sk-container-id-1 input.sk-toggleable__control:checked~label.sk-toggleable__label-arrow:before {content: \"▾\";}#sk-container-id-1 div.sk-estimator input.sk-toggleable__control:checked~label.sk-toggleable__label {background-color: #d4ebff;}#sk-container-id-1 div.sk-label input.sk-toggleable__control:checked~label.sk-toggleable__label {background-color: #d4ebff;}#sk-container-id-1 input.sk-hidden--visually {border: 0;clip: rect(1px 1px 1px 1px);clip: rect(1px, 1px, 1px, 1px);height: 1px;margin: -1px;overflow: hidden;padding: 0;position: absolute;width: 1px;}#sk-container-id-1 div.sk-estimator {font-family: monospace;background-color: #f0f8ff;border: 1px dotted black;border-radius: 0.25em;box-sizing: border-box;margin-bottom: 0.5em;}#sk-container-id-1 div.sk-estimator:hover {background-color: #d4ebff;}#sk-container-id-1 div.sk-parallel-item::after {content: \"\";width: 100%;border-bottom: 1px solid gray;flex-grow: 1;}#sk-container-id-1 div.sk-label:hover label.sk-toggleable__label {background-color: #d4ebff;}#sk-container-id-1 div.sk-serial::before {content: \"\";position: absolute;border-left: 1px solid gray;box-sizing: border-box;top: 0;bottom: 0;left: 50%;z-index: 0;}#sk-container-id-1 div.sk-serial {display: flex;flex-direction: column;align-items: center;background-color: white;padding-right: 0.2em;padding-left: 0.2em;position: relative;}#sk-container-id-1 div.sk-item {position: relative;z-index: 1;}#sk-container-id-1 div.sk-parallel {display: flex;align-items: stretch;justify-content: center;background-color: white;position: relative;}#sk-container-id-1 div.sk-item::before, #sk-container-id-1 div.sk-parallel-item::before {content: \"\";position: absolute;border-left: 1px solid gray;box-sizing: border-box;top: 0;bottom: 0;left: 50%;z-index: -1;}#sk-container-id-1 div.sk-parallel-item {display: flex;flex-direction: column;z-index: 1;position: relative;background-color: white;}#sk-container-id-1 div.sk-parallel-item:first-child::after {align-self: flex-end;width: 50%;}#sk-container-id-1 div.sk-parallel-item:last-child::after {align-self: flex-start;width: 50%;}#sk-container-id-1 div.sk-parallel-item:only-child::after {width: 0;}#sk-container-id-1 div.sk-dashed-wrapped {border: 1px dashed gray;margin: 0 0.4em 0.5em 0.4em;box-sizing: border-box;padding-bottom: 0.4em;background-color: white;}#sk-container-id-1 div.sk-label label {font-family: monospace;font-weight: bold;display: inline-block;line-height: 1.2em;}#sk-container-id-1 div.sk-label-container {text-align: center;}#sk-container-id-1 div.sk-container {/* jupyter's `normalize.less` sets `[hidden] { display: none; }` but bootstrap.min.css set `[hidden] { display: none !important; }` so we also need the `!important` here to be able to override the default hidden behavior on the sphinx rendered scikit-learn.org. See: https://github.com/scikit-learn/scikit-learn/issues/21755 */display: inline-block !important;position: relative;}#sk-container-id-1 div.sk-text-repr-fallback {display: none;}</style><div id=\"sk-container-id-1\" class=\"sk-top-container\"><div class=\"sk-text-repr-fallback\"><pre>LogisticRegression(max_iter=10000)</pre><b>In a Jupyter environment, please rerun this cell to show the HTML representation or trust the notebook. <br />On GitHub, the HTML representation is unable to render, please try loading this page with nbviewer.org.</b></div><div class=\"sk-container\" hidden><div class=\"sk-item\"><div class=\"sk-estimator sk-toggleable\"><input class=\"sk-toggleable__control sk-hidden--visually\" id=\"sk-estimator-id-1\" type=\"checkbox\" checked><label for=\"sk-estimator-id-1\" class=\"sk-toggleable__label sk-toggleable__label-arrow\">LogisticRegression</label><div class=\"sk-toggleable__content\"><pre>LogisticRegression(max_iter=10000)</pre></div></div></div></div></div>"
      ],
      "text/plain": [
       "LogisticRegression(max_iter=10000)"
      ]
     },
     "execution_count": 14,
     "metadata": {},
     "output_type": "execute_result"
    }
   ],
   "source": [
    "from sklearn import linear_model\n",
    "from sklearn.model_selection import train_test_split #separa las metricas\n",
    "from sklearn import metrics\n",
    "\n",
    "# Creamos el modelo de Arbol de Decisión (y configuramos el número máximo de nodos-hoja)\n",
    "lr = linear_model.LogisticRegression(solver='lbfgs', max_iter=10000)\n",
    "lr.fit(X_train, y_train)"
   ]
  },
  {
   "cell_type": "markdown",
   "id": "8ec3aeac",
   "metadata": {},
   "source": [
    "# 6-. Predicciones sobre los datos de prueba\n",
    "Se evalúa la capacidad predictiva del árbol inicial calculando el accuracy en el conjunto de test."
   ]
  },
  {
   "cell_type": "code",
   "execution_count": 15,
   "id": "dee74df7",
   "metadata": {},
   "outputs": [],
   "source": [
    "# Predicción Entrenamiento \n",
    "prediccionEntreno = lr.predict(X_train)\n",
    "\n",
    "# Predicción Tests\n",
    "prediccionTests = lr.predict(X_test)"
   ]
  },
  {
   "cell_type": "markdown",
   "id": "0ab1829a",
   "metadata": {},
   "source": [
    "### Generamos métricas para evaluar el modelo"
   ]
  },
  {
   "cell_type": "markdown",
   "id": "c3d4ae58",
   "metadata": {},
   "source": [
    "## Fase de Entrenamiento"
   ]
  },
  {
   "cell_type": "code",
   "execution_count": 16,
   "id": "a89ee01f",
   "metadata": {},
   "outputs": [
    {
     "name": "stdout",
     "output_type": "stream",
     "text": [
      "Entrenamiento - Accuracy : 1.0\n"
     ]
    }
   ],
   "source": [
    "from sklearn import metrics\n",
    "\n",
    "print(\"Entrenamiento - Accuracy :\", metrics.accuracy_score(y_train, prediccionEntreno))"
   ]
  },
  {
   "cell_type": "markdown",
   "id": "f5526de3",
   "metadata": {},
   "source": [
    "### Matriz de Confusión\n",
    "\n",
    "En el campo de la inteligencia artificial y en especial en el problema de la clasificación estadística, una matriz de confusión es una herramienta que permite la visualización del desempeño de un algoritmo que se emplea en aprendizaje supervisado."
   ]
  },
  {
   "cell_type": "code",
   "execution_count": 17,
   "id": "09710327",
   "metadata": {},
   "outputs": [
    {
     "data": {
      "image/png": "[encoded data removed]",
      "text/plain": [
       "<Figure size 600x600 with 1 Axes>"
      ]
     },
     "metadata": {},
     "output_type": "display_data"
    }
   ],
   "source": [
    "from matplotlib import pyplot as plot\n",
    "from mlxtend.plotting import plot_confusion_matrix\n",
    "from sklearn.metrics import confusion_matrix\n",
    "\n",
    "matriz = confusion_matrix(y_train, prediccionEntreno)\n",
    "\n",
    "plot_confusion_matrix(conf_mat=matriz, figsize=(6,6), show_normed=False)\n",
    "plot.tight_layout()"
   ]
  },
  {
   "cell_type": "code",
   "execution_count": 18,
   "id": "de93b82c",
   "metadata": {},
   "outputs": [
    {
     "name": "stdout",
     "output_type": "stream",
     "text": [
      "Entrenamiento - Reporte de clasificación:\n",
      "               precision    recall  f1-score   support\n",
      "\n",
      "         1.0       1.00      1.00      1.00         3\n",
      "         2.0       1.00      1.00      1.00         2\n",
      "         6.0       1.00      1.00      1.00         1\n",
      "         7.0       1.00      1.00      1.00         1\n",
      "        14.0       1.00      1.00      1.00         1\n",
      "\n",
      "    accuracy                           1.00         8\n",
      "   macro avg       1.00      1.00      1.00         8\n",
      "weighted avg       1.00      1.00      1.00         8\n",
      "\n"
     ]
    }
   ],
   "source": [
    "print(\"Entrenamiento - Reporte de clasificación:\\n\", metrics.classification_report(y_train, prediccionEntreno))"
   ]
  },
  {
   "cell_type": "markdown",
   "id": "213a5967",
   "metadata": {},
   "source": [
    "# 7-. Comparar las predicciones con los objetivos conocidos del conjunto de pruebas y calcule las métricas de rendimiento\n",
    "\n",
    "Una vez entrenado el modelo, se pueden predecir nuevas observaciones."
   ]
  },
  {
   "cell_type": "markdown",
   "id": "39d0328e",
   "metadata": {},
   "source": [
    "## Fase de validación  (Usando datos de Test)"
   ]
  },
  {
   "cell_type": "code",
   "execution_count": 19,
   "id": "c65ee61c",
   "metadata": {},
   "outputs": [
    {
     "name": "stdout",
     "output_type": "stream",
     "text": [
      "Promedio - Accuracy : 0.08333333333333333\n"
     ]
    }
   ],
   "source": [
    "print(\"Promedio - Accuracy :\", metrics.accuracy_score(y_test, prediccionTests))"
   ]
  },
  {
   "cell_type": "markdown",
   "id": "6decccc0",
   "metadata": {},
   "source": [
    "### Matriz de Confusión"
   ]
  },
  {
   "cell_type": "code",
   "execution_count": 20,
   "id": "064a6758",
   "metadata": {},
   "outputs": [
    {
     "name": "stderr",
     "output_type": "stream",
     "text": [
      "C:\\Users\\Abraham\\AppData\\Local\\Programs\\Python\\Python310\\lib\\site-packages\\mlxtend\\plotting\\plot_confusion_matrix.py:102: RuntimeWarning: invalid value encountered in divide\n",
      "  normed_conf_mat = conf_mat.astype(\"float\") / total_samples\n"
     ]
    },
    {
     "data": {
      "image/png": "[encoded data removed]",
      "text/plain": [
       "<Figure size 600x600 with 1 Axes>"
      ]
     },
     "metadata": {},
     "output_type": "display_data"
    }
   ],
   "source": [
    "matriz = confusion_matrix(y_test, prediccionTests)\n",
    "\n",
    "plot_confusion_matrix(conf_mat=matriz, figsize=(6,6), show_normed=False)\n",
    "plt.tight_layout()"
   ]
  },
  {
   "cell_type": "code",
   "execution_count": 21,
   "id": "5201bf35",
   "metadata": {},
   "outputs": [
    {
     "name": "stdout",
     "output_type": "stream",
     "text": [
      "Entrenamiento - Reporte de clasificación:\n",
      "               precision    recall  f1-score   support\n",
      "\n",
      "         0.0       0.00      0.00      0.00         1\n",
      "         1.0       0.00      0.00      0.00         0\n",
      "         2.0       0.08      0.25      0.12         4\n",
      "         3.0       0.00      0.00      0.00         3\n",
      "         4.0       0.00      0.00      0.00         7\n",
      "         5.0       0.00      0.00      0.00         4\n",
      "         6.0       0.33      0.22      0.27         9\n",
      "         7.0       0.00      0.00      0.00         3\n",
      "        10.0       0.00      0.00      0.00         1\n",
      "        13.0       0.00      0.00      0.00         1\n",
      "        14.0       0.00      0.00      0.00         0\n",
      "        15.0       0.00      0.00      0.00         1\n",
      "        16.0       0.00      0.00      0.00         1\n",
      "        21.0       0.00      0.00      0.00         1\n",
      "\n",
      "    accuracy                           0.08        36\n",
      "   macro avg       0.03      0.03      0.03        36\n",
      "weighted avg       0.09      0.08      0.08        36\n",
      "\n"
     ]
    },
    {
     "name": "stderr",
     "output_type": "stream",
     "text": [
      "C:\\Users\\Abraham\\AppData\\Local\\Programs\\Python\\Python310\\lib\\site-packages\\sklearn\\metrics\\_classification.py:1334: UndefinedMetricWarning: Precision and F-score are ill-defined and being set to 0.0 in labels with no predicted samples. Use `zero_division` parameter to control this behavior.\n",
      "  _warn_prf(average, modifier, msg_start, len(result))\n",
      "C:\\Users\\Abraham\\AppData\\Local\\Programs\\Python\\Python310\\lib\\site-packages\\sklearn\\metrics\\_classification.py:1334: UndefinedMetricWarning: Recall and F-score are ill-defined and being set to 0.0 in labels with no true samples. Use `zero_division` parameter to control this behavior.\n",
      "  _warn_prf(average, modifier, msg_start, len(result))\n",
      "C:\\Users\\Abraham\\AppData\\Local\\Programs\\Python\\Python310\\lib\\site-packages\\sklearn\\metrics\\_classification.py:1334: UndefinedMetricWarning: Precision and F-score are ill-defined and being set to 0.0 in labels with no predicted samples. Use `zero_division` parameter to control this behavior.\n",
      "  _warn_prf(average, modifier, msg_start, len(result))\n",
      "C:\\Users\\Abraham\\AppData\\Local\\Programs\\Python\\Python310\\lib\\site-packages\\sklearn\\metrics\\_classification.py:1334: UndefinedMetricWarning: Recall and F-score are ill-defined and being set to 0.0 in labels with no true samples. Use `zero_division` parameter to control this behavior.\n",
      "  _warn_prf(average, modifier, msg_start, len(result))\n",
      "C:\\Users\\Abraham\\AppData\\Local\\Programs\\Python\\Python310\\lib\\site-packages\\sklearn\\metrics\\_classification.py:1334: UndefinedMetricWarning: Precision and F-score are ill-defined and being set to 0.0 in labels with no predicted samples. Use `zero_division` parameter to control this behavior.\n",
      "  _warn_prf(average, modifier, msg_start, len(result))\n",
      "C:\\Users\\Abraham\\AppData\\Local\\Programs\\Python\\Python310\\lib\\site-packages\\sklearn\\metrics\\_classification.py:1334: UndefinedMetricWarning: Recall and F-score are ill-defined and being set to 0.0 in labels with no true samples. Use `zero_division` parameter to control this behavior.\n",
      "  _warn_prf(average, modifier, msg_start, len(result))\n"
     ]
    }
   ],
   "source": [
    "print(\"Entrenamiento - Reporte de clasificación:\\n\", metrics.classification_report(y_test, prediccionTests))"
   ]
  },
  {
   "cell_type": "code",
   "execution_count": 22,
   "id": "594da5f1",
   "metadata": {},
   "outputs": [
    {
     "data": {
      "text/html": [
       "<div>\n",
       "<style scoped>\n",
       "    .dataframe tbody tr th:only-of-type {\n",
       "        vertical-align: middle;\n",
       "    }\n",
       "\n",
       "    .dataframe tbody tr th {\n",
       "        vertical-align: top;\n",
       "    }\n",
       "\n",
       "    .dataframe thead th {\n",
       "        text-align: right;\n",
       "    }\n",
       "</style>\n",
       "<table border=\"1\" class=\"dataframe\">\n",
       "  <thead>\n",
       "    <tr style=\"text-align: right;\">\n",
       "      <th></th>\n",
       "      <th>1.0</th>\n",
       "      <th>2.0</th>\n",
       "      <th>6.0</th>\n",
       "      <th>7.0</th>\n",
       "      <th>14.0</th>\n",
       "    </tr>\n",
       "  </thead>\n",
       "  <tbody>\n",
       "    <tr>\n",
       "      <th>0</th>\n",
       "      <td>0.009780</td>\n",
       "      <td>0.974804</td>\n",
       "      <td>0.000037</td>\n",
       "      <td>2.030868e-08</td>\n",
       "      <td>0.015378</td>\n",
       "    </tr>\n",
       "    <tr>\n",
       "      <th>1</th>\n",
       "      <td>0.317201</td>\n",
       "      <td>0.680830</td>\n",
       "      <td>0.000296</td>\n",
       "      <td>1.030523e-05</td>\n",
       "      <td>0.001662</td>\n",
       "    </tr>\n",
       "    <tr>\n",
       "      <th>2</th>\n",
       "      <td>0.050474</td>\n",
       "      <td>0.949229</td>\n",
       "      <td>0.000112</td>\n",
       "      <td>3.773621e-06</td>\n",
       "      <td>0.000181</td>\n",
       "    </tr>\n",
       "  </tbody>\n",
       "</table>\n",
       "</div>"
      ],
      "text/plain": [
       "       1.0       2.0       6.0           7.0       14.0\n",
       "0  0.009780  0.974804  0.000037  2.030868e-08  0.015378\n",
       "1  0.317201  0.680830  0.000296  1.030523e-05  0.001662\n",
       "2  0.050474  0.949229  0.000112  3.773621e-06  0.000181"
      ]
     },
     "execution_count": 22,
     "metadata": {},
     "output_type": "execute_result"
    }
   ],
   "source": [
    "# Predicciones probabilísticas\n",
    "# ==============================================================================\n",
    "# Con .predict_proba() se obtiene, para cada observación, la probabilidad predicha\n",
    "# de pertenecer a cada una de las dos clases.\n",
    "predicciones = lr.predict_proba(X = X_test)\n",
    "predicciones = pd.DataFrame(predicciones, columns = lr.classes_)\n",
    "predicciones.head(3)"
   ]
  },
  {
   "cell_type": "code",
   "execution_count": null,
   "id": "c0d890af",
   "metadata": {},
   "outputs": [],
   "source": []
  }
 ],
 "metadata": {
  "kernelspec": {
   "display_name": "Python 3 (ipykernel)",
   "language": "python",
   "name": "python3"
  },
  "language_info": {
   "codemirror_mode": {
    "name": "ipython",
    "version": 3
   },
   "file_extension": ".py",
   "mimetype": "text/x-python",
   "name": "python",
   "nbconvert_exporter": "python",
   "pygments_lexer": "ipython3",
   "version": "3.10.6"
  },
  "vscode": {
   "interpreter": {
    "hash": "606b51598694433430c015857b2ecf9fd14e8a095a5c0461ea2cbb483af7323f"
   }
  }
 },
 "nbformat": 4,
 "nbformat_minor": 5
}
