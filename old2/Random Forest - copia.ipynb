{
 "cells": [
  {
   "cell_type": "markdown",
   "id": "c3192b64",
   "metadata": {},
   "source": [
    "<h1> Random Forest <h1>"
   ]
  },
  {
   "cell_type": "markdown",
   "id": "67b3e4bf",
   "metadata": {},
   "source": [
    "<h2> Mapa </h2>\n",
    "<ul>\n",
    "    <li>1-. Formular la pregunta y determinar los datos requeridos</li>\n",
    "    <li>2-. Adquirir los datos en un formato accesible</li>\n",
    "    <li>3-. Identifique y corrija los puntos de datos faltantes/anomalías según sea necesario</li>\n",
    "    <li>4-. Preparar los datos para el modelo de aprendizaje automático</li>\n",
    "    <li>6-. Entrenar el modelo en los datos de entrenamiento</li>\n",
    "    <li>7-. Hacer predicciones sobre los datos de prueba</li>\n",
    "    <li>8-. Compare las predicciones con los objetivos conocidos del conjunto de pruebas y calcule las métricas de rendimiento</li>\n",
    "    <li>9-. Si el rendimiento no es satisfactorio, ajuste el modelo, adquiera más datos o pruebe una técnica de modelado diferente</li>\n",
    "    <li>10-. Interprete el modelo y reporte los resultados visual y numéricamente</li>\n",
    "</ul>"
   ]
  },
  {
   "cell_type": "markdown",
   "id": "17d9cf42",
   "metadata": {},
   "source": [
    "# 2-. Adquisición de datos\n",
    "\n",
    "Primero, necesitamos algunos datos. Para usar un ejemplo realista, recuperé datos de pacientes del Hospital Herminda Martin de Chillan. En general, aproximadamente el 80 % del tiempo dedicado al análisis de datos es limpiar y recuperar datos, pero esta carga de trabajo se puede reducir encontrando fuentes de datos de alta calidad."
   ]
  },
  {
   "cell_type": "code",
   "execution_count": null,
   "id": "2dba597a",
   "metadata": {},
   "outputs": [],
   "source": [
    "# Libreria para la manipulación de los datos\n",
    "import pandas as pd\n",
    "\n",
    "# Leer el dataframe\n",
    "dataframe = pd.read_excel('../bdd/dataframe.xlsx')\n",
    "dataframe.head(5)"
   ]
  },
  {
   "cell_type": "code",
   "execution_count": null,
   "id": "36e95e7b",
   "metadata": {},
   "outputs": [],
   "source": [
    "print('Existen {} pacientes con {} variables.'.format(*dataframe.shape))"
   ]
  },
  {
   "cell_type": "markdown",
   "id": "5dac5dd4",
   "metadata": {},
   "source": [
    "# 3-. Identifique y corrija los puntos de datos faltantes/anomalías según sea necesario"
   ]
  },
  {
   "cell_type": "code",
   "execution_count": null,
   "id": "bc690257",
   "metadata": {},
   "outputs": [],
   "source": [
    "# Tomaremos las variables más significativas para la investigación\n",
    "columnasMuestra = ['HTA', 'DIABETES', 'EDAD','TRIGLICERIDOS', 'PESO', 'TALLA', 'FC', 'GLUCOSA', 'Hb A/C  %', 'COL. TOTAL', 'TRIGLICERIDOS', 'LDL', 'HDL', 'HCTO', 'HB', 'VCM', 'HCM', 'VHS', 'PLAQUETAS', 'INR', 'CONTEO G.B.', 'P.C.R', 'Nitrogeno Ureico', 'Uremia', 'Creatinina', 'TTPA', 'TP', 'NA', 'K', 'CL', 'Fosfatasa Alcalina', 'Gamma glutamil', 'Transaminasa piruvica', 'Trans oxal', 'GLASGOW AL INICO ACV', 'NIHSS_INICO_ACV', 'RANKIN INICIO ACV', 'NIHSS alta ACV', 'RANKIN alta ACV', 'NIHSS 6M', 'RANKIN 6M']\n",
    "dataset = dataframe[[*columnasMuestra]]\n",
    "\n",
    "# Para los datos fallecidos y NaN realizamos la impuntación y manejo de datos a través del promedio\n",
    "dataset['NIHSS 6M'] = dataset['NIHSS 6M'].replace( ['fallecido'], 0)\n",
    "dataset['RANKIN 6M'] = dataset['RANKIN 6M'].replace( ['no'], 0)\n",
    "\n",
    "valores_por_defecto = {'HTA': \"DESCONOCIDO\",\n",
    "                       'DIABETES' : \"DESCONOCIDO\",\n",
    "                       'EDAD':dataset[\"EDAD\"].mean(),\n",
    "                       'TRIGLICERIDOS':dataset[\"TRIGLICERIDOS\"].mean(), \n",
    "                       'PESO':dataset[\"PESO\"].mean(),\n",
    "                       'TALLA':dataset[\"TALLA\"].mean(),\n",
    "                       'FC':dataset[\"FC\"].mean(),\n",
    "                       'GLUCOSA':dataset[\"GLUCOSA\"].mean(),\n",
    "                       'Hb A/C  %':dataset[\"Hb A/C  %\"].mean(), \n",
    "                       'COL. TOTAL':dataset[\"COL. TOTAL\"].mean(), \n",
    "                       'TRIGLICERIDOS':dataset[\"TRIGLICERIDOS\"].mean(),\n",
    "                       'LDL':dataset[\"LDL\"].mean(), \n",
    "                       'HDL':dataset[\"HDL\"].mean(),\n",
    "                       'HCTO':dataset[\"HCTO\"].mean(), \n",
    "                       'HB':dataset[\"HB\"].mean(),\n",
    "                       'VCM':dataset[\"VCM\"].mean(),\n",
    "                       'HCM':dataset[\"HCM\"].mean(), \n",
    "                       'VHS':dataset[\"VHS\"].mean(),\n",
    "                       'PLAQUETAS':dataset[\"PLAQUETAS\"].mean(),\n",
    "                       'INR':dataset[\"INR\"].mean(),\n",
    "                       'CONTEO G.B.':dataset[\"CONTEO G.B.\"].mean(),\n",
    "                       'P.C.R':dataset[\"P.C.R\"].mean(),\n",
    "                       'Nitrogeno Ureico':dataset[\"Nitrogeno Ureico\"].mean(),\n",
    "                       'Uremia':dataset[\"Uremia\"].mean(),\n",
    "                       'Creatinina':dataset[\"Creatinina\"].mean(), \n",
    "                       'TTPA':dataset[\"TTPA\"].mean(),\n",
    "                       'TP':dataset[\"TP\"].mean(), \n",
    "                       'NA':dataset[\"NA\"].mean(), \n",
    "                       'K':dataset[\"K\"].mean(),\n",
    "                       'CL':dataset[\"CL\"].mean(),\n",
    "                       'Fosfatasa Alcalina':dataset[\"Fosfatasa Alcalina\"].mean(),\n",
    "                       'Gamma glutamil':dataset[\"Gamma glutamil\"].mean(), \n",
    "                       'Transaminasa piruvica':dataset[\"Transaminasa piruvica\"].mean(),\n",
    "                       'Trans oxal':dataset[\"Trans oxal\"].mean(), \n",
    "                       'GLASGOW AL INICO ACV':dataset[\"GLASGOW AL INICO ACV\"].mean(),\n",
    "                       'NIHSS_INICO_ACV':dataset[\"NIHSS_INICO_ACV\"].mean().round(), \n",
    "                       'RANKIN INICIO ACV':dataset[\"RANKIN INICIO ACV\"].mean(), \n",
    "                       'NIHSS alta ACV':dataset[\"NIHSS alta ACV\"].mean(), \n",
    "                       'RANKIN alta ACV':dataset[\"RANKIN alta ACV\"].mean(), \n",
    "                       'NIHSS 6M':dataset[\"NIHSS 6M\"].mean(), \n",
    "                       'RANKIN 6M':dataset[\"RANKIN 6M\"].mean()\n",
    "                      }\n",
    "\n",
    "dataset = dataset.fillna(value=valores_por_defecto)\n",
    "dataset.head(5)"
   ]
  },
  {
   "cell_type": "markdown",
   "id": "c65ce03f",
   "metadata": {},
   "source": [
    "### Inspección numérica y visual de datos"
   ]
  },
  {
   "cell_type": "code",
   "execution_count": null,
   "id": "acc99da0",
   "metadata": {
    "scrolled": true
   },
   "outputs": [],
   "source": [
    "round(dataset.describe(), 2)"
   ]
  },
  {
   "cell_type": "markdown",
   "id": "7d8bb5ec",
   "metadata": {},
   "source": [
    "### Número de clase"
   ]
  },
  {
   "cell_type": "code",
   "execution_count": null,
   "id": "4084b069",
   "metadata": {},
   "outputs": [],
   "source": [
    "print(dataframe.groupby('NIHSS_INICO_ACV').size())"
   ]
  },
  {
   "cell_type": "code",
   "execution_count": null,
   "id": "439ca94e",
   "metadata": {},
   "outputs": [],
   "source": [
    "# Obtener la columna a comparar\n",
    "clase = dataset['NIHSS_INICO_ACV']"
   ]
  },
  {
   "cell_type": "code",
   "execution_count": null,
   "id": "127377d0",
   "metadata": {},
   "outputs": [],
   "source": [
    "# Para gráficos matpltlib\n",
    "import matplotlib.pyplot as plt\n",
    "%matplotlib inline\n",
    "\n",
    "#Establecer estilo\n",
    "plt.style.use('fivethirtyeight')"
   ]
  },
  {
   "cell_type": "code",
   "execution_count": null,
   "id": "6c70936b",
   "metadata": {},
   "outputs": [],
   "source": [
    "# Configurar el diseño de trazado\n",
    "fig, ((ax1, ax2), (ax3, ax4)) = plt.subplots(nrows=2, ncols=2, figsize = (15,10))\n",
    "fig.autofmt_xdate(rotation = 45)\n",
    "\n",
    "# GLASGOW\n",
    "ax1.plot(clase, dataset['GLASGOW AL INICO ACV'])\n",
    "ax1.set_xlabel(''); ax1.set_ylabel('Escala'); ax1.set_title('GLASGOW AL INICO')\n",
    "\n",
    "# RANKIN INICIO ACV\n",
    "ax2.plot(clase, dataset['RANKIN INICIO ACV'])\n",
    "ax2.set_xlabel(''); ax2.set_ylabel('Escala'); ax2.set_title('RANKIN INICIO ACV')\n",
    "\n",
    "# NIHSS alta ACV\n",
    "ax3.plot(clase, dataset['NIHSS alta ACV'])\n",
    "ax3.set_xlabel('NIHSS_INICO_ACV'); ax3.set_ylabel('Escala'); \n",
    "ax3.set_title('NIHSS alta ACV')\n",
    "\n",
    "# NIHSS 6M\n",
    "ax4.plot(clase, dataset['NIHSS 6M'])\n",
    "ax4.set_xlabel('NIHSS_INICO_ACV'); ax4.set_ylabel('Escala'); ax4.set_title('NIHSS 6M')\n",
    "\n",
    "plt.tight_layout(pad=2)"
   ]
  },
  {
   "cell_type": "code",
   "execution_count": null,
   "id": "01fcd48c",
   "metadata": {},
   "outputs": [],
   "source": [
    "# Configurar el diseño de trazado\n",
    "fig, ((ax1, ax2), (ax3, ax4)) = plt.subplots(nrows=2, ncols=2, figsize = (15,10))\n",
    "fig.autofmt_xdate(rotation = 45)\n",
    "\n",
    "# Glucosa\n",
    "ax1.plot(clase, dataset['GLUCOSA'])\n",
    "ax1.set_xlabel(''); ax1.set_ylabel('Cantidad (mg/dl)'); ax1.set_title('GLUCOSA')\n",
    "\n",
    "# Trigliseridos\n",
    "ax2.plot(clase, dataset['TRIGLICERIDOS'], 'r-')\n",
    "ax2.set_xlabel(''); ax2.set_ylabel('Cantidad (mmol/L)'); ax2.set_title('TRIGLICERIDOS')\n",
    "\n",
    "# NItrogeno\n",
    "ax3.plot(clase, dataset['Nitrogeno Ureico'])\n",
    "ax3.set_xlabel('NIHSS_INICO_ACV'); ax3.set_ylabel('Cantidad (mg/dL)'); ax3.set_title('Nitrogeno Ureico')\n",
    "\n",
    "# Uremia\n",
    "ax4.plot(clase, dataset['Uremia'], 'ro')\n",
    "ax4.set_xlabel('NIHSS_INICO_ACV'); ax4.set_ylabel('Cantidad (mg/dL)'); ax4.set_title('Uremia')\n",
    "\n",
    "plt.tight_layout(pad=2)"
   ]
  },
  {
   "cell_type": "markdown",
   "id": "15c5e63c",
   "metadata": {},
   "source": [
    "### Parcelas"
   ]
  },
  {
   "cell_type": "code",
   "execution_count": null,
   "id": "8c92124f",
   "metadata": {},
   "outputs": [],
   "source": [
    "# Cree columnas de estaciones para emparejar colores de trazado\n",
    "seasons = []\n",
    "\n",
    "# Mosatramos solo algunos atributos\n",
    "reduccion_dataset = dataset[['GLASGOW AL INICO ACV', 'NIHSS_INICO_ACV', 'NIHSS alta ACV', 'NIHSS 6M']]\n",
    "\n",
    "\n",
    "# Usar seaborn para plots\n",
    "import seaborn as sns\n",
    "sns.set(style=\"ticks\", color_codes=True);\n",
    "\n",
    "# Create a custom color palete\n",
    "palette = sns.xkcd_palette(['dark blue', 'dark green', 'gold', 'orange'])\n",
    "\n",
    "# Make the pair plot with a some aesthetic changes\n",
    "sns.pairplot(reduccion_dataset, diag_kind = 'kde', palette= palette, plot_kws=dict(alpha = 0.7),\n",
    "                   diag_kws=dict(shade=True)); "
   ]
  },
  {
   "cell_type": "markdown",
   "id": "0673e26b",
   "metadata": {},
   "source": [
    "# 4-. Preparar los datos para el modelo de aprendizaje automático\n",
    "## Preparación de datos\n",
    "\n",
    "Los pasos exactos para la preparación de los datos dependerán del modelo utilizado y de los datos recopilados, pero se requerirá cierta cantidad de manipulación de datos para cualquier aplicación de aprendizaje automático.\n",
    "\n",
    "##### Codificación One-Hot\n",
    "\n",
    "El primer paso para nosotros se conoce como codificación one-hotde los datos Este proceso toma variables categóricas, como Diabetes, y las convierte en una representación numérica sin un orden arbitrario"
   ]
  },
  {
   "cell_type": "code",
   "execution_count": null,
   "id": "7b2b9d50",
   "metadata": {},
   "outputs": [],
   "source": [
    "# One Hot Encoding\n",
    "dataset = pd.get_dummies(dataset)\n",
    "\n",
    "dataset.head(5)\n",
    "\n",
    "# Lista de características para uso posterior\n",
    "features = dataset.drop('NIHSS_INICO_ACV', axis = 1)\n",
    "feature_list = list(features.columns)"
   ]
  },
  {
   "cell_type": "markdown",
   "id": "478a0126",
   "metadata": {},
   "source": [
    "# 5-. Entrenar el modelo en los datos de entrenamiento\n",
    "\n",
    "El rf_exp usa la misma cantidad de árboles de decisión (n_estimadores) pero está entrenado en el conjunto de datos más largo con 3 características adicionales. El estado aleatorio es simplemente el número de lote del conjunto generado aleatoriamente en cualquier operación. Podemos especificar este número de lote siempre que queramos el mismo juego de nuevo. \n",
    "\n",
    "<h4>n_estimators : </h4>este es el número de árboles que desea construir antes de tomar la votación máxima o los promedios de las predicciones. Una mayor cantidad de árboles le brinda un mejor rendimiento pero hace que su código sea más lento"
   ]
  },
  {
   "cell_type": "code",
   "execution_count": null,
   "id": "61839665",
   "metadata": {},
   "outputs": [],
   "source": [
    "# Dividimos los datos en entrenamiento y prueba\n",
    "from sklearn.model_selection import train_test_split\n",
    "\n",
    "# X son nuestras variables independientes\n",
    "X = dataset.drop('NIHSS_INICO_ACV', axis = 1)\n",
    "\n",
    "# y es nuestra variable dependiente\n",
    "y = dataset['NIHSS_INICO_ACV']\n",
    "\n",
    "# Uso de Skicit-learn para dividir datos en conjuntos de entrenamiento y prueba \n",
    "# División 75% de datos para entrenamiento, 25% de datos para testb\n",
    "X_train, X_test, y_train, y_test = train_test_split(X, y, test_size=0.33, random_state=0)"
   ]
  },
  {
   "cell_type": "markdown",
   "id": "b042743f",
   "metadata": {},
   "source": [
    "## Creamos el modelo"
   ]
  },
  {
   "cell_type": "code",
   "execution_count": null,
   "id": "c891ff0c",
   "metadata": {},
   "outputs": [],
   "source": [
    "from sklearn.ensemble import RandomForestRegressor\n",
    "\n",
    "# Creamos el modelo de Arbol de Decisión (y configuramos el número máximo de nodos-hoja)\n",
    "rf = RandomForestRegressor(\n",
    "            n_estimators = 10,\n",
    "            criterion    = 'mse',\n",
    "            max_depth    = None,\n",
    "            max_features = 'auto',\n",
    "            oob_score    = False,\n",
    "            n_jobs       = -1,\n",
    "            random_state = 0)\n",
    "rf.fit(X_train, y_train)"
   ]
  },
  {
   "cell_type": "markdown",
   "id": "c380423a",
   "metadata": {},
   "source": [
    "# 6-. Predicciones sobre los datos de prueba\n",
    "Se evalúa la capacidad predictiva del árbol inicial calculando el accuracy en el conjunto de test."
   ]
  },
  {
   "cell_type": "code",
   "execution_count": null,
   "id": "4ff0e2f2",
   "metadata": {},
   "outputs": [],
   "source": [
    "# Predicción Entrenamiento \n",
    "prediccionEntreno = dtc.predict(X_train)\n",
    "\n",
    "# Predicción Tests\n",
    "prediccionTests = dtc.predict(X_test)"
   ]
  },
  {
   "cell_type": "markdown",
   "id": "0b6de88f",
   "metadata": {},
   "source": [
    "## Fase de Entrenamiento"
   ]
  },
  {
   "cell_type": "code",
   "execution_count": null,
   "id": "05b76fd6",
   "metadata": {},
   "outputs": [],
   "source": [
    "from sklearn import metrics\n",
    "\n",
    "print(\"Entrenamiento - Accuracy :\", metrics.accuracy_score(y_train, prediccionEntreno))"
   ]
  },
  {
   "cell_type": "markdown",
   "id": "1f7a41b3",
   "metadata": {},
   "source": [
    "### Matriz de Confusión\n",
    "\n",
    "En el campo de la inteligencia artificial y en especial en el problema de la clasificación estadística, una matriz de confusión es una herramienta que permite la visualización del desempeño de un algoritmo que se emplea en aprendizaje supervisado."
   ]
  },
  {
   "cell_type": "code",
   "execution_count": null,
   "id": "b7a3fff3",
   "metadata": {},
   "outputs": [],
   "source": [
    "from matplotlib import pyplot as plot\n",
    "from mlxtend.plotting import plot_confusion_matrix\n",
    "from sklearn.metrics import confusion_matrix\n",
    "\n",
    "matriz = confusion_matrix(y_train, prediccionEntreno)\n",
    "\n",
    "plot_confusion_matrix(conf_mat=matriz, figsize=(6,6), show_normed=False)\n",
    "plot.tight_layout()"
   ]
  },
  {
   "cell_type": "code",
   "execution_count": null,
   "id": "8e0d01ec",
   "metadata": {},
   "outputs": [],
   "source": [
    "print(\"Entrenamiento - Reporte de clasificación:\\n\", metrics.classification_report(y_train, prediccionEntreno))"
   ]
  },
  {
   "cell_type": "markdown",
   "id": "9274e58c",
   "metadata": {},
   "source": [
    "# 7-. Comparar las predicciones con los objetivos conocidos del conjunto de pruebas y calcule las métricas de rendimiento\n",
    "## Fase de validación  (Usando datos de Test)"
   ]
  },
  {
   "cell_type": "code",
   "execution_count": null,
   "id": "97138cb9",
   "metadata": {},
   "outputs": [],
   "source": [
    "print(\"Promedio - Accuracy :\", metrics.accuracy_score(y_test, prediccionTests))"
   ]
  },
  {
   "cell_type": "markdown",
   "id": "5ca3d94a",
   "metadata": {},
   "source": [
    "### Matriz de Confusión"
   ]
  },
  {
   "cell_type": "code",
   "execution_count": null,
   "id": "202ce2c8",
   "metadata": {},
   "outputs": [],
   "source": [
    "matriz = confusion_matrix(y_test, prediccionTests)\n",
    "\n",
    "plot_confusion_matrix(conf_mat=matriz, figsize=(6,6), show_normed=False)\n",
    "plt.tight_layout()"
   ]
  },
  {
   "cell_type": "code",
   "execution_count": null,
   "id": "b227bb33",
   "metadata": {
    "scrolled": false
   },
   "outputs": [],
   "source": [
    "print(\"Entrenamiento - Reporte de clasificación:\\n\", metrics.classification_report(y_test, prediccionTests))"
   ]
  },
  {
   "cell_type": "code",
   "execution_count": null,
   "id": "2f6588c7",
   "metadata": {},
   "outputs": [],
   "source": []
  },
  {
   "cell_type": "code",
   "execution_count": null,
   "id": "d622bf1c",
   "metadata": {},
   "outputs": [],
   "source": []
  },
  {
   "cell_type": "code",
   "execution_count": null,
   "id": "c312c5f1",
   "metadata": {},
   "outputs": [],
   "source": []
  },
  {
   "cell_type": "code",
   "execution_count": null,
   "id": "51306fbd",
   "metadata": {},
   "outputs": [],
   "source": []
  },
  {
   "cell_type": "code",
   "execution_count": null,
   "id": "5cd647f0",
   "metadata": {},
   "outputs": [],
   "source": []
  }
 ],
 "metadata": {
  "kernelspec": {
   "display_name": "Python 3 (ipykernel)",
   "language": "python",
   "name": "python3"
  },
  "language_info": {
   "codemirror_mode": {
    "name": "ipython",
    "version": 3
   },
   "file_extension": ".py",
   "mimetype": "text/x-python",
   "name": "python",
   "nbconvert_exporter": "python",
   "pygments_lexer": "ipython3",
   "version": "3.10.6"
  }
 },
 "nbformat": 4,
 "nbformat_minor": 5
}
