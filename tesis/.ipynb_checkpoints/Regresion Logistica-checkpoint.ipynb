{
 "cells": [
  {
   "cell_type": "markdown",
   "id": "d0741d17",
   "metadata": {},
   "source": [
    "<h2 align='center'>  Regresión Logística </h2> "
   ]
  },
  {
   "cell_type": "markdown",
   "id": "4a1aecb0",
   "metadata": {},
   "source": [
    "## Grafica"
   ]
  },
  {
   "cell_type": "code",
   "execution_count": 7,
   "id": "823a6619",
   "metadata": {},
   "outputs": [],
   "source": [
    "import numpy as np\n",
    "from matplotlib import pyplot as plt"
   ]
  },
  {
   "cell_type": "code",
   "execution_count": 8,
   "id": "80f27d90",
   "metadata": {},
   "outputs": [
    {
     "data": {
      "image/png": "[encoded data removed]",
      "text/plain": [
       "<Figure size 640x480 with 1 Axes>"
      ]
     },
     "metadata": {},
     "output_type": "display_data"
    }
   ],
   "source": [
    "x = np.linspace(-10,10)\n",
    "y = 1/(1+np.exp(-x))\n",
    "plt.plot(x,y)\n",
    "plt.title('Función logística')\n",
    "plt.grid()\n",
    "plt.axis\n",
    "plt.show()"
   ]
  },
  {
   "cell_type": "markdown",
   "id": "6e07a1fb",
   "metadata": {},
   "source": [
    "## Tipos de modelos de Regresión Logística\n",
    "\n",
    "* **Regresión Logística Binaria:** la variable objetivo tiene solo dos resultados posible, Llueve o NO Llueve, Sube o Baja.\n",
    "* **Regresión Logística Multinomial:** la variable objetivo tiene tres o más categorías nominales, como predecir el tipo de vino.\n",
    "* **Regresión Logística Ordinal:** la variable objetivo tiene tres o más categorías ordinales, como clasificar un restaurante o un producto del 1 al 5"
   ]
  },
  {
   "cell_type": "markdown",
   "id": "9c2775c9",
   "metadata": {},
   "source": [
    "# Jugar con BDD"
   ]
  },
  {
   "cell_type": "code",
   "execution_count": 175,
   "id": "e55b0139",
   "metadata": {},
   "outputs": [],
   "source": [
    "import pandas as pd"
   ]
  },
  {
   "cell_type": "code",
   "execution_count": 176,
   "id": "357d43c3",
   "metadata": {},
   "outputs": [],
   "source": [
    "#dataframe = pd.read_csv('../bdd/usuarios_win_mac_lin.csv')\n",
    "dataframe = pd.read_excel('../bdd/bdd.xlsx')"
   ]
  },
  {
   "cell_type": "markdown",
   "id": "84d6decf",
   "metadata": {},
   "source": [
    "### Dataset"
   ]
  },
  {
   "cell_type": "code",
   "execution_count": 177,
   "id": "8fb8d01b",
   "metadata": {},
   "outputs": [
    {
     "data": {
      "text/html": [
       "<div>\n",
       "<style scoped>\n",
       "    .dataframe tbody tr th:only-of-type {\n",
       "        vertical-align: middle;\n",
       "    }\n",
       "\n",
       "    .dataframe tbody tr th {\n",
       "        vertical-align: top;\n",
       "    }\n",
       "\n",
       "    .dataframe thead th {\n",
       "        text-align: right;\n",
       "    }\n",
       "</style>\n",
       "<table border=\"1\" class=\"dataframe\">\n",
       "  <thead>\n",
       "    <tr style=\"text-align: right;\">\n",
       "      <th></th>\n",
       "      <th>Code</th>\n",
       "      <th>Localization</th>\n",
       "      <th>Severity</th>\n",
       "      <th>SEX</th>\n",
       "      <th>Age</th>\n",
       "      <th>Cardiac FQ</th>\n",
       "      <th>Systolic BP</th>\n",
       "      <th>Diastolic BP</th>\n",
       "      <th>Glucose</th>\n",
       "      <th>Hb A/C  %</th>\n",
       "      <th>...</th>\n",
       "      <th>RANKIN admission</th>\n",
       "      <th>NIHSS dismissed</th>\n",
       "      <th>RANKIN dismissed</th>\n",
       "      <th>NIHSS 6 months</th>\n",
       "      <th>RANKIN 6 months</th>\n",
       "      <th>PROGNOSIS</th>\n",
       "      <th>VEGF/mL</th>\n",
       "      <th>PLGF/mL</th>\n",
       "      <th>IL-6 (pg/ml)</th>\n",
       "      <th>exosomas</th>\n",
       "    </tr>\n",
       "  </thead>\n",
       "  <tbody>\n",
       "    <tr>\n",
       "      <th>0</th>\n",
       "      <td>1</td>\n",
       "      <td>TACI</td>\n",
       "      <td>Major</td>\n",
       "      <td>1</td>\n",
       "      <td>53</td>\n",
       "      <td>78</td>\n",
       "      <td>162</td>\n",
       "      <td>64</td>\n",
       "      <td>137.09</td>\n",
       "      <td>5.9</td>\n",
       "      <td>...</td>\n",
       "      <td>5</td>\n",
       "      <td>42</td>\n",
       "      <td>6</td>\n",
       "      <td>2</td>\n",
       "      <td>6</td>\n",
       "      <td>Bad</td>\n",
       "      <td>448.22265</td>\n",
       "      <td>71.993015</td>\n",
       "      <td>18.586835</td>\n",
       "      <td>NaN</td>\n",
       "    </tr>\n",
       "    <tr>\n",
       "      <th>1</th>\n",
       "      <td>2</td>\n",
       "      <td>TIA</td>\n",
       "      <td>Mild</td>\n",
       "      <td>1</td>\n",
       "      <td>54</td>\n",
       "      <td>56</td>\n",
       "      <td>130</td>\n",
       "      <td>89</td>\n",
       "      <td>136.00</td>\n",
       "      <td>6.5</td>\n",
       "      <td>...</td>\n",
       "      <td>5</td>\n",
       "      <td>0</td>\n",
       "      <td>2</td>\n",
       "      <td>0</td>\n",
       "      <td>2</td>\n",
       "      <td>Good</td>\n",
       "      <td>302.91950</td>\n",
       "      <td>122.437550</td>\n",
       "      <td>1.263441</td>\n",
       "      <td>NaN</td>\n",
       "    </tr>\n",
       "    <tr>\n",
       "      <th>2</th>\n",
       "      <td>3</td>\n",
       "      <td>LACI</td>\n",
       "      <td>Mild</td>\n",
       "      <td>2</td>\n",
       "      <td>78</td>\n",
       "      <td>91</td>\n",
       "      <td>152</td>\n",
       "      <td>75</td>\n",
       "      <td>359.42</td>\n",
       "      <td>13.8</td>\n",
       "      <td>...</td>\n",
       "      <td>3</td>\n",
       "      <td>2</td>\n",
       "      <td>1</td>\n",
       "      <td>2</td>\n",
       "      <td>2</td>\n",
       "      <td>Missing</td>\n",
       "      <td>284.52795</td>\n",
       "      <td>127.826050</td>\n",
       "      <td>49.091862</td>\n",
       "      <td>3.337500e+10</td>\n",
       "    </tr>\n",
       "    <tr>\n",
       "      <th>3</th>\n",
       "      <td>4</td>\n",
       "      <td>LACI</td>\n",
       "      <td>Mild</td>\n",
       "      <td>2</td>\n",
       "      <td>87</td>\n",
       "      <td>59</td>\n",
       "      <td>136</td>\n",
       "      <td>86</td>\n",
       "      <td>186.20</td>\n",
       "      <td>5.9</td>\n",
       "      <td>...</td>\n",
       "      <td>4</td>\n",
       "      <td>0</td>\n",
       "      <td>2</td>\n",
       "      <td>0</td>\n",
       "      <td>2</td>\n",
       "      <td>Good</td>\n",
       "      <td>428.41470</td>\n",
       "      <td>108.966435</td>\n",
       "      <td>96.544126</td>\n",
       "      <td>NaN</td>\n",
       "    </tr>\n",
       "    <tr>\n",
       "      <th>4</th>\n",
       "      <td>5</td>\n",
       "      <td>POCI</td>\n",
       "      <td>Major</td>\n",
       "      <td>1</td>\n",
       "      <td>69</td>\n",
       "      <td>104</td>\n",
       "      <td>154</td>\n",
       "      <td>95</td>\n",
       "      <td>170.00</td>\n",
       "      <td>16.7</td>\n",
       "      <td>...</td>\n",
       "      <td>4</td>\n",
       "      <td>2</td>\n",
       "      <td>1</td>\n",
       "      <td>0</td>\n",
       "      <td>1</td>\n",
       "      <td>Good</td>\n",
       "      <td>221.23940</td>\n",
       "      <td>117.647850</td>\n",
       "      <td>43.309864</td>\n",
       "      <td>1.349900e+10</td>\n",
       "    </tr>\n",
       "    <tr>\n",
       "      <th>5</th>\n",
       "      <td>6</td>\n",
       "      <td>PACI</td>\n",
       "      <td>Major</td>\n",
       "      <td>2</td>\n",
       "      <td>90</td>\n",
       "      <td>55</td>\n",
       "      <td>216</td>\n",
       "      <td>84</td>\n",
       "      <td>160.95</td>\n",
       "      <td>12.3</td>\n",
       "      <td>...</td>\n",
       "      <td>4</td>\n",
       "      <td>1</td>\n",
       "      <td>5</td>\n",
       "      <td>1</td>\n",
       "      <td>2</td>\n",
       "      <td>Good</td>\n",
       "      <td>165.52390</td>\n",
       "      <td>128.574450</td>\n",
       "      <td>4.897850</td>\n",
       "      <td>1.781250e+10</td>\n",
       "    </tr>\n",
       "    <tr>\n",
       "      <th>6</th>\n",
       "      <td>8</td>\n",
       "      <td>POCI</td>\n",
       "      <td>Major</td>\n",
       "      <td>1</td>\n",
       "      <td>90</td>\n",
       "      <td>78</td>\n",
       "      <td>180</td>\n",
       "      <td>80</td>\n",
       "      <td>123.00</td>\n",
       "      <td>5.6</td>\n",
       "      <td>...</td>\n",
       "      <td>5</td>\n",
       "      <td>8</td>\n",
       "      <td>4</td>\n",
       "      <td>6</td>\n",
       "      <td>4</td>\n",
       "      <td>Bad</td>\n",
       "      <td>299.13300</td>\n",
       "      <td>138.602950</td>\n",
       "      <td>13.519904</td>\n",
       "      <td>NaN</td>\n",
       "    </tr>\n",
       "    <tr>\n",
       "      <th>7</th>\n",
       "      <td>11</td>\n",
       "      <td>POCI</td>\n",
       "      <td>Major</td>\n",
       "      <td>1</td>\n",
       "      <td>55</td>\n",
       "      <td>68</td>\n",
       "      <td>121</td>\n",
       "      <td>66</td>\n",
       "      <td>136.00</td>\n",
       "      <td>13.4</td>\n",
       "      <td>...</td>\n",
       "      <td>3</td>\n",
       "      <td>3</td>\n",
       "      <td>1</td>\n",
       "      <td>0</td>\n",
       "      <td>0</td>\n",
       "      <td>Good</td>\n",
       "      <td>168.76940</td>\n",
       "      <td>173.627850</td>\n",
       "      <td>0.528827</td>\n",
       "      <td>2.142500e+10</td>\n",
       "    </tr>\n",
       "    <tr>\n",
       "      <th>8</th>\n",
       "      <td>12</td>\n",
       "      <td>TACI</td>\n",
       "      <td>Major</td>\n",
       "      <td>2</td>\n",
       "      <td>83</td>\n",
       "      <td>64</td>\n",
       "      <td>177</td>\n",
       "      <td>92</td>\n",
       "      <td>113.80</td>\n",
       "      <td>14.2</td>\n",
       "      <td>...</td>\n",
       "      <td>5</td>\n",
       "      <td>10</td>\n",
       "      <td>5</td>\n",
       "      <td>8</td>\n",
       "      <td>4</td>\n",
       "      <td>Bad</td>\n",
       "      <td>355.38945</td>\n",
       "      <td>123.185950</td>\n",
       "      <td>2.114048</td>\n",
       "      <td>1.250000e+10</td>\n",
       "    </tr>\n",
       "    <tr>\n",
       "      <th>9</th>\n",
       "      <td>14</td>\n",
       "      <td>PACI</td>\n",
       "      <td>Major</td>\n",
       "      <td>2</td>\n",
       "      <td>70</td>\n",
       "      <td>59</td>\n",
       "      <td>120</td>\n",
       "      <td>60</td>\n",
       "      <td>216.61</td>\n",
       "      <td>13.8</td>\n",
       "      <td>...</td>\n",
       "      <td>3</td>\n",
       "      <td>1</td>\n",
       "      <td>0</td>\n",
       "      <td>2</td>\n",
       "      <td>1</td>\n",
       "      <td>Good</td>\n",
       "      <td>131.98635</td>\n",
       "      <td>157.013500</td>\n",
       "      <td>52.680689</td>\n",
       "      <td>2.331250e+10</td>\n",
       "    </tr>\n",
       "  </tbody>\n",
       "</table>\n",
       "<p>10 rows × 42 columns</p>\n",
       "</div>"
      ],
      "text/plain": [
       "  Code Localization Severity  SEX  Age  Cardiac FQ  Systolic BP  Diastolic BP  \\\n",
       "0    1         TACI    Major    1   53          78          162            64   \n",
       "1    2          TIA     Mild    1   54          56          130            89   \n",
       "2    3         LACI     Mild    2   78          91          152            75   \n",
       "3    4         LACI     Mild    2   87          59          136            86   \n",
       "4    5         POCI    Major    1   69         104          154            95   \n",
       "5    6         PACI    Major    2   90          55          216            84   \n",
       "6    8         POCI    Major    1   90          78          180            80   \n",
       "7   11         POCI    Major    1   55          68          121            66   \n",
       "8   12         TACI    Major    2   83          64          177            92   \n",
       "9   14         PACI    Major    2   70          59          120            60   \n",
       "\n",
       "   Glucose  Hb A/C  %  ...  RANKIN admission  NIHSS dismissed  \\\n",
       "0   137.09        5.9  ...                 5               42   \n",
       "1   136.00        6.5  ...                 5                0   \n",
       "2   359.42       13.8  ...                 3                2   \n",
       "3   186.20        5.9  ...                 4                0   \n",
       "4   170.00       16.7  ...                 4                2   \n",
       "5   160.95       12.3  ...                 4                1   \n",
       "6   123.00        5.6  ...                 5                8   \n",
       "7   136.00       13.4  ...                 3                3   \n",
       "8   113.80       14.2  ...                 5               10   \n",
       "9   216.61       13.8  ...                 3                1   \n",
       "\n",
       "   RANKIN dismissed  NIHSS 6 months  RANKIN 6 months  PROGNOSIS    VEGF/mL  \\\n",
       "0                 6               2                6        Bad  448.22265   \n",
       "1                 2               0                2       Good  302.91950   \n",
       "2                 1               2                2    Missing  284.52795   \n",
       "3                 2               0                2       Good  428.41470   \n",
       "4                 1               0                1       Good  221.23940   \n",
       "5                 5               1                2       Good  165.52390   \n",
       "6                 4               6                4        Bad  299.13300   \n",
       "7                 1               0                0       Good  168.76940   \n",
       "8                 5               8                4        Bad  355.38945   \n",
       "9                 0               2                1       Good  131.98635   \n",
       "\n",
       "      PLGF/mL  IL-6 (pg/ml)      exosomas  \n",
       "0   71.993015     18.586835           NaN  \n",
       "1  122.437550      1.263441           NaN  \n",
       "2  127.826050     49.091862  3.337500e+10  \n",
       "3  108.966435     96.544126           NaN  \n",
       "4  117.647850     43.309864  1.349900e+10  \n",
       "5  128.574450      4.897850  1.781250e+10  \n",
       "6  138.602950     13.519904           NaN  \n",
       "7  173.627850      0.528827  2.142500e+10  \n",
       "8  123.185950      2.114048  1.250000e+10  \n",
       "9  157.013500     52.680689  2.331250e+10  \n",
       "\n",
       "[10 rows x 42 columns]"
      ]
     },
     "execution_count": 177,
     "metadata": {},
     "output_type": "execute_result"
    }
   ],
   "source": [
    "dataframe.head(10)"
   ]
  },
  {
   "cell_type": "code",
   "execution_count": 178,
   "id": "54a3b96e",
   "metadata": {},
   "outputs": [
    {
     "data": {
      "text/plain": [
       "Code                         TENS\n",
       "Localization                 LACI\n",
       "Severity                     Mild\n",
       "SEX                             1\n",
       "Age                            69\n",
       "Cardiac FQ                     64\n",
       "Systolic BP                   194\n",
       "Diastolic BP                  105\n",
       "Glucose                    217.21\n",
       "Hb A/C  %                    10.0\n",
       "Total Cholest                 202\n",
       "TRIGLICERIDOS                 232\n",
       "LDL                           124\n",
       "HDL                            30\n",
       "HCTO                         41.3\n",
       "HB                           13.6\n",
       "Platelets                     214\n",
       "INR                          1.03\n",
       "Leucocytes                   10.4\n",
       "C.R.P                       18.69\n",
       "Ureic nitrogen              25.68\n",
       "Uremia                      54.96\n",
       "Creatinin                    1.12\n",
       "TTPA                         24.1\n",
       "TP                           10.5\n",
       "NA (sodium)                135.93\n",
       "K (potassium)                4.25\n",
       "CL (Chloride)              143.99\n",
       "Fosfatase Alcalin          102.38\n",
       "Gamma glutamil              24.94\n",
       "GLASGOW at admission           14\n",
       "NIHSS admission                 6\n",
       "RANKIN admission                1\n",
       "NIHSS dismissed                 6\n",
       "RANKIN dismissed                2\n",
       "NIHSS 6 months                  2\n",
       "RANKIN 6 months                 2\n",
       "PROGNOSIS                 Missing\n",
       "VEGF/mL                     358.0\n",
       "PLGF/mL                      99.0\n",
       "IL-6 (pg/ml)            77.204338\n",
       "exosomas                      NaN\n",
       "Name: 44, dtype: object"
      ]
     },
     "execution_count": 178,
     "metadata": {},
     "output_type": "execute_result"
    }
   ],
   "source": [
    "dataframe.iloc[-1] # Última fila"
   ]
  },
  {
   "cell_type": "code",
   "execution_count": 197,
   "id": "4abacbaf",
   "metadata": {},
   "outputs": [
    {
     "data": {
      "text/html": [
       "<div>\n",
       "<style scoped>\n",
       "    .dataframe tbody tr th:only-of-type {\n",
       "        vertical-align: middle;\n",
       "    }\n",
       "\n",
       "    .dataframe tbody tr th {\n",
       "        vertical-align: top;\n",
       "    }\n",
       "\n",
       "    .dataframe thead th {\n",
       "        text-align: right;\n",
       "    }\n",
       "</style>\n",
       "<table border=\"1\" class=\"dataframe\">\n",
       "  <thead>\n",
       "    <tr style=\"text-align: right;\">\n",
       "      <th></th>\n",
       "      <th>SEX</th>\n",
       "      <th>Age</th>\n",
       "      <th>Cardiac FQ</th>\n",
       "      <th>Systolic BP</th>\n",
       "      <th>Diastolic BP</th>\n",
       "      <th>Hb A/C  %</th>\n",
       "      <th>Total Cholest</th>\n",
       "      <th>TRIGLICERIDOS</th>\n",
       "      <th>LDL</th>\n",
       "      <th>HDL</th>\n",
       "      <th>...</th>\n",
       "      <th>Ureic nitrogen</th>\n",
       "      <th>Uremia</th>\n",
       "      <th>Creatinin</th>\n",
       "      <th>TTPA</th>\n",
       "      <th>TP</th>\n",
       "      <th>NA (sodium)</th>\n",
       "      <th>CL (Chloride)</th>\n",
       "      <th>Fosfatase Alcalin</th>\n",
       "      <th>Gamma glutamil</th>\n",
       "      <th>GLASGOW at admission</th>\n",
       "    </tr>\n",
       "  </thead>\n",
       "  <tbody>\n",
       "    <tr>\n",
       "      <th>0</th>\n",
       "      <td>1</td>\n",
       "      <td>53</td>\n",
       "      <td>78</td>\n",
       "      <td>162</td>\n",
       "      <td>64</td>\n",
       "      <td>5.9</td>\n",
       "      <td>268</td>\n",
       "      <td>130</td>\n",
       "      <td>202</td>\n",
       "      <td>40</td>\n",
       "      <td>...</td>\n",
       "      <td>21.13</td>\n",
       "      <td>45.22</td>\n",
       "      <td>0.93</td>\n",
       "      <td>21.8</td>\n",
       "      <td>11.0</td>\n",
       "      <td>137.83</td>\n",
       "      <td>101.88</td>\n",
       "      <td>81.53</td>\n",
       "      <td>41.66</td>\n",
       "      <td>11</td>\n",
       "    </tr>\n",
       "    <tr>\n",
       "      <th>1</th>\n",
       "      <td>1</td>\n",
       "      <td>54</td>\n",
       "      <td>56</td>\n",
       "      <td>130</td>\n",
       "      <td>89</td>\n",
       "      <td>6.5</td>\n",
       "      <td>187</td>\n",
       "      <td>130</td>\n",
       "      <td>118</td>\n",
       "      <td>44</td>\n",
       "      <td>...</td>\n",
       "      <td>18.00</td>\n",
       "      <td>39.00</td>\n",
       "      <td>0.90</td>\n",
       "      <td>31.0</td>\n",
       "      <td>16.0</td>\n",
       "      <td>139.00</td>\n",
       "      <td>102.00</td>\n",
       "      <td>98.00</td>\n",
       "      <td>40.00</td>\n",
       "      <td>15</td>\n",
       "    </tr>\n",
       "    <tr>\n",
       "      <th>2</th>\n",
       "      <td>2</td>\n",
       "      <td>78</td>\n",
       "      <td>91</td>\n",
       "      <td>152</td>\n",
       "      <td>75</td>\n",
       "      <td>13.8</td>\n",
       "      <td>159</td>\n",
       "      <td>97</td>\n",
       "      <td>26</td>\n",
       "      <td>35</td>\n",
       "      <td>...</td>\n",
       "      <td>12.68</td>\n",
       "      <td>27.14</td>\n",
       "      <td>0.74</td>\n",
       "      <td>26.3</td>\n",
       "      <td>9.8</td>\n",
       "      <td>137.00</td>\n",
       "      <td>101.00</td>\n",
       "      <td>80.38</td>\n",
       "      <td>130.39</td>\n",
       "      <td>15</td>\n",
       "    </tr>\n",
       "    <tr>\n",
       "      <th>3</th>\n",
       "      <td>2</td>\n",
       "      <td>87</td>\n",
       "      <td>59</td>\n",
       "      <td>136</td>\n",
       "      <td>86</td>\n",
       "      <td>5.9</td>\n",
       "      <td>193</td>\n",
       "      <td>133</td>\n",
       "      <td>115</td>\n",
       "      <td>51</td>\n",
       "      <td>...</td>\n",
       "      <td>24.10</td>\n",
       "      <td>51.60</td>\n",
       "      <td>0.92</td>\n",
       "      <td>27.2</td>\n",
       "      <td>10.1</td>\n",
       "      <td>137.10</td>\n",
       "      <td>106.45</td>\n",
       "      <td>120.20</td>\n",
       "      <td>33.95</td>\n",
       "      <td>15</td>\n",
       "    </tr>\n",
       "    <tr>\n",
       "      <th>4</th>\n",
       "      <td>1</td>\n",
       "      <td>69</td>\n",
       "      <td>104</td>\n",
       "      <td>154</td>\n",
       "      <td>95</td>\n",
       "      <td>16.7</td>\n",
       "      <td>184</td>\n",
       "      <td>137</td>\n",
       "      <td>125</td>\n",
       "      <td>32</td>\n",
       "      <td>...</td>\n",
       "      <td>16.69</td>\n",
       "      <td>35.72</td>\n",
       "      <td>1.05</td>\n",
       "      <td>24.2</td>\n",
       "      <td>13.0</td>\n",
       "      <td>137.70</td>\n",
       "      <td>103.80</td>\n",
       "      <td>98.00</td>\n",
       "      <td>40.00</td>\n",
       "      <td>15</td>\n",
       "    </tr>\n",
       "  </tbody>\n",
       "</table>\n",
       "<p>5 rows × 26 columns</p>\n",
       "</div>"
      ],
      "text/plain": [
       "   SEX  Age  Cardiac FQ  Systolic BP  Diastolic BP  Hb A/C  %  Total Cholest  \\\n",
       "0    1   53          78          162            64        5.9            268   \n",
       "1    1   54          56          130            89        6.5            187   \n",
       "2    2   78          91          152            75       13.8            159   \n",
       "3    2   87          59          136            86        5.9            193   \n",
       "4    1   69         104          154            95       16.7            184   \n",
       "\n",
       "   TRIGLICERIDOS  LDL  HDL  ...  Ureic nitrogen  Uremia  Creatinin  TTPA  \\\n",
       "0            130  202   40  ...           21.13   45.22       0.93  21.8   \n",
       "1            130  118   44  ...           18.00   39.00       0.90  31.0   \n",
       "2             97   26   35  ...           12.68   27.14       0.74  26.3   \n",
       "3            133  115   51  ...           24.10   51.60       0.92  27.2   \n",
       "4            137  125   32  ...           16.69   35.72       1.05  24.2   \n",
       "\n",
       "     TP  NA (sodium)  CL (Chloride)  Fosfatase Alcalin  Gamma glutamil  \\\n",
       "0  11.0       137.83         101.88              81.53           41.66   \n",
       "1  16.0       139.00         102.00              98.00           40.00   \n",
       "2   9.8       137.00         101.00              80.38          130.39   \n",
       "3  10.1       137.10         106.45             120.20           33.95   \n",
       "4  13.0       137.70         103.80              98.00           40.00   \n",
       "\n",
       "   GLASGOW at admission  \n",
       "0                    11  \n",
       "1                    15  \n",
       "2                    15  \n",
       "3                    15  \n",
       "4                    15  \n",
       "\n",
       "[5 rows x 26 columns]"
      ]
     },
     "execution_count": 197,
     "metadata": {},
     "output_type": "execute_result"
    }
   ],
   "source": [
    "#columnas = ['PCR','INR', 'TTPK', 'Tiempo protombina', 'Functional outcome numérico'] # Columnas a trabajar\n",
    "columnas = ['SEX', 'Age', 'Cardiac FQ', 'Systolic BP', 'Diastolic BP', 'Hb A/C  %', 'Total Cholest', 'TRIGLICERIDOS', 'LDL', 'HDL', 'HCTO', 'HB', 'Platelets', 'INR', 'Leucocytes', 'C.R.P', 'Ureic nitrogen', 'Uremia', 'Creatinin', 'TTPA', 'TP', 'NA (sodium)', 'CL (Chloride)', 'Fosfatase Alcalin', 'Gamma glutamil', 'GLASGOW at admission'] # Columnas a trabajar 'Severity',, 'Diastolic BP', 'Hb A/C  %', 'Total Cholest', 'TRIGLICERIDOS', 'LDL', 'HDL', 'HCTO', 'HB', 'Platelets', 'INR', 'Leucocytes', 'C.R.P', 'Ureic nitrogen', 'Uremia', 'Creatinin', 'TTPA', 'TP', 'NA (sodium)', 'CL (Chloride)', 'Fosfatase Alcalin', 'Gamma glutamil', 'GLASGOW at admission'\n",
    "dataset = dataframe[[*columnas]]\n",
    "dataset.head(5)"
   ]
  },
  {
   "cell_type": "markdown",
   "id": "347f0ef8",
   "metadata": {},
   "source": [
    "### Numero Funcional de Salida"
   ]
  },
  {
   "cell_type": "code",
   "execution_count": 198,
   "id": "0389e670",
   "metadata": {},
   "outputs": [
    {
     "name": "stdout",
     "output_type": "stream",
     "text": [
      "Age\n",
      "38    1\n",
      "52    1\n",
      "53    1\n",
      "54    2\n",
      "55    1\n",
      "57    1\n",
      "58    1\n",
      "60    1\n",
      "62    2\n",
      "65    1\n",
      "67    1\n",
      "68    1\n",
      "69    2\n",
      "70    1\n",
      "71    3\n",
      "72    3\n",
      "73    2\n",
      "75    1\n",
      "77    1\n",
      "78    2\n",
      "79    2\n",
      "80    3\n",
      "82    3\n",
      "83    2\n",
      "85    1\n",
      "87    2\n",
      "90    3\n",
      "dtype: int64\n"
     ]
    }
   ],
   "source": [
    "print(dataset.groupby('Age').size())"
   ]
  },
  {
   "cell_type": "code",
   "execution_count": 199,
   "id": "79b3dcc0",
   "metadata": {},
   "outputs": [
    {
     "name": "stderr",
     "output_type": "stream",
     "text": [
      "C:\\Users\\Abraham\\AppData\\Local\\Temp\\ipykernel_439508\\2337487530.py:2: FutureWarning: In a future version of pandas all arguments of DataFrame.drop except for the argument 'labels' will be keyword-only.\n",
      "  dataset.drop(['Age'],1).hist()\n"
     ]
    },
    {
     "data": {
      "text/plain": [
       "<Figure size 1700x500 with 0 Axes>"
      ]
     },
     "metadata": {},
     "output_type": "display_data"
    },
    {
     "data": {
      "image/png": "[encoded data removed]",
      "text/plain": [
       "<Figure size 640x480 with 25 Axes>"
      ]
     },
     "metadata": {},
     "output_type": "display_data"
    }
   ],
   "source": [
    "plt.figure(figsize=(17,5))\n",
    "dataset.drop(['Age'],1).hist()\n",
    "plt.show()\n",
    "\n",
    "# Funciona para pocas columnas, pero es util para ver como estan respecto a la columna tomada.Distribucion respecto a la clase"
   ]
  },
  {
   "cell_type": "markdown",
   "id": "24a5e151",
   "metadata": {},
   "source": [
    "# Modelo"
   ]
  },
  {
   "cell_type": "code",
   "execution_count": 200,
   "id": "4e9aac76",
   "metadata": {},
   "outputs": [],
   "source": [
    "from sklearn import linear_model\n",
    "from sklearn.model_selection import train_test_split #separa las metricas\n",
    "from sklearn import metrics"
   ]
  },
  {
   "cell_type": "code",
   "execution_count": 224,
   "id": "ddc0048e",
   "metadata": {},
   "outputs": [],
   "source": [
    "modelo_RL = linear_model.LogisticRegression(solver='lbfgs', max_iter=2000)"
   ]
  },
  {
   "cell_type": "code",
   "execution_count": 225,
   "id": "95d39756",
   "metadata": {},
   "outputs": [],
   "source": [
    "X = dataset.drop('Age',axis=1)"
   ]
  },
  {
   "cell_type": "code",
   "execution_count": 226,
   "id": "8206070d",
   "metadata": {},
   "outputs": [],
   "source": [
    "Y = dataset['Age']"
   ]
  },
  {
   "cell_type": "code",
   "execution_count": 227,
   "id": "d5849268",
   "metadata": {},
   "outputs": [],
   "source": [
    "X_train, X_test, y_train, y_test = train_test_split(X, Y, train_size=.80,random_state=1)"
   ]
  },
  {
   "cell_type": "code",
   "execution_count": 228,
   "id": "109a43fd",
   "metadata": {},
   "outputs": [
    {
     "data": {
      "text/html": [
       "<style>#sk-container-id-9 {color: black;background-color: white;}#sk-container-id-9 pre{padding: 0;}#sk-container-id-9 div.sk-toggleable {background-color: white;}#sk-container-id-9 label.sk-toggleable__label {cursor: pointer;display: block;width: 100%;margin-bottom: 0;padding: 0.3em;box-sizing: border-box;text-align: center;}#sk-container-id-9 label.sk-toggleable__label-arrow:before {content: \"▸\";float: left;margin-right: 0.25em;color: #696969;}#sk-container-id-9 label.sk-toggleable__label-arrow:hover:before {color: black;}#sk-container-id-9 div.sk-estimator:hover label.sk-toggleable__label-arrow:before {color: black;}#sk-container-id-9 div.sk-toggleable__content {max-height: 0;max-width: 0;overflow: hidden;text-align: left;background-color: #f0f8ff;}#sk-container-id-9 div.sk-toggleable__content pre {margin: 0.2em;color: black;border-radius: 0.25em;background-color: #f0f8ff;}#sk-container-id-9 input.sk-toggleable__control:checked~div.sk-toggleable__content {max-height: 200px;max-width: 100%;overflow: auto;}#sk-container-id-9 input.sk-toggleable__control:checked~label.sk-toggleable__label-arrow:before {content: \"▾\";}#sk-container-id-9 div.sk-estimator input.sk-toggleable__control:checked~label.sk-toggleable__label {background-color: #d4ebff;}#sk-container-id-9 div.sk-label input.sk-toggleable__control:checked~label.sk-toggleable__label {background-color: #d4ebff;}#sk-container-id-9 input.sk-hidden--visually {border: 0;clip: rect(1px 1px 1px 1px);clip: rect(1px, 1px, 1px, 1px);height: 1px;margin: -1px;overflow: hidden;padding: 0;position: absolute;width: 1px;}#sk-container-id-9 div.sk-estimator {font-family: monospace;background-color: #f0f8ff;border: 1px dotted black;border-radius: 0.25em;box-sizing: border-box;margin-bottom: 0.5em;}#sk-container-id-9 div.sk-estimator:hover {background-color: #d4ebff;}#sk-container-id-9 div.sk-parallel-item::after {content: \"\";width: 100%;border-bottom: 1px solid gray;flex-grow: 1;}#sk-container-id-9 div.sk-label:hover label.sk-toggleable__label {background-color: #d4ebff;}#sk-container-id-9 div.sk-serial::before {content: \"\";position: absolute;border-left: 1px solid gray;box-sizing: border-box;top: 0;bottom: 0;left: 50%;z-index: 0;}#sk-container-id-9 div.sk-serial {display: flex;flex-direction: column;align-items: center;background-color: white;padding-right: 0.2em;padding-left: 0.2em;position: relative;}#sk-container-id-9 div.sk-item {position: relative;z-index: 1;}#sk-container-id-9 div.sk-parallel {display: flex;align-items: stretch;justify-content: center;background-color: white;position: relative;}#sk-container-id-9 div.sk-item::before, #sk-container-id-9 div.sk-parallel-item::before {content: \"\";position: absolute;border-left: 1px solid gray;box-sizing: border-box;top: 0;bottom: 0;left: 50%;z-index: -1;}#sk-container-id-9 div.sk-parallel-item {display: flex;flex-direction: column;z-index: 1;position: relative;background-color: white;}#sk-container-id-9 div.sk-parallel-item:first-child::after {align-self: flex-end;width: 50%;}#sk-container-id-9 div.sk-parallel-item:last-child::after {align-self: flex-start;width: 50%;}#sk-container-id-9 div.sk-parallel-item:only-child::after {width: 0;}#sk-container-id-9 div.sk-dashed-wrapped {border: 1px dashed gray;margin: 0 0.4em 0.5em 0.4em;box-sizing: border-box;padding-bottom: 0.4em;background-color: white;}#sk-container-id-9 div.sk-label label {font-family: monospace;font-weight: bold;display: inline-block;line-height: 1.2em;}#sk-container-id-9 div.sk-label-container {text-align: center;}#sk-container-id-9 div.sk-container {/* jupyter's `normalize.less` sets `[hidden] { display: none; }` but bootstrap.min.css set `[hidden] { display: none !important; }` so we also need the `!important` here to be able to override the default hidden behavior on the sphinx rendered scikit-learn.org. See: https://github.com/scikit-learn/scikit-learn/issues/21755 */display: inline-block !important;position: relative;}#sk-container-id-9 div.sk-text-repr-fallback {display: none;}</style><div id=\"sk-container-id-9\" class=\"sk-top-container\"><div class=\"sk-text-repr-fallback\"><pre>LogisticRegression(max_iter=2000)</pre><b>In a Jupyter environment, please rerun this cell to show the HTML representation or trust the notebook. <br />On GitHub, the HTML representation is unable to render, please try loading this page with nbviewer.org.</b></div><div class=\"sk-container\" hidden><div class=\"sk-item\"><div class=\"sk-estimator sk-toggleable\"><input class=\"sk-toggleable__control sk-hidden--visually\" id=\"sk-estimator-id-9\" type=\"checkbox\" checked><label for=\"sk-estimator-id-9\" class=\"sk-toggleable__label sk-toggleable__label-arrow\">LogisticRegression</label><div class=\"sk-toggleable__content\"><pre>LogisticRegression(max_iter=2000)</pre></div></div></div></div></div>"
      ],
      "text/plain": [
       "LogisticRegression(max_iter=2000)"
      ]
     },
     "execution_count": 228,
     "metadata": {},
     "output_type": "execute_result"
    }
   ],
   "source": [
    "modelo_RL.fit(X_train,y_train)"
   ]
  },
  {
   "cell_type": "markdown",
   "id": "335e952b",
   "metadata": {},
   "source": [
    "## Prediccion"
   ]
  },
  {
   "cell_type": "code",
   "execution_count": 229,
   "id": "161ef894",
   "metadata": {},
   "outputs": [],
   "source": [
    "prediccion = modelo_RL.predict(X_test)"
   ]
  },
  {
   "cell_type": "markdown",
   "id": "1c9b1fc4",
   "metadata": {},
   "source": [
    "## Evaluacion del Modelo"
   ]
  },
  {
   "cell_type": "code",
   "execution_count": 230,
   "id": "43121080",
   "metadata": {},
   "outputs": [
    {
     "name": "stdout",
     "output_type": "stream",
     "text": [
      "Matriz de Confusión :\n",
      " [[0 0 0 0 0 0 0 0 0 0 0 0]\n",
      " [1 0 0 0 0 0 0 0 0 0 0 0]\n",
      " [0 0 0 0 0 0 0 0 0 0 0 0]\n",
      " [0 0 0 0 0 0 0 0 0 0 0 0]\n",
      " [0 0 1 1 0 0 0 0 0 0 0 0]\n",
      " [0 0 1 0 0 0 0 0 0 1 0 0]\n",
      " [0 0 0 0 0 0 0 0 1 0 0 0]\n",
      " [1 0 0 0 0 0 0 0 0 0 0 0]\n",
      " [0 0 0 0 0 0 0 0 0 0 0 0]\n",
      " [0 0 0 0 0 0 0 0 1 0 0 0]\n",
      " [0 0 0 0 0 0 0 0 0 0 0 1]\n",
      " [0 0 0 0 0 0 0 0 0 0 0 0]]\n"
     ]
    }
   ],
   "source": [
    "print(\"Matriz de Confusión :\\n\",metrics.confusion_matrix(y_test, prediccion))\n",
    "# Para saber los aciertos que tiene"
   ]
  },
  {
   "cell_type": "code",
   "execution_count": 231,
   "id": "8c2df191",
   "metadata": {},
   "outputs": [
    {
     "name": "stdout",
     "output_type": "stream",
     "text": [
      "Tasa de acierto: 0.000000\n"
     ]
    }
   ],
   "source": [
    "print(\"Tasa de acierto: {:4f}\".format(metrics.accuracy_score(y_test,prediccion)))"
   ]
  },
  {
   "cell_type": "code",
   "execution_count": 232,
   "id": "15289e37",
   "metadata": {},
   "outputs": [
    {
     "name": "stdout",
     "output_type": "stream",
     "text": [
      "Reporte de clasificacion:\n",
      "\n",
      "              precision    recall  f1-score   support\n",
      "\n",
      "          54       0.00      0.00      0.00       0.0\n",
      "          58       0.00      0.00      0.00       1.0\n",
      "          62       0.00      0.00      0.00       0.0\n",
      "          70       0.00      0.00      0.00       0.0\n",
      "          71       0.00      0.00      0.00       2.0\n",
      "          72       0.00      0.00      0.00       2.0\n",
      "          73       0.00      0.00      0.00       1.0\n",
      "          78       0.00      0.00      0.00       1.0\n",
      "          79       0.00      0.00      0.00       0.0\n",
      "          80       0.00      0.00      0.00       1.0\n",
      "          87       0.00      0.00      0.00       1.0\n",
      "          90       0.00      0.00      0.00       0.0\n",
      "\n",
      "    accuracy                           0.00       9.0\n",
      "   macro avg       0.00      0.00      0.00       9.0\n",
      "weighted avg       0.00      0.00      0.00       9.0\n",
      "\n"
     ]
    },
    {
     "name": "stderr",
     "output_type": "stream",
     "text": [
      "C:\\Users\\Abraham\\AppData\\Local\\Programs\\Python\\Python310\\lib\\site-packages\\sklearn\\metrics\\_classification.py:1334: UndefinedMetricWarning: Precision and F-score are ill-defined and being set to 0.0 in labels with no predicted samples. Use `zero_division` parameter to control this behavior.\n",
      "  _warn_prf(average, modifier, msg_start, len(result))\n",
      "C:\\Users\\Abraham\\AppData\\Local\\Programs\\Python\\Python310\\lib\\site-packages\\sklearn\\metrics\\_classification.py:1334: UndefinedMetricWarning: Recall and F-score are ill-defined and being set to 0.0 in labels with no true samples. Use `zero_division` parameter to control this behavior.\n",
      "  _warn_prf(average, modifier, msg_start, len(result))\n",
      "C:\\Users\\Abraham\\AppData\\Local\\Programs\\Python\\Python310\\lib\\site-packages\\sklearn\\metrics\\_classification.py:1334: UndefinedMetricWarning: Precision and F-score are ill-defined and being set to 0.0 in labels with no predicted samples. Use `zero_division` parameter to control this behavior.\n",
      "  _warn_prf(average, modifier, msg_start, len(result))\n",
      "C:\\Users\\Abraham\\AppData\\Local\\Programs\\Python\\Python310\\lib\\site-packages\\sklearn\\metrics\\_classification.py:1334: UndefinedMetricWarning: Recall and F-score are ill-defined and being set to 0.0 in labels with no true samples. Use `zero_division` parameter to control this behavior.\n",
      "  _warn_prf(average, modifier, msg_start, len(result))\n",
      "C:\\Users\\Abraham\\AppData\\Local\\Programs\\Python\\Python310\\lib\\site-packages\\sklearn\\metrics\\_classification.py:1334: UndefinedMetricWarning: Precision and F-score are ill-defined and being set to 0.0 in labels with no predicted samples. Use `zero_division` parameter to control this behavior.\n",
      "  _warn_prf(average, modifier, msg_start, len(result))\n",
      "C:\\Users\\Abraham\\AppData\\Local\\Programs\\Python\\Python310\\lib\\site-packages\\sklearn\\metrics\\_classification.py:1334: UndefinedMetricWarning: Recall and F-score are ill-defined and being set to 0.0 in labels with no true samples. Use `zero_division` parameter to control this behavior.\n",
      "  _warn_prf(average, modifier, msg_start, len(result))\n"
     ]
    }
   ],
   "source": [
    "print('Reporte de clasificacion:\\n')\n",
    "print(metrics.classification_report(y_test, prediccion))"
   ]
  },
  {
   "cell_type": "markdown",
   "id": "f70bd1ef",
   "metadata": {},
   "source": [
    "## Hasta aqui"
   ]
  },
  {
   "cell_type": "code",
   "execution_count": null,
   "id": "32eeff34",
   "metadata": {},
   "outputs": [],
   "source": []
  }
 ],
 "metadata": {
  "kernelspec": {
   "display_name": "Python 3 (ipykernel)",
   "language": "python",
   "name": "python3"
  },
  "language_info": {
   "codemirror_mode": {
    "name": "ipython",
    "version": 3
   },
   "file_extension": ".py",
   "mimetype": "text/x-python",
   "name": "python",
   "nbconvert_exporter": "python",
   "pygments_lexer": "ipython3",
   "version": "3.10.6"
  },
  "vscode": {
   "interpreter": {
    "hash": "606b51598694433430c015857b2ecf9fd14e8a095a5c0461ea2cbb483af7323f"
   }
  }
 },
 "nbformat": 4,
 "nbformat_minor": 5
}
