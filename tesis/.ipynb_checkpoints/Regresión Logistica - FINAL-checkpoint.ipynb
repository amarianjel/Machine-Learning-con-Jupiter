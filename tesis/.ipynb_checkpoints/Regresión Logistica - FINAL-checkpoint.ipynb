{
 "cells": [
  {
   "cell_type": "markdown",
   "id": "9ecf7e7e",
   "metadata": {},
   "source": [
    "<h1 align='center'>  Regresión Logística </h1> "
   ]
  },
  {
   "cell_type": "markdown",
   "id": "755c758e",
   "metadata": {},
   "source": [
    "## Grafica"
   ]
  },
  {
   "cell_type": "code",
   "execution_count": 698,
   "id": "f057cb8e",
   "metadata": {},
   "outputs": [
    {
     "data": {
      "image/png": "[encoded data removed]",
      "text/plain": [
       "<Figure size 200x200 with 1 Axes>"
      ]
     },
     "metadata": {},
     "output_type": "display_data"
    }
   ],
   "source": [
    "import numpy as np\n",
    "from matplotlib import pyplot as plt\n",
    "\n",
    "x = np.linspace(-10,10)\n",
    "y = 1/(1+np.exp(-x))\n",
    "plt.plot(x,y)\n",
    "plt.title('Función logística')\n",
    "plt.grid()\n",
    "plt.axis\n",
    "plt.show()"
   ]
  },
  {
   "cell_type": "markdown",
   "id": "1167bdbd",
   "metadata": {},
   "source": [
    "## Tipos de modelos de Regresión Logística\n",
    "\n",
    "* **Regresión Logística Binaria:** la variable objetivo tiene solo dos resultados posible, Llueve o NO Llueve, Sube o Baja.\n",
    "* **Regresión Logística Multinomial:** la variable objetivo tiene tres o más categorías nominales, como predecir el tipo de vino.\n",
    "* **Regresión Logística Ordinal:** la variable objetivo tiene tres o más categorías ordinales, como clasificar un restaurante o un producto del 1 al 5"
   ]
  },
  {
   "cell_type": "markdown",
   "id": "0628cf9c",
   "metadata": {},
   "source": [
    "<h2> Mapa </h2>\n",
    "<ul>\n",
    "    <li>1-. Formular la pregunta y determinar los datos requeridos</li>\n",
    "    <li>2-. Adquirir los datos en un formato accesible</li>\n",
    "    <li>3-. Identifique y corrija los puntos de datos faltantes/anomalías según sea necesario</li>\n",
    "    <li>4-. Preparar los datos para el modelo de aprendizaje automático</li>\n",
    "    <li>5-. Entrenar el modelo en los datos de entrenamiento</li>\n",
    "    <li>6-. Predicciones sobre los datos de prueba</li>\n",
    "    <li>7-. Comparar las predicciones con los objetivos conocidos del conjunto de pruebas y calcule las métricas de rendimiento</li>\n",
    "    <li>8-. Reducción de caracteristicas, si el modelo no fue satisfactorio</li>\n",
    "    <li>9-. Interpretación el modelo y reporte los resultados visual y numéricamente</li>\n",
    "</ul>"
   ]
  },
  {
   "cell_type": "markdown",
   "id": "43ecf9d1",
   "metadata": {},
   "source": [
    "# 2-. Adquisición de datos\n",
    "Primero, necesitamos algunos datos. Para usar un ejemplo realista, recuperé datos de pacientes del Hospital Herminda Martin de Chillan. En general, aproximadamente el 80 % del tiempo dedicado al análisis de datos es limpiar y recuperar datos, pero esta carga de trabajo se puede reducir encontrando fuentes de datos de alta calidad."
   ]
  },
  {
   "cell_type": "code",
   "execution_count": 780,
   "id": "7c64619a",
   "metadata": {},
   "outputs": [
    {
     "data": {
      "text/html": [
       "<div>\n",
       "<style scoped>\n",
       "    .dataframe tbody tr th:only-of-type {\n",
       "        vertical-align: middle;\n",
       "    }\n",
       "\n",
       "    .dataframe tbody tr th {\n",
       "        vertical-align: top;\n",
       "    }\n",
       "\n",
       "    .dataframe thead th {\n",
       "        text-align: right;\n",
       "    }\n",
       "</style>\n",
       "<table border=\"1\" class=\"dataframe\">\n",
       "  <thead>\n",
       "    <tr style=\"text-align: right;\">\n",
       "      <th></th>\n",
       "      <th>CLAVE</th>\n",
       "      <th>COMUNA</th>\n",
       "      <th>TELEFONOS</th>\n",
       "      <th>FICHA CLINICA</th>\n",
       "      <th>CTA CTE</th>\n",
       "      <th>EDAD</th>\n",
       "      <th>PESO</th>\n",
       "      <th>TALLA</th>\n",
       "      <th>HTA</th>\n",
       "      <th>DIABETES</th>\n",
       "      <th>OTRAS PATOLOGIAS</th>\n",
       "      <th>FUMA</th>\n",
       "      <th>FC</th>\n",
       "      <th>PAS</th>\n",
       "      <th>PAD</th>\n",
       "      <th>GLUCOSA</th>\n",
       "      <th>Hb A/C  %</th>\n",
       "      <th>COL. TOTAL</th>\n",
       "      <th>TRIGLICERIDOS</th>\n",
       "      <th>LDL</th>\n",
       "      <th>HDL</th>\n",
       "      <th>HCTO</th>\n",
       "      <th>HB</th>\n",
       "      <th>VCM</th>\n",
       "      <th>HCM</th>\n",
       "      <th>VHS</th>\n",
       "      <th>PLAQUETAS</th>\n",
       "      <th>INR</th>\n",
       "      <th>CONTEO G.B.</th>\n",
       "      <th>P.C.R</th>\n",
       "      <th>Nitrogeno Ureico</th>\n",
       "      <th>Uremia</th>\n",
       "      <th>Creatinina</th>\n",
       "      <th>TTPA</th>\n",
       "      <th>TP</th>\n",
       "      <th>NA</th>\n",
       "      <th>K</th>\n",
       "      <th>...</th>\n",
       "      <th>NIHSS INICO ACV</th>\n",
       "      <th>RANKIN INICIO ACV</th>\n",
       "      <th>NIHSS alta ACV</th>\n",
       "      <th>RANKIN alta ACV</th>\n",
       "      <th>NIHSS 6M</th>\n",
       "      <th>RANKIN 6M</th>\n",
       "      <th>diag Elopez</th>\n",
       "      <th>DIAG. NEUROLOGICO</th>\n",
       "      <th>Diag2</th>\n",
       "      <th>Diag3</th>\n",
       "      <th>FECHA TOMA MUESTRA</th>\n",
       "      <th>Estado paciente</th>\n",
       "      <th>Fecha defuncion</th>\n",
       "      <th>CAUSA  DEFUNCION</th>\n",
       "      <th>MOTIVO DE DESCARTE</th>\n",
       "      <th>TROMBOLISIS</th>\n",
       "      <th>eduardo</th>\n",
       "      <th>sirve</th>\n",
       "      <th>escala</th>\n",
       "      <th>exosomes 1</th>\n",
       "      <th>exosomes 2</th>\n",
       "      <th>VEGF ab1</th>\n",
       "      <th>VEGF ab2</th>\n",
       "      <th>VEGF prome</th>\n",
       "      <th>plgf mg prot</th>\n",
       "      <th>plgf mg prot.1</th>\n",
       "      <th>plgf promedio</th>\n",
       "      <th>logVEGF</th>\n",
       "      <th>logPlGF</th>\n",
       "      <th>logPCR</th>\n",
       "      <th>PCR/VEGF ratio</th>\n",
       "      <th>PCR/PLGF ratio</th>\n",
       "      <th>IL-6 (pg/ml)</th>\n",
       "      <th>IL-6 corregida</th>\n",
       "      <th>log IL-6</th>\n",
       "      <th>IL-6/VEGF</th>\n",
       "      <th>IL-6/PlGF</th>\n",
       "    </tr>\n",
       "  </thead>\n",
       "  <tbody>\n",
       "    <tr>\n",
       "      <th>0</th>\n",
       "      <td>1</td>\n",
       "      <td>san carlos</td>\n",
       "      <td>NaN</td>\n",
       "      <td>2.012418e+09</td>\n",
       "      <td>11998898.0</td>\n",
       "      <td>53.0</td>\n",
       "      <td>NaN</td>\n",
       "      <td>NaN</td>\n",
       "      <td>NaN</td>\n",
       "      <td>NaN</td>\n",
       "      <td>NaN</td>\n",
       "      <td>NaN</td>\n",
       "      <td>NaN</td>\n",
       "      <td>162.0</td>\n",
       "      <td>64.0</td>\n",
       "      <td>137.09</td>\n",
       "      <td>5.9</td>\n",
       "      <td>268.0</td>\n",
       "      <td>130.0</td>\n",
       "      <td>202.0</td>\n",
       "      <td>40.0</td>\n",
       "      <td>42.0</td>\n",
       "      <td>14.4</td>\n",
       "      <td>90.8</td>\n",
       "      <td>30.8</td>\n",
       "      <td>31.0</td>\n",
       "      <td>267.0</td>\n",
       "      <td>1.08</td>\n",
       "      <td>41.9</td>\n",
       "      <td>1.48</td>\n",
       "      <td>21.13</td>\n",
       "      <td>45.22</td>\n",
       "      <td>0.93</td>\n",
       "      <td>21.8</td>\n",
       "      <td>11.0</td>\n",
       "      <td>137.83</td>\n",
       "      <td>4.33</td>\n",
       "      <td>...</td>\n",
       "      <td>14.0</td>\n",
       "      <td>5.0</td>\n",
       "      <td>42.0</td>\n",
       "      <td>6.0</td>\n",
       "      <td>fallecido</td>\n",
       "      <td>6</td>\n",
       "      <td>mayor</td>\n",
       "      <td>INFARTO CEREBRAL DEBIDO A TROMBOSIS DE ARTERAI...</td>\n",
       "      <td>NaN</td>\n",
       "      <td>NaN</td>\n",
       "      <td>2015-11-05 00:00:00</td>\n",
       "      <td>Fallecido</td>\n",
       "      <td>2015-05-11</td>\n",
       "      <td>PCR</td>\n",
       "      <td>NaN</td>\n",
       "      <td>NaN</td>\n",
       "      <td>infarto mayor acm malign, fallece por herniacion</td>\n",
       "      <td>si</td>\n",
       "      <td>taci</td>\n",
       "      <td>NaN</td>\n",
       "      <td>NaN</td>\n",
       "      <td>54.631620</td>\n",
       "      <td>62.640451</td>\n",
       "      <td>58.636035</td>\n",
       "      <td>10.096588</td>\n",
       "      <td>8.739520</td>\n",
       "      <td>9.418054</td>\n",
       "      <td>1.768165</td>\n",
       "      <td>0.973961</td>\n",
       "      <td>0.170262</td>\n",
       "      <td>0.096293</td>\n",
       "      <td>0.174814</td>\n",
       "      <td>18.586835</td>\n",
       "      <td>0.156953</td>\n",
       "      <td>-0.804231</td>\n",
       "      <td>-0.454840</td>\n",
       "      <td>-0.825732</td>\n",
       "    </tr>\n",
       "    <tr>\n",
       "      <th>1</th>\n",
       "      <td>2</td>\n",
       "      <td>coihueco</td>\n",
       "      <td>41723921-74822219</td>\n",
       "      <td>2.000150e+09</td>\n",
       "      <td>12002852.0</td>\n",
       "      <td>54.0</td>\n",
       "      <td>88.0</td>\n",
       "      <td>165.0</td>\n",
       "      <td>si</td>\n",
       "      <td>si</td>\n",
       "      <td>vertigo postural paroxistico</td>\n",
       "      <td>no</td>\n",
       "      <td>56.0</td>\n",
       "      <td>130.0</td>\n",
       "      <td>89.0</td>\n",
       "      <td>NaN</td>\n",
       "      <td>6.5</td>\n",
       "      <td>187.0</td>\n",
       "      <td>130.0</td>\n",
       "      <td>118.0</td>\n",
       "      <td>44.0</td>\n",
       "      <td>39.0</td>\n",
       "      <td>13.9</td>\n",
       "      <td>87.3</td>\n",
       "      <td>30.4</td>\n",
       "      <td>8.0</td>\n",
       "      <td>159.0</td>\n",
       "      <td>NaN</td>\n",
       "      <td>8.3</td>\n",
       "      <td>1.67</td>\n",
       "      <td>NaN</td>\n",
       "      <td>NaN</td>\n",
       "      <td>0.90</td>\n",
       "      <td>NaN</td>\n",
       "      <td>NaN</td>\n",
       "      <td>NaN</td>\n",
       "      <td>NaN</td>\n",
       "      <td>...</td>\n",
       "      <td>6.0</td>\n",
       "      <td>5.0</td>\n",
       "      <td>0.0</td>\n",
       "      <td>2.0</td>\n",
       "      <td>0</td>\n",
       "      <td>2</td>\n",
       "      <td>menor</td>\n",
       "      <td>ACV Isquemico transitorio TIA</td>\n",
       "      <td>hipertension arterial primaria</td>\n",
       "      <td>vertigo paroxistico benigno</td>\n",
       "      <td>2015-12-05 00:00:00</td>\n",
       "      <td>Vivo</td>\n",
       "      <td>NaT</td>\n",
       "      <td>NaN</td>\n",
       "      <td>NaN</td>\n",
       "      <td>NaN</td>\n",
       "      <td>NaN</td>\n",
       "      <td>NaN</td>\n",
       "      <td>NaN</td>\n",
       "      <td>NaN</td>\n",
       "      <td>NaN</td>\n",
       "      <td>118.186725</td>\n",
       "      <td>159.899660</td>\n",
       "      <td>139.043193</td>\n",
       "      <td>59.910126</td>\n",
       "      <td>52.490085</td>\n",
       "      <td>56.200106</td>\n",
       "      <td>2.143150</td>\n",
       "      <td>1.749737</td>\n",
       "      <td>0.222716</td>\n",
       "      <td>0.103920</td>\n",
       "      <td>0.127286</td>\n",
       "      <td>1.263441</td>\n",
       "      <td>0.012818</td>\n",
       "      <td>-1.892186</td>\n",
       "      <td>-0.882899</td>\n",
       "      <td>-1.081411</td>\n",
       "    </tr>\n",
       "    <tr>\n",
       "      <th>2</th>\n",
       "      <td>3</td>\n",
       "      <td>chillan</td>\n",
       "      <td>71818219-50323843</td>\n",
       "      <td>9.808599e+07</td>\n",
       "      <td>12003092.0</td>\n",
       "      <td>78.0</td>\n",
       "      <td>NaN</td>\n",
       "      <td>NaN</td>\n",
       "      <td>si</td>\n",
       "      <td>si</td>\n",
       "      <td>INSULINO REQUERIENTE</td>\n",
       "      <td>NaN</td>\n",
       "      <td>91.0</td>\n",
       "      <td>152.0</td>\n",
       "      <td>75.0</td>\n",
       "      <td>359.42</td>\n",
       "      <td>13.8</td>\n",
       "      <td>159.0</td>\n",
       "      <td>97.0</td>\n",
       "      <td>26.0</td>\n",
       "      <td>35.0</td>\n",
       "      <td>41.0</td>\n",
       "      <td>14.3</td>\n",
       "      <td>83.3</td>\n",
       "      <td>28.4</td>\n",
       "      <td>13.0</td>\n",
       "      <td>161.0</td>\n",
       "      <td>0.89</td>\n",
       "      <td>8.5</td>\n",
       "      <td>12.11</td>\n",
       "      <td>12.68</td>\n",
       "      <td>27.14</td>\n",
       "      <td>0.74</td>\n",
       "      <td>26.3</td>\n",
       "      <td>9.8</td>\n",
       "      <td>137.00</td>\n",
       "      <td>3.84</td>\n",
       "      <td>...</td>\n",
       "      <td>5.0</td>\n",
       "      <td>3.0</td>\n",
       "      <td>2.0</td>\n",
       "      <td>1.0</td>\n",
       "      <td>NaN</td>\n",
       "      <td>NaN</td>\n",
       "      <td>menor</td>\n",
       "      <td>Infarto lagunar capsular derecho</td>\n",
       "      <td>hipertension esencial primaria</td>\n",
       "      <td>diabetes mellitus no especificada</td>\n",
       "      <td>2015-12-05 00:00:00</td>\n",
       "      <td>Vivo</td>\n",
       "      <td>NaT</td>\n",
       "      <td>NaN</td>\n",
       "      <td>NaN</td>\n",
       "      <td>NaN</td>\n",
       "      <td>NaN</td>\n",
       "      <td>NaN</td>\n",
       "      <td>NaN</td>\n",
       "      <td>3.250000e+10</td>\n",
       "      <td>3.425000e+10</td>\n",
       "      <td>38.456172</td>\n",
       "      <td>34.306221</td>\n",
       "      <td>36.381196</td>\n",
       "      <td>15.081331</td>\n",
       "      <td>17.607652</td>\n",
       "      <td>16.344491</td>\n",
       "      <td>1.560877</td>\n",
       "      <td>1.213371</td>\n",
       "      <td>1.083144</td>\n",
       "      <td>0.693933</td>\n",
       "      <td>0.892673</td>\n",
       "      <td>49.091862</td>\n",
       "      <td>0.436365</td>\n",
       "      <td>-0.360150</td>\n",
       "      <td>-0.230736</td>\n",
       "      <td>-0.296817</td>\n",
       "    </tr>\n",
       "    <tr>\n",
       "      <th>3</th>\n",
       "      <td>4</td>\n",
       "      <td>coihueco</td>\n",
       "      <td>77107584-93406930</td>\n",
       "      <td>9.772094e+06</td>\n",
       "      <td>11995391.0</td>\n",
       "      <td>87.0</td>\n",
       "      <td>52.5</td>\n",
       "      <td>NaN</td>\n",
       "      <td>si</td>\n",
       "      <td>si</td>\n",
       "      <td>dislipidemia,secuela de infarto</td>\n",
       "      <td>NaN</td>\n",
       "      <td>59.0</td>\n",
       "      <td>136.0</td>\n",
       "      <td>86.0</td>\n",
       "      <td>186.20</td>\n",
       "      <td>5.9</td>\n",
       "      <td>193.0</td>\n",
       "      <td>133.0</td>\n",
       "      <td>115.0</td>\n",
       "      <td>51.0</td>\n",
       "      <td>34.5</td>\n",
       "      <td>11.7</td>\n",
       "      <td>87.9</td>\n",
       "      <td>29.8</td>\n",
       "      <td>27.0</td>\n",
       "      <td>242.0</td>\n",
       "      <td>0.90</td>\n",
       "      <td>7.0</td>\n",
       "      <td>1.15</td>\n",
       "      <td>24.10</td>\n",
       "      <td>51.60</td>\n",
       "      <td>0.92</td>\n",
       "      <td>27.2</td>\n",
       "      <td>10.1</td>\n",
       "      <td>137.10</td>\n",
       "      <td>4.03</td>\n",
       "      <td>...</td>\n",
       "      <td>1.0</td>\n",
       "      <td>4.0</td>\n",
       "      <td>0.0</td>\n",
       "      <td>2.0</td>\n",
       "      <td>0</td>\n",
       "      <td>2</td>\n",
       "      <td>menor</td>\n",
       "      <td>ACV lacunar derecho</td>\n",
       "      <td>TIA carotideo</td>\n",
       "      <td>IAM antiguo</td>\n",
       "      <td>2015-05-13 00:00:00</td>\n",
       "      <td>Vivo</td>\n",
       "      <td>NaT</td>\n",
       "      <td>NaN</td>\n",
       "      <td>NaN</td>\n",
       "      <td>NaN</td>\n",
       "      <td>NaN</td>\n",
       "      <td>NaN</td>\n",
       "      <td>NaN</td>\n",
       "      <td>NaN</td>\n",
       "      <td>NaN</td>\n",
       "      <td>188.906663</td>\n",
       "      <td>170.742565</td>\n",
       "      <td>179.824614</td>\n",
       "      <td>53.025957</td>\n",
       "      <td>38.450115</td>\n",
       "      <td>45.738036</td>\n",
       "      <td>2.254849</td>\n",
       "      <td>1.660278</td>\n",
       "      <td>0.060698</td>\n",
       "      <td>0.026919</td>\n",
       "      <td>0.036559</td>\n",
       "      <td>96.544126</td>\n",
       "      <td>0.934859</td>\n",
       "      <td>-0.029254</td>\n",
       "      <td>-0.012974</td>\n",
       "      <td>-0.017620</td>\n",
       "    </tr>\n",
       "    <tr>\n",
       "      <th>4</th>\n",
       "      <td>5</td>\n",
       "      <td>yungay</td>\n",
       "      <td>99240760-77884029</td>\n",
       "      <td>9.809511e+07</td>\n",
       "      <td>12014450.0</td>\n",
       "      <td>69.0</td>\n",
       "      <td>94.0</td>\n",
       "      <td>NaN</td>\n",
       "      <td>si</td>\n",
       "      <td>si</td>\n",
       "      <td>NaN</td>\n",
       "      <td>no</td>\n",
       "      <td>104.0</td>\n",
       "      <td>154.0</td>\n",
       "      <td>95.0</td>\n",
       "      <td>170.00</td>\n",
       "      <td>16.7</td>\n",
       "      <td>184.0</td>\n",
       "      <td>137.0</td>\n",
       "      <td>125.0</td>\n",
       "      <td>32.0</td>\n",
       "      <td>46.7</td>\n",
       "      <td>16.7</td>\n",
       "      <td>90.4</td>\n",
       "      <td>32.4</td>\n",
       "      <td>16.0</td>\n",
       "      <td>259.0</td>\n",
       "      <td>1.28</td>\n",
       "      <td>12.1</td>\n",
       "      <td>1.28</td>\n",
       "      <td>16.69</td>\n",
       "      <td>35.72</td>\n",
       "      <td>1.05</td>\n",
       "      <td>24.2</td>\n",
       "      <td>13.0</td>\n",
       "      <td>137.70</td>\n",
       "      <td>4.16</td>\n",
       "      <td>...</td>\n",
       "      <td>3.0</td>\n",
       "      <td>4.0</td>\n",
       "      <td>2.0</td>\n",
       "      <td>1.0</td>\n",
       "      <td>0</td>\n",
       "      <td>1</td>\n",
       "      <td>mayor</td>\n",
       "      <td>Infarto cerebral debido a embolia de arterias ...</td>\n",
       "      <td>hipertension primaria</td>\n",
       "      <td>diabetes mellitus no especificada</td>\n",
       "      <td>NaN</td>\n",
       "      <td>Vivo</td>\n",
       "      <td>NaT</td>\n",
       "      <td>NaN</td>\n",
       "      <td>NaN</td>\n",
       "      <td>NaN</td>\n",
       "      <td>infarto moderado fosa posterior troncocerebeloso</td>\n",
       "      <td>si</td>\n",
       "      <td>poci</td>\n",
       "      <td>2.480000e+08</td>\n",
       "      <td>2.675000e+10</td>\n",
       "      <td>108.910218</td>\n",
       "      <td>98.272459</td>\n",
       "      <td>103.591338</td>\n",
       "      <td>62.935936</td>\n",
       "      <td>47.237011</td>\n",
       "      <td>55.086473</td>\n",
       "      <td>2.015323</td>\n",
       "      <td>1.741045</td>\n",
       "      <td>0.107210</td>\n",
       "      <td>0.053197</td>\n",
       "      <td>0.061578</td>\n",
       "      <td>43.309864</td>\n",
       "      <td>0.379102</td>\n",
       "      <td>-0.421244</td>\n",
       "      <td>-0.209021</td>\n",
       "      <td>-0.241949</td>\n",
       "    </tr>\n",
       "  </tbody>\n",
       "</table>\n",
       "<p>5 rows × 85 columns</p>\n",
       "</div>"
      ],
      "text/plain": [
       "  CLAVE      COMUNA         TELEFONOS   ...  log IL-6  IL-6/VEGF  IL-6/PlGF\n",
       "0     1  san carlos                NaN  ... -0.804231  -0.454840  -0.825732\n",
       "1     2    coihueco  41723921-74822219  ... -1.892186  -0.882899  -1.081411\n",
       "2     3     chillan  71818219-50323843  ... -0.360150  -0.230736  -0.296817\n",
       "3     4    coihueco  77107584-93406930  ... -0.029254  -0.012974  -0.017620\n",
       "4     5      yungay  99240760-77884029  ... -0.421244  -0.209021  -0.241949\n",
       "\n",
       "[5 rows x 85 columns]"
      ]
     },
     "execution_count": 780,
     "metadata": {},
     "output_type": "execute_result"
    }
   ],
   "source": [
    "# Libreria para la manipulación de los datos\n",
    "import pandas as pd\n",
    "import numpy as np\n",
    "\n",
    "# Leer el dataframe\n",
    "dataframe = pd.read_excel('../bdd/bdd_final.xlsx')\n",
    "dataframe.head(5)"
   ]
  },
  {
   "cell_type": "code",
   "execution_count": 781,
   "id": "4a09bbdc",
   "metadata": {},
   "outputs": [
    {
     "name": "stdout",
     "output_type": "stream",
     "text": [
      "Existen 75 pacientes con 85 variables.\n"
     ]
    }
   ],
   "source": [
    "print('Existen {} pacientes con {} variables.'.format(*dataframe.shape))"
   ]
  },
  {
   "cell_type": "markdown",
   "id": "898bb27b",
   "metadata": {},
   "source": [
    "# 3-. Identificación y corrección de los puntos de datos faltantes/anomalías según sea necesario\n",
    "\n",
    "En este item, la base de datos será rellenada."
   ]
  },
  {
   "cell_type": "markdown",
   "id": "12d0ac38",
   "metadata": {},
   "source": [
    "## Eliminación las filas de los pacientes que se expulsaron de la BDD"
   ]
  },
  {
   "cell_type": "code",
   "execution_count": 782,
   "id": "0512c18d",
   "metadata": {},
   "outputs": [
    {
     "data": {
      "text/html": [
       "<div>\n",
       "<style scoped>\n",
       "    .dataframe tbody tr th:only-of-type {\n",
       "        vertical-align: middle;\n",
       "    }\n",
       "\n",
       "    .dataframe tbody tr th {\n",
       "        vertical-align: top;\n",
       "    }\n",
       "\n",
       "    .dataframe thead th {\n",
       "        text-align: right;\n",
       "    }\n",
       "</style>\n",
       "<table border=\"1\" class=\"dataframe\">\n",
       "  <thead>\n",
       "    <tr style=\"text-align: right;\">\n",
       "      <th></th>\n",
       "      <th>CLAVE</th>\n",
       "      <th>COMUNA</th>\n",
       "      <th>TELEFONOS</th>\n",
       "      <th>FICHA CLINICA</th>\n",
       "      <th>CTA CTE</th>\n",
       "      <th>EDAD</th>\n",
       "      <th>PESO</th>\n",
       "      <th>TALLA</th>\n",
       "      <th>HTA</th>\n",
       "      <th>DIABETES</th>\n",
       "      <th>OTRAS PATOLOGIAS</th>\n",
       "      <th>FUMA</th>\n",
       "      <th>FC</th>\n",
       "      <th>PAS</th>\n",
       "      <th>PAD</th>\n",
       "      <th>GLUCOSA</th>\n",
       "      <th>Hb A/C  %</th>\n",
       "      <th>COL. TOTAL</th>\n",
       "      <th>TRIGLICERIDOS</th>\n",
       "      <th>LDL</th>\n",
       "      <th>HDL</th>\n",
       "      <th>HCTO</th>\n",
       "      <th>HB</th>\n",
       "      <th>VCM</th>\n",
       "      <th>HCM</th>\n",
       "      <th>VHS</th>\n",
       "      <th>PLAQUETAS</th>\n",
       "      <th>INR</th>\n",
       "      <th>CONTEO G.B.</th>\n",
       "      <th>P.C.R</th>\n",
       "      <th>Nitrogeno Ureico</th>\n",
       "      <th>Uremia</th>\n",
       "      <th>Creatinina</th>\n",
       "      <th>TTPA</th>\n",
       "      <th>TP</th>\n",
       "      <th>NA</th>\n",
       "      <th>K</th>\n",
       "      <th>...</th>\n",
       "      <th>NIHSS INICO ACV</th>\n",
       "      <th>RANKIN INICIO ACV</th>\n",
       "      <th>NIHSS alta ACV</th>\n",
       "      <th>RANKIN alta ACV</th>\n",
       "      <th>NIHSS 6M</th>\n",
       "      <th>RANKIN 6M</th>\n",
       "      <th>diag Elopez</th>\n",
       "      <th>DIAG. NEUROLOGICO</th>\n",
       "      <th>Diag2</th>\n",
       "      <th>Diag3</th>\n",
       "      <th>FECHA TOMA MUESTRA</th>\n",
       "      <th>Estado paciente</th>\n",
       "      <th>Fecha defuncion</th>\n",
       "      <th>CAUSA  DEFUNCION</th>\n",
       "      <th>MOTIVO DE DESCARTE</th>\n",
       "      <th>TROMBOLISIS</th>\n",
       "      <th>eduardo</th>\n",
       "      <th>sirve</th>\n",
       "      <th>escala</th>\n",
       "      <th>exosomes 1</th>\n",
       "      <th>exosomes 2</th>\n",
       "      <th>VEGF ab1</th>\n",
       "      <th>VEGF ab2</th>\n",
       "      <th>VEGF prome</th>\n",
       "      <th>plgf mg prot</th>\n",
       "      <th>plgf mg prot.1</th>\n",
       "      <th>plgf promedio</th>\n",
       "      <th>logVEGF</th>\n",
       "      <th>logPlGF</th>\n",
       "      <th>logPCR</th>\n",
       "      <th>PCR/VEGF ratio</th>\n",
       "      <th>PCR/PLGF ratio</th>\n",
       "      <th>IL-6 (pg/ml)</th>\n",
       "      <th>IL-6 corregida</th>\n",
       "      <th>log IL-6</th>\n",
       "      <th>IL-6/VEGF</th>\n",
       "      <th>IL-6/PlGF</th>\n",
       "    </tr>\n",
       "  </thead>\n",
       "  <tbody>\n",
       "    <tr>\n",
       "      <th>0</th>\n",
       "      <td>1</td>\n",
       "      <td>san carlos</td>\n",
       "      <td>NaN</td>\n",
       "      <td>2.012418e+09</td>\n",
       "      <td>11998898.0</td>\n",
       "      <td>53.0</td>\n",
       "      <td>NaN</td>\n",
       "      <td>NaN</td>\n",
       "      <td>NaN</td>\n",
       "      <td>NaN</td>\n",
       "      <td>NaN</td>\n",
       "      <td>NaN</td>\n",
       "      <td>NaN</td>\n",
       "      <td>162.0</td>\n",
       "      <td>64.0</td>\n",
       "      <td>137.09</td>\n",
       "      <td>5.9</td>\n",
       "      <td>268.0</td>\n",
       "      <td>130.0</td>\n",
       "      <td>202.0</td>\n",
       "      <td>40.0</td>\n",
       "      <td>42.0</td>\n",
       "      <td>14.4</td>\n",
       "      <td>90.8</td>\n",
       "      <td>30.8</td>\n",
       "      <td>31.0</td>\n",
       "      <td>267.0</td>\n",
       "      <td>1.08</td>\n",
       "      <td>41.90</td>\n",
       "      <td>1.48</td>\n",
       "      <td>21.13</td>\n",
       "      <td>45.22</td>\n",
       "      <td>0.93</td>\n",
       "      <td>21.8</td>\n",
       "      <td>11.0</td>\n",
       "      <td>137.83</td>\n",
       "      <td>4.33</td>\n",
       "      <td>...</td>\n",
       "      <td>14.0</td>\n",
       "      <td>5.0</td>\n",
       "      <td>42.0</td>\n",
       "      <td>6.0</td>\n",
       "      <td>fallecido</td>\n",
       "      <td>6</td>\n",
       "      <td>mayor</td>\n",
       "      <td>INFARTO CEREBRAL DEBIDO A TROMBOSIS DE ARTERAI...</td>\n",
       "      <td>NaN</td>\n",
       "      <td>NaN</td>\n",
       "      <td>2015-11-05 00:00:00</td>\n",
       "      <td>Fallecido</td>\n",
       "      <td>2015-05-11</td>\n",
       "      <td>PCR</td>\n",
       "      <td>NaN</td>\n",
       "      <td>NaN</td>\n",
       "      <td>infarto mayor acm malign, fallece por herniacion</td>\n",
       "      <td>si</td>\n",
       "      <td>taci</td>\n",
       "      <td>NaN</td>\n",
       "      <td>NaN</td>\n",
       "      <td>54.631620</td>\n",
       "      <td>62.640451</td>\n",
       "      <td>58.636035</td>\n",
       "      <td>10.096588</td>\n",
       "      <td>8.739520</td>\n",
       "      <td>9.418054</td>\n",
       "      <td>1.768165</td>\n",
       "      <td>0.973961</td>\n",
       "      <td>0.170262</td>\n",
       "      <td>0.096293</td>\n",
       "      <td>0.174814</td>\n",
       "      <td>18.586835</td>\n",
       "      <td>0.156953</td>\n",
       "      <td>-0.804231</td>\n",
       "      <td>-0.454840</td>\n",
       "      <td>-0.825732</td>\n",
       "    </tr>\n",
       "    <tr>\n",
       "      <th>1</th>\n",
       "      <td>2</td>\n",
       "      <td>coihueco</td>\n",
       "      <td>41723921-74822219</td>\n",
       "      <td>2.000150e+09</td>\n",
       "      <td>12002852.0</td>\n",
       "      <td>54.0</td>\n",
       "      <td>88.0</td>\n",
       "      <td>165.0</td>\n",
       "      <td>si</td>\n",
       "      <td>si</td>\n",
       "      <td>vertigo postural paroxistico</td>\n",
       "      <td>no</td>\n",
       "      <td>56.0</td>\n",
       "      <td>130.0</td>\n",
       "      <td>89.0</td>\n",
       "      <td>NaN</td>\n",
       "      <td>6.5</td>\n",
       "      <td>187.0</td>\n",
       "      <td>130.0</td>\n",
       "      <td>118.0</td>\n",
       "      <td>44.0</td>\n",
       "      <td>39.0</td>\n",
       "      <td>13.9</td>\n",
       "      <td>87.3</td>\n",
       "      <td>30.4</td>\n",
       "      <td>8.0</td>\n",
       "      <td>159.0</td>\n",
       "      <td>NaN</td>\n",
       "      <td>8.30</td>\n",
       "      <td>1.67</td>\n",
       "      <td>NaN</td>\n",
       "      <td>NaN</td>\n",
       "      <td>0.90</td>\n",
       "      <td>NaN</td>\n",
       "      <td>NaN</td>\n",
       "      <td>NaN</td>\n",
       "      <td>NaN</td>\n",
       "      <td>...</td>\n",
       "      <td>6.0</td>\n",
       "      <td>5.0</td>\n",
       "      <td>0.0</td>\n",
       "      <td>2.0</td>\n",
       "      <td>0</td>\n",
       "      <td>2</td>\n",
       "      <td>menor</td>\n",
       "      <td>ACV Isquemico transitorio TIA</td>\n",
       "      <td>hipertension arterial primaria</td>\n",
       "      <td>vertigo paroxistico benigno</td>\n",
       "      <td>2015-12-05 00:00:00</td>\n",
       "      <td>Vivo</td>\n",
       "      <td>NaT</td>\n",
       "      <td>NaN</td>\n",
       "      <td>NaN</td>\n",
       "      <td>NaN</td>\n",
       "      <td>NaN</td>\n",
       "      <td>NaN</td>\n",
       "      <td>NaN</td>\n",
       "      <td>NaN</td>\n",
       "      <td>NaN</td>\n",
       "      <td>118.186725</td>\n",
       "      <td>159.899660</td>\n",
       "      <td>139.043193</td>\n",
       "      <td>59.910126</td>\n",
       "      <td>52.490085</td>\n",
       "      <td>56.200106</td>\n",
       "      <td>2.143150</td>\n",
       "      <td>1.749737</td>\n",
       "      <td>0.222716</td>\n",
       "      <td>0.103920</td>\n",
       "      <td>0.127286</td>\n",
       "      <td>1.263441</td>\n",
       "      <td>0.012818</td>\n",
       "      <td>-1.892186</td>\n",
       "      <td>-0.882899</td>\n",
       "      <td>-1.081411</td>\n",
       "    </tr>\n",
       "    <tr>\n",
       "      <th>2</th>\n",
       "      <td>3</td>\n",
       "      <td>chillan</td>\n",
       "      <td>71818219-50323843</td>\n",
       "      <td>9.808599e+07</td>\n",
       "      <td>12003092.0</td>\n",
       "      <td>78.0</td>\n",
       "      <td>NaN</td>\n",
       "      <td>NaN</td>\n",
       "      <td>si</td>\n",
       "      <td>si</td>\n",
       "      <td>INSULINO REQUERIENTE</td>\n",
       "      <td>NaN</td>\n",
       "      <td>91.0</td>\n",
       "      <td>152.0</td>\n",
       "      <td>75.0</td>\n",
       "      <td>359.42</td>\n",
       "      <td>13.8</td>\n",
       "      <td>159.0</td>\n",
       "      <td>97.0</td>\n",
       "      <td>26.0</td>\n",
       "      <td>35.0</td>\n",
       "      <td>41.0</td>\n",
       "      <td>14.3</td>\n",
       "      <td>83.3</td>\n",
       "      <td>28.4</td>\n",
       "      <td>13.0</td>\n",
       "      <td>161.0</td>\n",
       "      <td>0.89</td>\n",
       "      <td>8.50</td>\n",
       "      <td>12.11</td>\n",
       "      <td>12.68</td>\n",
       "      <td>27.14</td>\n",
       "      <td>0.74</td>\n",
       "      <td>26.3</td>\n",
       "      <td>9.8</td>\n",
       "      <td>137.00</td>\n",
       "      <td>3.84</td>\n",
       "      <td>...</td>\n",
       "      <td>5.0</td>\n",
       "      <td>3.0</td>\n",
       "      <td>2.0</td>\n",
       "      <td>1.0</td>\n",
       "      <td>NaN</td>\n",
       "      <td>NaN</td>\n",
       "      <td>menor</td>\n",
       "      <td>Infarto lagunar capsular derecho</td>\n",
       "      <td>hipertension esencial primaria</td>\n",
       "      <td>diabetes mellitus no especificada</td>\n",
       "      <td>2015-12-05 00:00:00</td>\n",
       "      <td>Vivo</td>\n",
       "      <td>NaT</td>\n",
       "      <td>NaN</td>\n",
       "      <td>NaN</td>\n",
       "      <td>NaN</td>\n",
       "      <td>NaN</td>\n",
       "      <td>NaN</td>\n",
       "      <td>NaN</td>\n",
       "      <td>3.250000e+10</td>\n",
       "      <td>3.425000e+10</td>\n",
       "      <td>38.456172</td>\n",
       "      <td>34.306221</td>\n",
       "      <td>36.381196</td>\n",
       "      <td>15.081331</td>\n",
       "      <td>17.607652</td>\n",
       "      <td>16.344491</td>\n",
       "      <td>1.560877</td>\n",
       "      <td>1.213371</td>\n",
       "      <td>1.083144</td>\n",
       "      <td>0.693933</td>\n",
       "      <td>0.892673</td>\n",
       "      <td>49.091862</td>\n",
       "      <td>0.436365</td>\n",
       "      <td>-0.360150</td>\n",
       "      <td>-0.230736</td>\n",
       "      <td>-0.296817</td>\n",
       "    </tr>\n",
       "    <tr>\n",
       "      <th>3</th>\n",
       "      <td>4</td>\n",
       "      <td>coihueco</td>\n",
       "      <td>77107584-93406930</td>\n",
       "      <td>9.772094e+06</td>\n",
       "      <td>11995391.0</td>\n",
       "      <td>87.0</td>\n",
       "      <td>52.5</td>\n",
       "      <td>NaN</td>\n",
       "      <td>si</td>\n",
       "      <td>si</td>\n",
       "      <td>dislipidemia,secuela de infarto</td>\n",
       "      <td>NaN</td>\n",
       "      <td>59.0</td>\n",
       "      <td>136.0</td>\n",
       "      <td>86.0</td>\n",
       "      <td>186.20</td>\n",
       "      <td>5.9</td>\n",
       "      <td>193.0</td>\n",
       "      <td>133.0</td>\n",
       "      <td>115.0</td>\n",
       "      <td>51.0</td>\n",
       "      <td>34.5</td>\n",
       "      <td>11.7</td>\n",
       "      <td>87.9</td>\n",
       "      <td>29.8</td>\n",
       "      <td>27.0</td>\n",
       "      <td>242.0</td>\n",
       "      <td>0.90</td>\n",
       "      <td>7.00</td>\n",
       "      <td>1.15</td>\n",
       "      <td>24.10</td>\n",
       "      <td>51.60</td>\n",
       "      <td>0.92</td>\n",
       "      <td>27.2</td>\n",
       "      <td>10.1</td>\n",
       "      <td>137.10</td>\n",
       "      <td>4.03</td>\n",
       "      <td>...</td>\n",
       "      <td>1.0</td>\n",
       "      <td>4.0</td>\n",
       "      <td>0.0</td>\n",
       "      <td>2.0</td>\n",
       "      <td>0</td>\n",
       "      <td>2</td>\n",
       "      <td>menor</td>\n",
       "      <td>ACV lacunar derecho</td>\n",
       "      <td>TIA carotideo</td>\n",
       "      <td>IAM antiguo</td>\n",
       "      <td>2015-05-13 00:00:00</td>\n",
       "      <td>Vivo</td>\n",
       "      <td>NaT</td>\n",
       "      <td>NaN</td>\n",
       "      <td>NaN</td>\n",
       "      <td>NaN</td>\n",
       "      <td>NaN</td>\n",
       "      <td>NaN</td>\n",
       "      <td>NaN</td>\n",
       "      <td>NaN</td>\n",
       "      <td>NaN</td>\n",
       "      <td>188.906663</td>\n",
       "      <td>170.742565</td>\n",
       "      <td>179.824614</td>\n",
       "      <td>53.025957</td>\n",
       "      <td>38.450115</td>\n",
       "      <td>45.738036</td>\n",
       "      <td>2.254849</td>\n",
       "      <td>1.660278</td>\n",
       "      <td>0.060698</td>\n",
       "      <td>0.026919</td>\n",
       "      <td>0.036559</td>\n",
       "      <td>96.544126</td>\n",
       "      <td>0.934859</td>\n",
       "      <td>-0.029254</td>\n",
       "      <td>-0.012974</td>\n",
       "      <td>-0.017620</td>\n",
       "    </tr>\n",
       "    <tr>\n",
       "      <th>4</th>\n",
       "      <td>5</td>\n",
       "      <td>yungay</td>\n",
       "      <td>99240760-77884029</td>\n",
       "      <td>9.809511e+07</td>\n",
       "      <td>12014450.0</td>\n",
       "      <td>69.0</td>\n",
       "      <td>94.0</td>\n",
       "      <td>NaN</td>\n",
       "      <td>si</td>\n",
       "      <td>si</td>\n",
       "      <td>NaN</td>\n",
       "      <td>no</td>\n",
       "      <td>104.0</td>\n",
       "      <td>154.0</td>\n",
       "      <td>95.0</td>\n",
       "      <td>170.00</td>\n",
       "      <td>16.7</td>\n",
       "      <td>184.0</td>\n",
       "      <td>137.0</td>\n",
       "      <td>125.0</td>\n",
       "      <td>32.0</td>\n",
       "      <td>46.7</td>\n",
       "      <td>16.7</td>\n",
       "      <td>90.4</td>\n",
       "      <td>32.4</td>\n",
       "      <td>16.0</td>\n",
       "      <td>259.0</td>\n",
       "      <td>1.28</td>\n",
       "      <td>12.10</td>\n",
       "      <td>1.28</td>\n",
       "      <td>16.69</td>\n",
       "      <td>35.72</td>\n",
       "      <td>1.05</td>\n",
       "      <td>24.2</td>\n",
       "      <td>13.0</td>\n",
       "      <td>137.70</td>\n",
       "      <td>4.16</td>\n",
       "      <td>...</td>\n",
       "      <td>3.0</td>\n",
       "      <td>4.0</td>\n",
       "      <td>2.0</td>\n",
       "      <td>1.0</td>\n",
       "      <td>0</td>\n",
       "      <td>1</td>\n",
       "      <td>mayor</td>\n",
       "      <td>Infarto cerebral debido a embolia de arterias ...</td>\n",
       "      <td>hipertension primaria</td>\n",
       "      <td>diabetes mellitus no especificada</td>\n",
       "      <td>NaN</td>\n",
       "      <td>Vivo</td>\n",
       "      <td>NaT</td>\n",
       "      <td>NaN</td>\n",
       "      <td>NaN</td>\n",
       "      <td>NaN</td>\n",
       "      <td>infarto moderado fosa posterior troncocerebeloso</td>\n",
       "      <td>si</td>\n",
       "      <td>poci</td>\n",
       "      <td>2.480000e+08</td>\n",
       "      <td>2.675000e+10</td>\n",
       "      <td>108.910218</td>\n",
       "      <td>98.272459</td>\n",
       "      <td>103.591338</td>\n",
       "      <td>62.935936</td>\n",
       "      <td>47.237011</td>\n",
       "      <td>55.086473</td>\n",
       "      <td>2.015323</td>\n",
       "      <td>1.741045</td>\n",
       "      <td>0.107210</td>\n",
       "      <td>0.053197</td>\n",
       "      <td>0.061578</td>\n",
       "      <td>43.309864</td>\n",
       "      <td>0.379102</td>\n",
       "      <td>-0.421244</td>\n",
       "      <td>-0.209021</td>\n",
       "      <td>-0.241949</td>\n",
       "    </tr>\n",
       "    <tr>\n",
       "      <th>5</th>\n",
       "      <td>6</td>\n",
       "      <td>chillan</td>\n",
       "      <td>2225404-81923149</td>\n",
       "      <td>2.000139e+09</td>\n",
       "      <td>12015366.0</td>\n",
       "      <td>90.0</td>\n",
       "      <td>69.0</td>\n",
       "      <td>NaN</td>\n",
       "      <td>si</td>\n",
       "      <td>si</td>\n",
       "      <td>insufisiencia renal,dislipidemia</td>\n",
       "      <td>no</td>\n",
       "      <td>55.0</td>\n",
       "      <td>216.0</td>\n",
       "      <td>84.0</td>\n",
       "      <td>160.95</td>\n",
       "      <td>12.3</td>\n",
       "      <td>166.0</td>\n",
       "      <td>128.0</td>\n",
       "      <td>102.0</td>\n",
       "      <td>37.0</td>\n",
       "      <td>37.0</td>\n",
       "      <td>12.0</td>\n",
       "      <td>96.3</td>\n",
       "      <td>31.9</td>\n",
       "      <td>45.0</td>\n",
       "      <td>169.0</td>\n",
       "      <td>1.00</td>\n",
       "      <td>9.40</td>\n",
       "      <td>20.99</td>\n",
       "      <td>39.33</td>\n",
       "      <td>84.17</td>\n",
       "      <td>1.73</td>\n",
       "      <td>25.7</td>\n",
       "      <td>10.2</td>\n",
       "      <td>137.92</td>\n",
       "      <td>4.78</td>\n",
       "      <td>...</td>\n",
       "      <td>5.0</td>\n",
       "      <td>NaN</td>\n",
       "      <td>1.0</td>\n",
       "      <td>5.0</td>\n",
       "      <td>1</td>\n",
       "      <td>2</td>\n",
       "      <td>mayor</td>\n",
       "      <td>Infarto cerebral debido a embolia de arterias ...</td>\n",
       "      <td>hipertension primaria</td>\n",
       "      <td>diabetes mellitus no especificada</td>\n",
       "      <td>20/05/15</td>\n",
       "      <td>Vivo</td>\n",
       "      <td>NaT</td>\n",
       "      <td>NaN</td>\n",
       "      <td>NaN</td>\n",
       "      <td>NaN</td>\n",
       "      <td>NaN</td>\n",
       "      <td>NaN</td>\n",
       "      <td>NaN</td>\n",
       "      <td>1.775000e+10</td>\n",
       "      <td>1.787500e+10</td>\n",
       "      <td>66.926935</td>\n",
       "      <td>62.691037</td>\n",
       "      <td>64.808986</td>\n",
       "      <td>56.143768</td>\n",
       "      <td>44.539936</td>\n",
       "      <td>50.341852</td>\n",
       "      <td>1.811635</td>\n",
       "      <td>1.701929</td>\n",
       "      <td>1.322012</td>\n",
       "      <td>0.729734</td>\n",
       "      <td>0.776773</td>\n",
       "      <td>4.897850</td>\n",
       "      <td>0.048574</td>\n",
       "      <td>-1.313598</td>\n",
       "      <td>-0.725090</td>\n",
       "      <td>-0.771829</td>\n",
       "    </tr>\n",
       "    <tr>\n",
       "      <th>7</th>\n",
       "      <td>8</td>\n",
       "      <td>chillan</td>\n",
       "      <td>56010835-91599074</td>\n",
       "      <td>2.000149e+09</td>\n",
       "      <td>12032742.0</td>\n",
       "      <td>90.0</td>\n",
       "      <td>NaN</td>\n",
       "      <td>NaN</td>\n",
       "      <td>si</td>\n",
       "      <td>no</td>\n",
       "      <td>hipertension, artritis</td>\n",
       "      <td>no</td>\n",
       "      <td>NaN</td>\n",
       "      <td>180.0</td>\n",
       "      <td>80.0</td>\n",
       "      <td>123.00</td>\n",
       "      <td>5.6</td>\n",
       "      <td>121.0</td>\n",
       "      <td>137.0</td>\n",
       "      <td>59.0</td>\n",
       "      <td>34.0</td>\n",
       "      <td>40.0</td>\n",
       "      <td>13.7</td>\n",
       "      <td>92.9</td>\n",
       "      <td>31.8</td>\n",
       "      <td>24.0</td>\n",
       "      <td>221.0</td>\n",
       "      <td>1.06</td>\n",
       "      <td>3.76</td>\n",
       "      <td>61.28</td>\n",
       "      <td>15.00</td>\n",
       "      <td>32.27</td>\n",
       "      <td>0.80</td>\n",
       "      <td>30.0</td>\n",
       "      <td>10.8</td>\n",
       "      <td>139.00</td>\n",
       "      <td>4.59</td>\n",
       "      <td>...</td>\n",
       "      <td>3.0</td>\n",
       "      <td>5.0</td>\n",
       "      <td>8.0</td>\n",
       "      <td>4.0</td>\n",
       "      <td>6</td>\n",
       "      <td>4</td>\n",
       "      <td>mayor</td>\n",
       "      <td>Infarto cerebral</td>\n",
       "      <td>hipertension primaria</td>\n",
       "      <td>NaN</td>\n",
       "      <td>24/05/15</td>\n",
       "      <td>Vivo</td>\n",
       "      <td>NaT</td>\n",
       "      <td>NaN</td>\n",
       "      <td>NaN</td>\n",
       "      <td>NaN</td>\n",
       "      <td>infarto pontino. Recuperacion completa</td>\n",
       "      <td>si?</td>\n",
       "      <td>poci</td>\n",
       "      <td>NaN</td>\n",
       "      <td>NaN</td>\n",
       "      <td>285.329480</td>\n",
       "      <td>235.420310</td>\n",
       "      <td>260.374895</td>\n",
       "      <td>107.094716</td>\n",
       "      <td>134.194132</td>\n",
       "      <td>120.644424</td>\n",
       "      <td>2.415599</td>\n",
       "      <td>2.081507</td>\n",
       "      <td>1.787319</td>\n",
       "      <td>0.739907</td>\n",
       "      <td>0.858666</td>\n",
       "      <td>13.519904</td>\n",
       "      <td>0.122450</td>\n",
       "      <td>-0.912042</td>\n",
       "      <td>-0.377564</td>\n",
       "      <td>-0.438164</td>\n",
       "    </tr>\n",
       "  </tbody>\n",
       "</table>\n",
       "<p>7 rows × 85 columns</p>\n",
       "</div>"
      ],
      "text/plain": [
       "  CLAVE      COMUNA         TELEFONOS   ...  log IL-6  IL-6/VEGF  IL-6/PlGF\n",
       "0     1  san carlos                NaN  ... -0.804231  -0.454840  -0.825732\n",
       "1     2    coihueco  41723921-74822219  ... -1.892186  -0.882899  -1.081411\n",
       "2     3     chillan  71818219-50323843  ... -0.360150  -0.230736  -0.296817\n",
       "3     4    coihueco  77107584-93406930  ... -0.029254  -0.012974  -0.017620\n",
       "4     5      yungay  99240760-77884029  ... -0.421244  -0.209021  -0.241949\n",
       "5     6     chillan   2225404-81923149  ... -1.313598  -0.725090  -0.771829\n",
       "7     8     chillan  56010835-91599074  ... -0.912042  -0.377564  -0.438164\n",
       "\n",
       "[7 rows x 85 columns]"
      ]
     },
     "execution_count": 782,
     "metadata": {},
     "output_type": "execute_result"
    }
   ],
   "source": [
    "dataframe.drop(dataframe[(dataframe['diag Elopez'] == 'out')].index, inplace=True)\n",
    "dataframe.head(7)"
   ]
  },
  {
   "cell_type": "code",
   "execution_count": 783,
   "id": "98e2efa3",
   "metadata": {
    "scrolled": true
   },
   "outputs": [
    {
     "name": "stdout",
     "output_type": "stream",
     "text": [
      "Existen 46 pacientes con 85 variables.\n"
     ]
    }
   ],
   "source": [
    "print('Existen {} pacientes con {} variables.'.format(*dataframe.shape))"
   ]
  },
  {
   "cell_type": "markdown",
   "id": "69aeed1b",
   "metadata": {},
   "source": [
    "## Variables signaificativas para la investigación"
   ]
  },
  {
   "cell_type": "markdown",
   "id": "c01f5995",
   "metadata": {},
   "source": [
    "### SOBRE EL DATASET\n",
    "\n",
    ">**HTA**: ```\"si\" o \"no\"```\n",
    "\n",
    ">**DIABETES**: ```\"si\" o \"no\"```\n",
    "\n",
    ">**EDAD**: ```Edad del paciente```\n",
    "\n",
    ">**GLUCOSA**: ```Nivel de azucar en la sangre```\n",
    "\n",
    ">**COL. TOTAL**: ```Cantidad de Colesterol en la sangre```\n",
    "\n",
    ">**TRIGLICERIDOS**: ```Cantidad de trigliceridos en la sangre```\n",
    "\n",
    ">**INR**: ```Índice internacional normalizado (INR, por sus siglas en inglés) es un tipo de cálculo que se basa en los resultados de las pruebas de tiempo de protrombina```\n",
    "\n",
    ">**CONTEO G.B.**: ```Conteo de globulos blancos en la sangre```\n",
    "\n",
    ">**GLASGOW AL INICO ACV**: ```Escala de 15 puntos medica que es para medir el estado de conciencia. Esta pertence a la Inicial```\n",
    "\n",
    ">**NIHSS INICO ACV**: ```Escala de 42 puntos más empleada para la valoración de funciones neurológicas básicas en la fase aguda del ictus isquémico, tanto al inicio como durante su evolución. Esta pertence a la Inicial```\n",
    "\n",
    ">**NIHSS alta ACV**: ```Pertenece cuando es dado de alta el paciente```"
   ]
  },
  {
   "cell_type": "code",
   "execution_count": 784,
   "id": "0c62bb9a",
   "metadata": {},
   "outputs": [],
   "source": [
    "# Tomaremos las variables más significativas para la investigación\n",
    "columnasMuestra = ['HTA', 'DIABETES', 'EDAD', 'GLUCOSA', 'COL. TOTAL', 'TRIGLICERIDOS', 'INR', 'CONTEO G.B.', 'GLASGOW AL INICO ACV', 'NIHSS INICO ACV', 'NIHSS alta ACV']\n",
    "dataset = dataframe[[*columnasMuestra]]"
   ]
  },
  {
   "cell_type": "markdown",
   "id": "9a8df164",
   "metadata": {},
   "source": [
    "### Descripción general de los datos\n"
   ]
  },
  {
   "cell_type": "code",
   "execution_count": 785,
   "id": "2c48a9a9",
   "metadata": {},
   "outputs": [
    {
     "name": "stdout",
     "output_type": "stream",
     "text": [
      "--------------------    Información     --------------------\n",
      "<class 'pandas.core.frame.DataFrame'>\n",
      "Int64Index: 46 entries, 0 to 74\n",
      "Data columns (total 11 columns):\n",
      " #   Column                Non-Null Count  Dtype  \n",
      "---  ------                --------------  -----  \n",
      " 0   HTA                   42 non-null     object \n",
      " 1   DIABETES              34 non-null     object \n",
      " 2   EDAD                  44 non-null     float64\n",
      " 3   GLUCOSA               38 non-null     float64\n",
      " 4   COL. TOTAL            40 non-null     float64\n",
      " 5   TRIGLICERIDOS         40 non-null     float64\n",
      " 6   INR                   37 non-null     float64\n",
      " 7   CONTEO G.B.           46 non-null     float64\n",
      " 8   GLASGOW AL INICO ACV  29 non-null     float64\n",
      " 9   NIHSS INICO ACV       39 non-null     float64\n",
      " 10  NIHSS alta ACV        32 non-null     float64\n",
      "dtypes: float64(9), object(2)\n",
      "memory usage: 4.3+ KB\n",
      "None\n",
      "--------------------   Forma de datos   --------------------\n",
      "(46, 11)\n",
      "\n",
      "--------------------Los primeros 5 datos--------------------\n",
      "   HTA DIABETES  ...  NIHSS INICO ACV  NIHSS alta ACV\n",
      "0  NaN      NaN  ...             14.0            42.0\n",
      "1   si       si  ...              6.0             0.0\n",
      "2   si       si  ...              5.0             2.0\n",
      "3   si       si  ...              1.0             0.0\n",
      "4   si       si  ...              3.0             2.0\n",
      "\n",
      "[5 rows x 11 columns]\n",
      "\n",
      "--------------------Los últimos 5 datos --------------------\n",
      "   HTA DIABETES  ...  NIHSS INICO ACV  NIHSS alta ACV\n",
      "68  si       no  ...              NaN             NaN\n",
      "69  no       no  ...              2.0             0.0\n",
      "72  si       si  ...              2.0             2.0\n",
      "73  si       si  ...              1.0             1.0\n",
      "74  si       si  ...              NaN             NaN\n",
      "\n",
      "[5 rows x 11 columns]\n",
      "\n",
      "--------------------    Missing Data    --------------------\n",
      "HTA                      4\n",
      "DIABETES                12\n",
      "EDAD                     2\n",
      "GLUCOSA                  8\n",
      "COL. TOTAL               6\n",
      "TRIGLICERIDOS            6\n",
      "INR                      9\n",
      "CONTEO G.B.              0\n",
      "GLASGOW AL INICO ACV    17\n",
      "NIHSS INICO ACV          7\n",
      "NIHSS alta ACV          14\n",
      "dtype: int64\n",
      "\n",
      "----------------------------------------          Describir los datos           ----------------------------------------\n",
      "                      count        mean  ...       75%     max\n",
      "EDAD                   44.0   71.522727  ...   80.5000   90.00\n",
      "GLUCOSA                38.0  135.529211  ...  162.5925  359.42\n",
      "COL. TOTAL             40.0  162.750000  ...  188.5000  342.00\n",
      "TRIGLICERIDOS          40.0  123.450000  ...  142.0000  232.00\n",
      "INR                    37.0    1.197568  ...    1.2000    3.08\n",
      "CONTEO G.B.            46.0   10.119783  ...   10.3750   41.90\n",
      "GLASGOW AL INICO ACV   29.0   13.482759  ...   15.0000   15.00\n",
      "NIHSS INICO ACV        39.0    5.564103  ...    6.5000   21.00\n",
      "NIHSS alta ACV         32.0    5.687500  ...    4.0000   42.00\n",
      "\n",
      "[9 rows x 8 columns]\n"
     ]
    }
   ],
   "source": [
    "# Check Dataset:\n",
    "\n",
    "def check_data(dataframe,head=5):\n",
    "    print(20*\"-\" + \"Información\".center(20) + 20*\"-\")\n",
    "    print(dataframe.info())\n",
    "    print(20*\"-\" + \"Forma de datos\".center(20) + 20*\"-\")\n",
    "    print(dataframe.shape)\n",
    "    print(\"\\n\" + 20*\"-\" + \"Los primeros 5 datos\".center(20) + 20*\"-\")\n",
    "    print(dataframe.head())\n",
    "    print(\"\\n\" + 20 * \"-\" + \"Los últimos 5 datos\".center(20) + 20 * \"-\")\n",
    "    print(dataframe.tail())\n",
    "    print(\"\\n\" + 20 * \"-\" + \"Missing Data\".center(20) + 20 * \"-\")\n",
    "    print(dataframe.isnull().sum())\n",
    "    print(\"\\n\" + 40 * \"-\" + \"Describir los datos\".center(40) + 40 * \"-\")\n",
    "    print(dataframe.describe().T)\n",
    "check_data(dataset)"
   ]
  },
  {
   "cell_type": "markdown",
   "id": "5e0e759b",
   "metadata": {},
   "source": [
    "### Missing data"
   ]
  },
  {
   "cell_type": "code",
   "execution_count": 786,
   "id": "d6b8128a",
   "metadata": {},
   "outputs": [
    {
     "data": {
      "text/html": [
       "<div>\n",
       "<style scoped>\n",
       "    .dataframe tbody tr th:only-of-type {\n",
       "        vertical-align: middle;\n",
       "    }\n",
       "\n",
       "    .dataframe tbody tr th {\n",
       "        vertical-align: top;\n",
       "    }\n",
       "\n",
       "    .dataframe thead th {\n",
       "        text-align: right;\n",
       "    }\n",
       "</style>\n",
       "<table border=\"1\" class=\"dataframe\">\n",
       "  <thead>\n",
       "    <tr style=\"text-align: right;\">\n",
       "      <th></th>\n",
       "      <th>HTA</th>\n",
       "      <th>DIABETES</th>\n",
       "      <th>EDAD</th>\n",
       "      <th>GLUCOSA</th>\n",
       "      <th>COL. TOTAL</th>\n",
       "      <th>TRIGLICERIDOS</th>\n",
       "      <th>INR</th>\n",
       "      <th>CONTEO G.B.</th>\n",
       "      <th>GLASGOW AL INICO ACV</th>\n",
       "      <th>NIHSS INICO ACV</th>\n",
       "      <th>NIHSS alta ACV</th>\n",
       "    </tr>\n",
       "  </thead>\n",
       "  <tbody>\n",
       "    <tr>\n",
       "      <th>0</th>\n",
       "      <td>DESCONOCIDO</td>\n",
       "      <td>DESCONOCIDO</td>\n",
       "      <td>53.0</td>\n",
       "      <td>137.090</td>\n",
       "      <td>268.0</td>\n",
       "      <td>130.0</td>\n",
       "      <td>1.08</td>\n",
       "      <td>41.9</td>\n",
       "      <td>11.0</td>\n",
       "      <td>14.0</td>\n",
       "      <td>42.0</td>\n",
       "    </tr>\n",
       "    <tr>\n",
       "      <th>1</th>\n",
       "      <td>si</td>\n",
       "      <td>si</td>\n",
       "      <td>54.0</td>\n",
       "      <td>119.995</td>\n",
       "      <td>187.0</td>\n",
       "      <td>130.0</td>\n",
       "      <td>1.09</td>\n",
       "      <td>8.3</td>\n",
       "      <td>15.0</td>\n",
       "      <td>6.0</td>\n",
       "      <td>0.0</td>\n",
       "    </tr>\n",
       "    <tr>\n",
       "      <th>2</th>\n",
       "      <td>si</td>\n",
       "      <td>si</td>\n",
       "      <td>78.0</td>\n",
       "      <td>359.420</td>\n",
       "      <td>159.0</td>\n",
       "      <td>97.0</td>\n",
       "      <td>0.89</td>\n",
       "      <td>8.5</td>\n",
       "      <td>15.0</td>\n",
       "      <td>5.0</td>\n",
       "      <td>2.0</td>\n",
       "    </tr>\n",
       "    <tr>\n",
       "      <th>3</th>\n",
       "      <td>si</td>\n",
       "      <td>si</td>\n",
       "      <td>87.0</td>\n",
       "      <td>186.200</td>\n",
       "      <td>193.0</td>\n",
       "      <td>133.0</td>\n",
       "      <td>0.90</td>\n",
       "      <td>7.0</td>\n",
       "      <td>15.0</td>\n",
       "      <td>1.0</td>\n",
       "      <td>0.0</td>\n",
       "    </tr>\n",
       "    <tr>\n",
       "      <th>4</th>\n",
       "      <td>si</td>\n",
       "      <td>si</td>\n",
       "      <td>69.0</td>\n",
       "      <td>170.000</td>\n",
       "      <td>184.0</td>\n",
       "      <td>137.0</td>\n",
       "      <td>1.28</td>\n",
       "      <td>12.1</td>\n",
       "      <td>15.0</td>\n",
       "      <td>3.0</td>\n",
       "      <td>2.0</td>\n",
       "    </tr>\n",
       "  </tbody>\n",
       "</table>\n",
       "</div>"
      ],
      "text/plain": [
       "           HTA     DIABETES  ...  NIHSS INICO ACV  NIHSS alta ACV\n",
       "0  DESCONOCIDO  DESCONOCIDO  ...             14.0            42.0\n",
       "1           si           si  ...              6.0             0.0\n",
       "2           si           si  ...              5.0             2.0\n",
       "3           si           si  ...              1.0             0.0\n",
       "4           si           si  ...              3.0             2.0\n",
       "\n",
       "[5 rows x 11 columns]"
      ]
     },
     "execution_count": 786,
     "metadata": {},
     "output_type": "execute_result"
    }
   ],
   "source": [
    "valores_por_defecto = {\n",
    "                         'HTA': \"DESCONOCIDO\",\n",
    "                       'DIABETES' : \"DESCONOCIDO\",\n",
    "                       'EDAD':dataset[\"EDAD\"].median().round(),\n",
    "                       'GLUCOSA':dataset[\"GLUCOSA\"].median(),\n",
    "                       'COL. TOTAL':dataset[\"COL. TOTAL\"].median(), \n",
    "                       'TRIGLICERIDOS':dataset[\"TRIGLICERIDOS\"].median(),\n",
    "                       'INR':dataset[\"INR\"].median(),\n",
    "                       'CONTEO G.B.':dataset[\"CONTEO G.B.\"].median(),\n",
    "                       'GLASGOW AL INICO ACV':dataset[\"GLASGOW AL INICO ACV\"].median().round(),\n",
    "                       'NIHSS INICO ACV':dataset[\"NIHSS INICO ACV\"].median().round(), \n",
    "                       'NIHSS alta ACV':dataset[\"NIHSS alta ACV\"].median().round(), \n",
    "                      }\n",
    "# Missing Data\n",
    "dataset = dataset.fillna(value=valores_por_defecto)\n",
    "dataset.head(5)"
   ]
  },
  {
   "cell_type": "code",
   "execution_count": 787,
   "id": "03807919",
   "metadata": {},
   "outputs": [
    {
     "name": "stdout",
     "output_type": "stream",
     "text": [
      "Existen 46 pacientes con 11 variables.\n"
     ]
    }
   ],
   "source": [
    "print('Existen {} pacientes con {} variables.'.format(*dataset.shape))"
   ]
  },
  {
   "cell_type": "code",
   "execution_count": 788,
   "id": "691cac63",
   "metadata": {},
   "outputs": [
    {
     "name": "stdout",
     "output_type": "stream",
     "text": [
      "--------------------    Information     --------------------\n",
      "<class 'pandas.core.frame.DataFrame'>\n",
      "Int64Index: 46 entries, 0 to 74\n",
      "Data columns (total 11 columns):\n",
      " #   Column                Non-Null Count  Dtype  \n",
      "---  ------                --------------  -----  \n",
      " 0   HTA                   46 non-null     object \n",
      " 1   DIABETES              46 non-null     object \n",
      " 2   EDAD                  46 non-null     float64\n",
      " 3   GLUCOSA               46 non-null     float64\n",
      " 4   COL. TOTAL            46 non-null     float64\n",
      " 5   TRIGLICERIDOS         46 non-null     float64\n",
      " 6   INR                   46 non-null     float64\n",
      " 7   CONTEO G.B.           46 non-null     float64\n",
      " 8   GLASGOW AL INICO ACV  46 non-null     float64\n",
      " 9   NIHSS INICO ACV       46 non-null     float64\n",
      " 10  NIHSS alta ACV        46 non-null     float64\n",
      "dtypes: float64(9), object(2)\n",
      "memory usage: 4.3+ KB\n",
      "None\n",
      "--------------------     Data Shape     --------------------\n",
      "(46, 11)\n",
      "\n",
      "--------------------  The First 5 Data  --------------------\n",
      "           HTA     DIABETES  ...  NIHSS INICO ACV  NIHSS alta ACV\n",
      "0  DESCONOCIDO  DESCONOCIDO  ...             14.0            42.0\n",
      "1           si           si  ...              6.0             0.0\n",
      "2           si           si  ...              5.0             2.0\n",
      "3           si           si  ...              1.0             0.0\n",
      "4           si           si  ...              3.0             2.0\n",
      "\n",
      "[5 rows x 11 columns]\n",
      "\n",
      "--------------------  The Last 5 Data   --------------------\n",
      "   HTA DIABETES  ...  NIHSS INICO ACV  NIHSS alta ACV\n",
      "68  si       no  ...              4.0             1.0\n",
      "69  no       no  ...              2.0             0.0\n",
      "72  si       si  ...              2.0             2.0\n",
      "73  si       si  ...              1.0             1.0\n",
      "74  si       si  ...              4.0             1.0\n",
      "\n",
      "[5 rows x 11 columns]\n",
      "\n",
      "--------------------   Missing Values   --------------------\n",
      "HTA                     0\n",
      "DIABETES                0\n",
      "EDAD                    0\n",
      "GLUCOSA                 0\n",
      "COL. TOTAL              0\n",
      "TRIGLICERIDOS           0\n",
      "INR                     0\n",
      "CONTEO G.B.             0\n",
      "GLASGOW AL INICO ACV    0\n",
      "NIHSS INICO ACV         0\n",
      "NIHSS alta ACV          0\n",
      "dtype: int64\n",
      "\n",
      "----------------------------------------           Describe the Data            ----------------------------------------\n",
      "                      count        mean  ...      75%     max\n",
      "EDAD                   46.0   71.543478  ...   80.000   90.00\n",
      "GLUCOSA                46.0  132.827609  ...  154.985  359.42\n",
      "COL. TOTAL             46.0  162.782609  ...  182.500  342.00\n",
      "TRIGLICERIDOS          46.0  122.869565  ...  137.000  232.00\n",
      "INR                    46.0    1.176522  ...    1.155    3.08\n",
      "CONTEO G.B.            46.0   10.119783  ...   10.375   41.90\n",
      "GLASGOW AL INICO ACV   46.0   14.043478  ...   15.000   15.00\n",
      "NIHSS INICO ACV        46.0    5.326087  ...    6.000   21.00\n",
      "NIHSS alta ACV         46.0    4.260870  ...    2.000   42.00\n",
      "\n",
      "[9 rows x 8 columns]\n"
     ]
    }
   ],
   "source": [
    "# Check Dataset:\n",
    "\n",
    "def check_data(dataframe,head=5):\n",
    "    print(20*\"-\" + \"Information\".center(20) + 20*\"-\")\n",
    "    print(dataframe.info())\n",
    "    print(20*\"-\" + \"Data Shape\".center(20) + 20*\"-\")\n",
    "    print(dataframe.shape)\n",
    "    print(\"\\n\" + 20*\"-\" + \"The First 5 Data\".center(20) + 20*\"-\")\n",
    "    print(dataframe.head())\n",
    "    print(\"\\n\" + 20 * \"-\" + \"The Last 5 Data\".center(20) + 20 * \"-\")\n",
    "    print(dataframe.tail())\n",
    "    print(\"\\n\" + 20 * \"-\" + \"Missing Values\".center(20) + 20 * \"-\")\n",
    "    print(dataframe.isnull().sum())\n",
    "    print(\"\\n\" + 40 * \"-\" + \"Describe the Data\".center(40) + 40 * \"-\")\n",
    "    print(dataframe.describe().T)\n",
    "check_data(dataset)"
   ]
  },
  {
   "cell_type": "markdown",
   "id": "4bb34658",
   "metadata": {},
   "source": [
    "## Visualización de las variables"
   ]
  },
  {
   "cell_type": "code",
   "execution_count": 789,
   "id": "de36640d",
   "metadata": {},
   "outputs": [
    {
     "data": {
      "image/png": "[encoded data removed]",
      "text/plain": [
       "<Figure size 1100x2000 with 6 Axes>"
      ]
     },
     "metadata": {},
     "output_type": "display_data"
    }
   ],
   "source": [
    "import seaborn as sns\n",
    "from matplotlib import style\n",
    "\n",
    "\n",
    "fig,axes = plt.subplots(6,1, figsize = (11, 20))\n",
    "sns.set_style('darkgrid')\n",
    "fig.suptitle(\"Gráfico de conteo para varias características categóricas\")\n",
    "\n",
    "sns.countplot(ax=axes[0],data=dataset,x='HTA')\n",
    "sns.countplot(ax=axes[1],data=dataset,x='DIABETES')\n",
    "sns.countplot(ax=axes[2],data=dataset,x='EDAD')\n",
    "sns.countplot(ax=axes[3],data=dataset,x='GLASGOW AL INICO ACV')\n",
    "sns.countplot(ax=axes[4],data=dataset,x='NIHSS INICO ACV')\n",
    "sns.countplot(ax=axes[5],data=dataset,x='NIHSS alta ACV')\n",
    "\n",
    "plt.show()"
   ]
  },
  {
   "cell_type": "markdown",
   "id": "7145ec35",
   "metadata": {},
   "source": [
    "### Distibución de Diabetes e Hipertensión"
   ]
  },
  {
   "cell_type": "code",
   "execution_count": 790,
   "id": "3e2ff4fa",
   "metadata": {},
   "outputs": [
    {
     "data": {
      "image/png": "[encoded data removed]",
      "text/plain": [
       "<Figure size 600x384 with 1 Axes>"
      ]
     },
     "metadata": {},
     "output_type": "display_data"
    },
    {
     "data": {
      "image/png": "[encoded data removed]",
      "text/plain": [
       "<Figure size 600x384 with 1 Axes>"
      ]
     },
     "metadata": {},
     "output_type": "display_data"
    }
   ],
   "source": [
    "fig, ax = plt.subplots(figsize=(6, 3.84))\n",
    "\n",
    "sns.violinplot(\n",
    "        x     = 'DIABETES',\n",
    "        y     = 'NIHSS alta ACV',\n",
    "        data  = dataset,\n",
    "        #color = \"white\",\n",
    "        ax    = ax\n",
    "    )\n",
    "\n",
    "ax.set_title('Distribución Diabetes por NIHSS escala de llegada');\n",
    "\n",
    "fig, ax2 = plt.subplots(figsize=(6, 3.84))\n",
    "\n",
    "sns.violinplot(\n",
    "        x     = 'HTA',\n",
    "        y     = 'NIHSS alta ACV',\n",
    "        data  = dataset,\n",
    "        #color = \"white\",\n",
    "        ax    = ax2\n",
    "    )\n",
    "\n",
    "ax2.set_title('Distribución Hipertensión por NIHSS escala de llegada');"
   ]
  },
  {
   "cell_type": "markdown",
   "id": "3607f5f2",
   "metadata": {},
   "source": [
    "### Mapa de calor de variables numéricas"
   ]
  },
  {
   "cell_type": "code",
   "execution_count": 791,
   "id": "184cda7d",
   "metadata": {},
   "outputs": [
    {
     "name": "stderr",
     "output_type": "stream",
     "text": [
      "C:\\Users\\Abraham\\AppData\\Local\\Temp\\ipykernel_22156\\2221177336.py:2: FutureWarning: The default value of numeric_only in DataFrame.corr is deprecated. In a future version, it will default to False. Select only valid columns or specify the value of numeric_only to silence this warning.\n",
      "  corr = dataset.corr()\n"
     ]
    },
    {
     "data": {
      "image/png": "[encoded data removed]",
      "text/plain": [
       "<Figure size 1200x800 with 2 Axes>"
      ]
     },
     "metadata": {},
     "output_type": "display_data"
    }
   ],
   "source": [
    "fig = plt.figure(figsize=(12,8))\n",
    "corr = dataset.corr()\n",
    "ax = sns.heatmap(corr, linewidths=.5, cmap=\"RdBu\", annot=True, fmt=\"g\")"
   ]
  },
  {
   "cell_type": "markdown",
   "id": "f9f5e4c8",
   "metadata": {},
   "source": [
    "# 4-. Preprocesar los datos\n",
    "Preparar los datos para el modelo de aprendizaje automático\n",
    "\n",
    "## Preparación de datos\n",
    "\n",
    "Los pasos exactos para la preparación de los datos dependerán del modelo utilizado y de los datos recopilados, pero se requerirá cierta cantidad de manipulación de datos para cualquier aplicación de aprendizaje automático."
   ]
  },
  {
   "cell_type": "markdown",
   "id": "f05dd46c",
   "metadata": {},
   "source": [
    "## Análisis de datos y clasifiación\n",
    "\n",
    "Aqui se análizaran los datos a trabajar."
   ]
  },
  {
   "cell_type": "markdown",
   "id": "ee1ea2ca",
   "metadata": {},
   "source": [
    "### Análisis de variable Objetivo\n",
    "Variable más importante que nos interesa tener predicción.\n",
    " \n",
    "#### Número de clase"
   ]
  },
  {
   "cell_type": "code",
   "execution_count": 792,
   "id": "b38249cf",
   "metadata": {},
   "outputs": [
    {
     "data": {
      "text/plain": [
       "1.0     19\n",
       "0.0     12\n",
       "2.0      6\n",
       "42.0     2\n",
       "4.0      2\n",
       "8.0      1\n",
       "10.0     1\n",
       "18.0     1\n",
       "32.0     1\n",
       "5.0      1\n",
       "Name: NIHSS alta ACV, dtype: int64"
      ]
     },
     "execution_count": 792,
     "metadata": {},
     "output_type": "execute_result"
    }
   ],
   "source": [
    "dataset[\"NIHSS alta ACV\"].value_counts()"
   ]
  },
  {
   "cell_type": "markdown",
   "id": "9b9fea46",
   "metadata": {},
   "source": [
    "### Crear columna para NIHSS_INICO_CLASIFICADOR\n",
    "\n",
    "Esta columna nos servira para clasificación de los estados de la variable"
   ]
  },
  {
   "cell_type": "code",
   "execution_count": 793,
   "id": "2cef31cd",
   "metadata": {},
   "outputs": [
    {
     "data": {
      "text/plain": [
       "Déficit Mínimo                19\n",
       "Sin Déficit                   12\n",
       "Leve (Trombolisando)           9\n",
       "Grave                          3\n",
       "Moderado (Buen Pronostico)     2\n",
       "Déficit Importante             1\n",
       "Name: NIHSS_alta_cat, dtype: int64"
      ]
     },
     "execution_count": 793,
     "metadata": {},
     "output_type": "execute_result"
    }
   ],
   "source": [
    "condicionesALTA = [\n",
    "    (dataset['NIHSS alta ACV'] == 0),\n",
    "    (dataset['NIHSS alta ACV'] == 1),\n",
    "    (dataset['NIHSS alta ACV'] >= 2) & (dataset['NIHSS alta ACV'] <= 5),\n",
    "    (dataset['NIHSS alta ACV'] >= 6) & (dataset['NIHSS alta ACV'] <= 15),\n",
    "    (dataset['NIHSS alta ACV'] >= 16) & (dataset['NIHSS alta ACV'] <= 20),\n",
    "    (dataset['NIHSS alta ACV'] > 20),\n",
    "]\n",
    "valoresALTA = [\"Sin Déficit\", \"Déficit Mínimo\", \"Leve (Trombolisando)\", \"Moderado (Buen Pronostico)\", \"Déficit Importante\", \"Grave\"]\n",
    "dataset['NIHSS_alta_cat'] = np.select(condicionesALTA, valoresALTA)\n",
    "dataset['NIHSS_alta_cat'].value_counts()"
   ]
  },
  {
   "cell_type": "code",
   "execution_count": 794,
   "id": "9326db65",
   "metadata": {},
   "outputs": [
    {
     "data": {
      "text/html": [
       "<div>\n",
       "<style scoped>\n",
       "    .dataframe tbody tr th:only-of-type {\n",
       "        vertical-align: middle;\n",
       "    }\n",
       "\n",
       "    .dataframe tbody tr th {\n",
       "        vertical-align: top;\n",
       "    }\n",
       "\n",
       "    .dataframe thead th {\n",
       "        text-align: right;\n",
       "    }\n",
       "</style>\n",
       "<table border=\"1\" class=\"dataframe\">\n",
       "  <thead>\n",
       "    <tr style=\"text-align: right;\">\n",
       "      <th></th>\n",
       "      <th>HTA</th>\n",
       "      <th>DIABETES</th>\n",
       "      <th>EDAD</th>\n",
       "      <th>GLUCOSA</th>\n",
       "      <th>COL. TOTAL</th>\n",
       "      <th>TRIGLICERIDOS</th>\n",
       "      <th>INR</th>\n",
       "      <th>CONTEO G.B.</th>\n",
       "      <th>GLASGOW AL INICO ACV</th>\n",
       "      <th>NIHSS INICO ACV</th>\n",
       "      <th>NIHSS alta ACV</th>\n",
       "      <th>NIHSS_alta_cat</th>\n",
       "    </tr>\n",
       "  </thead>\n",
       "  <tbody>\n",
       "    <tr>\n",
       "      <th>0</th>\n",
       "      <td>DESCONOCIDO</td>\n",
       "      <td>DESCONOCIDO</td>\n",
       "      <td>53.0</td>\n",
       "      <td>137.090</td>\n",
       "      <td>268.0</td>\n",
       "      <td>130.0</td>\n",
       "      <td>1.08</td>\n",
       "      <td>41.9</td>\n",
       "      <td>11.0</td>\n",
       "      <td>14.0</td>\n",
       "      <td>42.0</td>\n",
       "      <td>Grave</td>\n",
       "    </tr>\n",
       "    <tr>\n",
       "      <th>1</th>\n",
       "      <td>si</td>\n",
       "      <td>si</td>\n",
       "      <td>54.0</td>\n",
       "      <td>119.995</td>\n",
       "      <td>187.0</td>\n",
       "      <td>130.0</td>\n",
       "      <td>1.09</td>\n",
       "      <td>8.3</td>\n",
       "      <td>15.0</td>\n",
       "      <td>6.0</td>\n",
       "      <td>0.0</td>\n",
       "      <td>Sin Déficit</td>\n",
       "    </tr>\n",
       "    <tr>\n",
       "      <th>2</th>\n",
       "      <td>si</td>\n",
       "      <td>si</td>\n",
       "      <td>78.0</td>\n",
       "      <td>359.420</td>\n",
       "      <td>159.0</td>\n",
       "      <td>97.0</td>\n",
       "      <td>0.89</td>\n",
       "      <td>8.5</td>\n",
       "      <td>15.0</td>\n",
       "      <td>5.0</td>\n",
       "      <td>2.0</td>\n",
       "      <td>Leve (Trombolisando)</td>\n",
       "    </tr>\n",
       "    <tr>\n",
       "      <th>3</th>\n",
       "      <td>si</td>\n",
       "      <td>si</td>\n",
       "      <td>87.0</td>\n",
       "      <td>186.200</td>\n",
       "      <td>193.0</td>\n",
       "      <td>133.0</td>\n",
       "      <td>0.90</td>\n",
       "      <td>7.0</td>\n",
       "      <td>15.0</td>\n",
       "      <td>1.0</td>\n",
       "      <td>0.0</td>\n",
       "      <td>Sin Déficit</td>\n",
       "    </tr>\n",
       "    <tr>\n",
       "      <th>4</th>\n",
       "      <td>si</td>\n",
       "      <td>si</td>\n",
       "      <td>69.0</td>\n",
       "      <td>170.000</td>\n",
       "      <td>184.0</td>\n",
       "      <td>137.0</td>\n",
       "      <td>1.28</td>\n",
       "      <td>12.1</td>\n",
       "      <td>15.0</td>\n",
       "      <td>3.0</td>\n",
       "      <td>2.0</td>\n",
       "      <td>Leve (Trombolisando)</td>\n",
       "    </tr>\n",
       "  </tbody>\n",
       "</table>\n",
       "</div>"
      ],
      "text/plain": [
       "           HTA     DIABETES  ...  NIHSS alta ACV        NIHSS_alta_cat\n",
       "0  DESCONOCIDO  DESCONOCIDO  ...            42.0                 Grave\n",
       "1           si           si  ...             0.0           Sin Déficit\n",
       "2           si           si  ...             2.0  Leve (Trombolisando)\n",
       "3           si           si  ...             0.0           Sin Déficit\n",
       "4           si           si  ...             2.0  Leve (Trombolisando)\n",
       "\n",
       "[5 rows x 12 columns]"
      ]
     },
     "execution_count": 794,
     "metadata": {},
     "output_type": "execute_result"
    }
   ],
   "source": [
    "dataset.head(5)"
   ]
  },
  {
   "cell_type": "markdown",
   "id": "513f93f4",
   "metadata": {},
   "source": [
    "### Crear columna para NIHSS_INICO_ESTABLE_CRITICO\n",
    "\n",
    "Esta columna nos ayudará a observar si el paciente esta estable o critico. Nos interesa saber el pronostico del paciente, por eso es necesaria una variable binaria sobre el alta del paciente."
   ]
  },
  {
   "cell_type": "code",
   "execution_count": 795,
   "id": "e2a57bbc",
   "metadata": {},
   "outputs": [
    {
     "data": {
      "text/plain": [
       "0    26\n",
       "1    20\n",
       "Name: NIHSS_alta_ESTABLE_O_GRAVE, dtype: int64"
      ]
     },
     "execution_count": 795,
     "metadata": {},
     "output_type": "execute_result"
    }
   ],
   "source": [
    "dataset['NIHSS_alta_ESTABLE_O_GRAVE'] = np.where(dataframe['NIHSS alta ACV'] <=6, 0, 1)\n",
    "\n",
    "dataset['NIHSS_alta_ESTABLE_O_GRAVE'].value_counts()\n"
   ]
  },
  {
   "cell_type": "code",
   "execution_count": 796,
   "id": "38038c77",
   "metadata": {},
   "outputs": [
    {
     "data": {
      "text/html": [
       "<div>\n",
       "<style scoped>\n",
       "    .dataframe tbody tr th:only-of-type {\n",
       "        vertical-align: middle;\n",
       "    }\n",
       "\n",
       "    .dataframe tbody tr th {\n",
       "        vertical-align: top;\n",
       "    }\n",
       "\n",
       "    .dataframe thead th {\n",
       "        text-align: right;\n",
       "    }\n",
       "</style>\n",
       "<table border=\"1\" class=\"dataframe\">\n",
       "  <thead>\n",
       "    <tr style=\"text-align: right;\">\n",
       "      <th></th>\n",
       "      <th>EDAD</th>\n",
       "      <th>GLUCOSA</th>\n",
       "      <th>COL. TOTAL</th>\n",
       "      <th>TRIGLICERIDOS</th>\n",
       "      <th>INR</th>\n",
       "      <th>CONTEO G.B.</th>\n",
       "      <th>GLASGOW AL INICO ACV</th>\n",
       "      <th>NIHSS INICO ACV</th>\n",
       "      <th>NIHSS alta ACV</th>\n",
       "      <th>NIHSS_alta_ESTABLE_O_GRAVE</th>\n",
       "    </tr>\n",
       "  </thead>\n",
       "  <tbody>\n",
       "    <tr>\n",
       "      <th>count</th>\n",
       "      <td>46.00</td>\n",
       "      <td>46.00</td>\n",
       "      <td>46.00</td>\n",
       "      <td>46.00</td>\n",
       "      <td>46.00</td>\n",
       "      <td>46.00</td>\n",
       "      <td>46.00</td>\n",
       "      <td>46.00</td>\n",
       "      <td>46.00</td>\n",
       "      <td>46.00</td>\n",
       "    </tr>\n",
       "    <tr>\n",
       "      <th>mean</th>\n",
       "      <td>71.54</td>\n",
       "      <td>132.83</td>\n",
       "      <td>162.78</td>\n",
       "      <td>122.87</td>\n",
       "      <td>1.18</td>\n",
       "      <td>10.12</td>\n",
       "      <td>14.04</td>\n",
       "      <td>5.33</td>\n",
       "      <td>4.26</td>\n",
       "      <td>0.43</td>\n",
       "    </tr>\n",
       "    <tr>\n",
       "      <th>std</th>\n",
       "      <td>12.03</td>\n",
       "      <td>50.19</td>\n",
       "      <td>48.77</td>\n",
       "      <td>43.46</td>\n",
       "      <td>0.36</td>\n",
       "      <td>5.91</td>\n",
       "      <td>2.60</td>\n",
       "      <td>4.26</td>\n",
       "      <td>9.78</td>\n",
       "      <td>0.50</td>\n",
       "    </tr>\n",
       "    <tr>\n",
       "      <th>min</th>\n",
       "      <td>38.00</td>\n",
       "      <td>82.61</td>\n",
       "      <td>85.00</td>\n",
       "      <td>57.00</td>\n",
       "      <td>0.89</td>\n",
       "      <td>3.76</td>\n",
       "      <td>0.00</td>\n",
       "      <td>0.00</td>\n",
       "      <td>0.00</td>\n",
       "      <td>0.00</td>\n",
       "    </tr>\n",
       "    <tr>\n",
       "      <th>25%</th>\n",
       "      <td>62.75</td>\n",
       "      <td>101.06</td>\n",
       "      <td>121.00</td>\n",
       "      <td>93.00</td>\n",
       "      <td>1.03</td>\n",
       "      <td>7.82</td>\n",
       "      <td>15.00</td>\n",
       "      <td>3.00</td>\n",
       "      <td>0.25</td>\n",
       "      <td>0.00</td>\n",
       "    </tr>\n",
       "    <tr>\n",
       "      <th>50%</th>\n",
       "      <td>72.00</td>\n",
       "      <td>120.00</td>\n",
       "      <td>163.00</td>\n",
       "      <td>119.00</td>\n",
       "      <td>1.09</td>\n",
       "      <td>9.30</td>\n",
       "      <td>15.00</td>\n",
       "      <td>4.00</td>\n",
       "      <td>1.00</td>\n",
       "      <td>0.00</td>\n",
       "    </tr>\n",
       "    <tr>\n",
       "      <th>75%</th>\n",
       "      <td>80.00</td>\n",
       "      <td>154.98</td>\n",
       "      <td>182.50</td>\n",
       "      <td>137.00</td>\n",
       "      <td>1.15</td>\n",
       "      <td>10.38</td>\n",
       "      <td>15.00</td>\n",
       "      <td>6.00</td>\n",
       "      <td>2.00</td>\n",
       "      <td>1.00</td>\n",
       "    </tr>\n",
       "    <tr>\n",
       "      <th>max</th>\n",
       "      <td>90.00</td>\n",
       "      <td>359.42</td>\n",
       "      <td>342.00</td>\n",
       "      <td>232.00</td>\n",
       "      <td>3.08</td>\n",
       "      <td>41.90</td>\n",
       "      <td>15.00</td>\n",
       "      <td>21.00</td>\n",
       "      <td>42.00</td>\n",
       "      <td>1.00</td>\n",
       "    </tr>\n",
       "  </tbody>\n",
       "</table>\n",
       "</div>"
      ],
      "text/plain": [
       "        EDAD  GLUCOSA  ...  NIHSS alta ACV  NIHSS_alta_ESTABLE_O_GRAVE\n",
       "count  46.00    46.00  ...           46.00                       46.00\n",
       "mean   71.54   132.83  ...            4.26                        0.43\n",
       "std    12.03    50.19  ...            9.78                        0.50\n",
       "min    38.00    82.61  ...            0.00                        0.00\n",
       "25%    62.75   101.06  ...            0.25                        0.00\n",
       "50%    72.00   120.00  ...            1.00                        0.00\n",
       "75%    80.00   154.98  ...            2.00                        1.00\n",
       "max    90.00   359.42  ...           42.00                        1.00\n",
       "\n",
       "[8 rows x 10 columns]"
      ]
     },
     "execution_count": 796,
     "metadata": {},
     "output_type": "execute_result"
    }
   ],
   "source": [
    "round(dataset.describe(), 2)"
   ]
  },
  {
   "cell_type": "markdown",
   "id": "3526820a",
   "metadata": {},
   "source": [
    "### Análisis de las las Escalas de INICIO del ACV"
   ]
  },
  {
   "cell_type": "code",
   "execution_count": 797,
   "id": "9b855580",
   "metadata": {},
   "outputs": [
    {
     "name": "stdout",
     "output_type": "stream",
     "text": [
      "NIHSS INICO ACV Variable min: 0.0\n",
      "NIHSS INICO ACV Variable max: 21.0\n",
      "NIHSS INICO ACV Variable: 14\n"
     ]
    }
   ],
   "source": [
    "# Análisis NIHSS INICO ACV\n",
    "\n",
    "print(f'NIHSS INICO ACV Variable min: {dataset[\"NIHSS INICO ACV\"].min()}')\n",
    "print(f'NIHSS INICO ACV Variable max: {dataset[\"NIHSS INICO ACV\"].max()}')\n",
    "print(f'NIHSS INICO ACV Variable: {dataset[\"NIHSS INICO ACV\"].nunique()}')"
   ]
  },
  {
   "cell_type": "code",
   "execution_count": 798,
   "id": "411b208b",
   "metadata": {},
   "outputs": [
    {
     "data": {
      "text/plain": [
       "Leve (Trombolisando)          28\n",
       "Moderado (Buen Pronostico)    12\n",
       "Déficit Mínimo                 3\n",
       "Grave                          1\n",
       "Déficit Importante             1\n",
       "Sin Déficit                    1\n",
       "Name: NIHSS_INICIO_cat, dtype: int64"
      ]
     },
     "execution_count": 798,
     "metadata": {},
     "output_type": "execute_result"
    }
   ],
   "source": [
    "# Realizamos la clasificación de la escala\n",
    "\n",
    "condicionesINICIO = [\n",
    "    (dataset['NIHSS INICO ACV'] == 0),\n",
    "    (dataset['NIHSS INICO ACV'] == 1),\n",
    "    (dataset['NIHSS INICO ACV'] >= 2) & (dataset['NIHSS INICO ACV'] <= 5),\n",
    "    (dataset['NIHSS INICO ACV'] >= 6) & (dataset['NIHSS INICO ACV'] <= 15),\n",
    "    (dataset['NIHSS INICO ACV'] >= 16) & (dataset['NIHSS INICO ACV'] <= 20),\n",
    "    (dataset['NIHSS INICO ACV'] > 20),\n",
    "]\n",
    "valoresINICIO = [\"Sin Déficit\", \"Déficit Mínimo\", \"Leve (Trombolisando)\", \"Moderado (Buen Pronostico)\", \"Déficit Importante\", \"Grave\"]\n",
    "dataset['NIHSS_INICIO_cat'] = np.select(condicionesINICIO, valoresINICIO)\n",
    "dataset['NIHSS_INICIO_cat'].value_counts()"
   ]
  },
  {
   "cell_type": "code",
   "execution_count": 799,
   "id": "cd99d477",
   "metadata": {},
   "outputs": [
    {
     "data": {
      "text/plain": [
       "<seaborn.axisgrid.FacetGrid at 0x299a4b8fdf0>"
      ]
     },
     "execution_count": 799,
     "metadata": {},
     "output_type": "execute_result"
    },
    {
     "data": {
      "image/png": "[encoded data removed]",
      "text/plain": [
       "<Figure size 726.611x500 with 1 Axes>"
      ]
     },
     "metadata": {},
     "output_type": "display_data"
    }
   ],
   "source": [
    "sns.catplot(y=\"NIHSS_INICIO_cat\", hue=\"NIHSS_alta_ESTABLE_O_GRAVE\", kind=\"count\",\n",
    "            palette=\"Set2\", edgecolor=\".6\",\n",
    "            data=dataset)"
   ]
  },
  {
   "cell_type": "code",
   "execution_count": 800,
   "id": "a015a6e5",
   "metadata": {},
   "outputs": [
    {
     "name": "stdout",
     "output_type": "stream",
     "text": [
      "GLASGOW AL INICO ACV Variable min: 0.0\n",
      "GLASGOW AL INICO ACV Variable max: 15.0\n",
      "GLASGOW AL INICO ACV Variable: 7\n"
     ]
    }
   ],
   "source": [
    "# Análisis GLASGOW AL INICO ACV\n",
    "\n",
    "print(f'GLASGOW AL INICO ACV Variable min: {dataset[\"GLASGOW AL INICO ACV\"].min()}')\n",
    "print(f'GLASGOW AL INICO ACV Variable max: {dataset[\"GLASGOW AL INICO ACV\"].max()}')\n",
    "print(f'GLASGOW AL INICO ACV Variable: {dataset[\"GLASGOW AL INICO ACV\"].nunique()}')"
   ]
  },
  {
   "cell_type": "code",
   "execution_count": 801,
   "id": "f4754587",
   "metadata": {},
   "outputs": [
    {
     "data": {
      "text/plain": [
       "['Moderado', 'Leve', 'Grave']\n",
       "Categories (3, object): ['Grave' < 'Moderado' < 'Leve']"
      ]
     },
     "execution_count": 801,
     "metadata": {},
     "output_type": "execute_result"
    }
   ],
   "source": [
    "dataset['GLASGOW_cat'] = pd.cut(dataset['GLASGOW AL INICO ACV'], bins=[-1, 8, 12, 15], labels=['Grave', 'Moderado', 'Leve'])\n",
    "\n",
    "dataset['GLASGOW_cat'].unique()"
   ]
  },
  {
   "cell_type": "code",
   "execution_count": 802,
   "id": "3c9d6358",
   "metadata": {},
   "outputs": [
    {
     "data": {
      "text/plain": [
       "<seaborn.axisgrid.FacetGrid at 0x299af10d2a0>"
      ]
     },
     "execution_count": 802,
     "metadata": {},
     "output_type": "execute_result"
    },
    {
     "data": {
      "image/png": "[encoded data removed]",
      "text/plain": [
       "<Figure size 726.611x500 with 1 Axes>"
      ]
     },
     "metadata": {},
     "output_type": "display_data"
    }
   ],
   "source": [
    "sns.catplot(y=\"GLASGOW_cat\", hue=\"NIHSS_alta_ESTABLE_O_GRAVE\", kind=\"count\",\n",
    "            palette=\"Set2\", edgecolor=\".6\",\n",
    "            data=dataset)"
   ]
  },
  {
   "cell_type": "markdown",
   "id": "dd4c5fd9",
   "metadata": {},
   "source": [
    "### Análisis de variables de médicas"
   ]
  },
  {
   "cell_type": "code",
   "execution_count": 803,
   "id": "8c018f27",
   "metadata": {},
   "outputs": [
    {
     "name": "stdout",
     "output_type": "stream",
     "text": [
      "CONTEO G.B. Variable min: 3.76\n",
      "CONTEO G.B. Variable max: 41.9\n",
      "CONTEO G.B. Variable: 38\n"
     ]
    }
   ],
   "source": [
    "# Análisis CONTEO G.B.\n",
    "\n",
    "print(f'CONTEO G.B. Variable min: {dataset[\"CONTEO G.B.\"].min()}')\n",
    "print(f'CONTEO G.B. Variable max: {dataset[\"CONTEO G.B.\"].max()}')\n",
    "print(f'CONTEO G.B. Variable: {dataset[\"CONTEO G.B.\"].nunique()}')"
   ]
  },
  {
   "cell_type": "code",
   "execution_count": 804,
   "id": "51006db1",
   "metadata": {},
   "outputs": [
    {
     "data": {
      "text/plain": [
       "['Alto', 'Normal', 'Bajo']\n",
       "Categories (3, object): ['Bajo' < 'Normal' < 'Alto']"
      ]
     },
     "execution_count": 804,
     "metadata": {},
     "output_type": "execute_result"
    }
   ],
   "source": [
    "dataset['CONTEO G.B._cat'] = pd.cut(dataset['CONTEO G.B.'], bins=[0, 4.5, 10,1000], labels=['Bajo', 'Normal', 'Alto'])\n",
    "\n",
    "dataset['CONTEO G.B._cat'].unique()"
   ]
  },
  {
   "cell_type": "code",
   "execution_count": 805,
   "id": "7c414116",
   "metadata": {},
   "outputs": [
    {
     "data": {
      "text/plain": [
       "<seaborn.axisgrid.FacetGrid at 0x299b92b2170>"
      ]
     },
     "execution_count": 805,
     "metadata": {},
     "output_type": "execute_result"
    },
    {
     "data": {
      "image/png": "[encoded data removed]",
      "text/plain": [
       "<Figure size 726.611x500 with 1 Axes>"
      ]
     },
     "metadata": {},
     "output_type": "display_data"
    }
   ],
   "source": [
    "sns.catplot(y=\"CONTEO G.B._cat\", hue=\"NIHSS_alta_ESTABLE_O_GRAVE\", kind=\"count\",\n",
    "            palette=\"Set2\", edgecolor=\".6\",\n",
    "            data=dataset)"
   ]
  },
  {
   "cell_type": "code",
   "execution_count": 806,
   "id": "b4dea903",
   "metadata": {},
   "outputs": [
    {
     "name": "stdout",
     "output_type": "stream",
     "text": [
      "INR Variable min: 0.89\n",
      "INR Variable max: 3.08\n",
      "INR Variable: 26\n"
     ]
    }
   ],
   "source": [
    "# Análisis INR\n",
    "\n",
    "print(f'INR Variable min: {dataset[\"INR\"].min()}')\n",
    "print(f'INR Variable max: {dataset[\"INR\"].max()}')\n",
    "print(f'INR Variable: {dataset[\"INR\"].nunique()}')"
   ]
  },
  {
   "cell_type": "code",
   "execution_count": 807,
   "id": "d3f69f1b",
   "metadata": {},
   "outputs": [
    {
     "data": {
      "text/plain": [
       "['Riesgo', 'Normal']\n",
       "Categories (3, object): ['Riesgo' < 'Normal' < 'No Anticoagula']"
      ]
     },
     "execution_count": 807,
     "metadata": {},
     "output_type": "execute_result"
    }
   ],
   "source": [
    "dataset['INR_cat'] = pd.cut(dataset['INR'], bins=[0.0, 2, 4,1000], labels=['Riesgo', 'Normal', 'No Anticoagula'])\n",
    "\n",
    "dataset['INR_cat'].unique()"
   ]
  },
  {
   "cell_type": "code",
   "execution_count": 808,
   "id": "824d6e0a",
   "metadata": {},
   "outputs": [
    {
     "data": {
      "text/plain": [
       "<seaborn.axisgrid.FacetGrid at 0x299b53a0970>"
      ]
     },
     "execution_count": 808,
     "metadata": {},
     "output_type": "execute_result"
    },
    {
     "data": {
      "image/png": "[encoded data removed]",
      "text/plain": [
       "<Figure size 726.611x500 with 1 Axes>"
      ]
     },
     "metadata": {},
     "output_type": "display_data"
    }
   ],
   "source": [
    "sns.catplot(y=\"INR_cat\", hue=\"NIHSS_alta_ESTABLE_O_GRAVE\", kind=\"count\",\n",
    "            palette=\"Set2\", edgecolor=\".6\",\n",
    "            data=dataset)"
   ]
  },
  {
   "cell_type": "code",
   "execution_count": 809,
   "id": "3c9eb8f0",
   "metadata": {},
   "outputs": [
    {
     "name": "stdout",
     "output_type": "stream",
     "text": [
      "TRIGLICERIDOS Variable min: 57.0\n",
      "TRIGLICERIDOS Variable max: 232.0\n",
      "TRIGLICERIDOS Variable: 31\n"
     ]
    }
   ],
   "source": [
    "# Análisis TRIGLICERIDOS\n",
    "\n",
    "print(f'TRIGLICERIDOS Variable min: {dataset[\"TRIGLICERIDOS\"].min()}')\n",
    "print(f'TRIGLICERIDOS Variable max: {dataset[\"TRIGLICERIDOS\"].max()}')\n",
    "print(f'TRIGLICERIDOS Variable: {dataset[\"TRIGLICERIDOS\"].nunique()}')"
   ]
  },
  {
   "cell_type": "code",
   "execution_count": 810,
   "id": "ab2e367f",
   "metadata": {},
   "outputs": [
    {
     "data": {
      "text/plain": [
       "['Normal', 'Límite alto', 'Alto']\n",
       "Categories (4, object): ['Normal' < 'Límite alto' < 'Alto' < 'Muy Alto']"
      ]
     },
     "execution_count": 810,
     "metadata": {},
     "output_type": "execute_result"
    }
   ],
   "source": [
    "dataset['TRIGLICERIDOS_cat'] = pd.cut(dataset['TRIGLICERIDOS'], bins=[0, 150, 200, 500, 10000], labels=['Normal', 'Límite alto', 'Alto', 'Muy Alto'])\n",
    "\n",
    "dataset['TRIGLICERIDOS_cat'].unique()"
   ]
  },
  {
   "cell_type": "code",
   "execution_count": 811,
   "id": "92fe9be1",
   "metadata": {},
   "outputs": [
    {
     "data": {
      "text/plain": [
       "<seaborn.axisgrid.FacetGrid at 0x299b827ff40>"
      ]
     },
     "execution_count": 811,
     "metadata": {},
     "output_type": "execute_result"
    },
    {
     "data": {
      "image/png": "[encoded data removed]",
      "text/plain": [
       "<Figure size 726.611x500 with 1 Axes>"
      ]
     },
     "metadata": {},
     "output_type": "display_data"
    }
   ],
   "source": [
    "sns.catplot(y=\"TRIGLICERIDOS_cat\", hue=\"NIHSS_alta_ESTABLE_O_GRAVE\", kind=\"count\",\n",
    "            palette=\"Set2\", edgecolor=\".6\",\n",
    "            data=dataset)"
   ]
  },
  {
   "cell_type": "code",
   "execution_count": 812,
   "id": "03beaa80",
   "metadata": {},
   "outputs": [
    {
     "name": "stdout",
     "output_type": "stream",
     "text": [
      "COL. TOTAL Variable min: 85.0\n",
      "COL. TOTAL Variable max: 342.0\n",
      "COL. TOTAL Variable: 34\n"
     ]
    }
   ],
   "source": [
    "# Análisis COL. TOTAL\n",
    "\n",
    "print(f'COL. TOTAL Variable min: {dataset[\"COL. TOTAL\"].min()}')\n",
    "print(f'COL. TOTAL Variable max: {dataset[\"COL. TOTAL\"].max()}')\n",
    "print(f'COL. TOTAL Variable: {dataset[\"COL. TOTAL\"].nunique()}')"
   ]
  },
  {
   "cell_type": "code",
   "execution_count": 813,
   "id": "80f2ab60",
   "metadata": {},
   "outputs": [
    {
     "data": {
      "text/plain": [
       "['Límite alto', 'Normal']\n",
       "Categories (4, object): ['Normal' < 'Límite alto' < 'Alto' < 'Muy Alto']"
      ]
     },
     "execution_count": 813,
     "metadata": {},
     "output_type": "execute_result"
    }
   ],
   "source": [
    "dataset['COL. TOTAL_cat'] = pd.cut(dataset['COL. TOTAL'], bins=[0, 150, 400, 1000, 100000], labels=['Normal', 'Límite alto', 'Alto', 'Muy Alto'])\n",
    "\n",
    "dataset['COL. TOTAL_cat'].unique()"
   ]
  },
  {
   "cell_type": "code",
   "execution_count": 814,
   "id": "6a5d2a64",
   "metadata": {},
   "outputs": [
    {
     "data": {
      "text/plain": [
       "<seaborn.axisgrid.FacetGrid at 0x299a5aeed40>"
      ]
     },
     "execution_count": 814,
     "metadata": {},
     "output_type": "execute_result"
    },
    {
     "data": {
      "image/png": "[encoded data removed]",
      "text/plain": [
       "<Figure size 726.611x500 with 1 Axes>"
      ]
     },
     "metadata": {},
     "output_type": "display_data"
    }
   ],
   "source": [
    "sns.catplot(y=\"COL. TOTAL_cat\", hue=\"NIHSS_alta_ESTABLE_O_GRAVE\", kind=\"count\",\n",
    "            palette=\"Set2\", edgecolor=\".6\",\n",
    "            data=dataset)"
   ]
  },
  {
   "cell_type": "code",
   "execution_count": 815,
   "id": "ba3936cc",
   "metadata": {},
   "outputs": [
    {
     "name": "stdout",
     "output_type": "stream",
     "text": [
      "GLUCOSA Variable min: 82.61\n",
      "GLUCOSA Variable max: 359.42\n",
      "GLUCOSA Variable: 39\n"
     ]
    }
   ],
   "source": [
    "# Análisis EDAD\n",
    "\n",
    "print(f'GLUCOSA Variable min: {dataset[\"GLUCOSA\"].min()}')\n",
    "print(f'GLUCOSA Variable max: {dataset[\"GLUCOSA\"].max()}')\n",
    "print(f'GLUCOSA Variable: {dataset[\"GLUCOSA\"].nunique()}')"
   ]
  },
  {
   "cell_type": "code",
   "execution_count": 816,
   "id": "9c8d3409",
   "metadata": {},
   "outputs": [
    {
     "data": {
      "text/plain": [
       "['Normal', 'Muy Alto', 'Alto', 'Bajo']\n",
       "Categories (4, object): ['Bajo' < 'Normal' < 'Alto' < 'Muy Alto']"
      ]
     },
     "execution_count": 816,
     "metadata": {},
     "output_type": "execute_result"
    }
   ],
   "source": [
    "dataset['GLUCOSA_cat'] = pd.cut(dataset['GLUCOSA'], bins=[0, 90, 160, 230, 3000], labels=['Bajo', 'Normal', 'Alto', 'Muy Alto'])\n",
    "\n",
    "dataset['GLUCOSA_cat'].unique()"
   ]
  },
  {
   "cell_type": "code",
   "execution_count": 817,
   "id": "3f8dde51",
   "metadata": {},
   "outputs": [
    {
     "data": {
      "text/plain": [
       "<seaborn.axisgrid.FacetGrid at 0x299a5d1c8e0>"
      ]
     },
     "execution_count": 817,
     "metadata": {},
     "output_type": "execute_result"
    },
    {
     "data": {
      "image/png": "[encoded data removed]",
      "text/plain": [
       "<Figure size 726.611x500 with 1 Axes>"
      ]
     },
     "metadata": {},
     "output_type": "display_data"
    }
   ],
   "source": [
    "sns.catplot(y=\"GLUCOSA_cat\", hue=\"NIHSS_alta_ESTABLE_O_GRAVE\", kind=\"count\",\n",
    "            palette=\"Set2\", edgecolor=\".6\",\n",
    "            data=dataset)"
   ]
  },
  {
   "cell_type": "code",
   "execution_count": 818,
   "id": "ab8bb2f5",
   "metadata": {},
   "outputs": [
    {
     "name": "stdout",
     "output_type": "stream",
     "text": [
      "EDAD Variable min: 38.0\n",
      "EDAD Variable max: 90.0\n",
      "EDAD Variable: 28\n"
     ]
    }
   ],
   "source": [
    "# Análisis EDAD\n",
    "\n",
    "print(f'EDAD Variable min: {dataset[\"EDAD\"].min()}')\n",
    "print(f'EDAD Variable max: {dataset[\"EDAD\"].max()}')\n",
    "print(f'EDAD Variable: {dataset[\"EDAD\"].nunique()}')"
   ]
  },
  {
   "cell_type": "code",
   "execution_count": 819,
   "id": "2d37c8ab",
   "metadata": {},
   "outputs": [
    {
     "data": {
      "text/plain": [
       "['Adulto', 'Anciano', 'Adulto Joven']\n",
       "Categories (5, object): ['Niño' < 'Adolecente' < 'Adulto Joven' < 'Adulto' < 'Anciano']"
      ]
     },
     "execution_count": 819,
     "metadata": {},
     "output_type": "execute_result"
    }
   ],
   "source": [
    "dataset['EDAD_cat'] = pd.cut(dataset['EDAD'], bins=[0, 13, 18, 45, 60, 100], labels=['Niño', 'Adolecente', 'Adulto Joven', 'Adulto', 'Anciano'])\n",
    "\n",
    "dataset['EDAD_cat'].unique()"
   ]
  },
  {
   "cell_type": "code",
   "execution_count": 820,
   "id": "d97bdd30",
   "metadata": {},
   "outputs": [
    {
     "data": {
      "text/plain": [
       "<seaborn.axisgrid.FacetGrid at 0x299b6a1bd30>"
      ]
     },
     "execution_count": 820,
     "metadata": {},
     "output_type": "execute_result"
    },
    {
     "data": {
      "image/png": "[encoded data removed]",
      "text/plain": [
       "<Figure size 726.611x500 with 1 Axes>"
      ]
     },
     "metadata": {},
     "output_type": "display_data"
    }
   ],
   "source": [
    "sns.catplot(y=\"EDAD_cat\", hue=\"NIHSS_alta_ESTABLE_O_GRAVE\", kind=\"count\",\n",
    "            palette=\"Set2\", edgecolor=\".6\",\n",
    "            data=dataset)"
   ]
  },
  {
   "cell_type": "code",
   "execution_count": 821,
   "id": "9865d406",
   "metadata": {},
   "outputs": [
    {
     "name": "stdout",
     "output_type": "stream",
     "text": [
      "DIABETES Variable min: DESCONOCIDO\n",
      "DIABETES Variable max: si\n",
      "DIABETES Variable: 3\n"
     ]
    }
   ],
   "source": [
    "# Análisis DIABETES\n",
    "\n",
    "print(f'DIABETES Variable min: {dataset[\"DIABETES\"].min()}')\n",
    "print(f'DIABETES Variable max: {dataset[\"DIABETES\"].max()}')\n",
    "print(f'DIABETES Variable: {dataset[\"DIABETES\"].nunique()}')"
   ]
  },
  {
   "cell_type": "code",
   "execution_count": 822,
   "id": "f2809713",
   "metadata": {},
   "outputs": [
    {
     "data": {
      "text/plain": [
       "<seaborn.axisgrid.FacetGrid at 0x299b827fbb0>"
      ]
     },
     "execution_count": 822,
     "metadata": {},
     "output_type": "execute_result"
    },
    {
     "data": {
      "image/png": "[encoded data removed]",
      "text/plain": [
       "<Figure size 726.611x500 with 1 Axes>"
      ]
     },
     "metadata": {},
     "output_type": "display_data"
    }
   ],
   "source": [
    "sns.catplot(y=\"DIABETES\", hue=\"NIHSS_alta_ESTABLE_O_GRAVE\", kind=\"count\",\n",
    "            palette=\"Set2\", edgecolor=\".6\",\n",
    "            data=dataset)"
   ]
  },
  {
   "cell_type": "code",
   "execution_count": 823,
   "id": "818cbef5",
   "metadata": {},
   "outputs": [
    {
     "name": "stdout",
     "output_type": "stream",
     "text": [
      "HTA Variable min: DESCONOCIDO\n",
      "HTA Variable max: si\n",
      "HTA Variable: 3\n"
     ]
    }
   ],
   "source": [
    "# Análisis DIABETES\n",
    "\n",
    "print(f'HTA Variable min: {dataset[\"HTA\"].min()}')\n",
    "print(f'HTA Variable max: {dataset[\"HTA\"].max()}')\n",
    "print(f'HTA Variable: {dataset[\"HTA\"].nunique()}')"
   ]
  },
  {
   "cell_type": "code",
   "execution_count": 824,
   "id": "4e097cb0",
   "metadata": {},
   "outputs": [
    {
     "data": {
      "text/plain": [
       "<seaborn.axisgrid.FacetGrid at 0x299a9444ca0>"
      ]
     },
     "execution_count": 824,
     "metadata": {},
     "output_type": "execute_result"
    },
    {
     "data": {
      "image/png": "[encoded data removed]",
      "text/plain": [
       "<Figure size 726.611x500 with 1 Axes>"
      ]
     },
     "metadata": {},
     "output_type": "display_data"
    }
   ],
   "source": [
    "sns.catplot(y=\"HTA\", hue=\"NIHSS_alta_ESTABLE_O_GRAVE\", kind=\"count\",\n",
    "            palette=\"Set2\", edgecolor=\".6\",\n",
    "            data=dataset)"
   ]
  },
  {
   "cell_type": "code",
   "execution_count": 825,
   "id": "89ced4b8",
   "metadata": {},
   "outputs": [
    {
     "data": {
      "text/html": [
       "<div>\n",
       "<style scoped>\n",
       "    .dataframe tbody tr th:only-of-type {\n",
       "        vertical-align: middle;\n",
       "    }\n",
       "\n",
       "    .dataframe tbody tr th {\n",
       "        vertical-align: top;\n",
       "    }\n",
       "\n",
       "    .dataframe thead th {\n",
       "        text-align: right;\n",
       "    }\n",
       "</style>\n",
       "<table border=\"1\" class=\"dataframe\">\n",
       "  <thead>\n",
       "    <tr style=\"text-align: right;\">\n",
       "      <th></th>\n",
       "      <th>HTA</th>\n",
       "      <th>DIABETES</th>\n",
       "      <th>EDAD</th>\n",
       "      <th>GLUCOSA</th>\n",
       "      <th>COL. TOTAL</th>\n",
       "      <th>TRIGLICERIDOS</th>\n",
       "      <th>INR</th>\n",
       "      <th>CONTEO G.B.</th>\n",
       "      <th>GLASGOW AL INICO ACV</th>\n",
       "      <th>NIHSS INICO ACV</th>\n",
       "      <th>NIHSS alta ACV</th>\n",
       "      <th>NIHSS_alta_cat</th>\n",
       "      <th>NIHSS_alta_ESTABLE_O_GRAVE</th>\n",
       "      <th>NIHSS_INICIO_cat</th>\n",
       "      <th>GLASGOW_cat</th>\n",
       "      <th>CONTEO G.B._cat</th>\n",
       "      <th>INR_cat</th>\n",
       "      <th>TRIGLICERIDOS_cat</th>\n",
       "      <th>COL. TOTAL_cat</th>\n",
       "      <th>GLUCOSA_cat</th>\n",
       "      <th>EDAD_cat</th>\n",
       "    </tr>\n",
       "  </thead>\n",
       "  <tbody>\n",
       "    <tr>\n",
       "      <th>0</th>\n",
       "      <td>DESCONOCIDO</td>\n",
       "      <td>DESCONOCIDO</td>\n",
       "      <td>53.0</td>\n",
       "      <td>137.090</td>\n",
       "      <td>268.0</td>\n",
       "      <td>130.0</td>\n",
       "      <td>1.08</td>\n",
       "      <td>41.9</td>\n",
       "      <td>11.0</td>\n",
       "      <td>14.0</td>\n",
       "      <td>42.0</td>\n",
       "      <td>Grave</td>\n",
       "      <td>1</td>\n",
       "      <td>Moderado (Buen Pronostico)</td>\n",
       "      <td>Moderado</td>\n",
       "      <td>Alto</td>\n",
       "      <td>Riesgo</td>\n",
       "      <td>Normal</td>\n",
       "      <td>Límite alto</td>\n",
       "      <td>Normal</td>\n",
       "      <td>Adulto</td>\n",
       "    </tr>\n",
       "    <tr>\n",
       "      <th>1</th>\n",
       "      <td>si</td>\n",
       "      <td>si</td>\n",
       "      <td>54.0</td>\n",
       "      <td>119.995</td>\n",
       "      <td>187.0</td>\n",
       "      <td>130.0</td>\n",
       "      <td>1.09</td>\n",
       "      <td>8.3</td>\n",
       "      <td>15.0</td>\n",
       "      <td>6.0</td>\n",
       "      <td>0.0</td>\n",
       "      <td>Sin Déficit</td>\n",
       "      <td>0</td>\n",
       "      <td>Moderado (Buen Pronostico)</td>\n",
       "      <td>Leve</td>\n",
       "      <td>Normal</td>\n",
       "      <td>Riesgo</td>\n",
       "      <td>Normal</td>\n",
       "      <td>Límite alto</td>\n",
       "      <td>Normal</td>\n",
       "      <td>Adulto</td>\n",
       "    </tr>\n",
       "    <tr>\n",
       "      <th>2</th>\n",
       "      <td>si</td>\n",
       "      <td>si</td>\n",
       "      <td>78.0</td>\n",
       "      <td>359.420</td>\n",
       "      <td>159.0</td>\n",
       "      <td>97.0</td>\n",
       "      <td>0.89</td>\n",
       "      <td>8.5</td>\n",
       "      <td>15.0</td>\n",
       "      <td>5.0</td>\n",
       "      <td>2.0</td>\n",
       "      <td>Leve (Trombolisando)</td>\n",
       "      <td>0</td>\n",
       "      <td>Leve (Trombolisando)</td>\n",
       "      <td>Leve</td>\n",
       "      <td>Normal</td>\n",
       "      <td>Riesgo</td>\n",
       "      <td>Normal</td>\n",
       "      <td>Límite alto</td>\n",
       "      <td>Muy Alto</td>\n",
       "      <td>Anciano</td>\n",
       "    </tr>\n",
       "    <tr>\n",
       "      <th>3</th>\n",
       "      <td>si</td>\n",
       "      <td>si</td>\n",
       "      <td>87.0</td>\n",
       "      <td>186.200</td>\n",
       "      <td>193.0</td>\n",
       "      <td>133.0</td>\n",
       "      <td>0.90</td>\n",
       "      <td>7.0</td>\n",
       "      <td>15.0</td>\n",
       "      <td>1.0</td>\n",
       "      <td>0.0</td>\n",
       "      <td>Sin Déficit</td>\n",
       "      <td>0</td>\n",
       "      <td>Déficit Mínimo</td>\n",
       "      <td>Leve</td>\n",
       "      <td>Normal</td>\n",
       "      <td>Riesgo</td>\n",
       "      <td>Normal</td>\n",
       "      <td>Límite alto</td>\n",
       "      <td>Alto</td>\n",
       "      <td>Anciano</td>\n",
       "    </tr>\n",
       "    <tr>\n",
       "      <th>4</th>\n",
       "      <td>si</td>\n",
       "      <td>si</td>\n",
       "      <td>69.0</td>\n",
       "      <td>170.000</td>\n",
       "      <td>184.0</td>\n",
       "      <td>137.0</td>\n",
       "      <td>1.28</td>\n",
       "      <td>12.1</td>\n",
       "      <td>15.0</td>\n",
       "      <td>3.0</td>\n",
       "      <td>2.0</td>\n",
       "      <td>Leve (Trombolisando)</td>\n",
       "      <td>0</td>\n",
       "      <td>Leve (Trombolisando)</td>\n",
       "      <td>Leve</td>\n",
       "      <td>Alto</td>\n",
       "      <td>Riesgo</td>\n",
       "      <td>Normal</td>\n",
       "      <td>Límite alto</td>\n",
       "      <td>Alto</td>\n",
       "      <td>Anciano</td>\n",
       "    </tr>\n",
       "  </tbody>\n",
       "</table>\n",
       "</div>"
      ],
      "text/plain": [
       "           HTA     DIABETES  EDAD  ...  COL. TOTAL_cat  GLUCOSA_cat  EDAD_cat\n",
       "0  DESCONOCIDO  DESCONOCIDO  53.0  ...     Límite alto       Normal    Adulto\n",
       "1           si           si  54.0  ...     Límite alto       Normal    Adulto\n",
       "2           si           si  78.0  ...     Límite alto     Muy Alto   Anciano\n",
       "3           si           si  87.0  ...     Límite alto         Alto   Anciano\n",
       "4           si           si  69.0  ...     Límite alto         Alto   Anciano\n",
       "\n",
       "[5 rows x 21 columns]"
      ]
     },
     "execution_count": 825,
     "metadata": {},
     "output_type": "execute_result"
    }
   ],
   "source": [
    "dataset.head()"
   ]
  },
  {
   "cell_type": "markdown",
   "id": "c6b5cb78",
   "metadata": {},
   "source": [
    "## Transformación de los datos"
   ]
  },
  {
   "cell_type": "markdown",
   "id": "cb6ba338",
   "metadata": {},
   "source": [
    "## Binary Encoding (Codificación binaria)\n",
    "\n",
    "Lo que hace este proceso es la transformación de variables de una columna a binario si es posible"
   ]
  },
  {
   "cell_type": "code",
   "execution_count": 826,
   "id": "2c17356a",
   "metadata": {},
   "outputs": [
    {
     "data": {
      "text/plain": [
       "['INR_cat', 'COL. TOTAL_cat']"
      ]
     },
     "execution_count": 826,
     "metadata": {},
     "output_type": "execute_result"
    }
   ],
   "source": [
    "binary_cols = [col for col in dataset.columns if dataset[col].dtype not in [int, float]\n",
    "               and dataset[col].nunique() == 2]\n",
    "\n",
    "def label_encoder(dataframe, binary_col):\n",
    "    labelencoder = LabelEncoder()\n",
    "    dataframe[binary_col] = labelencoder.fit_transform(dataframe[binary_col])\n",
    "    return dataframe\n",
    "\n",
    "\n",
    "binary_cols"
   ]
  },
  {
   "cell_type": "code",
   "execution_count": 827,
   "id": "f60d38c0",
   "metadata": {},
   "outputs": [
    {
     "data": {
      "text/html": [
       "<div>\n",
       "<style scoped>\n",
       "    .dataframe tbody tr th:only-of-type {\n",
       "        vertical-align: middle;\n",
       "    }\n",
       "\n",
       "    .dataframe tbody tr th {\n",
       "        vertical-align: top;\n",
       "    }\n",
       "\n",
       "    .dataframe thead th {\n",
       "        text-align: right;\n",
       "    }\n",
       "</style>\n",
       "<table border=\"1\" class=\"dataframe\">\n",
       "  <thead>\n",
       "    <tr style=\"text-align: right;\">\n",
       "      <th></th>\n",
       "      <th>HTA</th>\n",
       "      <th>DIABETES</th>\n",
       "      <th>EDAD</th>\n",
       "      <th>GLUCOSA</th>\n",
       "      <th>COL. TOTAL</th>\n",
       "      <th>TRIGLICERIDOS</th>\n",
       "      <th>INR</th>\n",
       "      <th>CONTEO G.B.</th>\n",
       "      <th>GLASGOW AL INICO ACV</th>\n",
       "      <th>NIHSS INICO ACV</th>\n",
       "      <th>NIHSS alta ACV</th>\n",
       "      <th>NIHSS_alta_cat</th>\n",
       "      <th>NIHSS_alta_ESTABLE_O_GRAVE</th>\n",
       "      <th>NIHSS_INICIO_cat</th>\n",
       "      <th>GLASGOW_cat</th>\n",
       "      <th>CONTEO G.B._cat</th>\n",
       "      <th>INR_cat</th>\n",
       "      <th>TRIGLICERIDOS_cat</th>\n",
       "      <th>COL. TOTAL_cat</th>\n",
       "      <th>GLUCOSA_cat</th>\n",
       "      <th>EDAD_cat</th>\n",
       "    </tr>\n",
       "  </thead>\n",
       "  <tbody>\n",
       "    <tr>\n",
       "      <th>0</th>\n",
       "      <td>DESCONOCIDO</td>\n",
       "      <td>DESCONOCIDO</td>\n",
       "      <td>53.0</td>\n",
       "      <td>137.090</td>\n",
       "      <td>268.0</td>\n",
       "      <td>130.0</td>\n",
       "      <td>1.08</td>\n",
       "      <td>41.9</td>\n",
       "      <td>11.0</td>\n",
       "      <td>14.0</td>\n",
       "      <td>42.0</td>\n",
       "      <td>Grave</td>\n",
       "      <td>1</td>\n",
       "      <td>Moderado (Buen Pronostico)</td>\n",
       "      <td>Moderado</td>\n",
       "      <td>Alto</td>\n",
       "      <td>1</td>\n",
       "      <td>Normal</td>\n",
       "      <td>0</td>\n",
       "      <td>Normal</td>\n",
       "      <td>Adulto</td>\n",
       "    </tr>\n",
       "    <tr>\n",
       "      <th>1</th>\n",
       "      <td>si</td>\n",
       "      <td>si</td>\n",
       "      <td>54.0</td>\n",
       "      <td>119.995</td>\n",
       "      <td>187.0</td>\n",
       "      <td>130.0</td>\n",
       "      <td>1.09</td>\n",
       "      <td>8.3</td>\n",
       "      <td>15.0</td>\n",
       "      <td>6.0</td>\n",
       "      <td>0.0</td>\n",
       "      <td>Sin Déficit</td>\n",
       "      <td>0</td>\n",
       "      <td>Moderado (Buen Pronostico)</td>\n",
       "      <td>Leve</td>\n",
       "      <td>Normal</td>\n",
       "      <td>1</td>\n",
       "      <td>Normal</td>\n",
       "      <td>0</td>\n",
       "      <td>Normal</td>\n",
       "      <td>Adulto</td>\n",
       "    </tr>\n",
       "    <tr>\n",
       "      <th>2</th>\n",
       "      <td>si</td>\n",
       "      <td>si</td>\n",
       "      <td>78.0</td>\n",
       "      <td>359.420</td>\n",
       "      <td>159.0</td>\n",
       "      <td>97.0</td>\n",
       "      <td>0.89</td>\n",
       "      <td>8.5</td>\n",
       "      <td>15.0</td>\n",
       "      <td>5.0</td>\n",
       "      <td>2.0</td>\n",
       "      <td>Leve (Trombolisando)</td>\n",
       "      <td>0</td>\n",
       "      <td>Leve (Trombolisando)</td>\n",
       "      <td>Leve</td>\n",
       "      <td>Normal</td>\n",
       "      <td>1</td>\n",
       "      <td>Normal</td>\n",
       "      <td>0</td>\n",
       "      <td>Muy Alto</td>\n",
       "      <td>Anciano</td>\n",
       "    </tr>\n",
       "    <tr>\n",
       "      <th>3</th>\n",
       "      <td>si</td>\n",
       "      <td>si</td>\n",
       "      <td>87.0</td>\n",
       "      <td>186.200</td>\n",
       "      <td>193.0</td>\n",
       "      <td>133.0</td>\n",
       "      <td>0.90</td>\n",
       "      <td>7.0</td>\n",
       "      <td>15.0</td>\n",
       "      <td>1.0</td>\n",
       "      <td>0.0</td>\n",
       "      <td>Sin Déficit</td>\n",
       "      <td>0</td>\n",
       "      <td>Déficit Mínimo</td>\n",
       "      <td>Leve</td>\n",
       "      <td>Normal</td>\n",
       "      <td>1</td>\n",
       "      <td>Normal</td>\n",
       "      <td>0</td>\n",
       "      <td>Alto</td>\n",
       "      <td>Anciano</td>\n",
       "    </tr>\n",
       "    <tr>\n",
       "      <th>4</th>\n",
       "      <td>si</td>\n",
       "      <td>si</td>\n",
       "      <td>69.0</td>\n",
       "      <td>170.000</td>\n",
       "      <td>184.0</td>\n",
       "      <td>137.0</td>\n",
       "      <td>1.28</td>\n",
       "      <td>12.1</td>\n",
       "      <td>15.0</td>\n",
       "      <td>3.0</td>\n",
       "      <td>2.0</td>\n",
       "      <td>Leve (Trombolisando)</td>\n",
       "      <td>0</td>\n",
       "      <td>Leve (Trombolisando)</td>\n",
       "      <td>Leve</td>\n",
       "      <td>Alto</td>\n",
       "      <td>1</td>\n",
       "      <td>Normal</td>\n",
       "      <td>0</td>\n",
       "      <td>Alto</td>\n",
       "      <td>Anciano</td>\n",
       "    </tr>\n",
       "  </tbody>\n",
       "</table>\n",
       "</div>"
      ],
      "text/plain": [
       "           HTA     DIABETES  EDAD  ...  COL. TOTAL_cat  GLUCOSA_cat  EDAD_cat\n",
       "0  DESCONOCIDO  DESCONOCIDO  53.0  ...               0       Normal    Adulto\n",
       "1           si           si  54.0  ...               0       Normal    Adulto\n",
       "2           si           si  78.0  ...               0     Muy Alto   Anciano\n",
       "3           si           si  87.0  ...               0         Alto   Anciano\n",
       "4           si           si  69.0  ...               0         Alto   Anciano\n",
       "\n",
       "[5 rows x 21 columns]"
      ]
     },
     "execution_count": 827,
     "metadata": {},
     "output_type": "execute_result"
    }
   ],
   "source": [
    "for col in binary_cols:\n",
    "    label_encoder(dataset, col)\n",
    "    \n",
    "dataset.head()"
   ]
  },
  {
   "cell_type": "markdown",
   "id": "c2862eb2",
   "metadata": {},
   "source": [
    "## Label Encoding (Codificación de etiquetas)"
   ]
  },
  {
   "cell_type": "code",
   "execution_count": 828,
   "id": "154c8d58",
   "metadata": {},
   "outputs": [],
   "source": [
    "from sklearn.preprocessing import LabelEncoder, StandardScaler, RobustScaler\n",
    "\n",
    "labelencoder = LabelEncoder()"
   ]
  },
  {
   "cell_type": "code",
   "execution_count": 829,
   "id": "d62b3cc0",
   "metadata": {},
   "outputs": [
    {
     "data": {
      "text/html": [
       "<div>\n",
       "<style scoped>\n",
       "    .dataframe tbody tr th:only-of-type {\n",
       "        vertical-align: middle;\n",
       "    }\n",
       "\n",
       "    .dataframe tbody tr th {\n",
       "        vertical-align: top;\n",
       "    }\n",
       "\n",
       "    .dataframe thead th {\n",
       "        text-align: right;\n",
       "    }\n",
       "</style>\n",
       "<table border=\"1\" class=\"dataframe\">\n",
       "  <thead>\n",
       "    <tr style=\"text-align: right;\">\n",
       "      <th></th>\n",
       "      <th>HTA</th>\n",
       "      <th>DIABETES</th>\n",
       "      <th>EDAD</th>\n",
       "      <th>GLUCOSA</th>\n",
       "      <th>COL. TOTAL</th>\n",
       "      <th>TRIGLICERIDOS</th>\n",
       "      <th>INR</th>\n",
       "      <th>CONTEO G.B.</th>\n",
       "      <th>GLASGOW AL INICO ACV</th>\n",
       "      <th>NIHSS INICO ACV</th>\n",
       "      <th>NIHSS alta ACV</th>\n",
       "      <th>NIHSS_alta_cat</th>\n",
       "      <th>NIHSS_alta_ESTABLE_O_GRAVE</th>\n",
       "      <th>NIHSS_INICIO_cat</th>\n",
       "      <th>GLASGOW_cat</th>\n",
       "      <th>CONTEO G.B._cat</th>\n",
       "      <th>INR_cat</th>\n",
       "      <th>TRIGLICERIDOS_cat</th>\n",
       "      <th>COL. TOTAL_cat</th>\n",
       "      <th>GLUCOSA_cat</th>\n",
       "      <th>EDAD_cat</th>\n",
       "    </tr>\n",
       "  </thead>\n",
       "  <tbody>\n",
       "    <tr>\n",
       "      <th>0</th>\n",
       "      <td>0</td>\n",
       "      <td>0</td>\n",
       "      <td>53.0</td>\n",
       "      <td>137.090</td>\n",
       "      <td>268.0</td>\n",
       "      <td>130.0</td>\n",
       "      <td>1.08</td>\n",
       "      <td>41.9</td>\n",
       "      <td>11.0</td>\n",
       "      <td>14.0</td>\n",
       "      <td>42.0</td>\n",
       "      <td>2</td>\n",
       "      <td>1</td>\n",
       "      <td>Moderado (Buen Pronostico)</td>\n",
       "      <td>2</td>\n",
       "      <td>0</td>\n",
       "      <td>1</td>\n",
       "      <td>2</td>\n",
       "      <td>0</td>\n",
       "      <td>3</td>\n",
       "      <td>0</td>\n",
       "    </tr>\n",
       "    <tr>\n",
       "      <th>1</th>\n",
       "      <td>2</td>\n",
       "      <td>2</td>\n",
       "      <td>54.0</td>\n",
       "      <td>119.995</td>\n",
       "      <td>187.0</td>\n",
       "      <td>130.0</td>\n",
       "      <td>1.09</td>\n",
       "      <td>8.3</td>\n",
       "      <td>15.0</td>\n",
       "      <td>6.0</td>\n",
       "      <td>0.0</td>\n",
       "      <td>5</td>\n",
       "      <td>0</td>\n",
       "      <td>Moderado (Buen Pronostico)</td>\n",
       "      <td>1</td>\n",
       "      <td>2</td>\n",
       "      <td>1</td>\n",
       "      <td>2</td>\n",
       "      <td>0</td>\n",
       "      <td>3</td>\n",
       "      <td>0</td>\n",
       "    </tr>\n",
       "    <tr>\n",
       "      <th>2</th>\n",
       "      <td>2</td>\n",
       "      <td>2</td>\n",
       "      <td>78.0</td>\n",
       "      <td>359.420</td>\n",
       "      <td>159.0</td>\n",
       "      <td>97.0</td>\n",
       "      <td>0.89</td>\n",
       "      <td>8.5</td>\n",
       "      <td>15.0</td>\n",
       "      <td>5.0</td>\n",
       "      <td>2.0</td>\n",
       "      <td>3</td>\n",
       "      <td>0</td>\n",
       "      <td>Leve (Trombolisando)</td>\n",
       "      <td>1</td>\n",
       "      <td>2</td>\n",
       "      <td>1</td>\n",
       "      <td>2</td>\n",
       "      <td>0</td>\n",
       "      <td>2</td>\n",
       "      <td>2</td>\n",
       "    </tr>\n",
       "    <tr>\n",
       "      <th>3</th>\n",
       "      <td>2</td>\n",
       "      <td>2</td>\n",
       "      <td>87.0</td>\n",
       "      <td>186.200</td>\n",
       "      <td>193.0</td>\n",
       "      <td>133.0</td>\n",
       "      <td>0.90</td>\n",
       "      <td>7.0</td>\n",
       "      <td>15.0</td>\n",
       "      <td>1.0</td>\n",
       "      <td>0.0</td>\n",
       "      <td>5</td>\n",
       "      <td>0</td>\n",
       "      <td>Déficit Mínimo</td>\n",
       "      <td>1</td>\n",
       "      <td>2</td>\n",
       "      <td>1</td>\n",
       "      <td>2</td>\n",
       "      <td>0</td>\n",
       "      <td>0</td>\n",
       "      <td>2</td>\n",
       "    </tr>\n",
       "    <tr>\n",
       "      <th>4</th>\n",
       "      <td>2</td>\n",
       "      <td>2</td>\n",
       "      <td>69.0</td>\n",
       "      <td>170.000</td>\n",
       "      <td>184.0</td>\n",
       "      <td>137.0</td>\n",
       "      <td>1.28</td>\n",
       "      <td>12.1</td>\n",
       "      <td>15.0</td>\n",
       "      <td>3.0</td>\n",
       "      <td>2.0</td>\n",
       "      <td>3</td>\n",
       "      <td>0</td>\n",
       "      <td>Leve (Trombolisando)</td>\n",
       "      <td>1</td>\n",
       "      <td>0</td>\n",
       "      <td>1</td>\n",
       "      <td>2</td>\n",
       "      <td>0</td>\n",
       "      <td>0</td>\n",
       "      <td>2</td>\n",
       "    </tr>\n",
       "  </tbody>\n",
       "</table>\n",
       "</div>"
      ],
      "text/plain": [
       "   HTA  DIABETES  EDAD  ...  COL. TOTAL_cat  GLUCOSA_cat  EDAD_cat\n",
       "0    0         0  53.0  ...               0            3         0\n",
       "1    2         2  54.0  ...               0            3         0\n",
       "2    2         2  78.0  ...               0            2         2\n",
       "3    2         2  87.0  ...               0            0         2\n",
       "4    2         2  69.0  ...               0            0         2\n",
       "\n",
       "[5 rows x 21 columns]"
      ]
     },
     "execution_count": 829,
     "metadata": {},
     "output_type": "execute_result"
    }
   ],
   "source": [
    "dataset[\"NIHSS_alta_cat\"] = labelencoder.fit_transform(dataset[\"NIHSS_alta_cat\"])\n",
    "dataset[\"GLASGOW_cat\"] = labelencoder.fit_transform(dataset[\"GLASGOW_cat\"])\n",
    "dataset[\"CONTEO G.B._cat\"] = labelencoder.fit_transform(dataset[\"CONTEO G.B._cat\"])\n",
    "dataset[\"TRIGLICERIDOS_cat\"] = labelencoder.fit_transform(dataset[\"TRIGLICERIDOS_cat\"])\n",
    "dataset[\"GLUCOSA_cat\"] = labelencoder.fit_transform(dataset[\"GLUCOSA_cat\"])\n",
    "dataset[\"EDAD_cat\"] = labelencoder.fit_transform(dataset[\"EDAD_cat\"])\n",
    "dataset[\"HTA\"] = labelencoder.fit_transform(dataset[\"HTA\"])\n",
    "dataset[\"DIABETES\"] = labelencoder.fit_transform(dataset[\"DIABETES\"])\n",
    "\n",
    "dataset.head(5)"
   ]
  },
  {
   "cell_type": "markdown",
   "id": "089a3976",
   "metadata": {},
   "source": [
    "## One-Hot Encoding:"
   ]
  },
  {
   "cell_type": "code",
   "execution_count": 830,
   "id": "05712e9a",
   "metadata": {},
   "outputs": [
    {
     "data": {
      "text/html": [
       "<div>\n",
       "<style scoped>\n",
       "    .dataframe tbody tr th:only-of-type {\n",
       "        vertical-align: middle;\n",
       "    }\n",
       "\n",
       "    .dataframe tbody tr th {\n",
       "        vertical-align: top;\n",
       "    }\n",
       "\n",
       "    .dataframe thead th {\n",
       "        text-align: right;\n",
       "    }\n",
       "</style>\n",
       "<table border=\"1\" class=\"dataframe\">\n",
       "  <thead>\n",
       "    <tr style=\"text-align: right;\">\n",
       "      <th></th>\n",
       "      <th>HTA</th>\n",
       "      <th>DIABETES</th>\n",
       "      <th>EDAD</th>\n",
       "      <th>GLUCOSA</th>\n",
       "      <th>COL. TOTAL</th>\n",
       "      <th>TRIGLICERIDOS</th>\n",
       "      <th>INR</th>\n",
       "      <th>CONTEO G.B.</th>\n",
       "      <th>GLASGOW AL INICO ACV</th>\n",
       "      <th>NIHSS INICO ACV</th>\n",
       "      <th>NIHSS alta ACV</th>\n",
       "      <th>NIHSS_alta_cat</th>\n",
       "      <th>NIHSS_alta_ESTABLE_O_GRAVE</th>\n",
       "      <th>GLASGOW_cat</th>\n",
       "      <th>CONTEO G.B._cat</th>\n",
       "      <th>INR_cat</th>\n",
       "      <th>TRIGLICERIDOS_cat</th>\n",
       "      <th>COL. TOTAL_cat</th>\n",
       "      <th>GLUCOSA_cat</th>\n",
       "      <th>EDAD_cat</th>\n",
       "      <th>NIHSS_INICIO_cat_Déficit Importante</th>\n",
       "      <th>NIHSS_INICIO_cat_Déficit Mínimo</th>\n",
       "      <th>NIHSS_INICIO_cat_Grave</th>\n",
       "      <th>NIHSS_INICIO_cat_Leve (Trombolisando)</th>\n",
       "      <th>NIHSS_INICIO_cat_Moderado (Buen Pronostico)</th>\n",
       "      <th>NIHSS_INICIO_cat_Sin Déficit</th>\n",
       "    </tr>\n",
       "  </thead>\n",
       "  <tbody>\n",
       "    <tr>\n",
       "      <th>0</th>\n",
       "      <td>0</td>\n",
       "      <td>0</td>\n",
       "      <td>53.0</td>\n",
       "      <td>137.090</td>\n",
       "      <td>268.0</td>\n",
       "      <td>130.0</td>\n",
       "      <td>1.08</td>\n",
       "      <td>41.9</td>\n",
       "      <td>11.0</td>\n",
       "      <td>14.0</td>\n",
       "      <td>42.0</td>\n",
       "      <td>2</td>\n",
       "      <td>1</td>\n",
       "      <td>2</td>\n",
       "      <td>0</td>\n",
       "      <td>1</td>\n",
       "      <td>2</td>\n",
       "      <td>0</td>\n",
       "      <td>3</td>\n",
       "      <td>0</td>\n",
       "      <td>0</td>\n",
       "      <td>0</td>\n",
       "      <td>0</td>\n",
       "      <td>0</td>\n",
       "      <td>1</td>\n",
       "      <td>0</td>\n",
       "    </tr>\n",
       "    <tr>\n",
       "      <th>1</th>\n",
       "      <td>2</td>\n",
       "      <td>2</td>\n",
       "      <td>54.0</td>\n",
       "      <td>119.995</td>\n",
       "      <td>187.0</td>\n",
       "      <td>130.0</td>\n",
       "      <td>1.09</td>\n",
       "      <td>8.3</td>\n",
       "      <td>15.0</td>\n",
       "      <td>6.0</td>\n",
       "      <td>0.0</td>\n",
       "      <td>5</td>\n",
       "      <td>0</td>\n",
       "      <td>1</td>\n",
       "      <td>2</td>\n",
       "      <td>1</td>\n",
       "      <td>2</td>\n",
       "      <td>0</td>\n",
       "      <td>3</td>\n",
       "      <td>0</td>\n",
       "      <td>0</td>\n",
       "      <td>0</td>\n",
       "      <td>0</td>\n",
       "      <td>0</td>\n",
       "      <td>1</td>\n",
       "      <td>0</td>\n",
       "    </tr>\n",
       "    <tr>\n",
       "      <th>2</th>\n",
       "      <td>2</td>\n",
       "      <td>2</td>\n",
       "      <td>78.0</td>\n",
       "      <td>359.420</td>\n",
       "      <td>159.0</td>\n",
       "      <td>97.0</td>\n",
       "      <td>0.89</td>\n",
       "      <td>8.5</td>\n",
       "      <td>15.0</td>\n",
       "      <td>5.0</td>\n",
       "      <td>2.0</td>\n",
       "      <td>3</td>\n",
       "      <td>0</td>\n",
       "      <td>1</td>\n",
       "      <td>2</td>\n",
       "      <td>1</td>\n",
       "      <td>2</td>\n",
       "      <td>0</td>\n",
       "      <td>2</td>\n",
       "      <td>2</td>\n",
       "      <td>0</td>\n",
       "      <td>0</td>\n",
       "      <td>0</td>\n",
       "      <td>1</td>\n",
       "      <td>0</td>\n",
       "      <td>0</td>\n",
       "    </tr>\n",
       "    <tr>\n",
       "      <th>3</th>\n",
       "      <td>2</td>\n",
       "      <td>2</td>\n",
       "      <td>87.0</td>\n",
       "      <td>186.200</td>\n",
       "      <td>193.0</td>\n",
       "      <td>133.0</td>\n",
       "      <td>0.90</td>\n",
       "      <td>7.0</td>\n",
       "      <td>15.0</td>\n",
       "      <td>1.0</td>\n",
       "      <td>0.0</td>\n",
       "      <td>5</td>\n",
       "      <td>0</td>\n",
       "      <td>1</td>\n",
       "      <td>2</td>\n",
       "      <td>1</td>\n",
       "      <td>2</td>\n",
       "      <td>0</td>\n",
       "      <td>0</td>\n",
       "      <td>2</td>\n",
       "      <td>0</td>\n",
       "      <td>1</td>\n",
       "      <td>0</td>\n",
       "      <td>0</td>\n",
       "      <td>0</td>\n",
       "      <td>0</td>\n",
       "    </tr>\n",
       "    <tr>\n",
       "      <th>4</th>\n",
       "      <td>2</td>\n",
       "      <td>2</td>\n",
       "      <td>69.0</td>\n",
       "      <td>170.000</td>\n",
       "      <td>184.0</td>\n",
       "      <td>137.0</td>\n",
       "      <td>1.28</td>\n",
       "      <td>12.1</td>\n",
       "      <td>15.0</td>\n",
       "      <td>3.0</td>\n",
       "      <td>2.0</td>\n",
       "      <td>3</td>\n",
       "      <td>0</td>\n",
       "      <td>1</td>\n",
       "      <td>0</td>\n",
       "      <td>1</td>\n",
       "      <td>2</td>\n",
       "      <td>0</td>\n",
       "      <td>0</td>\n",
       "      <td>2</td>\n",
       "      <td>0</td>\n",
       "      <td>0</td>\n",
       "      <td>0</td>\n",
       "      <td>1</td>\n",
       "      <td>0</td>\n",
       "      <td>0</td>\n",
       "    </tr>\n",
       "  </tbody>\n",
       "</table>\n",
       "</div>"
      ],
      "text/plain": [
       "   HTA  ...  NIHSS_INICIO_cat_Sin Déficit\n",
       "0    0  ...                             0\n",
       "1    2  ...                             0\n",
       "2    2  ...                             0\n",
       "3    2  ...                             0\n",
       "4    2  ...                             0\n",
       "\n",
       "[5 rows x 26 columns]"
      ]
     },
     "execution_count": 830,
     "metadata": {},
     "output_type": "execute_result"
    }
   ],
   "source": [
    "# One Hot Encoding\n",
    "dataset = pd.get_dummies(dataset)\n",
    "\n",
    "\n",
    "# Como son muchas columnas, muestro todas\n",
    "pd.options.display.max_columns = 0\n",
    "\n",
    "dataset.head(5)"
   ]
  },
  {
   "cell_type": "markdown",
   "id": "6ef3d67e",
   "metadata": {},
   "source": [
    "# Modelo de Machine Learning\n",
    "\n",
    "<h1 align='center'>  Regresión Logística </h1> "
   ]
  },
  {
   "cell_type": "markdown",
   "id": "29bfca2d",
   "metadata": {},
   "source": [
    "# 5-. Entrenar el modelo en los datos de entrenamiento"
   ]
  },
  {
   "cell_type": "code",
   "execution_count": 831,
   "id": "fff1b096",
   "metadata": {},
   "outputs": [],
   "source": [
    "# variables objetivo e independientes:\n",
    "from sklearn.model_selection import train_test_split\n",
    "\n",
    "# X son nuestras variables independientes\n",
    "X = dataset.drop('NIHSS_alta_ESTABLE_O_GRAVE', axis = 1)\n",
    "\n",
    "# y es nuestra variable dependiente\n",
    "y = dataset['NIHSS_alta_ESTABLE_O_GRAVE']\n",
    "\n",
    "# Uso de Skicit-learn para dividir datos en conjuntos de entrenamiento y prueba \n",
    "# División 75% de datos para entrenamiento, 25% de datos para test\n",
    "X_train, X_test, y_train, y_test = train_test_split(X, y, test_size=0.8, random_state=0)"
   ]
  },
  {
   "cell_type": "markdown",
   "id": "2af4ef26",
   "metadata": {},
   "source": [
    "## Creamos el modelo y entrenamos"
   ]
  },
  {
   "cell_type": "code",
   "execution_count": 832,
   "id": "64f24697",
   "metadata": {},
   "outputs": [
    {
     "data": {
      "text/html": [
       "<style>#sk-container-id-4 {color: black;background-color: white;}#sk-container-id-4 pre{padding: 0;}#sk-container-id-4 div.sk-toggleable {background-color: white;}#sk-container-id-4 label.sk-toggleable__label {cursor: pointer;display: block;width: 100%;margin-bottom: 0;padding: 0.3em;box-sizing: border-box;text-align: center;}#sk-container-id-4 label.sk-toggleable__label-arrow:before {content: \"▸\";float: left;margin-right: 0.25em;color: #696969;}#sk-container-id-4 label.sk-toggleable__label-arrow:hover:before {color: black;}#sk-container-id-4 div.sk-estimator:hover label.sk-toggleable__label-arrow:before {color: black;}#sk-container-id-4 div.sk-toggleable__content {max-height: 0;max-width: 0;overflow: hidden;text-align: left;background-color: #f0f8ff;}#sk-container-id-4 div.sk-toggleable__content pre {margin: 0.2em;color: black;border-radius: 0.25em;background-color: #f0f8ff;}#sk-container-id-4 input.sk-toggleable__control:checked~div.sk-toggleable__content {max-height: 200px;max-width: 100%;overflow: auto;}#sk-container-id-4 input.sk-toggleable__control:checked~label.sk-toggleable__label-arrow:before {content: \"▾\";}#sk-container-id-4 div.sk-estimator input.sk-toggleable__control:checked~label.sk-toggleable__label {background-color: #d4ebff;}#sk-container-id-4 div.sk-label input.sk-toggleable__control:checked~label.sk-toggleable__label {background-color: #d4ebff;}#sk-container-id-4 input.sk-hidden--visually {border: 0;clip: rect(1px 1px 1px 1px);clip: rect(1px, 1px, 1px, 1px);height: 1px;margin: -1px;overflow: hidden;padding: 0;position: absolute;width: 1px;}#sk-container-id-4 div.sk-estimator {font-family: monospace;background-color: #f0f8ff;border: 1px dotted black;border-radius: 0.25em;box-sizing: border-box;margin-bottom: 0.5em;}#sk-container-id-4 div.sk-estimator:hover {background-color: #d4ebff;}#sk-container-id-4 div.sk-parallel-item::after {content: \"\";width: 100%;border-bottom: 1px solid gray;flex-grow: 1;}#sk-container-id-4 div.sk-label:hover label.sk-toggleable__label {background-color: #d4ebff;}#sk-container-id-4 div.sk-serial::before {content: \"\";position: absolute;border-left: 1px solid gray;box-sizing: border-box;top: 0;bottom: 0;left: 50%;z-index: 0;}#sk-container-id-4 div.sk-serial {display: flex;flex-direction: column;align-items: center;background-color: white;padding-right: 0.2em;padding-left: 0.2em;position: relative;}#sk-container-id-4 div.sk-item {position: relative;z-index: 1;}#sk-container-id-4 div.sk-parallel {display: flex;align-items: stretch;justify-content: center;background-color: white;position: relative;}#sk-container-id-4 div.sk-item::before, #sk-container-id-4 div.sk-parallel-item::before {content: \"\";position: absolute;border-left: 1px solid gray;box-sizing: border-box;top: 0;bottom: 0;left: 50%;z-index: -1;}#sk-container-id-4 div.sk-parallel-item {display: flex;flex-direction: column;z-index: 1;position: relative;background-color: white;}#sk-container-id-4 div.sk-parallel-item:first-child::after {align-self: flex-end;width: 50%;}#sk-container-id-4 div.sk-parallel-item:last-child::after {align-self: flex-start;width: 50%;}#sk-container-id-4 div.sk-parallel-item:only-child::after {width: 0;}#sk-container-id-4 div.sk-dashed-wrapped {border: 1px dashed gray;margin: 0 0.4em 0.5em 0.4em;box-sizing: border-box;padding-bottom: 0.4em;background-color: white;}#sk-container-id-4 div.sk-label label {font-family: monospace;font-weight: bold;display: inline-block;line-height: 1.2em;}#sk-container-id-4 div.sk-label-container {text-align: center;}#sk-container-id-4 div.sk-container {/* jupyter's `normalize.less` sets `[hidden] { display: none; }` but bootstrap.min.css set `[hidden] { display: none !important; }` so we also need the `!important` here to be able to override the default hidden behavior on the sphinx rendered scikit-learn.org. See: https://github.com/scikit-learn/scikit-learn/issues/21755 */display: inline-block !important;position: relative;}#sk-container-id-4 div.sk-text-repr-fallback {display: none;}</style><div id=\"sk-container-id-4\" class=\"sk-top-container\"><div class=\"sk-text-repr-fallback\"><pre>LogisticRegression(max_iter=10000)</pre><b>In a Jupyter environment, please rerun this cell to show the HTML representation or trust the notebook. <br />On GitHub, the HTML representation is unable to render, please try loading this page with nbviewer.org.</b></div><div class=\"sk-container\" hidden><div class=\"sk-item\"><div class=\"sk-estimator sk-toggleable\"><input class=\"sk-toggleable__control sk-hidden--visually\" id=\"sk-estimator-id-4\" type=\"checkbox\" checked><label for=\"sk-estimator-id-4\" class=\"sk-toggleable__label sk-toggleable__label-arrow\">LogisticRegression</label><div class=\"sk-toggleable__content\"><pre>LogisticRegression(max_iter=10000)</pre></div></div></div></div></div>"
      ],
      "text/plain": [
       "LogisticRegression(max_iter=10000)"
      ]
     },
     "execution_count": 832,
     "metadata": {},
     "output_type": "execute_result"
    }
   ],
   "source": [
    "from sklearn import linear_model\n",
    "from sklearn.model_selection import train_test_split #separa las metricas\n",
    "from sklearn import metrics\n",
    "\n",
    "# Creamos el modelo de Arbol de Decisión (y configuramos el número máximo de nodos-hoja)\n",
    "lr = linear_model.LogisticRegression(solver='lbfgs', max_iter=10000)\n",
    "lr.fit(X_train, y_train)"
   ]
  },
  {
   "cell_type": "markdown",
   "id": "7f4835ca",
   "metadata": {},
   "source": [
    "# 6-. Predicciones sobre los datos de prueba\n",
    "Se evalúa la capacidad predictiva del árbol inicial calculando el accuracy en el conjunto de test."
   ]
  },
  {
   "cell_type": "code",
   "execution_count": 833,
   "id": "667f16ec",
   "metadata": {},
   "outputs": [],
   "source": [
    "# Predicción Entrenamiento \n",
    "prediccionEntreno = lr.predict(X_train)\n",
    "\n",
    "# Predicción Tests\n",
    "prediccionTests = lr.predict(X_test)"
   ]
  },
  {
   "cell_type": "markdown",
   "id": "12dde3fc",
   "metadata": {},
   "source": [
    "# Fase de Entrenamiento"
   ]
  },
  {
   "cell_type": "code",
   "execution_count": 834,
   "id": "9a0c7a18",
   "metadata": {
    "scrolled": true
   },
   "outputs": [
    {
     "name": "stdout",
     "output_type": "stream",
     "text": [
      "Entrenamiento - Presición : 1.0\n",
      "Entrenamiento - Reporte de clasificación:\n",
      "               precision    recall  f1-score   support\n",
      "\n",
      "           0       1.00      1.00      1.00         6\n",
      "           1       1.00      1.00      1.00         3\n",
      "\n",
      "    accuracy                           1.00         9\n",
      "   macro avg       1.00      1.00      1.00         9\n",
      "weighted avg       1.00      1.00      1.00         9\n",
      "\n"
     ]
    }
   ],
   "source": [
    "from sklearn import metrics\n",
    "\n",
    "print(\"Entrenamiento - Presición :\", metrics.accuracy_score(y_train, prediccionEntreno))\n",
    "print(\"Entrenamiento - Reporte de clasificación:\\n\", metrics.classification_report(y_train, prediccionEntreno))"
   ]
  },
  {
   "cell_type": "markdown",
   "id": "35933f05",
   "metadata": {},
   "source": [
    "### Matriz de Confusión\n",
    "\n",
    "En el campo de la inteligencia artificial y en especial en el problema de la clasificación estadística, una matriz de confusión es una herramienta que permite la visualización del desempeño de un algoritmo que se emplea en aprendizaje supervisado."
   ]
  },
  {
   "cell_type": "code",
   "execution_count": 835,
   "id": "d956aed7",
   "metadata": {},
   "outputs": [
    {
     "data": {
      "image/png": "[encoded data removed]",
      "text/plain": [
       "<Figure size 600x600 with 1 Axes>"
      ]
     },
     "metadata": {},
     "output_type": "display_data"
    }
   ],
   "source": [
    "from matplotlib import pyplot as plot\n",
    "from mlxtend.plotting import plot_confusion_matrix\n",
    "from sklearn.metrics import confusion_matrix\n",
    "\n",
    "matriz = confusion_matrix(y_train, prediccionEntreno)\n",
    "\n",
    "plot_confusion_matrix(conf_mat=matriz, figsize=(6,6), show_normed=False)\n",
    "plot.tight_layout()"
   ]
  },
  {
   "cell_type": "code",
   "execution_count": 836,
   "id": "7297a156",
   "metadata": {},
   "outputs": [
    {
     "data": {
      "text/html": [
       "<div>\n",
       "<style scoped>\n",
       "    .dataframe tbody tr th:only-of-type {\n",
       "        vertical-align: middle;\n",
       "    }\n",
       "\n",
       "    .dataframe tbody tr th {\n",
       "        vertical-align: top;\n",
       "    }\n",
       "\n",
       "    .dataframe thead th {\n",
       "        text-align: right;\n",
       "    }\n",
       "</style>\n",
       "<table border=\"1\" class=\"dataframe\">\n",
       "  <thead>\n",
       "    <tr style=\"text-align: right;\">\n",
       "      <th></th>\n",
       "      <th>0</th>\n",
       "      <th>1</th>\n",
       "    </tr>\n",
       "  </thead>\n",
       "  <tbody>\n",
       "    <tr>\n",
       "      <th>0</th>\n",
       "      <td>1.000000</td>\n",
       "      <td>9.893824e-09</td>\n",
       "    </tr>\n",
       "    <tr>\n",
       "      <th>1</th>\n",
       "      <td>1.000000</td>\n",
       "      <td>1.866854e-09</td>\n",
       "    </tr>\n",
       "    <tr>\n",
       "      <th>2</th>\n",
       "      <td>0.953234</td>\n",
       "      <td>4.676604e-02</td>\n",
       "    </tr>\n",
       "  </tbody>\n",
       "</table>\n",
       "</div>"
      ],
      "text/plain": [
       "          0             1\n",
       "0  1.000000  9.893824e-09\n",
       "1  1.000000  1.866854e-09\n",
       "2  0.953234  4.676604e-02"
      ]
     },
     "execution_count": 836,
     "metadata": {},
     "output_type": "execute_result"
    }
   ],
   "source": [
    "# Predicciones probabilísticas\n",
    "# ==============================================================================\n",
    "# Con .predict_proba() se obtiene, para cada observación, la probabilidad predicha\n",
    "# de pertenecer a cada una de las dos clases.\n",
    "predicciones = lr.predict_proba(X = X_test)\n",
    "predicciones = pd.DataFrame(predicciones, columns = lr.classes_)\n",
    "predicciones.head(3)"
   ]
  },
  {
   "cell_type": "code",
   "execution_count": 837,
   "id": "71e8b267",
   "metadata": {},
   "outputs": [
    {
     "data": {
      "text/plain": [
       "array([0, 0, 0, 0, 0, 0, 1, 0, 0, 1, 0, 0, 0, 0, 0, 1, 1, 1, 1, 0, 0, 0,\n",
       "       0, 0, 0, 0, 1, 1, 0, 0, 0, 0, 0, 0, 1, 0, 1])"
      ]
     },
     "execution_count": 837,
     "metadata": {},
     "output_type": "execute_result"
    }
   ],
   "source": [
    "# Predicciones con clasificación final\n",
    "# ==============================================================================\n",
    "# Con .predict() se obtiene, para cada observación, la clasificación predicha por\n",
    "# el modelo. Esta clasificación se corresponde con la clase con mayor probabilidad.\n",
    "predicciones = lr.predict(X = X_test)\n",
    "predicciones"
   ]
  },
  {
   "cell_type": "markdown",
   "id": "a7605493",
   "metadata": {},
   "source": [
    "# 7-. Comparar las predicciones con los objetivos conocidos del conjunto de pruebas y calcule las métricas de rendimiento\n",
    "Una vez entrenado el modelo, se pueden predecir nuevas observaciones."
   ]
  },
  {
   "cell_type": "markdown",
   "id": "e8d9c7a5",
   "metadata": {},
   "source": [
    "# Fase de validación (Usando datos de Test)"
   ]
  },
  {
   "cell_type": "code",
   "execution_count": 838,
   "id": "40855211",
   "metadata": {},
   "outputs": [
    {
     "name": "stdout",
     "output_type": "stream",
     "text": [
      "Tests - Presición : 0.5945945945945946\n",
      "Tests - Reporte de clasificación:\n",
      "               precision    recall  f1-score   support\n",
      "\n",
      "           0       0.59      0.80      0.68        20\n",
      "           1       0.60      0.35      0.44        17\n",
      "\n",
      "    accuracy                           0.59        37\n",
      "   macro avg       0.60      0.58      0.56        37\n",
      "weighted avg       0.60      0.59      0.57        37\n",
      "\n"
     ]
    }
   ],
   "source": [
    "print(\"Tests - Presición :\", metrics.accuracy_score(y_test, prediccionTests))\n",
    "print(\"Tests - Reporte de clasificación:\\n\", metrics.classification_report(y_test, prediccionTests))"
   ]
  },
  {
   "cell_type": "code",
   "execution_count": 839,
   "id": "d043c87f",
   "metadata": {},
   "outputs": [
    {
     "data": {
      "text/plain": [
       "14.00229308955084"
      ]
     },
     "execution_count": 839,
     "metadata": {},
     "output_type": "execute_result"
    }
   ],
   "source": [
    "from sklearn.metrics import log_loss\n",
    "\n",
    "log_loss(y_test, prediccionTests)"
   ]
  },
  {
   "cell_type": "code",
   "execution_count": null,
   "id": "073cd742",
   "metadata": {},
   "outputs": [],
   "source": []
  },
  {
   "cell_type": "code",
   "execution_count": null,
   "id": "67f0d779",
   "metadata": {},
   "outputs": [],
   "source": []
  }
 ],
 "metadata": {
  "kernelspec": {
   "display_name": "Python 3 (ipykernel)",
   "language": "python",
   "name": "python3"
  },
  "language_info": {
   "codemirror_mode": {
    "name": "ipython",
    "version": 3
   },
   "file_extension": ".py",
   "mimetype": "text/x-python",
   "name": "python",
   "nbconvert_exporter": "python",
   "pygments_lexer": "ipython3",
   "version": "3.10.6"
  }
 },
 "nbformat": 4,
 "nbformat_minor": 5
}
