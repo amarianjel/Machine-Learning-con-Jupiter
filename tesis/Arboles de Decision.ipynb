{
 "cells": [
  {
   "cell_type": "markdown",
   "id": "61004e10",
   "metadata": {},
   "source": [
    "<h2 align='center'>  Arboles de Decisión </h2> "
   ]
  },
  {
   "cell_type": "markdown",
   "id": "5d0748ed",
   "metadata": {},
   "source": [
    "Los árboles de decisión trabajan de manera descendente y la división de nodos es un concepto importante para cualquier algoritmo de árboles de decisión. La mayoría de los algorítmos tienen un enfoque codicioso a la hora de dividir el espacio de entrada en subconjuntos.\n",
    "\n",
    "El proceso más básico en términos simples es probar y dividir los datos usando diferentes atributos y funciones de costo. En cada paso se selecciona la división que ressulta menos costosa. Los problemas de clasificación y regresión utilizan diferentes funciones de costos. Algunas de estas se mencionan a continuación:\n",
    "\n",
    "* **Error Cuadrático Medio**: Es usada principalmente para árboles de regresión, esta calcula el cuadrado de las diferencias entre el valor observado y predicho.\n",
    "\n",
    "* **Error Absoluto Medio**: Es usada para árboles de regresión, es similar al error cuadrático medio, solo que usa la diferencia en valor absoluto. \n",
    "\n",
    "* **Reducción de Varianza**:  Este fue el primero que se introdujo con el algoritmo CART. Se usa la fórmula estándar de la varianza y se selecciona aquel resultado que minimiza la varianza.\n",
    "\n",
    "* **Impureza de Gini**: Es usado principalmente en clasificación, esta medida viene dada por:\n",
    " $$\\displaystyle\\mbox{Gini(t)} = 1-\\sum_{i=0}^{c-1}[p(i/t)]^2$$\n",
    "\n",
    "\n",
    "* **Ganancia de información**: Es utilizado en árboles de clasificación, en este caso la partición busca aumentar la pureza respecto al nodo padre. Los criterios usado para medir la impureza son los siguientes:\n",
    "\n",
    "* $\\displaystyle\\mbox{Entropia(t)} = -\\sum_{i=0}^{c-1}p(i/t)log_{2}(p(i/t))$\n",
    "\n",
    "* $\\displaystyle\\mbox{Gini(t)} = 1-\\sum_{i=0}^{c-1}[p(i/t)]^2$\n",
    "\n",
    "* $\\displaystyle \\mbox{Error de clasificacion(t)} = 1 - \\max_{i}[p(i/t)]$"
   ]
  },
  {
   "cell_type": "markdown",
   "id": "1f909e73",
   "metadata": {},
   "source": [
    "## Criterios para detener una partición\n",
    "\n",
    "Existen diferentes criterios para evitar que un árbol crezca hasta alcanzar demasiada complejidad, algunos de estos criterios son:\n",
    "\n",
    "* **Prepoda**: Consiste en definir un umbral para la Ganancia de Información y si, en un nodo determinado, ninguna de las particiones proporciona una ganancia mayor al umbral, se para el desarrollo de subárboles en dicho nodo. es facil de implementar, sin embargo tiene la desventaja que no se conoce a priori el umbral óptimo.\n",
    "\n",
    "* **Poda**: Consiste en desarrollar el árbol completo hasta tener particiones completamente puras y a partir de allí comenzar a eliminar ramas del árbol usando algún criterio. Los dos criterios más utilizados son:\n",
    "    * Reemplazar subárboles por hojas si estos no proporcionan una ganacia suficiente de información.\n",
    "    * Reemplazar subárboles por árboles más simples."
   ]
  },
  {
   "cell_type": "markdown",
   "id": "e30c7129",
   "metadata": {},
   "source": [
    "# Jugar con la BDD"
   ]
  },
  {
   "cell_type": "code",
   "execution_count": 13,
   "id": "fe4475ad",
   "metadata": {},
   "outputs": [],
   "source": [
    "from sklearn import datasets, metrics\n",
    "import numpy as np\n",
    "import pandas as pd\n",
    "from sklearn import tree\n",
    "from sklearn.preprocessing import StandardScaler\n",
    "from sklearn.model_selection import train_test_split"
   ]
  },
  {
   "cell_type": "markdown",
   "id": "36368a48",
   "metadata": {},
   "source": [
    "### Importar DataSet"
   ]
  },
  {
   "cell_type": "code",
   "execution_count": 14,
   "id": "cdae30d0",
   "metadata": {},
   "outputs": [
    {
     "data": {
      "text/html": [
       "<div>\n",
       "<style scoped>\n",
       "    .dataframe tbody tr th:only-of-type {\n",
       "        vertical-align: middle;\n",
       "    }\n",
       "\n",
       "    .dataframe tbody tr th {\n",
       "        vertical-align: top;\n",
       "    }\n",
       "\n",
       "    .dataframe thead th {\n",
       "        text-align: right;\n",
       "    }\n",
       "</style>\n",
       "<table border=\"1\" class=\"dataframe\">\n",
       "  <thead>\n",
       "    <tr style=\"text-align: right;\">\n",
       "      <th></th>\n",
       "      <th>SEX</th>\n",
       "      <th>Age</th>\n",
       "      <th>Cardiac FQ</th>\n",
       "      <th>Systolic BP</th>\n",
       "      <th>Diastolic BP</th>\n",
       "      <th>Hb A/C  %</th>\n",
       "      <th>Total Cholest</th>\n",
       "      <th>TRIGLICERIDOS</th>\n",
       "      <th>LDL</th>\n",
       "      <th>HDL</th>\n",
       "      <th>...</th>\n",
       "      <th>Ureic nitrogen</th>\n",
       "      <th>Uremia</th>\n",
       "      <th>Creatinin</th>\n",
       "      <th>TTPA</th>\n",
       "      <th>TP</th>\n",
       "      <th>NA (sodium)</th>\n",
       "      <th>CL (Chloride)</th>\n",
       "      <th>Fosfatase Alcalin</th>\n",
       "      <th>Gamma glutamil</th>\n",
       "      <th>GLASGOW at admission</th>\n",
       "    </tr>\n",
       "  </thead>\n",
       "  <tbody>\n",
       "    <tr>\n",
       "      <th>0</th>\n",
       "      <td>1</td>\n",
       "      <td>53</td>\n",
       "      <td>78</td>\n",
       "      <td>162</td>\n",
       "      <td>64</td>\n",
       "      <td>5.9</td>\n",
       "      <td>268</td>\n",
       "      <td>130</td>\n",
       "      <td>202</td>\n",
       "      <td>40</td>\n",
       "      <td>...</td>\n",
       "      <td>21.13</td>\n",
       "      <td>45.22</td>\n",
       "      <td>0.93</td>\n",
       "      <td>21.8</td>\n",
       "      <td>11.0</td>\n",
       "      <td>137.83</td>\n",
       "      <td>101.88</td>\n",
       "      <td>81.53</td>\n",
       "      <td>41.66</td>\n",
       "      <td>11</td>\n",
       "    </tr>\n",
       "    <tr>\n",
       "      <th>1</th>\n",
       "      <td>1</td>\n",
       "      <td>54</td>\n",
       "      <td>56</td>\n",
       "      <td>130</td>\n",
       "      <td>89</td>\n",
       "      <td>6.5</td>\n",
       "      <td>187</td>\n",
       "      <td>130</td>\n",
       "      <td>118</td>\n",
       "      <td>44</td>\n",
       "      <td>...</td>\n",
       "      <td>18.00</td>\n",
       "      <td>39.00</td>\n",
       "      <td>0.90</td>\n",
       "      <td>31.0</td>\n",
       "      <td>16.0</td>\n",
       "      <td>139.00</td>\n",
       "      <td>102.00</td>\n",
       "      <td>98.00</td>\n",
       "      <td>40.00</td>\n",
       "      <td>15</td>\n",
       "    </tr>\n",
       "    <tr>\n",
       "      <th>2</th>\n",
       "      <td>2</td>\n",
       "      <td>78</td>\n",
       "      <td>91</td>\n",
       "      <td>152</td>\n",
       "      <td>75</td>\n",
       "      <td>13.8</td>\n",
       "      <td>159</td>\n",
       "      <td>97</td>\n",
       "      <td>26</td>\n",
       "      <td>35</td>\n",
       "      <td>...</td>\n",
       "      <td>12.68</td>\n",
       "      <td>27.14</td>\n",
       "      <td>0.74</td>\n",
       "      <td>26.3</td>\n",
       "      <td>9.8</td>\n",
       "      <td>137.00</td>\n",
       "      <td>101.00</td>\n",
       "      <td>80.38</td>\n",
       "      <td>130.39</td>\n",
       "      <td>15</td>\n",
       "    </tr>\n",
       "    <tr>\n",
       "      <th>3</th>\n",
       "      <td>2</td>\n",
       "      <td>87</td>\n",
       "      <td>59</td>\n",
       "      <td>136</td>\n",
       "      <td>86</td>\n",
       "      <td>5.9</td>\n",
       "      <td>193</td>\n",
       "      <td>133</td>\n",
       "      <td>115</td>\n",
       "      <td>51</td>\n",
       "      <td>...</td>\n",
       "      <td>24.10</td>\n",
       "      <td>51.60</td>\n",
       "      <td>0.92</td>\n",
       "      <td>27.2</td>\n",
       "      <td>10.1</td>\n",
       "      <td>137.10</td>\n",
       "      <td>106.45</td>\n",
       "      <td>120.20</td>\n",
       "      <td>33.95</td>\n",
       "      <td>15</td>\n",
       "    </tr>\n",
       "    <tr>\n",
       "      <th>4</th>\n",
       "      <td>1</td>\n",
       "      <td>69</td>\n",
       "      <td>104</td>\n",
       "      <td>154</td>\n",
       "      <td>95</td>\n",
       "      <td>16.7</td>\n",
       "      <td>184</td>\n",
       "      <td>137</td>\n",
       "      <td>125</td>\n",
       "      <td>32</td>\n",
       "      <td>...</td>\n",
       "      <td>16.69</td>\n",
       "      <td>35.72</td>\n",
       "      <td>1.05</td>\n",
       "      <td>24.2</td>\n",
       "      <td>13.0</td>\n",
       "      <td>137.70</td>\n",
       "      <td>103.80</td>\n",
       "      <td>98.00</td>\n",
       "      <td>40.00</td>\n",
       "      <td>15</td>\n",
       "    </tr>\n",
       "  </tbody>\n",
       "</table>\n",
       "<p>5 rows × 26 columns</p>\n",
       "</div>"
      ],
      "text/plain": [
       "   SEX  Age  Cardiac FQ  Systolic BP  Diastolic BP  Hb A/C  %  Total Cholest  \\\n",
       "0    1   53          78          162            64        5.9            268   \n",
       "1    1   54          56          130            89        6.5            187   \n",
       "2    2   78          91          152            75       13.8            159   \n",
       "3    2   87          59          136            86        5.9            193   \n",
       "4    1   69         104          154            95       16.7            184   \n",
       "\n",
       "   TRIGLICERIDOS  LDL  HDL  ...  Ureic nitrogen  Uremia  Creatinin  TTPA  \\\n",
       "0            130  202   40  ...           21.13   45.22       0.93  21.8   \n",
       "1            130  118   44  ...           18.00   39.00       0.90  31.0   \n",
       "2             97   26   35  ...           12.68   27.14       0.74  26.3   \n",
       "3            133  115   51  ...           24.10   51.60       0.92  27.2   \n",
       "4            137  125   32  ...           16.69   35.72       1.05  24.2   \n",
       "\n",
       "     TP  NA (sodium)  CL (Chloride)  Fosfatase Alcalin  Gamma glutamil  \\\n",
       "0  11.0       137.83         101.88              81.53           41.66   \n",
       "1  16.0       139.00         102.00              98.00           40.00   \n",
       "2   9.8       137.00         101.00              80.38          130.39   \n",
       "3  10.1       137.10         106.45             120.20           33.95   \n",
       "4  13.0       137.70         103.80              98.00           40.00   \n",
       "\n",
       "   GLASGOW at admission  \n",
       "0                    11  \n",
       "1                    15  \n",
       "2                    15  \n",
       "3                    15  \n",
       "4                    15  \n",
       "\n",
       "[5 rows x 26 columns]"
      ]
     },
     "execution_count": 14,
     "metadata": {},
     "output_type": "execute_result"
    }
   ],
   "source": [
    "dataframe = pd.read_excel('../bdd/bdd.xlsx')\n",
    "columnas = ['SEX', 'Age', 'Cardiac FQ', 'Systolic BP', 'Diastolic BP', 'Hb A/C  %', 'Total Cholest', 'TRIGLICERIDOS', 'LDL', 'HDL', 'HCTO', 'HB', 'Platelets', 'INR', 'Leucocytes', 'C.R.P', 'Ureic nitrogen', 'Uremia', 'Creatinin', 'TTPA', 'TP', 'NA (sodium)', 'CL (Chloride)', 'Fosfatase Alcalin', 'Gamma glutamil', 'GLASGOW at admission'] # Columnas a trabajar\n",
    "dataset = dataframe[[*columnas]]\n",
    "dataset.head(5)"
   ]
  },
  {
   "cell_type": "code",
   "execution_count": 15,
   "id": "27c98cf9",
   "metadata": {},
   "outputs": [],
   "source": [
    "X = dataset.drop('Age',axis=1)\n",
    "y = dataset['Age']"
   ]
  },
  {
   "cell_type": "markdown",
   "id": "55797868",
   "metadata": {},
   "source": [
    "## Escalamos los Datos\n",
    "\n",
    "Nomalizamos lo datos"
   ]
  },
  {
   "cell_type": "code",
   "execution_count": 16,
   "id": "c08af16b",
   "metadata": {},
   "outputs": [],
   "source": [
    "sc =StandardScaler()\n",
    "sc.fit(X)\n",
    "X = sc.transform(X)"
   ]
  },
  {
   "cell_type": "markdown",
   "id": "8ddf23e6",
   "metadata": {},
   "source": [
    "### Separamos el dataset\n",
    "Separamos el dato de entrenamiento y el de validación"
   ]
  },
  {
   "cell_type": "code",
   "execution_count": 25,
   "id": "bd7ec321",
   "metadata": {},
   "outputs": [],
   "source": [
    "X_train, X_test, y_train, y_test = train_test_split(X, y, test_size=0.3, random_state=0)"
   ]
  },
  {
   "cell_type": "markdown",
   "id": "6d7051d4",
   "metadata": {},
   "source": [
    "### Creamos el modelo y entrenamos"
   ]
  },
  {
   "cell_type": "code",
   "execution_count": 26,
   "id": "867e66dc",
   "metadata": {},
   "outputs": [
    {
     "data": {
      "text/html": [
       "<style>#sk-container-id-3 {color: black;background-color: white;}#sk-container-id-3 pre{padding: 0;}#sk-container-id-3 div.sk-toggleable {background-color: white;}#sk-container-id-3 label.sk-toggleable__label {cursor: pointer;display: block;width: 100%;margin-bottom: 0;padding: 0.3em;box-sizing: border-box;text-align: center;}#sk-container-id-3 label.sk-toggleable__label-arrow:before {content: \"▸\";float: left;margin-right: 0.25em;color: #696969;}#sk-container-id-3 label.sk-toggleable__label-arrow:hover:before {color: black;}#sk-container-id-3 div.sk-estimator:hover label.sk-toggleable__label-arrow:before {color: black;}#sk-container-id-3 div.sk-toggleable__content {max-height: 0;max-width: 0;overflow: hidden;text-align: left;background-color: #f0f8ff;}#sk-container-id-3 div.sk-toggleable__content pre {margin: 0.2em;color: black;border-radius: 0.25em;background-color: #f0f8ff;}#sk-container-id-3 input.sk-toggleable__control:checked~div.sk-toggleable__content {max-height: 200px;max-width: 100%;overflow: auto;}#sk-container-id-3 input.sk-toggleable__control:checked~label.sk-toggleable__label-arrow:before {content: \"▾\";}#sk-container-id-3 div.sk-estimator input.sk-toggleable__control:checked~label.sk-toggleable__label {background-color: #d4ebff;}#sk-container-id-3 div.sk-label input.sk-toggleable__control:checked~label.sk-toggleable__label {background-color: #d4ebff;}#sk-container-id-3 input.sk-hidden--visually {border: 0;clip: rect(1px 1px 1px 1px);clip: rect(1px, 1px, 1px, 1px);height: 1px;margin: -1px;overflow: hidden;padding: 0;position: absolute;width: 1px;}#sk-container-id-3 div.sk-estimator {font-family: monospace;background-color: #f0f8ff;border: 1px dotted black;border-radius: 0.25em;box-sizing: border-box;margin-bottom: 0.5em;}#sk-container-id-3 div.sk-estimator:hover {background-color: #d4ebff;}#sk-container-id-3 div.sk-parallel-item::after {content: \"\";width: 100%;border-bottom: 1px solid gray;flex-grow: 1;}#sk-container-id-3 div.sk-label:hover label.sk-toggleable__label {background-color: #d4ebff;}#sk-container-id-3 div.sk-serial::before {content: \"\";position: absolute;border-left: 1px solid gray;box-sizing: border-box;top: 0;bottom: 0;left: 50%;z-index: 0;}#sk-container-id-3 div.sk-serial {display: flex;flex-direction: column;align-items: center;background-color: white;padding-right: 0.2em;padding-left: 0.2em;position: relative;}#sk-container-id-3 div.sk-item {position: relative;z-index: 1;}#sk-container-id-3 div.sk-parallel {display: flex;align-items: stretch;justify-content: center;background-color: white;position: relative;}#sk-container-id-3 div.sk-item::before, #sk-container-id-3 div.sk-parallel-item::before {content: \"\";position: absolute;border-left: 1px solid gray;box-sizing: border-box;top: 0;bottom: 0;left: 50%;z-index: -1;}#sk-container-id-3 div.sk-parallel-item {display: flex;flex-direction: column;z-index: 1;position: relative;background-color: white;}#sk-container-id-3 div.sk-parallel-item:first-child::after {align-self: flex-end;width: 50%;}#sk-container-id-3 div.sk-parallel-item:last-child::after {align-self: flex-start;width: 50%;}#sk-container-id-3 div.sk-parallel-item:only-child::after {width: 0;}#sk-container-id-3 div.sk-dashed-wrapped {border: 1px dashed gray;margin: 0 0.4em 0.5em 0.4em;box-sizing: border-box;padding-bottom: 0.4em;background-color: white;}#sk-container-id-3 div.sk-label label {font-family: monospace;font-weight: bold;display: inline-block;line-height: 1.2em;}#sk-container-id-3 div.sk-label-container {text-align: center;}#sk-container-id-3 div.sk-container {/* jupyter's `normalize.less` sets `[hidden] { display: none; }` but bootstrap.min.css set `[hidden] { display: none !important; }` so we also need the `!important` here to be able to override the default hidden behavior on the sphinx rendered scikit-learn.org. See: https://github.com/scikit-learn/scikit-learn/issues/21755 */display: inline-block !important;position: relative;}#sk-container-id-3 div.sk-text-repr-fallback {display: none;}</style><div id=\"sk-container-id-3\" class=\"sk-top-container\"><div class=\"sk-text-repr-fallback\"><pre>DecisionTreeClassifier(random_state=0)</pre><b>In a Jupyter environment, please rerun this cell to show the HTML representation or trust the notebook. <br />On GitHub, the HTML representation is unable to render, please try loading this page with nbviewer.org.</b></div><div class=\"sk-container\" hidden><div class=\"sk-item\"><div class=\"sk-estimator sk-toggleable\"><input class=\"sk-toggleable__control sk-hidden--visually\" id=\"sk-estimator-id-3\" type=\"checkbox\" checked><label for=\"sk-estimator-id-3\" class=\"sk-toggleable__label sk-toggleable__label-arrow\">DecisionTreeClassifier</label><div class=\"sk-toggleable__content\"><pre>DecisionTreeClassifier(random_state=0)</pre></div></div></div></div></div>"
      ],
      "text/plain": [
       "DecisionTreeClassifier(random_state=0)"
      ]
     },
     "execution_count": 26,
     "metadata": {},
     "output_type": "execute_result"
    }
   ],
   "source": [
    "clf = tree.DecisionTreeClassifier(criterion = 'gini', random_state=0)\n",
    "clf.fit(X_train,y_train)"
   ]
  },
  {
   "cell_type": "markdown",
   "id": "1964af30",
   "metadata": {},
   "source": [
    "## Generamos métricas para evaluar el modelo"
   ]
  },
  {
   "cell_type": "markdown",
   "id": "4575bd7e",
   "metadata": {},
   "source": [
    "### Fase de entrenamiento"
   ]
  },
  {
   "cell_type": "code",
   "execution_count": 28,
   "id": "75b491d4",
   "metadata": {},
   "outputs": [
    {
     "name": "stdout",
     "output_type": "stream",
     "text": [
      "Entrenamiento - Accuracy : 1.0\n"
     ]
    }
   ],
   "source": [
    "print(\"Entrenamiento - Accuracy :\", metrics.accuracy_score(y_train, clf.predict(X_train)))"
   ]
  },
  {
   "cell_type": "markdown",
   "id": "7efcbb9f",
   "metadata": {},
   "source": [
    "### Matriz de Confusion"
   ]
  },
  {
   "cell_type": "code",
   "execution_count": 29,
   "id": "e7bbc7bf",
   "metadata": {},
   "outputs": [
    {
     "name": "stdout",
     "output_type": "stream",
     "text": [
      "Entrenamiento - Matriz de Confusión :\n",
      " [[1 0 0 0 0 0 0 0 0 0 0 0 0 0 0 0 0 0 0 0 0 0 0]\n",
      " [0 1 0 0 0 0 0 0 0 0 0 0 0 0 0 0 0 0 0 0 0 0 0]\n",
      " [0 0 2 0 0 0 0 0 0 0 0 0 0 0 0 0 0 0 0 0 0 0 0]\n",
      " [0 0 0 1 0 0 0 0 0 0 0 0 0 0 0 0 0 0 0 0 0 0 0]\n",
      " [0 0 0 0 1 0 0 0 0 0 0 0 0 0 0 0 0 0 0 0 0 0 0]\n",
      " [0 0 0 0 0 1 0 0 0 0 0 0 0 0 0 0 0 0 0 0 0 0 0]\n",
      " [0 0 0 0 0 0 1 0 0 0 0 0 0 0 0 0 0 0 0 0 0 0 0]\n",
      " [0 0 0 0 0 0 0 1 0 0 0 0 0 0 0 0 0 0 0 0 0 0 0]\n",
      " [0 0 0 0 0 0 0 0 1 0 0 0 0 0 0 0 0 0 0 0 0 0 0]\n",
      " [0 0 0 0 0 0 0 0 0 1 0 0 0 0 0 0 0 0 0 0 0 0 0]\n",
      " [0 0 0 0 0 0 0 0 0 0 3 0 0 0 0 0 0 0 0 0 0 0 0]\n",
      " [0 0 0 0 0 0 0 0 0 0 0 2 0 0 0 0 0 0 0 0 0 0 0]\n",
      " [0 0 0 0 0 0 0 0 0 0 0 0 1 0 0 0 0 0 0 0 0 0 0]\n",
      " [0 0 0 0 0 0 0 0 0 0 0 0 0 1 0 0 0 0 0 0 0 0 0]\n",
      " [0 0 0 0 0 0 0 0 0 0 0 0 0 0 1 0 0 0 0 0 0 0 0]\n",
      " [0 0 0 0 0 0 0 0 0 0 0 0 0 0 0 1 0 0 0 0 0 0 0]\n",
      " [0 0 0 0 0 0 0 0 0 0 0 0 0 0 0 0 1 0 0 0 0 0 0]\n",
      " [0 0 0 0 0 0 0 0 0 0 0 0 0 0 0 0 0 2 0 0 0 0 0]\n",
      " [0 0 0 0 0 0 0 0 0 0 0 0 0 0 0 0 0 0 2 0 0 0 0]\n",
      " [0 0 0 0 0 0 0 0 0 0 0 0 0 0 0 0 0 0 0 1 0 0 0]\n",
      " [0 0 0 0 0 0 0 0 0 0 0 0 0 0 0 0 0 0 0 0 1 0 0]\n",
      " [0 0 0 0 0 0 0 0 0 0 0 0 0 0 0 0 0 0 0 0 0 2 0]\n",
      " [0 0 0 0 0 0 0 0 0 0 0 0 0 0 0 0 0 0 0 0 0 0 2]]\n"
     ]
    }
   ],
   "source": [
    "print(\"Entrenamiento - Matriz de Confusión :\\n\",metrics.confusion_matrix(y_train, clf.predict(X_train)))"
   ]
  },
  {
   "cell_type": "code",
   "execution_count": 30,
   "id": "15d06884",
   "metadata": {},
   "outputs": [
    {
     "name": "stdout",
     "output_type": "stream",
     "text": [
      "Entrenamiento - Reporte de clasificación:\n",
      "               precision    recall  f1-score   support\n",
      "\n",
      "          52       1.00      1.00      1.00         1\n",
      "          53       1.00      1.00      1.00         1\n",
      "          54       1.00      1.00      1.00         2\n",
      "          55       1.00      1.00      1.00         1\n",
      "          57       1.00      1.00      1.00         1\n",
      "          62       1.00      1.00      1.00         1\n",
      "          65       1.00      1.00      1.00         1\n",
      "          67       1.00      1.00      1.00         1\n",
      "          69       1.00      1.00      1.00         1\n",
      "          70       1.00      1.00      1.00         1\n",
      "          71       1.00      1.00      1.00         3\n",
      "          72       1.00      1.00      1.00         2\n",
      "          73       1.00      1.00      1.00         1\n",
      "          75       1.00      1.00      1.00         1\n",
      "          77       1.00      1.00      1.00         1\n",
      "          78       1.00      1.00      1.00         1\n",
      "          79       1.00      1.00      1.00         1\n",
      "          80       1.00      1.00      1.00         2\n",
      "          82       1.00      1.00      1.00         2\n",
      "          83       1.00      1.00      1.00         1\n",
      "          85       1.00      1.00      1.00         1\n",
      "          87       1.00      1.00      1.00         2\n",
      "          90       1.00      1.00      1.00         2\n",
      "\n",
      "    accuracy                           1.00        31\n",
      "   macro avg       1.00      1.00      1.00        31\n",
      "weighted avg       1.00      1.00      1.00        31\n",
      "\n"
     ]
    }
   ],
   "source": [
    "print(\"Entrenamiento - Reporte de clasificación:\\n\", metrics.classification_report(y_train, clf.predict(X_train)))"
   ]
  },
  {
   "cell_type": "markdown",
   "id": "5874bf12",
   "metadata": {},
   "source": [
    "### Fase de validación"
   ]
  },
  {
   "cell_type": "code",
   "execution_count": 31,
   "id": "339dc701",
   "metadata": {},
   "outputs": [
    {
     "name": "stdout",
     "output_type": "stream",
     "text": [
      "Test - Accuracy : 0.0\n",
      "Test - Matriz de Confusión :\n",
      " [[0 0 0 0 0 0 0 0 0 0 0 0 0 1 0 0 0 0 0 0]\n",
      " [0 0 0 0 0 0 0 0 0 0 0 0 0 0 0 0 0 0 0 0]\n",
      " [0 0 0 0 0 0 0 0 0 0 0 0 0 0 0 0 0 0 0 0]\n",
      " [0 1 0 0 0 0 0 0 0 0 0 0 0 0 0 0 0 0 0 0]\n",
      " [0 0 1 0 0 0 0 0 0 0 0 0 0 0 0 0 0 0 0 0]\n",
      " [0 0 0 0 0 0 0 0 0 1 0 0 0 0 0 0 0 0 0 0]\n",
      " [0 0 0 0 0 0 0 0 0 1 0 0 0 0 0 0 0 0 0 0]\n",
      " [0 1 0 0 0 0 0 0 0 0 0 0 0 0 0 0 0 0 0 0]\n",
      " [0 0 0 0 0 0 0 0 0 0 0 0 0 0 0 0 0 0 0 0]\n",
      " [0 0 0 0 0 0 0 0 0 0 0 0 0 0 0 0 0 0 0 0]\n",
      " [0 1 0 0 0 0 0 0 0 0 0 0 0 0 0 0 0 0 0 0]\n",
      " [0 0 0 0 0 0 0 0 0 0 0 0 1 0 0 0 0 0 0 0]\n",
      " [0 0 0 0 0 0 0 0 0 0 0 0 0 0 0 0 0 0 0 0]\n",
      " [0 0 0 0 0 0 0 0 1 0 0 0 0 0 0 0 0 0 0 0]\n",
      " [0 0 0 0 0 0 0 0 0 0 0 0 0 0 0 1 0 0 0 0]\n",
      " [0 1 0 0 0 0 0 0 0 0 0 0 0 0 0 0 0 0 0 0]\n",
      " [0 0 0 0 0 0 0 0 0 0 0 0 0 0 0 0 0 0 0 1]\n",
      " [0 0 0 0 0 0 0 0 0 0 0 0 0 0 0 0 0 0 1 0]\n",
      " [0 0 0 0 0 0 0 0 0 0 0 0 0 0 0 0 0 0 0 0]\n",
      " [0 0 0 0 0 0 0 0 0 1 0 0 0 0 0 0 0 0 0 0]]\n",
      "Test - Reporte de clasificación :\n",
      "               precision    recall  f1-score   support\n",
      "\n",
      "          38       0.00      0.00      0.00       1.0\n",
      "          54       0.00      0.00      0.00       0.0\n",
      "          57       0.00      0.00      0.00       0.0\n",
      "          58       0.00      0.00      0.00       1.0\n",
      "          60       0.00      0.00      0.00       1.0\n",
      "          62       0.00      0.00      0.00       1.0\n",
      "          68       0.00      0.00      0.00       1.0\n",
      "          69       0.00      0.00      0.00       1.0\n",
      "          70       0.00      0.00      0.00       0.0\n",
      "          71       0.00      0.00      0.00       0.0\n",
      "          72       0.00      0.00      0.00       1.0\n",
      "          73       0.00      0.00      0.00       1.0\n",
      "          75       0.00      0.00      0.00       0.0\n",
      "          78       0.00      0.00      0.00       1.0\n",
      "          79       0.00      0.00      0.00       1.0\n",
      "          80       0.00      0.00      0.00       1.0\n",
      "          82       0.00      0.00      0.00       1.0\n",
      "          83       0.00      0.00      0.00       1.0\n",
      "          87       0.00      0.00      0.00       0.0\n",
      "          90       0.00      0.00      0.00       1.0\n",
      "\n",
      "    accuracy                           0.00      14.0\n",
      "   macro avg       0.00      0.00      0.00      14.0\n",
      "weighted avg       0.00      0.00      0.00      14.0\n",
      "\n"
     ]
    },
    {
     "name": "stderr",
     "output_type": "stream",
     "text": [
      "C:\\Users\\Abraham\\AppData\\Local\\Programs\\Python\\Python310\\lib\\site-packages\\sklearn\\metrics\\_classification.py:1334: UndefinedMetricWarning: Precision and F-score are ill-defined and being set to 0.0 in labels with no predicted samples. Use `zero_division` parameter to control this behavior.\n",
      "  _warn_prf(average, modifier, msg_start, len(result))\n",
      "C:\\Users\\Abraham\\AppData\\Local\\Programs\\Python\\Python310\\lib\\site-packages\\sklearn\\metrics\\_classification.py:1334: UndefinedMetricWarning: Recall and F-score are ill-defined and being set to 0.0 in labels with no true samples. Use `zero_division` parameter to control this behavior.\n",
      "  _warn_prf(average, modifier, msg_start, len(result))\n",
      "C:\\Users\\Abraham\\AppData\\Local\\Programs\\Python\\Python310\\lib\\site-packages\\sklearn\\metrics\\_classification.py:1334: UndefinedMetricWarning: Precision and F-score are ill-defined and being set to 0.0 in labels with no predicted samples. Use `zero_division` parameter to control this behavior.\n",
      "  _warn_prf(average, modifier, msg_start, len(result))\n",
      "C:\\Users\\Abraham\\AppData\\Local\\Programs\\Python\\Python310\\lib\\site-packages\\sklearn\\metrics\\_classification.py:1334: UndefinedMetricWarning: Recall and F-score are ill-defined and being set to 0.0 in labels with no true samples. Use `zero_division` parameter to control this behavior.\n",
      "  _warn_prf(average, modifier, msg_start, len(result))\n",
      "C:\\Users\\Abraham\\AppData\\Local\\Programs\\Python\\Python310\\lib\\site-packages\\sklearn\\metrics\\_classification.py:1334: UndefinedMetricWarning: Precision and F-score are ill-defined and being set to 0.0 in labels with no predicted samples. Use `zero_division` parameter to control this behavior.\n",
      "  _warn_prf(average, modifier, msg_start, len(result))\n",
      "C:\\Users\\Abraham\\AppData\\Local\\Programs\\Python\\Python310\\lib\\site-packages\\sklearn\\metrics\\_classification.py:1334: UndefinedMetricWarning: Recall and F-score are ill-defined and being set to 0.0 in labels with no true samples. Use `zero_division` parameter to control this behavior.\n",
      "  _warn_prf(average, modifier, msg_start, len(result))\n"
     ]
    }
   ],
   "source": [
    "print(\"Test - Accuracy :\", metrics.accuracy_score(y_test, clf.predict(X_test)))\n",
    "print(\"Test - Matriz de Confusión :\\n\",metrics.confusion_matrix(y_test, clf.predict(X_test)))\n",
    "print(\"Test - Reporte de clasificación :\\n\", metrics.classification_report(y_test, clf.predict(X_test)))"
   ]
  },
  {
   "cell_type": "markdown",
   "id": "7a1fc070",
   "metadata": {},
   "source": [
    "# Grafica"
   ]
  },
  {
   "cell_type": "code",
   "execution_count": 32,
   "id": "423cc696",
   "metadata": {},
   "outputs": [],
   "source": [
    "import graphviz\n",
    "from sklearn.tree import export_graphviz\n",
    "from sklearn import tree\n",
    "from matplotlib import pyplot as plt"
   ]
  },
  {
   "cell_type": "code",
   "execution_count": 35,
   "id": "b724dc5e",
   "metadata": {},
   "outputs": [
    {
     "ename": "AttributeError",
     "evalue": "'DataFrame' object has no attribute 'feature_names'",
     "output_type": "error",
     "traceback": [
      "\u001b[1;31m---------------------------------------------------------------------------\u001b[0m",
      "\u001b[1;31mAttributeError\u001b[0m                            Traceback (most recent call last)",
      "Cell \u001b[1;32mIn [35], line 2\u001b[0m\n\u001b[0;32m      1\u001b[0m fig, axes \u001b[38;5;241m=\u001b[39m plt\u001b[38;5;241m.\u001b[39msubplots(nrows \u001b[38;5;241m=\u001b[39m \u001b[38;5;241m1\u001b[39m,ncols \u001b[38;5;241m=\u001b[39m \u001b[38;5;241m1\u001b[39m,figsize \u001b[38;5;241m=\u001b[39m (\u001b[38;5;241m4\u001b[39m,\u001b[38;5;241m4\u001b[39m), dpi\u001b[38;5;241m=\u001b[39m\u001b[38;5;241m400\u001b[39m)\n\u001b[1;32m----> 2\u001b[0m tree\u001b[38;5;241m.\u001b[39mplot_tree(clf, max_depth\u001b[38;5;241m=\u001b[39m\u001b[38;5;241m5\u001b[39m,filled\u001b[38;5;241m=\u001b[39m\u001b[38;5;28;01mTrue\u001b[39;00m,feature_names\u001b[38;5;241m=\u001b[39m\u001b[43mdataset\u001b[49m\u001b[38;5;241;43m.\u001b[39;49m\u001b[43mfeature_names\u001b[49m, class_names \u001b[38;5;241m=\u001b[39m clf\u001b[38;5;241m.\u001b[39mclasses_\u001b[38;5;241m.\u001b[39mastype(\u001b[38;5;28mint\u001b[39m)\u001b[38;5;241m.\u001b[39mastype(\u001b[38;5;28mstr\u001b[39m), rounded\u001b[38;5;241m=\u001b[39m\u001b[38;5;28;01mTrue\u001b[39;00m, node_ids\u001b[38;5;241m=\u001b[39m\u001b[38;5;241m1\u001b[39m)\n\u001b[0;32m      3\u001b[0m fig\u001b[38;5;241m.\u001b[39msavefig(\u001b[38;5;124m'\u001b[39m\u001b[38;5;124marbol.png\u001b[39m\u001b[38;5;124m'\u001b[39m)\n",
      "File \u001b[1;32m~\\AppData\\Local\\Programs\\Python\\Python310\\lib\\site-packages\\pandas\\core\\generic.py:5902\u001b[0m, in \u001b[0;36mNDFrame.__getattr__\u001b[1;34m(self, name)\u001b[0m\n\u001b[0;32m   5895\u001b[0m \u001b[38;5;28;01mif\u001b[39;00m (\n\u001b[0;32m   5896\u001b[0m     name \u001b[38;5;129;01mnot\u001b[39;00m \u001b[38;5;129;01min\u001b[39;00m \u001b[38;5;28mself\u001b[39m\u001b[38;5;241m.\u001b[39m_internal_names_set\n\u001b[0;32m   5897\u001b[0m     \u001b[38;5;129;01mand\u001b[39;00m name \u001b[38;5;129;01mnot\u001b[39;00m \u001b[38;5;129;01min\u001b[39;00m \u001b[38;5;28mself\u001b[39m\u001b[38;5;241m.\u001b[39m_metadata\n\u001b[0;32m   5898\u001b[0m     \u001b[38;5;129;01mand\u001b[39;00m name \u001b[38;5;129;01mnot\u001b[39;00m \u001b[38;5;129;01min\u001b[39;00m \u001b[38;5;28mself\u001b[39m\u001b[38;5;241m.\u001b[39m_accessors\n\u001b[0;32m   5899\u001b[0m     \u001b[38;5;129;01mand\u001b[39;00m \u001b[38;5;28mself\u001b[39m\u001b[38;5;241m.\u001b[39m_info_axis\u001b[38;5;241m.\u001b[39m_can_hold_identifiers_and_holds_name(name)\n\u001b[0;32m   5900\u001b[0m ):\n\u001b[0;32m   5901\u001b[0m     \u001b[38;5;28;01mreturn\u001b[39;00m \u001b[38;5;28mself\u001b[39m[name]\n\u001b[1;32m-> 5902\u001b[0m \u001b[38;5;28;01mreturn\u001b[39;00m \u001b[38;5;28;43mobject\u001b[39;49m\u001b[38;5;241;43m.\u001b[39;49m\u001b[38;5;21;43m__getattribute__\u001b[39;49m\u001b[43m(\u001b[49m\u001b[38;5;28;43mself\u001b[39;49m\u001b[43m,\u001b[49m\u001b[43m \u001b[49m\u001b[43mname\u001b[49m\u001b[43m)\u001b[49m\n",
      "\u001b[1;31mAttributeError\u001b[0m: 'DataFrame' object has no attribute 'feature_names'"
     ]
    },
    {
     "data": {
      "image/png": "[encoded data removed]",
      "text/plain": [
       "<Figure size 1600x1600 with 1 Axes>"
      ]
     },
     "metadata": {},
     "output_type": "display_data"
    }
   ],
   "source": [
    "fig, axes = plt.subplots(nrows = 1,ncols = 1,figsize = (4,4), dpi=400)\n",
    "tree.plot_tree(clf, max_depth=5,filled=True,feature_names=dataset.feature_names, class_names = clf.classes_.astype(int).astype(str), rounded=True, node_ids=1)\n",
    "fig.savefig('arbol.png')"
   ]
  },
  {
   "cell_type": "code",
   "execution_count": null,
   "id": "aafe0a55",
   "metadata": {},
   "outputs": [],
   "source": []
  }
 ],
 "metadata": {
  "kernelspec": {
   "display_name": "Python 3 (ipykernel)",
   "language": "python",
   "name": "python3"
  },
  "language_info": {
   "codemirror_mode": {
    "name": "ipython",
    "version": 3
   },
   "file_extension": ".py",
   "mimetype": "text/x-python",
   "name": "python",
   "nbconvert_exporter": "python",
   "pygments_lexer": "ipython3",
   "version": "3.10.6"
  }
 },
 "nbformat": 4,
 "nbformat_minor": 5
}
