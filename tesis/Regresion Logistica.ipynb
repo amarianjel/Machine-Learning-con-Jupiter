{
 "cells": [
  {
   "cell_type": "markdown",
   "id": "d0741d17",
   "metadata": {},
   "source": [
    "<h2 align='center'>  Regresión Logística </h2> "
   ]
  },
  {
   "cell_type": "markdown",
   "id": "4a1aecb0",
   "metadata": {},
   "source": [
    "## Grafica"
   ]
  },
  {
   "cell_type": "code",
   "execution_count": 9,
   "id": "823a6619",
   "metadata": {},
   "outputs": [],
   "source": [
    "import numpy as np\n",
    "from matplotlib import pyplot as plt"
   ]
  },
  {
   "cell_type": "code",
   "execution_count": 2,
   "id": "80f27d90",
   "metadata": {},
   "outputs": [
    {
     "data": {
      "image/png": "[encoded data removed]",
      "text/plain": [
       "<Figure size 640x480 with 1 Axes>"
      ]
     },
     "metadata": {},
     "output_type": "display_data"
    }
   ],
   "source": [
    "x = np.linspace(-10,10)\n",
    "y = 1/(1+np.exp(-x))\n",
    "plt.plot(x,y)\n",
    "plt.title('Función logística')\n",
    "plt.grid()\n",
    "plt.axis\n",
    "plt.show()"
   ]
  },
  {
   "cell_type": "markdown",
   "id": "6e07a1fb",
   "metadata": {},
   "source": [
    "## Tipos de modelos de Regresión Logística\n",
    "\n",
    "* **Regresión Logística Binaria:** la variable objetivo tiene solo dos resultados posible, Llueve o NO Llueve, Sube o Baja.\n",
    "* **Regresión Logística Multinomial:** la variable objetivo tiene tres o más categorías nominales, como predecir el tipo de vino.\n",
    "* **Regresión Logística Ordinal:** la variable objetivo tiene tres o más categorías ordinales, como clasificar un restaurante o un producto del 1 al 5"
   ]
  },
  {
   "cell_type": "markdown",
   "id": "9c2775c9",
   "metadata": {},
   "source": [
    "# Jugar con BDD"
   ]
  },
  {
   "cell_type": "code",
   "execution_count": 56,
   "id": "e55b0139",
   "metadata": {},
   "outputs": [],
   "source": [
    "import pandas as pd"
   ]
  },
  {
   "cell_type": "code",
   "execution_count": 57,
   "id": "357d43c3",
   "metadata": {},
   "outputs": [],
   "source": [
    "#dataframe = pd.read_csv('../bdd/usuarios_win_mac_lin.csv')\n",
    "dataframe = pd.read_excel('../bdd/bdd_acv1.xlsx')"
   ]
  },
  {
   "cell_type": "markdown",
   "id": "84d6decf",
   "metadata": {},
   "source": [
    "### Dataset"
   ]
  },
  {
   "cell_type": "code",
   "execution_count": 58,
   "id": "8fb8d01b",
   "metadata": {},
   "outputs": [
    {
     "data": {
      "text/html": [
       "<div>\n",
       "<style scoped>\n",
       "    .dataframe tbody tr th:only-of-type {\n",
       "        vertical-align: middle;\n",
       "    }\n",
       "\n",
       "    .dataframe tbody tr th {\n",
       "        vertical-align: top;\n",
       "    }\n",
       "\n",
       "    .dataframe thead th {\n",
       "        text-align: right;\n",
       "    }\n",
       "</style>\n",
       "<table border=\"1\" class=\"dataframe\">\n",
       "  <thead>\n",
       "    <tr style=\"text-align: right;\">\n",
       "      <th></th>\n",
       "      <th>Unnamed: 0</th>\n",
       "      <th>Edad</th>\n",
       "      <th>Sexo</th>\n",
       "      <th>Antecedentes mórbidos</th>\n",
       "      <th>Periodo de ventana (en horas )</th>\n",
       "      <th>Fribinólisis</th>\n",
       "      <th>Saturación de oxigeno al ingreso</th>\n",
       "      <th>Temperatura al ingreso</th>\n",
       "      <th>Frecuencia cardíaca al ingreso</th>\n",
       "      <th>Presión arterial sistólica al ingreso</th>\n",
       "      <th>...</th>\n",
       "      <th>INR</th>\n",
       "      <th>TTPK</th>\n",
       "      <th>Tiempo protombina</th>\n",
       "      <th>NIHSS puntaje al alta</th>\n",
       "      <th>mRS puntaje ingreso</th>\n",
       "      <th>NIHSS puntaje ingreso</th>\n",
       "      <th>Unnamed: 37</th>\n",
       "      <th>Functional outcome numérico</th>\n",
       "      <th>Functional outcome</th>\n",
       "      <th>Código de identificación</th>\n",
       "    </tr>\n",
       "  </thead>\n",
       "  <tbody>\n",
       "    <tr>\n",
       "      <th>0</th>\n",
       "      <td>NaN</td>\n",
       "      <td>61.0</td>\n",
       "      <td>Hombre</td>\n",
       "      <td>Hipertensión Arterial, Diabetes Mellitus</td>\n",
       "      <td>24</td>\n",
       "      <td>No efectuada</td>\n",
       "      <td>NaN</td>\n",
       "      <td>NaN</td>\n",
       "      <td>NaN</td>\n",
       "      <td>119.0</td>\n",
       "      <td>...</td>\n",
       "      <td>1.30</td>\n",
       "      <td>28.0</td>\n",
       "      <td>15.0</td>\n",
       "      <td>NaN</td>\n",
       "      <td>0.0</td>\n",
       "      <td>NaN</td>\n",
       "      <td>1.0</td>\n",
       "      <td>0</td>\n",
       "      <td>Bueno</td>\n",
       "      <td>8082227-8</td>\n",
       "    </tr>\n",
       "    <tr>\n",
       "      <th>1</th>\n",
       "      <td>NaN</td>\n",
       "      <td>64.0</td>\n",
       "      <td>Hombre</td>\n",
       "      <td>Hipertensión Arterial</td>\n",
       "      <td>3</td>\n",
       "      <td>Efectuada</td>\n",
       "      <td>NaN</td>\n",
       "      <td>NaN</td>\n",
       "      <td>NaN</td>\n",
       "      <td>134.0</td>\n",
       "      <td>...</td>\n",
       "      <td>1.08</td>\n",
       "      <td>26.9</td>\n",
       "      <td>11.9</td>\n",
       "      <td>9.0</td>\n",
       "      <td>0.0</td>\n",
       "      <td>11.0</td>\n",
       "      <td>1.0</td>\n",
       "      <td>0</td>\n",
       "      <td>Bueno</td>\n",
       "      <td>7494106-0</td>\n",
       "    </tr>\n",
       "    <tr>\n",
       "      <th>2</th>\n",
       "      <td>NaN</td>\n",
       "      <td>69.0</td>\n",
       "      <td>Mujer</td>\n",
       "      <td>Hipertensión Arterial, Otros</td>\n",
       "      <td>12</td>\n",
       "      <td>No efectuada</td>\n",
       "      <td>NaN</td>\n",
       "      <td>NaN</td>\n",
       "      <td>NaN</td>\n",
       "      <td>111.0</td>\n",
       "      <td>...</td>\n",
       "      <td>0.97</td>\n",
       "      <td>27.1</td>\n",
       "      <td>10.8</td>\n",
       "      <td>0.0</td>\n",
       "      <td>0.0</td>\n",
       "      <td>0.0</td>\n",
       "      <td>1.0</td>\n",
       "      <td>0</td>\n",
       "      <td>Bueno</td>\n",
       "      <td>7456922-6</td>\n",
       "    </tr>\n",
       "    <tr>\n",
       "      <th>3</th>\n",
       "      <td>NaN</td>\n",
       "      <td>72.0</td>\n",
       "      <td>NaN</td>\n",
       "      <td>NaN</td>\n",
       "      <td>NaN</td>\n",
       "      <td>NaN</td>\n",
       "      <td>NaN</td>\n",
       "      <td>NaN</td>\n",
       "      <td>NaN</td>\n",
       "      <td>NaN</td>\n",
       "      <td>...</td>\n",
       "      <td>1.23</td>\n",
       "      <td>34.4</td>\n",
       "      <td>12.5</td>\n",
       "      <td>NaN</td>\n",
       "      <td>NaN</td>\n",
       "      <td>NaN</td>\n",
       "      <td>NaN</td>\n",
       "      <td>0</td>\n",
       "      <td>NaN</td>\n",
       "      <td>NaN</td>\n",
       "    </tr>\n",
       "    <tr>\n",
       "      <th>4</th>\n",
       "      <td>NaN</td>\n",
       "      <td>82.0</td>\n",
       "      <td>NaN</td>\n",
       "      <td>NaN</td>\n",
       "      <td>NaN</td>\n",
       "      <td>NaN</td>\n",
       "      <td>NaN</td>\n",
       "      <td>NaN</td>\n",
       "      <td>NaN</td>\n",
       "      <td>NaN</td>\n",
       "      <td>...</td>\n",
       "      <td>0.96</td>\n",
       "      <td>29.4</td>\n",
       "      <td>9.8</td>\n",
       "      <td>NaN</td>\n",
       "      <td>NaN</td>\n",
       "      <td>NaN</td>\n",
       "      <td>NaN</td>\n",
       "      <td>0</td>\n",
       "      <td>NaN</td>\n",
       "      <td>NaN</td>\n",
       "    </tr>\n",
       "    <tr>\n",
       "      <th>5</th>\n",
       "      <td>NaN</td>\n",
       "      <td>70.0</td>\n",
       "      <td>NaN</td>\n",
       "      <td>NaN</td>\n",
       "      <td>NaN</td>\n",
       "      <td>NaN</td>\n",
       "      <td>NaN</td>\n",
       "      <td>NaN</td>\n",
       "      <td>NaN</td>\n",
       "      <td>NaN</td>\n",
       "      <td>...</td>\n",
       "      <td>1.10</td>\n",
       "      <td>29.4</td>\n",
       "      <td>8.4</td>\n",
       "      <td>NaN</td>\n",
       "      <td>NaN</td>\n",
       "      <td>NaN</td>\n",
       "      <td>NaN</td>\n",
       "      <td>0</td>\n",
       "      <td>NaN</td>\n",
       "      <td>NaN</td>\n",
       "    </tr>\n",
       "    <tr>\n",
       "      <th>6</th>\n",
       "      <td>NaN</td>\n",
       "      <td>73.0</td>\n",
       "      <td>NaN</td>\n",
       "      <td>NaN</td>\n",
       "      <td>NaN</td>\n",
       "      <td>NaN</td>\n",
       "      <td>NaN</td>\n",
       "      <td>NaN</td>\n",
       "      <td>NaN</td>\n",
       "      <td>NaN</td>\n",
       "      <td>...</td>\n",
       "      <td>1.30</td>\n",
       "      <td>32.8</td>\n",
       "      <td>13.2</td>\n",
       "      <td>NaN</td>\n",
       "      <td>NaN</td>\n",
       "      <td>NaN</td>\n",
       "      <td>NaN</td>\n",
       "      <td>0</td>\n",
       "      <td>NaN</td>\n",
       "      <td>NaN</td>\n",
       "    </tr>\n",
       "    <tr>\n",
       "      <th>7</th>\n",
       "      <td>NaN</td>\n",
       "      <td>82.0</td>\n",
       "      <td>NaN</td>\n",
       "      <td>NaN</td>\n",
       "      <td>NaN</td>\n",
       "      <td>NaN</td>\n",
       "      <td>NaN</td>\n",
       "      <td>NaN</td>\n",
       "      <td>NaN</td>\n",
       "      <td>NaN</td>\n",
       "      <td>...</td>\n",
       "      <td>1.03</td>\n",
       "      <td>25.7</td>\n",
       "      <td>10.5</td>\n",
       "      <td>NaN</td>\n",
       "      <td>NaN</td>\n",
       "      <td>NaN</td>\n",
       "      <td>NaN</td>\n",
       "      <td>0</td>\n",
       "      <td>NaN</td>\n",
       "      <td>NaN</td>\n",
       "    </tr>\n",
       "    <tr>\n",
       "      <th>8</th>\n",
       "      <td>NaN</td>\n",
       "      <td>NaN</td>\n",
       "      <td>NaN</td>\n",
       "      <td>NaN</td>\n",
       "      <td>NaN</td>\n",
       "      <td>NaN</td>\n",
       "      <td>NaN</td>\n",
       "      <td>NaN</td>\n",
       "      <td>NaN</td>\n",
       "      <td>NaN</td>\n",
       "      <td>...</td>\n",
       "      <td>1.09</td>\n",
       "      <td>36.5</td>\n",
       "      <td>11.8</td>\n",
       "      <td>NaN</td>\n",
       "      <td>NaN</td>\n",
       "      <td>NaN</td>\n",
       "      <td>NaN</td>\n",
       "      <td>0</td>\n",
       "      <td>NaN</td>\n",
       "      <td>NaN</td>\n",
       "    </tr>\n",
       "    <tr>\n",
       "      <th>9</th>\n",
       "      <td>NaN</td>\n",
       "      <td>54.0</td>\n",
       "      <td>NaN</td>\n",
       "      <td>NaN</td>\n",
       "      <td>NaN</td>\n",
       "      <td>NaN</td>\n",
       "      <td>NaN</td>\n",
       "      <td>NaN</td>\n",
       "      <td>NaN</td>\n",
       "      <td>NaN</td>\n",
       "      <td>...</td>\n",
       "      <td>0.99</td>\n",
       "      <td>29.4</td>\n",
       "      <td>10.9</td>\n",
       "      <td>NaN</td>\n",
       "      <td>NaN</td>\n",
       "      <td>NaN</td>\n",
       "      <td>NaN</td>\n",
       "      <td>0</td>\n",
       "      <td>NaN</td>\n",
       "      <td>NaN</td>\n",
       "    </tr>\n",
       "  </tbody>\n",
       "</table>\n",
       "<p>10 rows × 41 columns</p>\n",
       "</div>"
      ],
      "text/plain": [
       "   Unnamed: 0  Edad    Sexo                     Antecedentes mórbidos  \\\n",
       "0         NaN  61.0  Hombre  Hipertensión Arterial, Diabetes Mellitus   \n",
       "1         NaN  64.0  Hombre                     Hipertensión Arterial   \n",
       "2         NaN  69.0   Mujer              Hipertensión Arterial, Otros   \n",
       "3         NaN  72.0     NaN                                       NaN   \n",
       "4         NaN  82.0     NaN                                       NaN   \n",
       "5         NaN  70.0     NaN                                       NaN   \n",
       "6         NaN  73.0     NaN                                       NaN   \n",
       "7         NaN  82.0     NaN                                       NaN   \n",
       "8         NaN   NaN     NaN                                       NaN   \n",
       "9         NaN  54.0     NaN                                       NaN   \n",
       "\n",
       "  Periodo de ventana (en horas )  Fribinólisis  \\\n",
       "0                             24  No efectuada   \n",
       "1                              3     Efectuada   \n",
       "2                             12  No efectuada   \n",
       "3                            NaN           NaN   \n",
       "4                            NaN           NaN   \n",
       "5                            NaN           NaN   \n",
       "6                            NaN           NaN   \n",
       "7                            NaN           NaN   \n",
       "8                            NaN           NaN   \n",
       "9                            NaN           NaN   \n",
       "\n",
       "   Saturación de oxigeno al ingreso  Temperatura al ingreso  \\\n",
       "0                               NaN                     NaN   \n",
       "1                               NaN                     NaN   \n",
       "2                               NaN                     NaN   \n",
       "3                               NaN                     NaN   \n",
       "4                               NaN                     NaN   \n",
       "5                               NaN                     NaN   \n",
       "6                               NaN                     NaN   \n",
       "7                               NaN                     NaN   \n",
       "8                               NaN                     NaN   \n",
       "9                               NaN                     NaN   \n",
       "\n",
       "   Frecuencia cardíaca al ingreso  Presión arterial sistólica al ingreso  ...  \\\n",
       "0                             NaN                                  119.0  ...   \n",
       "1                             NaN                                  134.0  ...   \n",
       "2                             NaN                                  111.0  ...   \n",
       "3                             NaN                                    NaN  ...   \n",
       "4                             NaN                                    NaN  ...   \n",
       "5                             NaN                                    NaN  ...   \n",
       "6                             NaN                                    NaN  ...   \n",
       "7                             NaN                                    NaN  ...   \n",
       "8                             NaN                                    NaN  ...   \n",
       "9                             NaN                                    NaN  ...   \n",
       "\n",
       "    INR  TTPK  Tiempo protombina  NIHSS puntaje al alta  mRS puntaje ingreso  \\\n",
       "0  1.30  28.0               15.0                    NaN                  0.0   \n",
       "1  1.08  26.9               11.9                    9.0                  0.0   \n",
       "2  0.97  27.1               10.8                    0.0                  0.0   \n",
       "3  1.23  34.4               12.5                    NaN                  NaN   \n",
       "4  0.96  29.4                9.8                    NaN                  NaN   \n",
       "5  1.10  29.4                8.4                    NaN                  NaN   \n",
       "6  1.30  32.8               13.2                    NaN                  NaN   \n",
       "7  1.03  25.7               10.5                    NaN                  NaN   \n",
       "8  1.09  36.5               11.8                    NaN                  NaN   \n",
       "9  0.99  29.4               10.9                    NaN                  NaN   \n",
       "\n",
       "   NIHSS puntaje ingreso  Unnamed: 37  Functional outcome numérico  \\\n",
       "0                    NaN          1.0                            0   \n",
       "1                   11.0          1.0                            0   \n",
       "2                    0.0          1.0                            0   \n",
       "3                    NaN          NaN                            0   \n",
       "4                    NaN          NaN                            0   \n",
       "5                    NaN          NaN                            0   \n",
       "6                    NaN          NaN                            0   \n",
       "7                    NaN          NaN                            0   \n",
       "8                    NaN          NaN                            0   \n",
       "9                    NaN          NaN                            0   \n",
       "\n",
       "   Functional outcome   Código de identificación  \n",
       "0                Bueno                 8082227-8  \n",
       "1                Bueno                 7494106-0  \n",
       "2                Bueno                 7456922-6  \n",
       "3                  NaN                       NaN  \n",
       "4                  NaN                       NaN  \n",
       "5                  NaN                       NaN  \n",
       "6                  NaN                       NaN  \n",
       "7                  NaN                       NaN  \n",
       "8                  NaN                       NaN  \n",
       "9                  NaN                       NaN  \n",
       "\n",
       "[10 rows x 41 columns]"
      ]
     },
     "execution_count": 58,
     "metadata": {},
     "output_type": "execute_result"
    }
   ],
   "source": [
    "dataframe.head(10)"
   ]
  },
  {
   "cell_type": "code",
   "execution_count": 59,
   "id": "54a3b96e",
   "metadata": {},
   "outputs": [
    {
     "data": {
      "text/plain": [
       "Unnamed: 0                                                         NaN\n",
       "Edad                                                              73.0\n",
       "Sexo                                                            Hombre\n",
       "Antecedentes mórbidos                     Hipertensión Arterial, Otros\n",
       "Periodo de ventana (en horas )                                     >12\n",
       "Fribinólisis                                              No efectuada\n",
       "Saturación de oxigeno al ingreso                                   NaN\n",
       "Temperatura al ingreso                                             NaN\n",
       "Frecuencia cardíaca al ingreso                                     NaN\n",
       "Presión arterial sistólica al ingreso                            157.0\n",
       "Presión arterial diastólica al ingreso                            68.0\n",
       "Hemoglobina                                                       15.5\n",
       "Hematocrito                                                       45.3\n",
       "Plaquetas                                                          228\n",
       "Leucocitos                                                         8.4\n",
       "Colesterol total                                                   152\n",
       "HDL                                                                 40\n",
       "LDL                                                                 84\n",
       "Trigliceridos                                                      120\n",
       "Albúmina                                                           NaN\n",
       "Fosfatasa alcalina                                                91.0\n",
       "Creatinina                                                        1.11\n",
       "Urea                                                              40.7\n",
       "Ácido úrico                                                        NaN\n",
       "Nitrógeno Ureico                                                  19.0\n",
       "Cloro                                                            103.0\n",
       "Sodio                                                            135.0\n",
       "Potasio                                                            3.5\n",
       "HbA1c                                                              8.0\n",
       "Glicemia                                                         163.0\n",
       "PCR                                                               10.5\n",
       "INR                                                               1.24\n",
       "TTPK                                                              34.7\n",
       "Tiempo protombina                                                 13.6\n",
       "NIHSS puntaje al alta                                             13.0\n",
       "mRS puntaje ingreso                                                2.0\n",
       "NIHSS puntaje ingreso                                              8.0\n",
       "Unnamed: 37                                                        NaN\n",
       "Functional outcome numérico                                          0\n",
       "Functional outcome                                               Bueno\n",
       "Código de identificación                                     5260869-4\n",
       "Name: 162, dtype: object"
      ]
     },
     "execution_count": 59,
     "metadata": {},
     "output_type": "execute_result"
    }
   ],
   "source": [
    "dataframe.iloc[-1] # Última fila"
   ]
  },
  {
   "cell_type": "code",
   "execution_count": 72,
   "id": "4abacbaf",
   "metadata": {},
   "outputs": [
    {
     "data": {
      "text/html": [
       "<div>\n",
       "<style scoped>\n",
       "    .dataframe tbody tr th:only-of-type {\n",
       "        vertical-align: middle;\n",
       "    }\n",
       "\n",
       "    .dataframe tbody tr th {\n",
       "        vertical-align: top;\n",
       "    }\n",
       "\n",
       "    .dataframe thead th {\n",
       "        text-align: right;\n",
       "    }\n",
       "</style>\n",
       "<table border=\"1\" class=\"dataframe\">\n",
       "  <thead>\n",
       "    <tr style=\"text-align: right;\">\n",
       "      <th></th>\n",
       "      <th>PCR</th>\n",
       "      <th>INR</th>\n",
       "      <th>TTPK</th>\n",
       "      <th>Tiempo protombina</th>\n",
       "      <th>Functional outcome numérico</th>\n",
       "    </tr>\n",
       "  </thead>\n",
       "  <tbody>\n",
       "    <tr>\n",
       "      <th>0</th>\n",
       "      <td>16.00</td>\n",
       "      <td>1.30</td>\n",
       "      <td>28.0</td>\n",
       "      <td>15.0</td>\n",
       "      <td>0</td>\n",
       "    </tr>\n",
       "    <tr>\n",
       "      <th>1</th>\n",
       "      <td>4.10</td>\n",
       "      <td>1.08</td>\n",
       "      <td>26.9</td>\n",
       "      <td>11.9</td>\n",
       "      <td>0</td>\n",
       "    </tr>\n",
       "    <tr>\n",
       "      <th>2</th>\n",
       "      <td>10.10</td>\n",
       "      <td>0.97</td>\n",
       "      <td>27.1</td>\n",
       "      <td>10.8</td>\n",
       "      <td>0</td>\n",
       "    </tr>\n",
       "    <tr>\n",
       "      <th>3</th>\n",
       "      <td>6.70</td>\n",
       "      <td>1.23</td>\n",
       "      <td>34.4</td>\n",
       "      <td>12.5</td>\n",
       "      <td>0</td>\n",
       "    </tr>\n",
       "    <tr>\n",
       "      <th>4</th>\n",
       "      <td>0.54</td>\n",
       "      <td>0.96</td>\n",
       "      <td>29.4</td>\n",
       "      <td>9.8</td>\n",
       "      <td>0</td>\n",
       "    </tr>\n",
       "  </tbody>\n",
       "</table>\n",
       "</div>"
      ],
      "text/plain": [
       "     PCR   INR  TTPK  Tiempo protombina  Functional outcome numérico\n",
       "0  16.00  1.30  28.0               15.0                            0\n",
       "1   4.10  1.08  26.9               11.9                            0\n",
       "2  10.10  0.97  27.1               10.8                            0\n",
       "3   6.70  1.23  34.4               12.5                            0\n",
       "4   0.54  0.96  29.4                9.8                            0"
      ]
     },
     "execution_count": 72,
     "metadata": {},
     "output_type": "execute_result"
    }
   ],
   "source": [
    "columnas = ['PCR','INR', 'TTPK', 'Tiempo protombina', 'Functional outcome numérico'] # Columnas a trabajar\n",
    "dataset = dataframe[[*columnas]]\n",
    "dataset.head(5)"
   ]
  },
  {
   "cell_type": "markdown",
   "id": "347f0ef8",
   "metadata": {},
   "source": [
    "### Numero Funcional de Salida"
   ]
  },
  {
   "cell_type": "code",
   "execution_count": 73,
   "id": "0389e670",
   "metadata": {},
   "outputs": [
    {
     "name": "stdout",
     "output_type": "stream",
     "text": [
      "Functional outcome numérico\n",
      "0    97\n",
      "1    66\n",
      "dtype: int64\n"
     ]
    }
   ],
   "source": [
    "print(dataset.groupby('Functional outcome numérico').size())"
   ]
  },
  {
   "cell_type": "code",
   "execution_count": 74,
   "id": "79b3dcc0",
   "metadata": {},
   "outputs": [
    {
     "name": "stderr",
     "output_type": "stream",
     "text": [
      "C:\\Users\\Abraham\\AppData\\Local\\Temp\\ipykernel_179728\\3302411513.py:2: FutureWarning: In a future version of pandas all arguments of DataFrame.drop except for the argument 'labels' will be keyword-only.\n",
      "  dataset.drop(['Functional outcome numérico'],1).hist()\n"
     ]
    },
    {
     "data": {
      "text/plain": [
       "<Figure size 1700x500 with 0 Axes>"
      ]
     },
     "metadata": {},
     "output_type": "display_data"
    },
    {
     "data": {
      "image/png": "[encoded data removed]",
      "text/plain": [
       "<Figure size 640x480 with 4 Axes>"
      ]
     },
     "metadata": {},
     "output_type": "display_data"
    }
   ],
   "source": [
    "plt.figure(figsize=(17,5))\n",
    "dataset.drop(['Functional outcome numérico'],1).hist()\n",
    "plt.show()\n",
    "\n",
    "# Funciona para pocas columnas, pero es util para ver como estan respecto a la columna tomada.Distribucion respecto a la clase"
   ]
  },
  {
   "cell_type": "markdown",
   "id": "24a5e151",
   "metadata": {},
   "source": [
    "# Modelo"
   ]
  },
  {
   "cell_type": "code",
   "execution_count": 75,
   "id": "4e9aac76",
   "metadata": {},
   "outputs": [],
   "source": [
    "from sklearn import linear_model\n",
    "from sklearn.model_selection import train_test_split #separa las metricas\n",
    "from sklearn import metrics"
   ]
  },
  {
   "cell_type": "code",
   "execution_count": 76,
   "id": "ddc0048e",
   "metadata": {},
   "outputs": [],
   "source": [
    "modelo_RL = linear_model.LogisticRegression(solver='lbfgs', max_iter=1000)"
   ]
  },
  {
   "cell_type": "code",
   "execution_count": 77,
   "id": "95d39756",
   "metadata": {},
   "outputs": [],
   "source": [
    "X = dataset.drop('Functional outcome numérico',axis=1)"
   ]
  },
  {
   "cell_type": "code",
   "execution_count": 78,
   "id": "8206070d",
   "metadata": {},
   "outputs": [],
   "source": [
    "Y = dataset['Functional outcome numérico']"
   ]
  },
  {
   "cell_type": "code",
   "execution_count": 79,
   "id": "d5849268",
   "metadata": {},
   "outputs": [],
   "source": [
    "X_train, X_test, y_train, y_test = train_test_split(X, Y, train_size=.80,random_state=1)"
   ]
  },
  {
   "cell_type": "code",
   "execution_count": 80,
   "id": "109a43fd",
   "metadata": {},
   "outputs": [
    {
     "data": {
      "text/html": [
       "<style>#sk-container-id-2 {color: black;background-color: white;}#sk-container-id-2 pre{padding: 0;}#sk-container-id-2 div.sk-toggleable {background-color: white;}#sk-container-id-2 label.sk-toggleable__label {cursor: pointer;display: block;width: 100%;margin-bottom: 0;padding: 0.3em;box-sizing: border-box;text-align: center;}#sk-container-id-2 label.sk-toggleable__label-arrow:before {content: \"▸\";float: left;margin-right: 0.25em;color: #696969;}#sk-container-id-2 label.sk-toggleable__label-arrow:hover:before {color: black;}#sk-container-id-2 div.sk-estimator:hover label.sk-toggleable__label-arrow:before {color: black;}#sk-container-id-2 div.sk-toggleable__content {max-height: 0;max-width: 0;overflow: hidden;text-align: left;background-color: #f0f8ff;}#sk-container-id-2 div.sk-toggleable__content pre {margin: 0.2em;color: black;border-radius: 0.25em;background-color: #f0f8ff;}#sk-container-id-2 input.sk-toggleable__control:checked~div.sk-toggleable__content {max-height: 200px;max-width: 100%;overflow: auto;}#sk-container-id-2 input.sk-toggleable__control:checked~label.sk-toggleable__label-arrow:before {content: \"▾\";}#sk-container-id-2 div.sk-estimator input.sk-toggleable__control:checked~label.sk-toggleable__label {background-color: #d4ebff;}#sk-container-id-2 div.sk-label input.sk-toggleable__control:checked~label.sk-toggleable__label {background-color: #d4ebff;}#sk-container-id-2 input.sk-hidden--visually {border: 0;clip: rect(1px 1px 1px 1px);clip: rect(1px, 1px, 1px, 1px);height: 1px;margin: -1px;overflow: hidden;padding: 0;position: absolute;width: 1px;}#sk-container-id-2 div.sk-estimator {font-family: monospace;background-color: #f0f8ff;border: 1px dotted black;border-radius: 0.25em;box-sizing: border-box;margin-bottom: 0.5em;}#sk-container-id-2 div.sk-estimator:hover {background-color: #d4ebff;}#sk-container-id-2 div.sk-parallel-item::after {content: \"\";width: 100%;border-bottom: 1px solid gray;flex-grow: 1;}#sk-container-id-2 div.sk-label:hover label.sk-toggleable__label {background-color: #d4ebff;}#sk-container-id-2 div.sk-serial::before {content: \"\";position: absolute;border-left: 1px solid gray;box-sizing: border-box;top: 0;bottom: 0;left: 50%;z-index: 0;}#sk-container-id-2 div.sk-serial {display: flex;flex-direction: column;align-items: center;background-color: white;padding-right: 0.2em;padding-left: 0.2em;position: relative;}#sk-container-id-2 div.sk-item {position: relative;z-index: 1;}#sk-container-id-2 div.sk-parallel {display: flex;align-items: stretch;justify-content: center;background-color: white;position: relative;}#sk-container-id-2 div.sk-item::before, #sk-container-id-2 div.sk-parallel-item::before {content: \"\";position: absolute;border-left: 1px solid gray;box-sizing: border-box;top: 0;bottom: 0;left: 50%;z-index: -1;}#sk-container-id-2 div.sk-parallel-item {display: flex;flex-direction: column;z-index: 1;position: relative;background-color: white;}#sk-container-id-2 div.sk-parallel-item:first-child::after {align-self: flex-end;width: 50%;}#sk-container-id-2 div.sk-parallel-item:last-child::after {align-self: flex-start;width: 50%;}#sk-container-id-2 div.sk-parallel-item:only-child::after {width: 0;}#sk-container-id-2 div.sk-dashed-wrapped {border: 1px dashed gray;margin: 0 0.4em 0.5em 0.4em;box-sizing: border-box;padding-bottom: 0.4em;background-color: white;}#sk-container-id-2 div.sk-label label {font-family: monospace;font-weight: bold;display: inline-block;line-height: 1.2em;}#sk-container-id-2 div.sk-label-container {text-align: center;}#sk-container-id-2 div.sk-container {/* jupyter's `normalize.less` sets `[hidden] { display: none; }` but bootstrap.min.css set `[hidden] { display: none !important; }` so we also need the `!important` here to be able to override the default hidden behavior on the sphinx rendered scikit-learn.org. See: https://github.com/scikit-learn/scikit-learn/issues/21755 */display: inline-block !important;position: relative;}#sk-container-id-2 div.sk-text-repr-fallback {display: none;}</style><div id=\"sk-container-id-2\" class=\"sk-top-container\"><div class=\"sk-text-repr-fallback\"><pre>LogisticRegression(max_iter=1000)</pre><b>In a Jupyter environment, please rerun this cell to show the HTML representation or trust the notebook. <br />On GitHub, the HTML representation is unable to render, please try loading this page with nbviewer.org.</b></div><div class=\"sk-container\" hidden><div class=\"sk-item\"><div class=\"sk-estimator sk-toggleable\"><input class=\"sk-toggleable__control sk-hidden--visually\" id=\"sk-estimator-id-2\" type=\"checkbox\" checked><label for=\"sk-estimator-id-2\" class=\"sk-toggleable__label sk-toggleable__label-arrow\">LogisticRegression</label><div class=\"sk-toggleable__content\"><pre>LogisticRegression(max_iter=1000)</pre></div></div></div></div></div>"
      ],
      "text/plain": [
       "LogisticRegression(max_iter=1000)"
      ]
     },
     "execution_count": 80,
     "metadata": {},
     "output_type": "execute_result"
    }
   ],
   "source": [
    "modelo_RL.fit(X_train,y_train)"
   ]
  },
  {
   "cell_type": "markdown",
   "id": "335e952b",
   "metadata": {},
   "source": [
    "## Prediccion"
   ]
  },
  {
   "cell_type": "code",
   "execution_count": 81,
   "id": "161ef894",
   "metadata": {},
   "outputs": [],
   "source": [
    "prediccion = modelo_RL.predict(X_test)"
   ]
  },
  {
   "cell_type": "markdown",
   "id": "1c9b1fc4",
   "metadata": {},
   "source": [
    "## Evaluacion del Modelo"
   ]
  },
  {
   "cell_type": "code",
   "execution_count": 84,
   "id": "43121080",
   "metadata": {},
   "outputs": [
    {
     "name": "stdout",
     "output_type": "stream",
     "text": [
      "Matriz de Confusión :\n",
      " [[16  1]\n",
      " [15  1]]\n"
     ]
    }
   ],
   "source": [
    "print(\"Matriz de Confusión :\\n\",metrics.confusion_matrix(y_test, prediccion))\n",
    "# Para saber los aciertos que tiene"
   ]
  },
  {
   "cell_type": "code",
   "execution_count": 85,
   "id": "8c2df191",
   "metadata": {},
   "outputs": [
    {
     "name": "stdout",
     "output_type": "stream",
     "text": [
      "Tasa de acierto: 0.515152\n"
     ]
    }
   ],
   "source": [
    "print(\"Tasa de acierto: {:4f}\".format(metrics.accuracy_score(y_test,prediccion)))"
   ]
  },
  {
   "cell_type": "code",
   "execution_count": 86,
   "id": "15289e37",
   "metadata": {},
   "outputs": [
    {
     "name": "stdout",
     "output_type": "stream",
     "text": [
      "Reporte de clasificacion:\n",
      "\n",
      "              precision    recall  f1-score   support\n",
      "\n",
      "           0       0.52      0.94      0.67        17\n",
      "           1       0.50      0.06      0.11        16\n",
      "\n",
      "    accuracy                           0.52        33\n",
      "   macro avg       0.51      0.50      0.39        33\n",
      "weighted avg       0.51      0.52      0.40        33\n",
      "\n"
     ]
    }
   ],
   "source": [
    "print('Reporte de clasificacion:\\n')\n",
    "print(metrics.classification_report(y_test, prediccion))"
   ]
  },
  {
   "cell_type": "markdown",
   "id": "f70bd1ef",
   "metadata": {},
   "source": [
    "## Hasta aqui"
   ]
  },
  {
   "cell_type": "code",
   "execution_count": null,
   "id": "32eeff34",
   "metadata": {},
   "outputs": [],
   "source": []
  }
 ],
 "metadata": {
  "kernelspec": {
   "display_name": "Python 3 (ipykernel)",
   "language": "python",
   "name": "python3"
  },
  "language_info": {
   "codemirror_mode": {
    "name": "ipython",
    "version": 3
   },
   "file_extension": ".py",
   "mimetype": "text/x-python",
   "name": "python",
   "nbconvert_exporter": "python",
   "pygments_lexer": "ipython3",
   "version": "3.10.6"
  },
  "vscode": {
   "interpreter": {
    "hash": "606b51598694433430c015857b2ecf9fd14e8a095a5c0461ea2cbb483af7323f"
   }
  }
 },
 "nbformat": 4,
 "nbformat_minor": 5
}
