{
 "cells": [
  {
   "cell_type": "markdown",
   "id": "1284e8b8",
   "metadata": {},
   "source": [
    "<h2 align='center'>  Clasificador Naive Bayes </h2> "
   ]
  },
  {
   "cell_type": "markdown",
   "id": "af250663",
   "metadata": {},
   "source": [
    "## Teorema de Bayes\n",
    "\n",
    "La fórmula del Teorema de Bayes es la siguiente:\n",
    "\n",
    "$$P(H/E) = \\frac{P(E/H)P(H)}{P(E)}$$\n",
    "\n",
    "donde:\n",
    "\n",
    "* $P(H|E)$ es la probabilidad de la hipótesis $H$ dado el evento $E$, una probabilidad posterior.\n",
    "\n",
    "\n",
    "* $P(E|H)$ es la probabilidad del evento $E$ dado que la hipótesis $H$ es verdad.\n",
    "\n",
    "\n",
    "* $P(H)$ es la probabilidad de la hipótesis $H$ siendo cierto (independientemente de cualquier evento relacionado), o probabilidad previa de $H$.\n",
    "\n",
    "\n",
    "* $P(E)$ es la probabilidad de que ocurra el evento (independientemente de la hipótesis).\n",
    "\n",
    "En caso de que se tenga una sola característica, el clasificador Naive Bayes calcula la probabilidad de un evento en los siguientes pasos:\n",
    "\n",
    "**Paso 1:** Calcular la probabilidad previa para las etiquetas de clase dadas.\n",
    "\n",
    "**Paso 2:** Determinar la probabilidad de cada atributo para cada clase.\n",
    "\n",
    "**Paso 3:** Poner estos valores en el teorema de Bayes y calcular la probabilidad posterior.\n",
    "\n",
    "**Paso 4:** Ver qué clase tiene una probabilidad más alta, dado que la variable de entrada pertenece a la clase de probabilidad más alta."
   ]
  },
  {
   "cell_type": "markdown",
   "id": "2e1087ec",
   "metadata": {},
   "source": [
    "# Juagamos con la BDD"
   ]
  },
  {
   "cell_type": "markdown",
   "id": "56d76467",
   "metadata": {},
   "source": [
    "### Librerias"
   ]
  },
  {
   "cell_type": "code",
   "execution_count": 2,
   "id": "53135eab",
   "metadata": {},
   "outputs": [],
   "source": [
    "import pandas as pd\n",
    "from sklearn import datasets\n",
    "from sklearn.metrics import confusion_matrix\n",
    "from sklearn.metrics import precision_score\n",
    "from sklearn.naive_bayes import GaussianNB\n",
    "from sklearn.model_selection import train_test_split"
   ]
  },
  {
   "cell_type": "markdown",
   "id": "cf8676d1",
   "metadata": {},
   "source": [
    "### Cargamos Dataset"
   ]
  },
  {
   "cell_type": "code",
   "execution_count": 3,
   "id": "02e35cb0",
   "metadata": {},
   "outputs": [
    {
     "data": {
      "text/html": [
       "<div>\n",
       "<style scoped>\n",
       "    .dataframe tbody tr th:only-of-type {\n",
       "        vertical-align: middle;\n",
       "    }\n",
       "\n",
       "    .dataframe tbody tr th {\n",
       "        vertical-align: top;\n",
       "    }\n",
       "\n",
       "    .dataframe thead th {\n",
       "        text-align: right;\n",
       "    }\n",
       "</style>\n",
       "<table border=\"1\" class=\"dataframe\">\n",
       "  <thead>\n",
       "    <tr style=\"text-align: right;\">\n",
       "      <th></th>\n",
       "      <th>SEX</th>\n",
       "      <th>Age</th>\n",
       "      <th>Cardiac FQ</th>\n",
       "      <th>Systolic BP</th>\n",
       "      <th>Diastolic BP</th>\n",
       "      <th>Hb A/C  %</th>\n",
       "      <th>Total Cholest</th>\n",
       "      <th>TRIGLICERIDOS</th>\n",
       "      <th>LDL</th>\n",
       "      <th>HDL</th>\n",
       "      <th>...</th>\n",
       "      <th>Ureic nitrogen</th>\n",
       "      <th>Uremia</th>\n",
       "      <th>Creatinin</th>\n",
       "      <th>TTPA</th>\n",
       "      <th>TP</th>\n",
       "      <th>NA (sodium)</th>\n",
       "      <th>CL (Chloride)</th>\n",
       "      <th>Fosfatase Alcalin</th>\n",
       "      <th>Gamma glutamil</th>\n",
       "      <th>GLASGOW at admission</th>\n",
       "    </tr>\n",
       "  </thead>\n",
       "  <tbody>\n",
       "    <tr>\n",
       "      <th>0</th>\n",
       "      <td>1</td>\n",
       "      <td>53</td>\n",
       "      <td>78</td>\n",
       "      <td>162</td>\n",
       "      <td>64</td>\n",
       "      <td>5.9</td>\n",
       "      <td>268</td>\n",
       "      <td>130</td>\n",
       "      <td>202</td>\n",
       "      <td>40</td>\n",
       "      <td>...</td>\n",
       "      <td>21.13</td>\n",
       "      <td>45.22</td>\n",
       "      <td>0.93</td>\n",
       "      <td>21.8</td>\n",
       "      <td>11.0</td>\n",
       "      <td>137.83</td>\n",
       "      <td>101.88</td>\n",
       "      <td>81.53</td>\n",
       "      <td>41.66</td>\n",
       "      <td>11</td>\n",
       "    </tr>\n",
       "    <tr>\n",
       "      <th>1</th>\n",
       "      <td>1</td>\n",
       "      <td>54</td>\n",
       "      <td>56</td>\n",
       "      <td>130</td>\n",
       "      <td>89</td>\n",
       "      <td>6.5</td>\n",
       "      <td>187</td>\n",
       "      <td>130</td>\n",
       "      <td>118</td>\n",
       "      <td>44</td>\n",
       "      <td>...</td>\n",
       "      <td>18.00</td>\n",
       "      <td>39.00</td>\n",
       "      <td>0.90</td>\n",
       "      <td>31.0</td>\n",
       "      <td>16.0</td>\n",
       "      <td>139.00</td>\n",
       "      <td>102.00</td>\n",
       "      <td>98.00</td>\n",
       "      <td>40.00</td>\n",
       "      <td>15</td>\n",
       "    </tr>\n",
       "    <tr>\n",
       "      <th>2</th>\n",
       "      <td>2</td>\n",
       "      <td>78</td>\n",
       "      <td>91</td>\n",
       "      <td>152</td>\n",
       "      <td>75</td>\n",
       "      <td>13.8</td>\n",
       "      <td>159</td>\n",
       "      <td>97</td>\n",
       "      <td>26</td>\n",
       "      <td>35</td>\n",
       "      <td>...</td>\n",
       "      <td>12.68</td>\n",
       "      <td>27.14</td>\n",
       "      <td>0.74</td>\n",
       "      <td>26.3</td>\n",
       "      <td>9.8</td>\n",
       "      <td>137.00</td>\n",
       "      <td>101.00</td>\n",
       "      <td>80.38</td>\n",
       "      <td>130.39</td>\n",
       "      <td>15</td>\n",
       "    </tr>\n",
       "    <tr>\n",
       "      <th>3</th>\n",
       "      <td>2</td>\n",
       "      <td>87</td>\n",
       "      <td>59</td>\n",
       "      <td>136</td>\n",
       "      <td>86</td>\n",
       "      <td>5.9</td>\n",
       "      <td>193</td>\n",
       "      <td>133</td>\n",
       "      <td>115</td>\n",
       "      <td>51</td>\n",
       "      <td>...</td>\n",
       "      <td>24.10</td>\n",
       "      <td>51.60</td>\n",
       "      <td>0.92</td>\n",
       "      <td>27.2</td>\n",
       "      <td>10.1</td>\n",
       "      <td>137.10</td>\n",
       "      <td>106.45</td>\n",
       "      <td>120.20</td>\n",
       "      <td>33.95</td>\n",
       "      <td>15</td>\n",
       "    </tr>\n",
       "    <tr>\n",
       "      <th>4</th>\n",
       "      <td>1</td>\n",
       "      <td>69</td>\n",
       "      <td>104</td>\n",
       "      <td>154</td>\n",
       "      <td>95</td>\n",
       "      <td>16.7</td>\n",
       "      <td>184</td>\n",
       "      <td>137</td>\n",
       "      <td>125</td>\n",
       "      <td>32</td>\n",
       "      <td>...</td>\n",
       "      <td>16.69</td>\n",
       "      <td>35.72</td>\n",
       "      <td>1.05</td>\n",
       "      <td>24.2</td>\n",
       "      <td>13.0</td>\n",
       "      <td>137.70</td>\n",
       "      <td>103.80</td>\n",
       "      <td>98.00</td>\n",
       "      <td>40.00</td>\n",
       "      <td>15</td>\n",
       "    </tr>\n",
       "    <tr>\n",
       "      <th>5</th>\n",
       "      <td>2</td>\n",
       "      <td>90</td>\n",
       "      <td>55</td>\n",
       "      <td>216</td>\n",
       "      <td>84</td>\n",
       "      <td>12.3</td>\n",
       "      <td>166</td>\n",
       "      <td>128</td>\n",
       "      <td>102</td>\n",
       "      <td>37</td>\n",
       "      <td>...</td>\n",
       "      <td>39.33</td>\n",
       "      <td>84.17</td>\n",
       "      <td>1.73</td>\n",
       "      <td>25.7</td>\n",
       "      <td>10.2</td>\n",
       "      <td>137.92</td>\n",
       "      <td>107.68</td>\n",
       "      <td>157.14</td>\n",
       "      <td>58.95</td>\n",
       "      <td>14</td>\n",
       "    </tr>\n",
       "    <tr>\n",
       "      <th>6</th>\n",
       "      <td>1</td>\n",
       "      <td>90</td>\n",
       "      <td>78</td>\n",
       "      <td>180</td>\n",
       "      <td>80</td>\n",
       "      <td>5.6</td>\n",
       "      <td>121</td>\n",
       "      <td>137</td>\n",
       "      <td>59</td>\n",
       "      <td>34</td>\n",
       "      <td>...</td>\n",
       "      <td>15.00</td>\n",
       "      <td>32.27</td>\n",
       "      <td>0.80</td>\n",
       "      <td>30.0</td>\n",
       "      <td>10.8</td>\n",
       "      <td>139.00</td>\n",
       "      <td>102.00</td>\n",
       "      <td>86.72</td>\n",
       "      <td>29.15</td>\n",
       "      <td>8</td>\n",
       "    </tr>\n",
       "  </tbody>\n",
       "</table>\n",
       "<p>7 rows × 26 columns</p>\n",
       "</div>"
      ],
      "text/plain": [
       "   SEX  Age  Cardiac FQ  Systolic BP  Diastolic BP  Hb A/C  %  Total Cholest  \\\n",
       "0    1   53          78          162            64        5.9            268   \n",
       "1    1   54          56          130            89        6.5            187   \n",
       "2    2   78          91          152            75       13.8            159   \n",
       "3    2   87          59          136            86        5.9            193   \n",
       "4    1   69         104          154            95       16.7            184   \n",
       "5    2   90          55          216            84       12.3            166   \n",
       "6    1   90          78          180            80        5.6            121   \n",
       "\n",
       "   TRIGLICERIDOS  LDL  HDL  ...  Ureic nitrogen  Uremia  Creatinin  TTPA  \\\n",
       "0            130  202   40  ...           21.13   45.22       0.93  21.8   \n",
       "1            130  118   44  ...           18.00   39.00       0.90  31.0   \n",
       "2             97   26   35  ...           12.68   27.14       0.74  26.3   \n",
       "3            133  115   51  ...           24.10   51.60       0.92  27.2   \n",
       "4            137  125   32  ...           16.69   35.72       1.05  24.2   \n",
       "5            128  102   37  ...           39.33   84.17       1.73  25.7   \n",
       "6            137   59   34  ...           15.00   32.27       0.80  30.0   \n",
       "\n",
       "     TP  NA (sodium)  CL (Chloride)  Fosfatase Alcalin  Gamma glutamil  \\\n",
       "0  11.0       137.83         101.88              81.53           41.66   \n",
       "1  16.0       139.00         102.00              98.00           40.00   \n",
       "2   9.8       137.00         101.00              80.38          130.39   \n",
       "3  10.1       137.10         106.45             120.20           33.95   \n",
       "4  13.0       137.70         103.80              98.00           40.00   \n",
       "5  10.2       137.92         107.68             157.14           58.95   \n",
       "6  10.8       139.00         102.00              86.72           29.15   \n",
       "\n",
       "   GLASGOW at admission  \n",
       "0                    11  \n",
       "1                    15  \n",
       "2                    15  \n",
       "3                    15  \n",
       "4                    15  \n",
       "5                    14  \n",
       "6                     8  \n",
       "\n",
       "[7 rows x 26 columns]"
      ]
     },
     "execution_count": 3,
     "metadata": {},
     "output_type": "execute_result"
    }
   ],
   "source": [
    "datasetGrande = pd.read_excel('../bdd/bdd.xlsx')\n",
    "columnas = ['SEX', 'Age', 'Cardiac FQ', 'Systolic BP', 'Diastolic BP', 'Hb A/C  %', 'Total Cholest', 'TRIGLICERIDOS', 'LDL', 'HDL', 'HCTO', 'HB', 'Platelets', 'INR', 'Leucocytes', 'C.R.P', 'Ureic nitrogen', 'Uremia', 'Creatinin', 'TTPA', 'TP', 'NA (sodium)', 'CL (Chloride)', 'Fosfatase Alcalin', 'Gamma glutamil', 'GLASGOW at admission'] # Columnas a trabajar 'Severity',, 'Diastolic BP', 'Hb A/C  %', 'Total Cholest', 'TRIGLICERIDOS', 'LDL', 'HDL', 'HCTO', 'HB', 'Platelets', 'INR', 'Leucocytes', 'C.R.P', 'Ureic nitrogen', 'Uremia', 'Creatinin', 'TTPA', 'TP', 'NA (sodium)', 'CL (Chloride)', 'Fosfatase Alcalin', 'Gamma glutamil', 'GLASGOW at admission'\n",
    "dataset = datasetGrande[[*columnas]]\n",
    "dataset.head(7)"
   ]
  },
  {
   "cell_type": "markdown",
   "id": "52ff5bf8",
   "metadata": {},
   "source": [
    "### Información del Dataset"
   ]
  },
  {
   "cell_type": "code",
   "execution_count": 6,
   "id": "c1c9983f",
   "metadata": {},
   "outputs": [
    {
     "name": "stdout",
     "output_type": "stream",
     "text": [
      "Información del Dataset\n",
      "Index(['Code', 'Localization', 'Severity', 'SEX', 'Age', 'Cardiac FQ',\n",
      "       'Systolic BP', 'Diastolic BP', 'Glucose', 'Hb A/C  %', 'Total Cholest',\n",
      "       'TRIGLICERIDOS', 'LDL', 'HDL', 'HCTO', 'HB', 'Platelets', 'INR',\n",
      "       'Leucocytes', 'C.R.P', 'Ureic nitrogen', 'Uremia', 'Creatinin', 'TTPA',\n",
      "       'TP', 'NA (sodium)', 'K (potassium)', 'CL (Chloride)',\n",
      "       'Fosfatase Alcalin', 'Gamma glutamil', 'GLASGOW at admission',\n",
      "       'NIHSS admission', 'RANKIN admission', 'NIHSS dismissed',\n",
      "       'RANKIN dismissed', 'NIHSS 6 months', 'RANKIN 6 months', 'PROGNOSIS',\n",
      "       'VEGF/mL', 'PLGF/mL', 'IL-6 (pg/ml)', 'exosomas'],\n",
      "      dtype='object')\n",
      "\n"
     ]
    }
   ],
   "source": [
    "print('Información del Dataset')\n",
    "print(datasetGrande.keys())\n",
    "print()"
   ]
  },
  {
   "cell_type": "markdown",
   "id": "ca354abc",
   "metadata": {},
   "source": [
    "## Separamos los datos de entrenamiento y validación"
   ]
  },
  {
   "cell_type": "code",
   "execution_count": 4,
   "id": "04497bef",
   "metadata": {},
   "outputs": [
    {
     "ename": "AttributeError",
     "evalue": "'DataFrame' object has no attribute 'PCR'",
     "output_type": "error",
     "traceback": [
      "\u001b[1;31m---------------------------------------------------------------------------\u001b[0m",
      "\u001b[1;31mAttributeError\u001b[0m                            Traceback (most recent call last)",
      "Cell \u001b[1;32mIn [4], line 1\u001b[0m\n\u001b[1;32m----> 1\u001b[0m X_train, X_test, y_train, y_test \u001b[38;5;241m=\u001b[39m train_test_split(\u001b[43mdataset\u001b[49m\u001b[38;5;241;43m.\u001b[39;49m\u001b[43mPCR\u001b[49m, dataset\u001b[38;5;241m.\u001b[39mINR, test_size \u001b[38;5;241m=\u001b[39m \u001b[38;5;241m0.3\u001b[39m)\n",
      "File \u001b[1;32m~\\AppData\\Local\\Programs\\Python\\Python310\\lib\\site-packages\\pandas\\core\\generic.py:5902\u001b[0m, in \u001b[0;36mNDFrame.__getattr__\u001b[1;34m(self, name)\u001b[0m\n\u001b[0;32m   5895\u001b[0m \u001b[38;5;28;01mif\u001b[39;00m (\n\u001b[0;32m   5896\u001b[0m     name \u001b[38;5;129;01mnot\u001b[39;00m \u001b[38;5;129;01min\u001b[39;00m \u001b[38;5;28mself\u001b[39m\u001b[38;5;241m.\u001b[39m_internal_names_set\n\u001b[0;32m   5897\u001b[0m     \u001b[38;5;129;01mand\u001b[39;00m name \u001b[38;5;129;01mnot\u001b[39;00m \u001b[38;5;129;01min\u001b[39;00m \u001b[38;5;28mself\u001b[39m\u001b[38;5;241m.\u001b[39m_metadata\n\u001b[0;32m   5898\u001b[0m     \u001b[38;5;129;01mand\u001b[39;00m name \u001b[38;5;129;01mnot\u001b[39;00m \u001b[38;5;129;01min\u001b[39;00m \u001b[38;5;28mself\u001b[39m\u001b[38;5;241m.\u001b[39m_accessors\n\u001b[0;32m   5899\u001b[0m     \u001b[38;5;129;01mand\u001b[39;00m \u001b[38;5;28mself\u001b[39m\u001b[38;5;241m.\u001b[39m_info_axis\u001b[38;5;241m.\u001b[39m_can_hold_identifiers_and_holds_name(name)\n\u001b[0;32m   5900\u001b[0m ):\n\u001b[0;32m   5901\u001b[0m     \u001b[38;5;28;01mreturn\u001b[39;00m \u001b[38;5;28mself\u001b[39m[name]\n\u001b[1;32m-> 5902\u001b[0m \u001b[38;5;28;01mreturn\u001b[39;00m \u001b[38;5;28;43mobject\u001b[39;49m\u001b[38;5;241;43m.\u001b[39;49m\u001b[38;5;21;43m__getattribute__\u001b[39;49m\u001b[43m(\u001b[49m\u001b[38;5;28;43mself\u001b[39;49m\u001b[43m,\u001b[49m\u001b[43m \u001b[49m\u001b[43mname\u001b[49m\u001b[43m)\u001b[49m\n",
      "\u001b[1;31mAttributeError\u001b[0m: 'DataFrame' object has no attribute 'PCR'"
     ]
    }
   ],
   "source": [
    "X_train, X_test, y_train, y_test = train_test_split(dataset.PCR, dataset.INR, test_size = 0.3)"
   ]
  },
  {
   "cell_type": "markdown",
   "id": "ad9944ee",
   "metadata": {},
   "source": [
    "## Creamos el modelo"
   ]
  },
  {
   "cell_type": "code",
   "execution_count": 6,
   "id": "a4cbae7a",
   "metadata": {},
   "outputs": [],
   "source": [
    "modelo = GaussianNB()"
   ]
  },
  {
   "cell_type": "markdown",
   "id": "6dd8d10b",
   "metadata": {},
   "source": [
    "## Entrenamos el modelo"
   ]
  },
  {
   "cell_type": "code",
   "execution_count": 8,
   "id": "683fb152",
   "metadata": {},
   "outputs": [
    {
     "ename": "ValueError",
     "evalue": "Unknown label type: (array([0.89, 0.9 , 0.93, 0.94, 0.95, 0.96, 0.97, 0.98, 0.99, 1.  , 1.01,\n       1.02, 1.03, 1.04, 1.05, 1.06, 1.07, 1.08, 1.09, 1.1 , 1.11, 1.12,\n       1.13, 1.14, 1.15, 1.16, 1.17, 1.18, 1.19, 1.2 , 1.23, 1.24, 1.26,\n       1.27, 1.28, 1.29, 1.3 , 1.34, 1.35, 1.76, 2.19, 2.5 , 3.08, 3.15,\n       3.54, 4.14]),)",
     "output_type": "error",
     "traceback": [
      "\u001b[1;31m---------------------------------------------------------------------------\u001b[0m",
      "\u001b[1;31mValueError\u001b[0m                                Traceback (most recent call last)",
      "Cell \u001b[1;32mIn [8], line 1\u001b[0m\n\u001b[1;32m----> 1\u001b[0m \u001b[43mmodelo\u001b[49m\u001b[38;5;241;43m.\u001b[39;49m\u001b[43mfit\u001b[49m\u001b[43m(\u001b[49m\u001b[43mX_train\u001b[49m\u001b[43m,\u001b[49m\u001b[43m \u001b[49m\u001b[43my_train\u001b[49m\u001b[43m)\u001b[49m\n",
      "File \u001b[1;32m~\\AppData\\Local\\Programs\\Python\\Python310\\lib\\site-packages\\sklearn\\naive_bayes.py:243\u001b[0m, in \u001b[0;36mGaussianNB.fit\u001b[1;34m(self, X, y, sample_weight)\u001b[0m\n\u001b[0;32m    220\u001b[0m \u001b[38;5;124;03m\"\"\"Fit Gaussian Naive Bayes according to X, y.\u001b[39;00m\n\u001b[0;32m    221\u001b[0m \n\u001b[0;32m    222\u001b[0m \u001b[38;5;124;03mParameters\u001b[39;00m\n\u001b[1;32m   (...)\u001b[0m\n\u001b[0;32m    240\u001b[0m \u001b[38;5;124;03m    Returns the instance itself.\u001b[39;00m\n\u001b[0;32m    241\u001b[0m \u001b[38;5;124;03m\"\"\"\u001b[39;00m\n\u001b[0;32m    242\u001b[0m y \u001b[38;5;241m=\u001b[39m \u001b[38;5;28mself\u001b[39m\u001b[38;5;241m.\u001b[39m_validate_data(y\u001b[38;5;241m=\u001b[39my)\n\u001b[1;32m--> 243\u001b[0m \u001b[38;5;28;01mreturn\u001b[39;00m \u001b[38;5;28;43mself\u001b[39;49m\u001b[38;5;241;43m.\u001b[39;49m\u001b[43m_partial_fit\u001b[49m\u001b[43m(\u001b[49m\n\u001b[0;32m    244\u001b[0m \u001b[43m    \u001b[49m\u001b[43mX\u001b[49m\u001b[43m,\u001b[49m\u001b[43m \u001b[49m\u001b[43my\u001b[49m\u001b[43m,\u001b[49m\u001b[43m \u001b[49m\u001b[43mnp\u001b[49m\u001b[38;5;241;43m.\u001b[39;49m\u001b[43munique\u001b[49m\u001b[43m(\u001b[49m\u001b[43my\u001b[49m\u001b[43m)\u001b[49m\u001b[43m,\u001b[49m\u001b[43m \u001b[49m\u001b[43m_refit\u001b[49m\u001b[38;5;241;43m=\u001b[39;49m\u001b[38;5;28;43;01mTrue\u001b[39;49;00m\u001b[43m,\u001b[49m\u001b[43m \u001b[49m\u001b[43msample_weight\u001b[49m\u001b[38;5;241;43m=\u001b[39;49m\u001b[43msample_weight\u001b[49m\n\u001b[0;32m    245\u001b[0m \u001b[43m\u001b[49m\u001b[43m)\u001b[49m\n",
      "File \u001b[1;32m~\\AppData\\Local\\Programs\\Python\\Python310\\lib\\site-packages\\sklearn\\naive_bayes.py:399\u001b[0m, in \u001b[0;36mGaussianNB._partial_fit\u001b[1;34m(self, X, y, classes, _refit, sample_weight)\u001b[0m\n\u001b[0;32m    396\u001b[0m \u001b[38;5;28;01mif\u001b[39;00m _refit:\n\u001b[0;32m    397\u001b[0m     \u001b[38;5;28mself\u001b[39m\u001b[38;5;241m.\u001b[39mclasses_ \u001b[38;5;241m=\u001b[39m \u001b[38;5;28;01mNone\u001b[39;00m\n\u001b[1;32m--> 399\u001b[0m first_call \u001b[38;5;241m=\u001b[39m \u001b[43m_check_partial_fit_first_call\u001b[49m\u001b[43m(\u001b[49m\u001b[38;5;28;43mself\u001b[39;49m\u001b[43m,\u001b[49m\u001b[43m \u001b[49m\u001b[43mclasses\u001b[49m\u001b[43m)\u001b[49m\n\u001b[0;32m    400\u001b[0m X, y \u001b[38;5;241m=\u001b[39m \u001b[38;5;28mself\u001b[39m\u001b[38;5;241m.\u001b[39m_validate_data(X, y, reset\u001b[38;5;241m=\u001b[39mfirst_call)\n\u001b[0;32m    401\u001b[0m \u001b[38;5;28;01mif\u001b[39;00m sample_weight \u001b[38;5;129;01mis\u001b[39;00m \u001b[38;5;129;01mnot\u001b[39;00m \u001b[38;5;28;01mNone\u001b[39;00m:\n",
      "File \u001b[1;32m~\\AppData\\Local\\Programs\\Python\\Python310\\lib\\site-packages\\sklearn\\utils\\multiclass.py:368\u001b[0m, in \u001b[0;36m_check_partial_fit_first_call\u001b[1;34m(clf, classes)\u001b[0m\n\u001b[0;32m    361\u001b[0m             \u001b[38;5;28;01mraise\u001b[39;00m \u001b[38;5;167;01mValueError\u001b[39;00m(\n\u001b[0;32m    362\u001b[0m                 \u001b[38;5;124m\"\u001b[39m\u001b[38;5;124m`classes=\u001b[39m\u001b[38;5;132;01m%r\u001b[39;00m\u001b[38;5;124m` is not the same as on last call \u001b[39m\u001b[38;5;124m\"\u001b[39m\n\u001b[0;32m    363\u001b[0m                 \u001b[38;5;124m\"\u001b[39m\u001b[38;5;124mto partial_fit, was: \u001b[39m\u001b[38;5;132;01m%r\u001b[39;00m\u001b[38;5;124m\"\u001b[39m \u001b[38;5;241m%\u001b[39m (classes, clf\u001b[38;5;241m.\u001b[39mclasses_)\n\u001b[0;32m    364\u001b[0m             )\n\u001b[0;32m    366\u001b[0m     \u001b[38;5;28;01melse\u001b[39;00m:\n\u001b[0;32m    367\u001b[0m         \u001b[38;5;66;03m# This is the first call to partial_fit\u001b[39;00m\n\u001b[1;32m--> 368\u001b[0m         clf\u001b[38;5;241m.\u001b[39mclasses_ \u001b[38;5;241m=\u001b[39m \u001b[43munique_labels\u001b[49m\u001b[43m(\u001b[49m\u001b[43mclasses\u001b[49m\u001b[43m)\u001b[49m\n\u001b[0;32m    369\u001b[0m         \u001b[38;5;28;01mreturn\u001b[39;00m \u001b[38;5;28;01mTrue\u001b[39;00m\n\u001b[0;32m    371\u001b[0m \u001b[38;5;66;03m# classes is None and clf.classes_ has already previously been set:\u001b[39;00m\n\u001b[0;32m    372\u001b[0m \u001b[38;5;66;03m# nothing to do\u001b[39;00m\n",
      "File \u001b[1;32m~\\AppData\\Local\\Programs\\Python\\Python310\\lib\\site-packages\\sklearn\\utils\\multiclass.py:103\u001b[0m, in \u001b[0;36munique_labels\u001b[1;34m(*ys)\u001b[0m\n\u001b[0;32m    101\u001b[0m _unique_labels \u001b[38;5;241m=\u001b[39m _FN_UNIQUE_LABELS\u001b[38;5;241m.\u001b[39mget(label_type, \u001b[38;5;28;01mNone\u001b[39;00m)\n\u001b[0;32m    102\u001b[0m \u001b[38;5;28;01mif\u001b[39;00m \u001b[38;5;129;01mnot\u001b[39;00m _unique_labels:\n\u001b[1;32m--> 103\u001b[0m     \u001b[38;5;28;01mraise\u001b[39;00m \u001b[38;5;167;01mValueError\u001b[39;00m(\u001b[38;5;124m\"\u001b[39m\u001b[38;5;124mUnknown label type: \u001b[39m\u001b[38;5;132;01m%s\u001b[39;00m\u001b[38;5;124m\"\u001b[39m \u001b[38;5;241m%\u001b[39m \u001b[38;5;28mrepr\u001b[39m(ys))\n\u001b[0;32m    105\u001b[0m ys_labels \u001b[38;5;241m=\u001b[39m \u001b[38;5;28mset\u001b[39m(chain\u001b[38;5;241m.\u001b[39mfrom_iterable(_unique_labels(y) \u001b[38;5;28;01mfor\u001b[39;00m y \u001b[38;5;129;01min\u001b[39;00m ys))\n\u001b[0;32m    107\u001b[0m \u001b[38;5;66;03m# Check that we don't mix string type with number type\u001b[39;00m\n",
      "\u001b[1;31mValueError\u001b[0m: Unknown label type: (array([0.89, 0.9 , 0.93, 0.94, 0.95, 0.96, 0.97, 0.98, 0.99, 1.  , 1.01,\n       1.02, 1.03, 1.04, 1.05, 1.06, 1.07, 1.08, 1.09, 1.1 , 1.11, 1.12,\n       1.13, 1.14, 1.15, 1.16, 1.17, 1.18, 1.19, 1.2 , 1.23, 1.24, 1.26,\n       1.27, 1.28, 1.29, 1.3 , 1.34, 1.35, 1.76, 2.19, 2.5 , 3.08, 3.15,\n       3.54, 4.14]),)"
     ]
    }
   ],
   "source": [
    "modelo.fit(X_train, y_train)"
   ]
  },
  {
   "cell_type": "markdown",
   "id": "eb3aada2",
   "metadata": {},
   "source": [
    "## Predicciones"
   ]
  },
  {
   "cell_type": "code",
   "execution_count": 11,
   "id": "7903e2bf",
   "metadata": {},
   "outputs": [
    {
     "ename": "ValueError",
     "evalue": "Expected 2D array, got 1D array instead:\narray=[  8.7   17.43   1.    12.11   8.    10.1   10.5   35.37  11.9   14.5\n   3.9   30.    10.7    1.     1.     2.54  30.     1.69   2.86   8.\n   0.66  11.6   46.    16.     1.4    1.   140.74  41.4   17.    27.6\n   1.04   5.3    1.6    4.9  114.     6.7    2.4    5.2    7.     2.8\n   4.    16.    16.     0.87   6.4   11.9  109.91   0.54  44.96].\nReshape your data either using array.reshape(-1, 1) if your data has a single feature or array.reshape(1, -1) if it contains a single sample.",
     "output_type": "error",
     "traceback": [
      "\u001b[1;31m---------------------------------------------------------------------------\u001b[0m",
      "\u001b[1;31mValueError\u001b[0m                                Traceback (most recent call last)",
      "Cell \u001b[1;32mIn [11], line 1\u001b[0m\n\u001b[1;32m----> 1\u001b[0m y_pred \u001b[38;5;241m=\u001b[39m \u001b[43mmodelo\u001b[49m\u001b[38;5;241;43m.\u001b[39;49m\u001b[43mpredict\u001b[49m\u001b[43m(\u001b[49m\u001b[43mX_test\u001b[49m\u001b[43m)\u001b[49m\n",
      "File \u001b[1;32m~\\AppData\\Local\\Programs\\Python\\Python310\\lib\\site-packages\\sklearn\\naive_bayes.py:80\u001b[0m, in \u001b[0;36m_BaseNB.predict\u001b[1;34m(self, X)\u001b[0m\n\u001b[0;32m     66\u001b[0m \u001b[38;5;124;03m\"\"\"\u001b[39;00m\n\u001b[0;32m     67\u001b[0m \u001b[38;5;124;03mPerform classification on an array of test vectors X.\u001b[39;00m\n\u001b[0;32m     68\u001b[0m \n\u001b[1;32m   (...)\u001b[0m\n\u001b[0;32m     77\u001b[0m \u001b[38;5;124;03m    Predicted target values for X.\u001b[39;00m\n\u001b[0;32m     78\u001b[0m \u001b[38;5;124;03m\"\"\"\u001b[39;00m\n\u001b[0;32m     79\u001b[0m check_is_fitted(\u001b[38;5;28mself\u001b[39m)\n\u001b[1;32m---> 80\u001b[0m X \u001b[38;5;241m=\u001b[39m \u001b[38;5;28;43mself\u001b[39;49m\u001b[38;5;241;43m.\u001b[39;49m\u001b[43m_check_X\u001b[49m\u001b[43m(\u001b[49m\u001b[43mX\u001b[49m\u001b[43m)\u001b[49m\n\u001b[0;32m     81\u001b[0m jll \u001b[38;5;241m=\u001b[39m \u001b[38;5;28mself\u001b[39m\u001b[38;5;241m.\u001b[39m_joint_log_likelihood(X)\n\u001b[0;32m     82\u001b[0m \u001b[38;5;28;01mreturn\u001b[39;00m \u001b[38;5;28mself\u001b[39m\u001b[38;5;241m.\u001b[39mclasses_[np\u001b[38;5;241m.\u001b[39margmax(jll, axis\u001b[38;5;241m=\u001b[39m\u001b[38;5;241m1\u001b[39m)]\n",
      "File \u001b[1;32m~\\AppData\\Local\\Programs\\Python\\Python310\\lib\\site-packages\\sklearn\\naive_bayes.py:249\u001b[0m, in \u001b[0;36mGaussianNB._check_X\u001b[1;34m(self, X)\u001b[0m\n\u001b[0;32m    247\u001b[0m \u001b[38;5;28;01mdef\u001b[39;00m \u001b[38;5;21m_check_X\u001b[39m(\u001b[38;5;28mself\u001b[39m, X):\n\u001b[0;32m    248\u001b[0m     \u001b[38;5;124;03m\"\"\"Validate X, used only in predict* methods.\"\"\"\u001b[39;00m\n\u001b[1;32m--> 249\u001b[0m     \u001b[38;5;28;01mreturn\u001b[39;00m \u001b[38;5;28;43mself\u001b[39;49m\u001b[38;5;241;43m.\u001b[39;49m\u001b[43m_validate_data\u001b[49m\u001b[43m(\u001b[49m\u001b[43mX\u001b[49m\u001b[43m,\u001b[49m\u001b[43m \u001b[49m\u001b[43mreset\u001b[49m\u001b[38;5;241;43m=\u001b[39;49m\u001b[38;5;28;43;01mFalse\u001b[39;49;00m\u001b[43m)\u001b[49m\n",
      "File \u001b[1;32m~\\AppData\\Local\\Programs\\Python\\Python310\\lib\\site-packages\\sklearn\\base.py:577\u001b[0m, in \u001b[0;36mBaseEstimator._validate_data\u001b[1;34m(self, X, y, reset, validate_separately, **check_params)\u001b[0m\n\u001b[0;32m    575\u001b[0m     \u001b[38;5;28;01mraise\u001b[39;00m \u001b[38;5;167;01mValueError\u001b[39;00m(\u001b[38;5;124m\"\u001b[39m\u001b[38;5;124mValidation should be done on X, y or both.\u001b[39m\u001b[38;5;124m\"\u001b[39m)\n\u001b[0;32m    576\u001b[0m \u001b[38;5;28;01melif\u001b[39;00m \u001b[38;5;129;01mnot\u001b[39;00m no_val_X \u001b[38;5;129;01mand\u001b[39;00m no_val_y:\n\u001b[1;32m--> 577\u001b[0m     X \u001b[38;5;241m=\u001b[39m check_array(X, input_name\u001b[38;5;241m=\u001b[39m\u001b[38;5;124m\"\u001b[39m\u001b[38;5;124mX\u001b[39m\u001b[38;5;124m\"\u001b[39m, \u001b[38;5;241m*\u001b[39m\u001b[38;5;241m*\u001b[39mcheck_params)\n\u001b[0;32m    578\u001b[0m     out \u001b[38;5;241m=\u001b[39m X\n\u001b[0;32m    579\u001b[0m \u001b[38;5;28;01melif\u001b[39;00m no_val_X \u001b[38;5;129;01mand\u001b[39;00m \u001b[38;5;129;01mnot\u001b[39;00m no_val_y:\n",
      "File \u001b[1;32m~\\AppData\\Local\\Programs\\Python\\Python310\\lib\\site-packages\\sklearn\\utils\\validation.py:879\u001b[0m, in \u001b[0;36mcheck_array\u001b[1;34m(array, accept_sparse, accept_large_sparse, dtype, order, copy, force_all_finite, ensure_2d, allow_nd, ensure_min_samples, ensure_min_features, estimator, input_name)\u001b[0m\n\u001b[0;32m    877\u001b[0m     \u001b[38;5;66;03m# If input is 1D raise error\u001b[39;00m\n\u001b[0;32m    878\u001b[0m     \u001b[38;5;28;01mif\u001b[39;00m array\u001b[38;5;241m.\u001b[39mndim \u001b[38;5;241m==\u001b[39m \u001b[38;5;241m1\u001b[39m:\n\u001b[1;32m--> 879\u001b[0m         \u001b[38;5;28;01mraise\u001b[39;00m \u001b[38;5;167;01mValueError\u001b[39;00m(\n\u001b[0;32m    880\u001b[0m             \u001b[38;5;124m\"\u001b[39m\u001b[38;5;124mExpected 2D array, got 1D array instead:\u001b[39m\u001b[38;5;130;01m\\n\u001b[39;00m\u001b[38;5;124marray=\u001b[39m\u001b[38;5;132;01m{}\u001b[39;00m\u001b[38;5;124m.\u001b[39m\u001b[38;5;130;01m\\n\u001b[39;00m\u001b[38;5;124m\"\u001b[39m\n\u001b[0;32m    881\u001b[0m             \u001b[38;5;124m\"\u001b[39m\u001b[38;5;124mReshape your data either using array.reshape(-1, 1) if \u001b[39m\u001b[38;5;124m\"\u001b[39m\n\u001b[0;32m    882\u001b[0m             \u001b[38;5;124m\"\u001b[39m\u001b[38;5;124myour data has a single feature or array.reshape(1, -1) \u001b[39m\u001b[38;5;124m\"\u001b[39m\n\u001b[0;32m    883\u001b[0m             \u001b[38;5;124m\"\u001b[39m\u001b[38;5;124mif it contains a single sample.\u001b[39m\u001b[38;5;124m\"\u001b[39m\u001b[38;5;241m.\u001b[39mformat(array)\n\u001b[0;32m    884\u001b[0m         )\n\u001b[0;32m    886\u001b[0m \u001b[38;5;28;01mif\u001b[39;00m dtype_numeric \u001b[38;5;129;01mand\u001b[39;00m array\u001b[38;5;241m.\u001b[39mdtype\u001b[38;5;241m.\u001b[39mkind \u001b[38;5;129;01min\u001b[39;00m \u001b[38;5;124m\"\u001b[39m\u001b[38;5;124mUSV\u001b[39m\u001b[38;5;124m\"\u001b[39m:\n\u001b[0;32m    887\u001b[0m     \u001b[38;5;28;01mraise\u001b[39;00m \u001b[38;5;167;01mValueError\u001b[39;00m(\n\u001b[0;32m    888\u001b[0m         \u001b[38;5;124m\"\u001b[39m\u001b[38;5;124mdtype=\u001b[39m\u001b[38;5;124m'\u001b[39m\u001b[38;5;124mnumeric\u001b[39m\u001b[38;5;124m'\u001b[39m\u001b[38;5;124m is not compatible with arrays of bytes/strings.\u001b[39m\u001b[38;5;124m\"\u001b[39m\n\u001b[0;32m    889\u001b[0m         \u001b[38;5;124m\"\u001b[39m\u001b[38;5;124mConvert your data to numeric values explicitly instead.\u001b[39m\u001b[38;5;124m\"\u001b[39m\n\u001b[0;32m    890\u001b[0m     )\n",
      "\u001b[1;31mValueError\u001b[0m: Expected 2D array, got 1D array instead:\narray=[  8.7   17.43   1.    12.11   8.    10.1   10.5   35.37  11.9   14.5\n   3.9   30.    10.7    1.     1.     2.54  30.     1.69   2.86   8.\n   0.66  11.6   46.    16.     1.4    1.   140.74  41.4   17.    27.6\n   1.04   5.3    1.6    4.9  114.     6.7    2.4    5.2    7.     2.8\n   4.    16.    16.     0.87   6.4   11.9  109.91   0.54  44.96].\nReshape your data either using array.reshape(-1, 1) if your data has a single feature or array.reshape(1, -1) if it contains a single sample."
     ]
    }
   ],
   "source": [
    "y_pred = modelo.predict(X_test)"
   ]
  },
  {
   "cell_type": "markdown",
   "id": "5023c168",
   "metadata": {},
   "source": [
    "## Determinamos la precisión del modelo"
   ]
  },
  {
   "cell_type": "code",
   "execution_count": 12,
   "id": "88e2d90b",
   "metadata": {},
   "outputs": [
    {
     "ename": "NameError",
     "evalue": "name 'y_pred' is not defined",
     "output_type": "error",
     "traceback": [
      "\u001b[1;31m---------------------------------------------------------------------------\u001b[0m",
      "\u001b[1;31mNameError\u001b[0m                                 Traceback (most recent call last)",
      "Cell \u001b[1;32mIn [12], line 1\u001b[0m\n\u001b[1;32m----> 1\u001b[0m precision \u001b[38;5;241m=\u001b[39m precision_score(y_test, \u001b[43my_pred\u001b[49m)\n\u001b[0;32m      2\u001b[0m \u001b[38;5;28mprint\u001b[39m(\u001b[38;5;124m'\u001b[39m\u001b[38;5;124mPrecisión del modelo:\u001b[39m\u001b[38;5;124m'\u001b[39m)\n\u001b[0;32m      3\u001b[0m \u001b[38;5;28mprint\u001b[39m(precision)\n",
      "\u001b[1;31mNameError\u001b[0m: name 'y_pred' is not defined"
     ]
    }
   ],
   "source": [
    "precision = precision_score(y_test, y_pred)\n",
    "print('Precisión del modelo:')\n",
    "print(precision)"
   ]
  },
  {
   "cell_type": "markdown",
   "id": "8a73f108",
   "metadata": {},
   "source": [
    "## Verifico la matriz de Confusión"
   ]
  },
  {
   "cell_type": "code",
   "execution_count": 14,
   "id": "756acddd",
   "metadata": {},
   "outputs": [
    {
     "ename": "NameError",
     "evalue": "name 'y_pred' is not defined",
     "output_type": "error",
     "traceback": [
      "\u001b[1;31m---------------------------------------------------------------------------\u001b[0m",
      "\u001b[1;31mNameError\u001b[0m                                 Traceback (most recent call last)",
      "Cell \u001b[1;32mIn [14], line 1\u001b[0m\n\u001b[1;32m----> 1\u001b[0m matriz \u001b[38;5;241m=\u001b[39m confusion_matrix(y_test, \u001b[43my_pred\u001b[49m)\n\u001b[0;32m      2\u001b[0m \u001b[38;5;28mprint\u001b[39m(\u001b[38;5;124m'\u001b[39m\u001b[38;5;124mMatriz de Confusión:\u001b[39m\u001b[38;5;124m'\u001b[39m)\n\u001b[0;32m      3\u001b[0m \u001b[38;5;28mprint\u001b[39m(matriz)\n",
      "\u001b[1;31mNameError\u001b[0m: name 'y_pred' is not defined"
     ]
    }
   ],
   "source": [
    "matriz = confusion_matrix(y_test, y_pred)\n",
    "print('Matriz de Confusión:')\n",
    "print(matriz)"
   ]
  },
  {
   "cell_type": "code",
   "execution_count": null,
   "id": "d1cefa80",
   "metadata": {},
   "outputs": [],
   "source": []
  }
 ],
 "metadata": {
  "kernelspec": {
   "display_name": "Python 3 (ipykernel)",
   "language": "python",
   "name": "python3"
  },
  "language_info": {
   "codemirror_mode": {
    "name": "ipython",
    "version": 3
   },
   "file_extension": ".py",
   "mimetype": "text/x-python",
   "name": "python",
   "nbconvert_exporter": "python",
   "pygments_lexer": "ipython3",
   "version": "3.10.6"
  }
 },
 "nbformat": 4,
 "nbformat_minor": 5
}
