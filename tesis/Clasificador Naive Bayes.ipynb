{
 "cells": [
  {
   "cell_type": "markdown",
   "id": "1284e8b8",
   "metadata": {},
   "source": [
    "<h2 align='center'>  Clasificador Naive Bayes </h2> "
   ]
  },
  {
   "cell_type": "markdown",
   "id": "af250663",
   "metadata": {},
   "source": [
    "## Teorema de Bayes\n",
    "\n",
    "La fórmula del Teorema de Bayes es la siguiente:\n",
    "\n",
    "$$P(H/E) = \\frac{P(E/H)P(H)}{P(E)}$$\n",
    "\n",
    "donde:\n",
    "\n",
    "* $P(H|E)$ es la probabilidad de la hipótesis $H$ dado el evento $E$, una probabilidad posterior.\n",
    "\n",
    "\n",
    "* $P(E|H)$ es la probabilidad del evento $E$ dado que la hipótesis $H$ es verdad.\n",
    "\n",
    "\n",
    "* $P(H)$ es la probabilidad de la hipótesis $H$ siendo cierto (independientemente de cualquier evento relacionado), o probabilidad previa de $H$.\n",
    "\n",
    "\n",
    "* $P(E)$ es la probabilidad de que ocurra el evento (independientemente de la hipótesis).\n",
    "\n",
    "En caso de que se tenga una sola característica, el clasificador Naive Bayes calcula la probabilidad de un evento en los siguientes pasos:\n",
    "\n",
    "**Paso 1:** Calcular la probabilidad previa para las etiquetas de clase dadas.\n",
    "\n",
    "**Paso 2:** Determinar la probabilidad de cada atributo para cada clase.\n",
    "\n",
    "**Paso 3:** Poner estos valores en el teorema de Bayes y calcular la probabilidad posterior.\n",
    "\n",
    "**Paso 4:** Ver qué clase tiene una probabilidad más alta, dado que la variable de entrada pertenece a la clase de probabilidad más alta."
   ]
  },
  {
   "cell_type": "markdown",
   "id": "2e1087ec",
   "metadata": {},
   "source": [
    "# Juagamos con la BDD"
   ]
  },
  {
   "cell_type": "markdown",
   "id": "56d76467",
   "metadata": {},
   "source": [
    "### Librerias"
   ]
  },
  {
   "cell_type": "code",
   "execution_count": 25,
   "id": "53135eab",
   "metadata": {},
   "outputs": [],
   "source": [
    "import pandas as pd\n",
    "from sklearn.metrics import confusion_matrix\n",
    "from sklearn.metrics import precision_score\n",
    "from sklearn.naive_bayes import GaussianNB\n",
    "from sklearn.model_selection import train_test_split"
   ]
  },
  {
   "cell_type": "markdown",
   "id": "cf8676d1",
   "metadata": {},
   "source": [
    "### Cargamos Dataset"
   ]
  },
  {
   "cell_type": "code",
   "execution_count": 26,
   "id": "02e35cb0",
   "metadata": {},
   "outputs": [
    {
     "data": {
      "text/html": [
       "<div>\n",
       "<style scoped>\n",
       "    .dataframe tbody tr th:only-of-type {\n",
       "        vertical-align: middle;\n",
       "    }\n",
       "\n",
       "    .dataframe tbody tr th {\n",
       "        vertical-align: top;\n",
       "    }\n",
       "\n",
       "    .dataframe thead th {\n",
       "        text-align: right;\n",
       "    }\n",
       "</style>\n",
       "<table border=\"1\" class=\"dataframe\">\n",
       "  <thead>\n",
       "    <tr style=\"text-align: right;\">\n",
       "      <th></th>\n",
       "      <th>SEX</th>\n",
       "      <th>Age</th>\n",
       "      <th>Cardiac FQ</th>\n",
       "      <th>Systolic BP</th>\n",
       "      <th>Diastolic BP</th>\n",
       "      <th>Glucose</th>\n",
       "      <th>Hb A/C  %</th>\n",
       "      <th>Total Cholest</th>\n",
       "      <th>TRIGLICERIDOS</th>\n",
       "      <th>LDL</th>\n",
       "      <th>...</th>\n",
       "      <th>NIHSS admission</th>\n",
       "      <th>RANKIN admission</th>\n",
       "      <th>NIHSS dismissed</th>\n",
       "      <th>RANKIN dismissed</th>\n",
       "      <th>NIHSS 6 months</th>\n",
       "      <th>RANKIN 6 months</th>\n",
       "      <th>PROGNOSIS</th>\n",
       "      <th>VEGF/mL</th>\n",
       "      <th>PLGF/mL</th>\n",
       "      <th>IL-6 (pg/ml)</th>\n",
       "    </tr>\n",
       "  </thead>\n",
       "  <tbody>\n",
       "    <tr>\n",
       "      <th>0</th>\n",
       "      <td>1</td>\n",
       "      <td>53</td>\n",
       "      <td>78</td>\n",
       "      <td>162</td>\n",
       "      <td>64</td>\n",
       "      <td>137.09</td>\n",
       "      <td>5.9</td>\n",
       "      <td>268</td>\n",
       "      <td>130</td>\n",
       "      <td>202</td>\n",
       "      <td>...</td>\n",
       "      <td>14</td>\n",
       "      <td>5</td>\n",
       "      <td>42</td>\n",
       "      <td>6</td>\n",
       "      <td>2</td>\n",
       "      <td>6</td>\n",
       "      <td>Bad</td>\n",
       "      <td>448.22265</td>\n",
       "      <td>71.993015</td>\n",
       "      <td>18.586835</td>\n",
       "    </tr>\n",
       "    <tr>\n",
       "      <th>1</th>\n",
       "      <td>1</td>\n",
       "      <td>54</td>\n",
       "      <td>56</td>\n",
       "      <td>130</td>\n",
       "      <td>89</td>\n",
       "      <td>136.00</td>\n",
       "      <td>6.5</td>\n",
       "      <td>187</td>\n",
       "      <td>130</td>\n",
       "      <td>118</td>\n",
       "      <td>...</td>\n",
       "      <td>6</td>\n",
       "      <td>5</td>\n",
       "      <td>0</td>\n",
       "      <td>2</td>\n",
       "      <td>0</td>\n",
       "      <td>2</td>\n",
       "      <td>Good</td>\n",
       "      <td>302.91950</td>\n",
       "      <td>122.437550</td>\n",
       "      <td>1.263441</td>\n",
       "    </tr>\n",
       "    <tr>\n",
       "      <th>2</th>\n",
       "      <td>2</td>\n",
       "      <td>78</td>\n",
       "      <td>91</td>\n",
       "      <td>152</td>\n",
       "      <td>75</td>\n",
       "      <td>359.42</td>\n",
       "      <td>13.8</td>\n",
       "      <td>159</td>\n",
       "      <td>97</td>\n",
       "      <td>26</td>\n",
       "      <td>...</td>\n",
       "      <td>5</td>\n",
       "      <td>3</td>\n",
       "      <td>2</td>\n",
       "      <td>1</td>\n",
       "      <td>2</td>\n",
       "      <td>2</td>\n",
       "      <td>Missing</td>\n",
       "      <td>284.52795</td>\n",
       "      <td>127.826050</td>\n",
       "      <td>49.091862</td>\n",
       "    </tr>\n",
       "    <tr>\n",
       "      <th>3</th>\n",
       "      <td>2</td>\n",
       "      <td>87</td>\n",
       "      <td>59</td>\n",
       "      <td>136</td>\n",
       "      <td>86</td>\n",
       "      <td>186.20</td>\n",
       "      <td>5.9</td>\n",
       "      <td>193</td>\n",
       "      <td>133</td>\n",
       "      <td>115</td>\n",
       "      <td>...</td>\n",
       "      <td>1</td>\n",
       "      <td>4</td>\n",
       "      <td>0</td>\n",
       "      <td>2</td>\n",
       "      <td>0</td>\n",
       "      <td>2</td>\n",
       "      <td>Good</td>\n",
       "      <td>428.41470</td>\n",
       "      <td>108.966435</td>\n",
       "      <td>96.544126</td>\n",
       "    </tr>\n",
       "    <tr>\n",
       "      <th>4</th>\n",
       "      <td>1</td>\n",
       "      <td>69</td>\n",
       "      <td>104</td>\n",
       "      <td>154</td>\n",
       "      <td>95</td>\n",
       "      <td>170.00</td>\n",
       "      <td>16.7</td>\n",
       "      <td>184</td>\n",
       "      <td>137</td>\n",
       "      <td>125</td>\n",
       "      <td>...</td>\n",
       "      <td>3</td>\n",
       "      <td>4</td>\n",
       "      <td>2</td>\n",
       "      <td>1</td>\n",
       "      <td>0</td>\n",
       "      <td>1</td>\n",
       "      <td>Good</td>\n",
       "      <td>221.23940</td>\n",
       "      <td>117.647850</td>\n",
       "      <td>43.309864</td>\n",
       "    </tr>\n",
       "  </tbody>\n",
       "</table>\n",
       "<p>5 rows × 38 columns</p>\n",
       "</div>"
      ],
      "text/plain": [
       "   SEX  Age  Cardiac FQ  Systolic BP  Diastolic BP  Glucose  Hb A/C  %  \\\n",
       "0    1   53          78          162            64   137.09        5.9   \n",
       "1    1   54          56          130            89   136.00        6.5   \n",
       "2    2   78          91          152            75   359.42       13.8   \n",
       "3    2   87          59          136            86   186.20        5.9   \n",
       "4    1   69         104          154            95   170.00       16.7   \n",
       "\n",
       "   Total Cholest  TRIGLICERIDOS  LDL  ...  NIHSS admission  RANKIN admission  \\\n",
       "0            268            130  202  ...               14                 5   \n",
       "1            187            130  118  ...                6                 5   \n",
       "2            159             97   26  ...                5                 3   \n",
       "3            193            133  115  ...                1                 4   \n",
       "4            184            137  125  ...                3                 4   \n",
       "\n",
       "   NIHSS dismissed  RANKIN dismissed  NIHSS 6 months  RANKIN 6 months  \\\n",
       "0               42                 6               2                6   \n",
       "1                0                 2               0                2   \n",
       "2                2                 1               2                2   \n",
       "3                0                 2               0                2   \n",
       "4                2                 1               0                1   \n",
       "\n",
       "   PROGNOSIS    VEGF/mL     PLGF/mL  IL-6 (pg/ml)  \n",
       "0        Bad  448.22265   71.993015     18.586835  \n",
       "1       Good  302.91950  122.437550      1.263441  \n",
       "2    Missing  284.52795  127.826050     49.091862  \n",
       "3       Good  428.41470  108.966435     96.544126  \n",
       "4       Good  221.23940  117.647850     43.309864  \n",
       "\n",
       "[5 rows x 38 columns]"
      ]
     },
     "execution_count": 26,
     "metadata": {},
     "output_type": "execute_result"
    }
   ],
   "source": [
    "dataframe = pd.read_excel('../bdd/bdd.xlsx')\n",
    "columnas = ['SEX', 'Age', 'Cardiac FQ', 'Systolic BP', 'Diastolic BP', 'Glucose', 'Hb A/C  %', 'Total Cholest', 'TRIGLICERIDOS', 'LDL', 'HDL', 'HCTO', 'HB', 'Platelets', 'INR', 'Leucocytes', 'C.R.P', 'Ureic nitrogen', 'Uremia', 'Creatinin', 'TTPA', 'TP', 'NA (sodium)', 'K (potassium)', 'CL (Chloride)', 'Fosfatase Alcalin', 'Gamma glutamil', 'GLASGOW at admission', 'NIHSS admission', 'RANKIN admission', 'NIHSS dismissed', 'RANKIN dismissed', 'NIHSS 6 months', 'RANKIN 6 months', 'PROGNOSIS', 'VEGF/mL', 'PLGF/mL', 'IL-6 (pg/ml)'] #  'Localization', 'Severity'\n",
    "dataset = dataframe[[*columnas]]\n",
    "dataset.head(5)"
   ]
  },
  {
   "cell_type": "markdown",
   "id": "52ff5bf8",
   "metadata": {},
   "source": [
    "### Información del Dataset"
   ]
  },
  {
   "cell_type": "code",
   "execution_count": 27,
   "id": "c1c9983f",
   "metadata": {},
   "outputs": [
    {
     "name": "stdout",
     "output_type": "stream",
     "text": [
      "Información del Dataset\n",
      "Index(['Code', 'Localization', 'Severity', 'SEX', 'Age', 'Cardiac FQ',\n",
      "       'Systolic BP', 'Diastolic BP', 'Glucose', 'Hb A/C  %', 'Total Cholest',\n",
      "       'TRIGLICERIDOS', 'LDL', 'HDL', 'HCTO', 'HB', 'Platelets', 'INR',\n",
      "       'Leucocytes', 'C.R.P', 'Ureic nitrogen', 'Uremia', 'Creatinin', 'TTPA',\n",
      "       'TP', 'NA (sodium)', 'K (potassium)', 'CL (Chloride)',\n",
      "       'Fosfatase Alcalin', 'Gamma glutamil', 'GLASGOW at admission',\n",
      "       'NIHSS admission', 'RANKIN admission', 'NIHSS dismissed',\n",
      "       'RANKIN dismissed', 'NIHSS 6 months', 'RANKIN 6 months', 'PROGNOSIS',\n",
      "       'VEGF/mL', 'PLGF/mL', 'IL-6 (pg/ml)', 'exosomas', 'NPROGNOSIS'],\n",
      "      dtype='object')\n",
      "\n"
     ]
    }
   ],
   "source": [
    "print('Información del Dataset')\n",
    "print(dataframe.keys())\n",
    "print()"
   ]
  },
  {
   "cell_type": "markdown",
   "id": "ca354abc",
   "metadata": {},
   "source": [
    "## Separamos los datos de entrenamiento y validación"
   ]
  },
  {
   "cell_type": "code",
   "execution_count": 28,
   "id": "1753f58c",
   "metadata": {},
   "outputs": [],
   "source": [
    "X = dataset.drop('PROGNOSIS',axis=1)"
   ]
  },
  {
   "cell_type": "code",
   "execution_count": 29,
   "id": "83ee3996",
   "metadata": {},
   "outputs": [],
   "source": [
    "Y = dataset['PROGNOSIS']"
   ]
  },
  {
   "cell_type": "code",
   "execution_count": 30,
   "id": "04497bef",
   "metadata": {},
   "outputs": [],
   "source": [
    "X_train, X_test, y_train, y_test = train_test_split(X, Y, test_size = 0.3)"
   ]
  },
  {
   "cell_type": "markdown",
   "id": "ad9944ee",
   "metadata": {},
   "source": [
    "## Creamos el modelo"
   ]
  },
  {
   "cell_type": "code",
   "execution_count": 31,
   "id": "a4cbae7a",
   "metadata": {},
   "outputs": [],
   "source": [
    "modelo = GaussianNB()"
   ]
  },
  {
   "cell_type": "markdown",
   "id": "6dd8d10b",
   "metadata": {},
   "source": [
    "## Entrenamos el modelo"
   ]
  },
  {
   "cell_type": "code",
   "execution_count": 32,
   "id": "683fb152",
   "metadata": {},
   "outputs": [
    {
     "data": {
      "text/html": [
       "<style>#sk-container-id-3 {color: black;background-color: white;}#sk-container-id-3 pre{padding: 0;}#sk-container-id-3 div.sk-toggleable {background-color: white;}#sk-container-id-3 label.sk-toggleable__label {cursor: pointer;display: block;width: 100%;margin-bottom: 0;padding: 0.3em;box-sizing: border-box;text-align: center;}#sk-container-id-3 label.sk-toggleable__label-arrow:before {content: \"▸\";float: left;margin-right: 0.25em;color: #696969;}#sk-container-id-3 label.sk-toggleable__label-arrow:hover:before {color: black;}#sk-container-id-3 div.sk-estimator:hover label.sk-toggleable__label-arrow:before {color: black;}#sk-container-id-3 div.sk-toggleable__content {max-height: 0;max-width: 0;overflow: hidden;text-align: left;background-color: #f0f8ff;}#sk-container-id-3 div.sk-toggleable__content pre {margin: 0.2em;color: black;border-radius: 0.25em;background-color: #f0f8ff;}#sk-container-id-3 input.sk-toggleable__control:checked~div.sk-toggleable__content {max-height: 200px;max-width: 100%;overflow: auto;}#sk-container-id-3 input.sk-toggleable__control:checked~label.sk-toggleable__label-arrow:before {content: \"▾\";}#sk-container-id-3 div.sk-estimator input.sk-toggleable__control:checked~label.sk-toggleable__label {background-color: #d4ebff;}#sk-container-id-3 div.sk-label input.sk-toggleable__control:checked~label.sk-toggleable__label {background-color: #d4ebff;}#sk-container-id-3 input.sk-hidden--visually {border: 0;clip: rect(1px 1px 1px 1px);clip: rect(1px, 1px, 1px, 1px);height: 1px;margin: -1px;overflow: hidden;padding: 0;position: absolute;width: 1px;}#sk-container-id-3 div.sk-estimator {font-family: monospace;background-color: #f0f8ff;border: 1px dotted black;border-radius: 0.25em;box-sizing: border-box;margin-bottom: 0.5em;}#sk-container-id-3 div.sk-estimator:hover {background-color: #d4ebff;}#sk-container-id-3 div.sk-parallel-item::after {content: \"\";width: 100%;border-bottom: 1px solid gray;flex-grow: 1;}#sk-container-id-3 div.sk-label:hover label.sk-toggleable__label {background-color: #d4ebff;}#sk-container-id-3 div.sk-serial::before {content: \"\";position: absolute;border-left: 1px solid gray;box-sizing: border-box;top: 0;bottom: 0;left: 50%;z-index: 0;}#sk-container-id-3 div.sk-serial {display: flex;flex-direction: column;align-items: center;background-color: white;padding-right: 0.2em;padding-left: 0.2em;position: relative;}#sk-container-id-3 div.sk-item {position: relative;z-index: 1;}#sk-container-id-3 div.sk-parallel {display: flex;align-items: stretch;justify-content: center;background-color: white;position: relative;}#sk-container-id-3 div.sk-item::before, #sk-container-id-3 div.sk-parallel-item::before {content: \"\";position: absolute;border-left: 1px solid gray;box-sizing: border-box;top: 0;bottom: 0;left: 50%;z-index: -1;}#sk-container-id-3 div.sk-parallel-item {display: flex;flex-direction: column;z-index: 1;position: relative;background-color: white;}#sk-container-id-3 div.sk-parallel-item:first-child::after {align-self: flex-end;width: 50%;}#sk-container-id-3 div.sk-parallel-item:last-child::after {align-self: flex-start;width: 50%;}#sk-container-id-3 div.sk-parallel-item:only-child::after {width: 0;}#sk-container-id-3 div.sk-dashed-wrapped {border: 1px dashed gray;margin: 0 0.4em 0.5em 0.4em;box-sizing: border-box;padding-bottom: 0.4em;background-color: white;}#sk-container-id-3 div.sk-label label {font-family: monospace;font-weight: bold;display: inline-block;line-height: 1.2em;}#sk-container-id-3 div.sk-label-container {text-align: center;}#sk-container-id-3 div.sk-container {/* jupyter's `normalize.less` sets `[hidden] { display: none; }` but bootstrap.min.css set `[hidden] { display: none !important; }` so we also need the `!important` here to be able to override the default hidden behavior on the sphinx rendered scikit-learn.org. See: https://github.com/scikit-learn/scikit-learn/issues/21755 */display: inline-block !important;position: relative;}#sk-container-id-3 div.sk-text-repr-fallback {display: none;}</style><div id=\"sk-container-id-3\" class=\"sk-top-container\"><div class=\"sk-text-repr-fallback\"><pre>GaussianNB()</pre><b>In a Jupyter environment, please rerun this cell to show the HTML representation or trust the notebook. <br />On GitHub, the HTML representation is unable to render, please try loading this page with nbviewer.org.</b></div><div class=\"sk-container\" hidden><div class=\"sk-item\"><div class=\"sk-estimator sk-toggleable\"><input class=\"sk-toggleable__control sk-hidden--visually\" id=\"sk-estimator-id-3\" type=\"checkbox\" checked><label for=\"sk-estimator-id-3\" class=\"sk-toggleable__label sk-toggleable__label-arrow\">GaussianNB</label><div class=\"sk-toggleable__content\"><pre>GaussianNB()</pre></div></div></div></div></div>"
      ],
      "text/plain": [
       "GaussianNB()"
      ]
     },
     "execution_count": 32,
     "metadata": {},
     "output_type": "execute_result"
    }
   ],
   "source": [
    "modelo.fit(X_train, y_train)"
   ]
  },
  {
   "cell_type": "markdown",
   "id": "eb3aada2",
   "metadata": {},
   "source": [
    "## Predicciones"
   ]
  },
  {
   "cell_type": "code",
   "execution_count": 44,
   "id": "7903e2bf",
   "metadata": {},
   "outputs": [],
   "source": [
    "prediccion = modelo.predict(X_test)"
   ]
  },
  {
   "cell_type": "markdown",
   "id": "5023c168",
   "metadata": {},
   "source": [
    "## Determinamos la precisión del modelo"
   ]
  },
  {
   "cell_type": "code",
   "execution_count": 45,
   "id": "88e2d90b",
   "metadata": {},
   "outputs": [
    {
     "name": "stdout",
     "output_type": "stream",
     "text": [
      "Tasa de acierto: 0.714286\n",
      "Precisión del modelo:\n"
     ]
    }
   ],
   "source": [
    "#precision = precision_score(y_test, y_pred)\n",
    "from sklearn import metrics\n",
    "\n",
    "print(\"Tasa de acierto: {:4f}\".format(metrics.accuracy_score(y_test,prediccion)))\n",
    "print('Precisión del modelo:')\n",
    "#print(precision)"
   ]
  },
  {
   "cell_type": "code",
   "execution_count": 46,
   "id": "6ae7e336",
   "metadata": {},
   "outputs": [
    {
     "name": "stdout",
     "output_type": "stream",
     "text": [
      "Reporte de clasificacion:\n",
      "\n",
      "              precision    recall  f1-score   support\n",
      "\n",
      "         Bad       1.00      0.50      0.67         4\n",
      "        Good       0.67      1.00      0.80         8\n",
      "        Miss       0.00      0.00      0.00         1\n",
      "     Missing       0.00      0.00      0.00         1\n",
      "\n",
      "    accuracy                           0.71        14\n",
      "   macro avg       0.42      0.38      0.37        14\n",
      "weighted avg       0.67      0.71      0.65        14\n",
      "\n"
     ]
    },
    {
     "name": "stderr",
     "output_type": "stream",
     "text": [
      "C:\\Users\\Abraham\\AppData\\Local\\Programs\\Python\\Python310\\lib\\site-packages\\sklearn\\metrics\\_classification.py:1334: UndefinedMetricWarning: Precision and F-score are ill-defined and being set to 0.0 in labels with no predicted samples. Use `zero_division` parameter to control this behavior.\n",
      "  _warn_prf(average, modifier, msg_start, len(result))\n",
      "C:\\Users\\Abraham\\AppData\\Local\\Programs\\Python\\Python310\\lib\\site-packages\\sklearn\\metrics\\_classification.py:1334: UndefinedMetricWarning: Precision and F-score are ill-defined and being set to 0.0 in labels with no predicted samples. Use `zero_division` parameter to control this behavior.\n",
      "  _warn_prf(average, modifier, msg_start, len(result))\n",
      "C:\\Users\\Abraham\\AppData\\Local\\Programs\\Python\\Python310\\lib\\site-packages\\sklearn\\metrics\\_classification.py:1334: UndefinedMetricWarning: Precision and F-score are ill-defined and being set to 0.0 in labels with no predicted samples. Use `zero_division` parameter to control this behavior.\n",
      "  _warn_prf(average, modifier, msg_start, len(result))\n"
     ]
    }
   ],
   "source": [
    "print('Reporte de clasificacion:\\n')\n",
    "print(metrics.classification_report(y_test, prediccion))"
   ]
  },
  {
   "cell_type": "markdown",
   "id": "8a73f108",
   "metadata": {},
   "source": [
    "## Verifico la matriz de Confusión"
   ]
  },
  {
   "cell_type": "code",
   "execution_count": 35,
   "id": "756acddd",
   "metadata": {},
   "outputs": [
    {
     "name": "stdout",
     "output_type": "stream",
     "text": [
      "Matriz de Confusión:\n",
      "[[2 2 0 0]\n",
      " [0 8 0 0]\n",
      " [0 1 0 0]\n",
      " [0 1 0 0]]\n"
     ]
    }
   ],
   "source": [
    "matriz = confusion_matrix(y_test, y_pred)\n",
    "print('Matriz de Confusión:')\n",
    "print(matriz)"
   ]
  },
  {
   "cell_type": "code",
   "execution_count": 38,
   "id": "d1cefa80",
   "metadata": {},
   "outputs": [
    {
     "data": {
      "image/png": "[encoded data removed]",
      "text/plain": [
       "<Figure size 600x600 with 1 Axes>"
      ]
     },
     "metadata": {},
     "output_type": "display_data"
    }
   ],
   "source": [
    "from mlxtend.plotting import plot_confusion_matrix\n",
    "from matplotlib import pyplot as plt\n",
    "\n",
    "plot_confusion_matrix(conf_mat=matriz, figsize=(6,6), show_normed=False)\n",
    "plt.tight_layout()"
   ]
  },
  {
   "cell_type": "code",
   "execution_count": null,
   "id": "e4890bcb",
   "metadata": {},
   "outputs": [],
   "source": []
  }
 ],
 "metadata": {
  "kernelspec": {
   "display_name": "Python 3 (ipykernel)",
   "language": "python",
   "name": "python3"
  },
  "language_info": {
   "codemirror_mode": {
    "name": "ipython",
    "version": 3
   },
   "file_extension": ".py",
   "mimetype": "text/x-python",
   "name": "python",
   "nbconvert_exporter": "python",
   "pygments_lexer": "ipython3",
   "version": "3.10.6"
  }
 },
 "nbformat": 4,
 "nbformat_minor": 5
}
