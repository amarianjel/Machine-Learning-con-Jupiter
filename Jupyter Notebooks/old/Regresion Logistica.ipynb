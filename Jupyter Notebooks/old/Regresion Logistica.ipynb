{
 "cells": [
  {
   "cell_type": "markdown",
   "id": "d0741d17",
   "metadata": {},
   "source": [
    "<h2 align='center'>  Regresión Logística </h2> "
   ]
  },
  {
   "cell_type": "markdown",
   "id": "4a1aecb0",
   "metadata": {},
   "source": [
    "## Grafica"
   ]
  },
  {
   "cell_type": "code",
   "execution_count": 1,
   "id": "823a6619",
   "metadata": {},
   "outputs": [],
   "source": [
    "import numpy as np\n",
    "from matplotlib import pyplot as plt"
   ]
  },
  {
   "cell_type": "code",
   "execution_count": 2,
   "id": "80f27d90",
   "metadata": {},
   "outputs": [
    {
     "data": {
      "image/png": "[encoded data removed]",
      "text/plain": [
       "<Figure size 640x480 with 1 Axes>"
      ]
     },
     "metadata": {},
     "output_type": "display_data"
    }
   ],
   "source": [
    "x = np.linspace(-10,10)\n",
    "y = 1/(1+np.exp(-x))\n",
    "plt.plot(x,y)\n",
    "plt.title('Función logística')\n",
    "plt.grid()\n",
    "plt.axis\n",
    "plt.show()"
   ]
  },
  {
   "cell_type": "markdown",
   "id": "6e07a1fb",
   "metadata": {},
   "source": [
    "## Tipos de modelos de Regresión Logística\n",
    "\n",
    "* **Regresión Logística Binaria:** la variable objetivo tiene solo dos resultados posible, Llueve o NO Llueve, Sube o Baja.\n",
    "* **Regresión Logística Multinomial:** la variable objetivo tiene tres o más categorías nominales, como predecir el tipo de vino.\n",
    "* **Regresión Logística Ordinal:** la variable objetivo tiene tres o más categorías ordinales, como clasificar un restaurante o un producto del 1 al 5"
   ]
  },
  {
   "cell_type": "markdown",
   "id": "9c2775c9",
   "metadata": {},
   "source": [
    "# Jugar con BDD"
   ]
  },
  {
   "cell_type": "code",
   "execution_count": 3,
   "id": "e55b0139",
   "metadata": {},
   "outputs": [],
   "source": [
    "import pandas as pd"
   ]
  },
  {
   "cell_type": "code",
   "execution_count": 17,
   "id": "357d43c3",
   "metadata": {},
   "outputs": [
    {
     "name": "stderr",
     "output_type": "stream",
     "text": [
      "C:\\Users\\Abraham\\AppData\\Local\\Programs\\Python\\Python310\\lib\\site-packages\\openpyxl\\worksheet\\_reader.py:312: UserWarning: Unknown extension is not supported and will be removed\n",
      "  warn(msg)\n"
     ]
    }
   ],
   "source": [
    "#dataframe = pd.read_csv('../bdd/usuarios_win_mac_lin.csv')\n",
    "dataframe = pd.read_excel('../../bdd/bdd_acv2.xlsx')"
   ]
  },
  {
   "cell_type": "markdown",
   "id": "84d6decf",
   "metadata": {},
   "source": [
    "### Dataset"
   ]
  },
  {
   "cell_type": "code",
   "execution_count": 18,
   "id": "8fb8d01b",
   "metadata": {},
   "outputs": [
    {
     "data": {
      "text/html": [
       "<div>\n",
       "<style scoped>\n",
       "    .dataframe tbody tr th:only-of-type {\n",
       "        vertical-align: middle;\n",
       "    }\n",
       "\n",
       "    .dataframe tbody tr th {\n",
       "        vertical-align: top;\n",
       "    }\n",
       "\n",
       "    .dataframe thead th {\n",
       "        text-align: right;\n",
       "    }\n",
       "</style>\n",
       "<table border=\"1\" class=\"dataframe\">\n",
       "  <thead>\n",
       "    <tr style=\"text-align: right;\">\n",
       "      <th></th>\n",
       "      <th>Code</th>\n",
       "      <th>Localization</th>\n",
       "      <th>Severity</th>\n",
       "      <th>SEX</th>\n",
       "      <th>Age</th>\n",
       "      <th>Cardiac FQ</th>\n",
       "      <th>Systolic BP</th>\n",
       "      <th>Diastolic BP</th>\n",
       "      <th>Glucose</th>\n",
       "      <th>Hb A/C  %</th>\n",
       "      <th>...</th>\n",
       "      <th>RANKIN admission</th>\n",
       "      <th>NIHSS dismissed</th>\n",
       "      <th>RANKIN dismissed</th>\n",
       "      <th>NIHSS 6 months</th>\n",
       "      <th>RANKIN 6 months</th>\n",
       "      <th>PROGNOSIS</th>\n",
       "      <th>VEGF/mL</th>\n",
       "      <th>PLGF/mL</th>\n",
       "      <th>IL-6 (pg/ml)</th>\n",
       "      <th>exosomas</th>\n",
       "    </tr>\n",
       "  </thead>\n",
       "  <tbody>\n",
       "    <tr>\n",
       "      <th>0</th>\n",
       "      <td>1</td>\n",
       "      <td>TACI</td>\n",
       "      <td>Major</td>\n",
       "      <td>1</td>\n",
       "      <td>53</td>\n",
       "      <td>78</td>\n",
       "      <td>162</td>\n",
       "      <td>64</td>\n",
       "      <td>137.09</td>\n",
       "      <td>5.9</td>\n",
       "      <td>...</td>\n",
       "      <td>5</td>\n",
       "      <td>42</td>\n",
       "      <td>6</td>\n",
       "      <td>2</td>\n",
       "      <td>6</td>\n",
       "      <td>Bad</td>\n",
       "      <td>448.22265</td>\n",
       "      <td>71.993015</td>\n",
       "      <td>18.586835</td>\n",
       "      <td>NaN</td>\n",
       "    </tr>\n",
       "    <tr>\n",
       "      <th>1</th>\n",
       "      <td>2</td>\n",
       "      <td>TIA</td>\n",
       "      <td>Mild</td>\n",
       "      <td>1</td>\n",
       "      <td>54</td>\n",
       "      <td>56</td>\n",
       "      <td>130</td>\n",
       "      <td>89</td>\n",
       "      <td>136.00</td>\n",
       "      <td>6.5</td>\n",
       "      <td>...</td>\n",
       "      <td>5</td>\n",
       "      <td>0</td>\n",
       "      <td>2</td>\n",
       "      <td>0</td>\n",
       "      <td>2</td>\n",
       "      <td>Good</td>\n",
       "      <td>302.91950</td>\n",
       "      <td>122.437550</td>\n",
       "      <td>1.263441</td>\n",
       "      <td>NaN</td>\n",
       "    </tr>\n",
       "    <tr>\n",
       "      <th>2</th>\n",
       "      <td>3</td>\n",
       "      <td>LACI</td>\n",
       "      <td>Mild</td>\n",
       "      <td>2</td>\n",
       "      <td>78</td>\n",
       "      <td>91</td>\n",
       "      <td>152</td>\n",
       "      <td>75</td>\n",
       "      <td>359.42</td>\n",
       "      <td>13.8</td>\n",
       "      <td>...</td>\n",
       "      <td>3</td>\n",
       "      <td>2</td>\n",
       "      <td>1</td>\n",
       "      <td>2</td>\n",
       "      <td>2</td>\n",
       "      <td>Missing</td>\n",
       "      <td>284.52795</td>\n",
       "      <td>127.826050</td>\n",
       "      <td>49.091862</td>\n",
       "      <td>3.337500e+10</td>\n",
       "    </tr>\n",
       "    <tr>\n",
       "      <th>3</th>\n",
       "      <td>4</td>\n",
       "      <td>LACI</td>\n",
       "      <td>Mild</td>\n",
       "      <td>2</td>\n",
       "      <td>87</td>\n",
       "      <td>59</td>\n",
       "      <td>136</td>\n",
       "      <td>86</td>\n",
       "      <td>186.20</td>\n",
       "      <td>5.9</td>\n",
       "      <td>...</td>\n",
       "      <td>4</td>\n",
       "      <td>0</td>\n",
       "      <td>2</td>\n",
       "      <td>0</td>\n",
       "      <td>2</td>\n",
       "      <td>Good</td>\n",
       "      <td>428.41470</td>\n",
       "      <td>108.966435</td>\n",
       "      <td>96.544126</td>\n",
       "      <td>NaN</td>\n",
       "    </tr>\n",
       "    <tr>\n",
       "      <th>4</th>\n",
       "      <td>5</td>\n",
       "      <td>POCI</td>\n",
       "      <td>Major</td>\n",
       "      <td>1</td>\n",
       "      <td>69</td>\n",
       "      <td>104</td>\n",
       "      <td>154</td>\n",
       "      <td>95</td>\n",
       "      <td>170.00</td>\n",
       "      <td>16.7</td>\n",
       "      <td>...</td>\n",
       "      <td>4</td>\n",
       "      <td>2</td>\n",
       "      <td>1</td>\n",
       "      <td>0</td>\n",
       "      <td>1</td>\n",
       "      <td>Good</td>\n",
       "      <td>221.23940</td>\n",
       "      <td>117.647850</td>\n",
       "      <td>43.309864</td>\n",
       "      <td>1.349900e+10</td>\n",
       "    </tr>\n",
       "    <tr>\n",
       "      <th>5</th>\n",
       "      <td>6</td>\n",
       "      <td>PACI</td>\n",
       "      <td>Major</td>\n",
       "      <td>2</td>\n",
       "      <td>90</td>\n",
       "      <td>55</td>\n",
       "      <td>216</td>\n",
       "      <td>84</td>\n",
       "      <td>160.95</td>\n",
       "      <td>12.3</td>\n",
       "      <td>...</td>\n",
       "      <td>4</td>\n",
       "      <td>1</td>\n",
       "      <td>5</td>\n",
       "      <td>1</td>\n",
       "      <td>2</td>\n",
       "      <td>Good</td>\n",
       "      <td>165.52390</td>\n",
       "      <td>128.574450</td>\n",
       "      <td>4.897850</td>\n",
       "      <td>1.781250e+10</td>\n",
       "    </tr>\n",
       "    <tr>\n",
       "      <th>6</th>\n",
       "      <td>8</td>\n",
       "      <td>POCI</td>\n",
       "      <td>Major</td>\n",
       "      <td>1</td>\n",
       "      <td>90</td>\n",
       "      <td>78</td>\n",
       "      <td>180</td>\n",
       "      <td>80</td>\n",
       "      <td>123.00</td>\n",
       "      <td>5.6</td>\n",
       "      <td>...</td>\n",
       "      <td>5</td>\n",
       "      <td>8</td>\n",
       "      <td>4</td>\n",
       "      <td>6</td>\n",
       "      <td>4</td>\n",
       "      <td>Bad</td>\n",
       "      <td>299.13300</td>\n",
       "      <td>138.602950</td>\n",
       "      <td>13.519904</td>\n",
       "      <td>NaN</td>\n",
       "    </tr>\n",
       "    <tr>\n",
       "      <th>7</th>\n",
       "      <td>11</td>\n",
       "      <td>POCI</td>\n",
       "      <td>Major</td>\n",
       "      <td>1</td>\n",
       "      <td>55</td>\n",
       "      <td>68</td>\n",
       "      <td>121</td>\n",
       "      <td>66</td>\n",
       "      <td>136.00</td>\n",
       "      <td>13.4</td>\n",
       "      <td>...</td>\n",
       "      <td>3</td>\n",
       "      <td>3</td>\n",
       "      <td>1</td>\n",
       "      <td>0</td>\n",
       "      <td>0</td>\n",
       "      <td>Good</td>\n",
       "      <td>168.76940</td>\n",
       "      <td>173.627850</td>\n",
       "      <td>0.528827</td>\n",
       "      <td>2.142500e+10</td>\n",
       "    </tr>\n",
       "    <tr>\n",
       "      <th>8</th>\n",
       "      <td>12</td>\n",
       "      <td>TACI</td>\n",
       "      <td>Major</td>\n",
       "      <td>2</td>\n",
       "      <td>83</td>\n",
       "      <td>64</td>\n",
       "      <td>177</td>\n",
       "      <td>92</td>\n",
       "      <td>113.80</td>\n",
       "      <td>14.2</td>\n",
       "      <td>...</td>\n",
       "      <td>5</td>\n",
       "      <td>10</td>\n",
       "      <td>5</td>\n",
       "      <td>8</td>\n",
       "      <td>4</td>\n",
       "      <td>Bad</td>\n",
       "      <td>355.38945</td>\n",
       "      <td>123.185950</td>\n",
       "      <td>2.114048</td>\n",
       "      <td>1.250000e+10</td>\n",
       "    </tr>\n",
       "    <tr>\n",
       "      <th>9</th>\n",
       "      <td>14</td>\n",
       "      <td>PACI</td>\n",
       "      <td>Major</td>\n",
       "      <td>2</td>\n",
       "      <td>70</td>\n",
       "      <td>59</td>\n",
       "      <td>120</td>\n",
       "      <td>60</td>\n",
       "      <td>216.61</td>\n",
       "      <td>13.8</td>\n",
       "      <td>...</td>\n",
       "      <td>3</td>\n",
       "      <td>1</td>\n",
       "      <td>0</td>\n",
       "      <td>2</td>\n",
       "      <td>1</td>\n",
       "      <td>Good</td>\n",
       "      <td>131.98635</td>\n",
       "      <td>157.013500</td>\n",
       "      <td>52.680689</td>\n",
       "      <td>2.331250e+10</td>\n",
       "    </tr>\n",
       "  </tbody>\n",
       "</table>\n",
       "<p>10 rows × 42 columns</p>\n",
       "</div>"
      ],
      "text/plain": [
       "  Code Localization Severity  SEX  Age  Cardiac FQ  Systolic BP  Diastolic BP  \\\n",
       "0    1         TACI    Major    1   53          78          162            64   \n",
       "1    2          TIA     Mild    1   54          56          130            89   \n",
       "2    3         LACI     Mild    2   78          91          152            75   \n",
       "3    4         LACI     Mild    2   87          59          136            86   \n",
       "4    5         POCI    Major    1   69         104          154            95   \n",
       "5    6         PACI    Major    2   90          55          216            84   \n",
       "6    8         POCI    Major    1   90          78          180            80   \n",
       "7   11         POCI    Major    1   55          68          121            66   \n",
       "8   12         TACI    Major    2   83          64          177            92   \n",
       "9   14         PACI    Major    2   70          59          120            60   \n",
       "\n",
       "   Glucose  Hb A/C  %  ...  RANKIN admission  NIHSS dismissed  \\\n",
       "0   137.09        5.9  ...                 5               42   \n",
       "1   136.00        6.5  ...                 5                0   \n",
       "2   359.42       13.8  ...                 3                2   \n",
       "3   186.20        5.9  ...                 4                0   \n",
       "4   170.00       16.7  ...                 4                2   \n",
       "5   160.95       12.3  ...                 4                1   \n",
       "6   123.00        5.6  ...                 5                8   \n",
       "7   136.00       13.4  ...                 3                3   \n",
       "8   113.80       14.2  ...                 5               10   \n",
       "9   216.61       13.8  ...                 3                1   \n",
       "\n",
       "   RANKIN dismissed  NIHSS 6 months  RANKIN 6 months  PROGNOSIS    VEGF/mL  \\\n",
       "0                 6               2                6        Bad  448.22265   \n",
       "1                 2               0                2       Good  302.91950   \n",
       "2                 1               2                2    Missing  284.52795   \n",
       "3                 2               0                2       Good  428.41470   \n",
       "4                 1               0                1       Good  221.23940   \n",
       "5                 5               1                2       Good  165.52390   \n",
       "6                 4               6                4        Bad  299.13300   \n",
       "7                 1               0                0       Good  168.76940   \n",
       "8                 5               8                4        Bad  355.38945   \n",
       "9                 0               2                1       Good  131.98635   \n",
       "\n",
       "      PLGF/mL  IL-6 (pg/ml)      exosomas  \n",
       "0   71.993015     18.586835           NaN  \n",
       "1  122.437550      1.263441           NaN  \n",
       "2  127.826050     49.091862  3.337500e+10  \n",
       "3  108.966435     96.544126           NaN  \n",
       "4  117.647850     43.309864  1.349900e+10  \n",
       "5  128.574450      4.897850  1.781250e+10  \n",
       "6  138.602950     13.519904           NaN  \n",
       "7  173.627850      0.528827  2.142500e+10  \n",
       "8  123.185950      2.114048  1.250000e+10  \n",
       "9  157.013500     52.680689  2.331250e+10  \n",
       "\n",
       "[10 rows x 42 columns]"
      ]
     },
     "execution_count": 18,
     "metadata": {},
     "output_type": "execute_result"
    }
   ],
   "source": [
    "dataframe.head(10)"
   ]
  },
  {
   "cell_type": "code",
   "execution_count": 19,
   "id": "54a3b96e",
   "metadata": {},
   "outputs": [],
   "source": [
    "#dataframe.iloc[-1] # Última fila"
   ]
  },
  {
   "cell_type": "code",
   "execution_count": 20,
   "id": "4abacbaf",
   "metadata": {},
   "outputs": [
    {
     "data": {
      "text/html": [
       "<div>\n",
       "<style scoped>\n",
       "    .dataframe tbody tr th:only-of-type {\n",
       "        vertical-align: middle;\n",
       "    }\n",
       "\n",
       "    .dataframe tbody tr th {\n",
       "        vertical-align: top;\n",
       "    }\n",
       "\n",
       "    .dataframe thead th {\n",
       "        text-align: right;\n",
       "    }\n",
       "</style>\n",
       "<table border=\"1\" class=\"dataframe\">\n",
       "  <thead>\n",
       "    <tr style=\"text-align: right;\">\n",
       "      <th></th>\n",
       "      <th>SEX</th>\n",
       "      <th>Age</th>\n",
       "      <th>TRIGLICERIDOS</th>\n",
       "      <th>Platelets</th>\n",
       "      <th>PROGNOSIS</th>\n",
       "    </tr>\n",
       "  </thead>\n",
       "  <tbody>\n",
       "    <tr>\n",
       "      <th>0</th>\n",
       "      <td>1</td>\n",
       "      <td>53</td>\n",
       "      <td>130</td>\n",
       "      <td>267</td>\n",
       "      <td>Bad</td>\n",
       "    </tr>\n",
       "    <tr>\n",
       "      <th>1</th>\n",
       "      <td>1</td>\n",
       "      <td>54</td>\n",
       "      <td>130</td>\n",
       "      <td>159</td>\n",
       "      <td>Good</td>\n",
       "    </tr>\n",
       "    <tr>\n",
       "      <th>2</th>\n",
       "      <td>2</td>\n",
       "      <td>78</td>\n",
       "      <td>97</td>\n",
       "      <td>161</td>\n",
       "      <td>Missing</td>\n",
       "    </tr>\n",
       "    <tr>\n",
       "      <th>3</th>\n",
       "      <td>2</td>\n",
       "      <td>87</td>\n",
       "      <td>133</td>\n",
       "      <td>242</td>\n",
       "      <td>Good</td>\n",
       "    </tr>\n",
       "    <tr>\n",
       "      <th>4</th>\n",
       "      <td>1</td>\n",
       "      <td>69</td>\n",
       "      <td>137</td>\n",
       "      <td>259</td>\n",
       "      <td>Good</td>\n",
       "    </tr>\n",
       "  </tbody>\n",
       "</table>\n",
       "</div>"
      ],
      "text/plain": [
       "   SEX  Age  TRIGLICERIDOS  Platelets PROGNOSIS\n",
       "0    1   53            130        267       Bad\n",
       "1    1   54            130        159      Good\n",
       "2    2   78             97        161   Missing\n",
       "3    2   87            133        242      Good\n",
       "4    1   69            137        259      Good"
      ]
     },
     "execution_count": 20,
     "metadata": {},
     "output_type": "execute_result"
    }
   ],
   "source": [
    "#columnas = ['PCR','INR', 'TTPK', 'Tiempo protombina', 'Functional outcome numérico'] # Columnas a trabajar\n",
    "columnasMuestra = ['SEX', 'Age','TRIGLICERIDOS', 'Platelets', 'PROGNOSIS'] # Columnas a trabajar 'Severity',, 'Diastolic BP', 'Hb A/C  %', 'Total Cholest', 'TRIGLICERIDOS', 'LDL', 'HDL', 'HCTO', 'HB', 'Platelets', 'INR', 'Leucocytes', 'C.R.P', 'Ureic nitrogen', 'Uremia', 'Creatinin', 'TTPA', 'TP', 'NA (sodium)', 'CL (Chloride)', 'Fosfatase Alcalin', 'Gamma glutamil', 'GLASGOW at admission'\n",
    "dataframeMuestra = dataframe[[*columnasMuestra]]\n",
    "dataframeMuestra.head(5)"
   ]
  },
  {
   "cell_type": "markdown",
   "id": "347f0ef8",
   "metadata": {},
   "source": [
    "### Numero de Clase"
   ]
  },
  {
   "cell_type": "code",
   "execution_count": 22,
   "id": "0389e670",
   "metadata": {},
   "outputs": [
    {
     "name": "stdout",
     "output_type": "stream",
     "text": [
      "PROGNOSIS\n",
      "Bad        15\n",
      "Good       26\n",
      "Miss        1\n",
      "Missing     3\n",
      "dtype: int64\n"
     ]
    }
   ],
   "source": [
    "print(dataframe.groupby('PROGNOSIS').size())"
   ]
  },
  {
   "cell_type": "markdown",
   "id": "560094ee",
   "metadata": {},
   "source": [
    "### Distribucion respecto a la clase"
   ]
  },
  {
   "cell_type": "code",
   "execution_count": 23,
   "id": "79b3dcc0",
   "metadata": {},
   "outputs": [
    {
     "name": "stderr",
     "output_type": "stream",
     "text": [
      "C:\\Users\\Abraham\\AppData\\Local\\Temp\\ipykernel_13400\\3777903449.py:2: FutureWarning: In a future version of pandas all arguments of DataFrame.drop except for the argument 'labels' will be keyword-only.\n",
      "  dataframeMuestra.drop(['PROGNOSIS'],1).hist()\n"
     ]
    },
    {
     "data": {
      "text/plain": [
       "<Figure size 100x100 with 0 Axes>"
      ]
     },
     "metadata": {},
     "output_type": "display_data"
    },
    {
     "data": {
      "image/png": "[encoded data removed]",
      "text/plain": [
       "<Figure size 640x480 with 4 Axes>"
      ]
     },
     "metadata": {},
     "output_type": "display_data"
    }
   ],
   "source": [
    "plt.figure(figsize=(10,10), dpi=10)\n",
    "dataframeMuestra.drop(['PROGNOSIS'],1).hist()\n",
    "plt.show()\n",
    "\n",
    "# Funciona para pocas columnas, pero es util para ver como estan respecto a la columna tomada."
   ]
  },
  {
   "cell_type": "markdown",
   "id": "24a5e151",
   "metadata": {},
   "source": [
    "# Modelo"
   ]
  },
  {
   "cell_type": "code",
   "execution_count": 24,
   "id": "4e9aac76",
   "metadata": {},
   "outputs": [],
   "source": [
    "from sklearn import linear_model\n",
    "from sklearn.model_selection import train_test_split #separa las metricas\n",
    "from sklearn import metrics"
   ]
  },
  {
   "cell_type": "code",
   "execution_count": 25,
   "id": "cadcc9b4",
   "metadata": {},
   "outputs": [],
   "source": [
    "columnas = ['SEX', 'Age', 'Cardiac FQ', 'Systolic BP', 'Diastolic BP', 'Glucose', 'Hb A/C  %', 'Total Cholest', 'TRIGLICERIDOS', 'LDL', 'HDL', 'HCTO', 'HB', 'Platelets', 'INR', 'Leucocytes', 'C.R.P', 'Ureic nitrogen', 'Uremia', 'Creatinin', 'TTPA', 'TP', 'NA (sodium)', 'K (potassium)', 'CL (Chloride)', 'Fosfatase Alcalin', 'Gamma glutamil', 'GLASGOW at admission', 'NIHSS admission', 'RANKIN admission', 'NIHSS dismissed', 'RANKIN dismissed', 'NIHSS 6 months', 'RANKIN 6 months', 'PROGNOSIS', 'VEGF/mL', 'PLGF/mL', 'IL-6 (pg/ml)'] #  'Localization', 'Severity'\n",
    "dataset = dataframe[[*columnas]]"
   ]
  },
  {
   "cell_type": "code",
   "execution_count": 26,
   "id": "ddc0048e",
   "metadata": {},
   "outputs": [],
   "source": [
    "modelo_RL = linear_model.LogisticRegression(solver='lbfgs', max_iter=8000)"
   ]
  },
  {
   "cell_type": "code",
   "execution_count": 27,
   "id": "95d39756",
   "metadata": {},
   "outputs": [],
   "source": [
    "X = dataset.drop('PROGNOSIS',axis=1)"
   ]
  },
  {
   "cell_type": "code",
   "execution_count": 28,
   "id": "8206070d",
   "metadata": {},
   "outputs": [],
   "source": [
    "Y = dataset['PROGNOSIS']"
   ]
  },
  {
   "cell_type": "code",
   "execution_count": 29,
   "id": "d5849268",
   "metadata": {},
   "outputs": [],
   "source": [
    "X_train, X_test, y_train, y_test = train_test_split(X, Y, train_size=.80, random_state=1)"
   ]
  },
  {
   "cell_type": "code",
   "execution_count": 30,
   "id": "109a43fd",
   "metadata": {},
   "outputs": [
    {
     "ename": "ValueError",
     "evalue": "could not convert string to float: 'indeterminado '",
     "output_type": "error",
     "traceback": [
      "\u001b[1;31m---------------------------------------------------------------------------\u001b[0m",
      "\u001b[1;31mValueError\u001b[0m                                Traceback (most recent call last)",
      "Cell \u001b[1;32mIn [30], line 1\u001b[0m\n\u001b[1;32m----> 1\u001b[0m \u001b[43mmodelo_RL\u001b[49m\u001b[38;5;241;43m.\u001b[39;49m\u001b[43mfit\u001b[49m\u001b[43m(\u001b[49m\u001b[43mX_train\u001b[49m\u001b[43m,\u001b[49m\u001b[43my_train\u001b[49m\u001b[43m)\u001b[49m\n",
      "File \u001b[1;32m~\\AppData\\Local\\Programs\\Python\\Python310\\lib\\site-packages\\sklearn\\linear_model\\_logistic.py:1138\u001b[0m, in \u001b[0;36mLogisticRegression.fit\u001b[1;34m(self, X, y, sample_weight)\u001b[0m\n\u001b[0;32m   1135\u001b[0m \u001b[38;5;28;01melse\u001b[39;00m:\n\u001b[0;32m   1136\u001b[0m     _dtype \u001b[38;5;241m=\u001b[39m [np\u001b[38;5;241m.\u001b[39mfloat64, np\u001b[38;5;241m.\u001b[39mfloat32]\n\u001b[1;32m-> 1138\u001b[0m X, y \u001b[38;5;241m=\u001b[39m \u001b[38;5;28;43mself\u001b[39;49m\u001b[38;5;241;43m.\u001b[39;49m\u001b[43m_validate_data\u001b[49m\u001b[43m(\u001b[49m\n\u001b[0;32m   1139\u001b[0m \u001b[43m    \u001b[49m\u001b[43mX\u001b[49m\u001b[43m,\u001b[49m\n\u001b[0;32m   1140\u001b[0m \u001b[43m    \u001b[49m\u001b[43my\u001b[49m\u001b[43m,\u001b[49m\n\u001b[0;32m   1141\u001b[0m \u001b[43m    \u001b[49m\u001b[43maccept_sparse\u001b[49m\u001b[38;5;241;43m=\u001b[39;49m\u001b[38;5;124;43m\"\u001b[39;49m\u001b[38;5;124;43mcsr\u001b[39;49m\u001b[38;5;124;43m\"\u001b[39;49m\u001b[43m,\u001b[49m\n\u001b[0;32m   1142\u001b[0m \u001b[43m    \u001b[49m\u001b[43mdtype\u001b[49m\u001b[38;5;241;43m=\u001b[39;49m\u001b[43m_dtype\u001b[49m\u001b[43m,\u001b[49m\n\u001b[0;32m   1143\u001b[0m \u001b[43m    \u001b[49m\u001b[43morder\u001b[49m\u001b[38;5;241;43m=\u001b[39;49m\u001b[38;5;124;43m\"\u001b[39;49m\u001b[38;5;124;43mC\u001b[39;49m\u001b[38;5;124;43m\"\u001b[39;49m\u001b[43m,\u001b[49m\n\u001b[0;32m   1144\u001b[0m \u001b[43m    \u001b[49m\u001b[43maccept_large_sparse\u001b[49m\u001b[38;5;241;43m=\u001b[39;49m\u001b[43msolver\u001b[49m\u001b[43m \u001b[49m\u001b[38;5;129;43;01mnot\u001b[39;49;00m\u001b[43m \u001b[49m\u001b[38;5;129;43;01min\u001b[39;49;00m\u001b[43m \u001b[49m\u001b[43m[\u001b[49m\u001b[38;5;124;43m\"\u001b[39;49m\u001b[38;5;124;43mliblinear\u001b[39;49m\u001b[38;5;124;43m\"\u001b[39;49m\u001b[43m,\u001b[49m\u001b[43m \u001b[49m\u001b[38;5;124;43m\"\u001b[39;49m\u001b[38;5;124;43msag\u001b[39;49m\u001b[38;5;124;43m\"\u001b[39;49m\u001b[43m,\u001b[49m\u001b[43m \u001b[49m\u001b[38;5;124;43m\"\u001b[39;49m\u001b[38;5;124;43msaga\u001b[39;49m\u001b[38;5;124;43m\"\u001b[39;49m\u001b[43m]\u001b[49m\u001b[43m,\u001b[49m\n\u001b[0;32m   1145\u001b[0m \u001b[43m\u001b[49m\u001b[43m)\u001b[49m\n\u001b[0;32m   1146\u001b[0m check_classification_targets(y)\n\u001b[0;32m   1147\u001b[0m \u001b[38;5;28mself\u001b[39m\u001b[38;5;241m.\u001b[39mclasses_ \u001b[38;5;241m=\u001b[39m np\u001b[38;5;241m.\u001b[39munique(y)\n",
      "File \u001b[1;32m~\\AppData\\Local\\Programs\\Python\\Python310\\lib\\site-packages\\sklearn\\base.py:596\u001b[0m, in \u001b[0;36mBaseEstimator._validate_data\u001b[1;34m(self, X, y, reset, validate_separately, **check_params)\u001b[0m\n\u001b[0;32m    594\u001b[0m         y \u001b[38;5;241m=\u001b[39m check_array(y, input_name\u001b[38;5;241m=\u001b[39m\u001b[38;5;124m\"\u001b[39m\u001b[38;5;124my\u001b[39m\u001b[38;5;124m\"\u001b[39m, \u001b[38;5;241m*\u001b[39m\u001b[38;5;241m*\u001b[39mcheck_y_params)\n\u001b[0;32m    595\u001b[0m     \u001b[38;5;28;01melse\u001b[39;00m:\n\u001b[1;32m--> 596\u001b[0m         X, y \u001b[38;5;241m=\u001b[39m check_X_y(X, y, \u001b[38;5;241m*\u001b[39m\u001b[38;5;241m*\u001b[39mcheck_params)\n\u001b[0;32m    597\u001b[0m     out \u001b[38;5;241m=\u001b[39m X, y\n\u001b[0;32m    599\u001b[0m \u001b[38;5;28;01mif\u001b[39;00m \u001b[38;5;129;01mnot\u001b[39;00m no_val_X \u001b[38;5;129;01mand\u001b[39;00m check_params\u001b[38;5;241m.\u001b[39mget(\u001b[38;5;124m\"\u001b[39m\u001b[38;5;124mensure_2d\u001b[39m\u001b[38;5;124m\"\u001b[39m, \u001b[38;5;28;01mTrue\u001b[39;00m):\n",
      "File \u001b[1;32m~\\AppData\\Local\\Programs\\Python\\Python310\\lib\\site-packages\\sklearn\\utils\\validation.py:1074\u001b[0m, in \u001b[0;36mcheck_X_y\u001b[1;34m(X, y, accept_sparse, accept_large_sparse, dtype, order, copy, force_all_finite, ensure_2d, allow_nd, multi_output, ensure_min_samples, ensure_min_features, y_numeric, estimator)\u001b[0m\n\u001b[0;32m   1069\u001b[0m         estimator_name \u001b[38;5;241m=\u001b[39m _check_estimator_name(estimator)\n\u001b[0;32m   1070\u001b[0m     \u001b[38;5;28;01mraise\u001b[39;00m \u001b[38;5;167;01mValueError\u001b[39;00m(\n\u001b[0;32m   1071\u001b[0m         \u001b[38;5;124mf\u001b[39m\u001b[38;5;124m\"\u001b[39m\u001b[38;5;132;01m{\u001b[39;00mestimator_name\u001b[38;5;132;01m}\u001b[39;00m\u001b[38;5;124m requires y to be passed, but the target y is None\u001b[39m\u001b[38;5;124m\"\u001b[39m\n\u001b[0;32m   1072\u001b[0m     )\n\u001b[1;32m-> 1074\u001b[0m X \u001b[38;5;241m=\u001b[39m \u001b[43mcheck_array\u001b[49m\u001b[43m(\u001b[49m\n\u001b[0;32m   1075\u001b[0m \u001b[43m    \u001b[49m\u001b[43mX\u001b[49m\u001b[43m,\u001b[49m\n\u001b[0;32m   1076\u001b[0m \u001b[43m    \u001b[49m\u001b[43maccept_sparse\u001b[49m\u001b[38;5;241;43m=\u001b[39;49m\u001b[43maccept_sparse\u001b[49m\u001b[43m,\u001b[49m\n\u001b[0;32m   1077\u001b[0m \u001b[43m    \u001b[49m\u001b[43maccept_large_sparse\u001b[49m\u001b[38;5;241;43m=\u001b[39;49m\u001b[43maccept_large_sparse\u001b[49m\u001b[43m,\u001b[49m\n\u001b[0;32m   1078\u001b[0m \u001b[43m    \u001b[49m\u001b[43mdtype\u001b[49m\u001b[38;5;241;43m=\u001b[39;49m\u001b[43mdtype\u001b[49m\u001b[43m,\u001b[49m\n\u001b[0;32m   1079\u001b[0m \u001b[43m    \u001b[49m\u001b[43morder\u001b[49m\u001b[38;5;241;43m=\u001b[39;49m\u001b[43morder\u001b[49m\u001b[43m,\u001b[49m\n\u001b[0;32m   1080\u001b[0m \u001b[43m    \u001b[49m\u001b[43mcopy\u001b[49m\u001b[38;5;241;43m=\u001b[39;49m\u001b[43mcopy\u001b[49m\u001b[43m,\u001b[49m\n\u001b[0;32m   1081\u001b[0m \u001b[43m    \u001b[49m\u001b[43mforce_all_finite\u001b[49m\u001b[38;5;241;43m=\u001b[39;49m\u001b[43mforce_all_finite\u001b[49m\u001b[43m,\u001b[49m\n\u001b[0;32m   1082\u001b[0m \u001b[43m    \u001b[49m\u001b[43mensure_2d\u001b[49m\u001b[38;5;241;43m=\u001b[39;49m\u001b[43mensure_2d\u001b[49m\u001b[43m,\u001b[49m\n\u001b[0;32m   1083\u001b[0m \u001b[43m    \u001b[49m\u001b[43mallow_nd\u001b[49m\u001b[38;5;241;43m=\u001b[39;49m\u001b[43mallow_nd\u001b[49m\u001b[43m,\u001b[49m\n\u001b[0;32m   1084\u001b[0m \u001b[43m    \u001b[49m\u001b[43mensure_min_samples\u001b[49m\u001b[38;5;241;43m=\u001b[39;49m\u001b[43mensure_min_samples\u001b[49m\u001b[43m,\u001b[49m\n\u001b[0;32m   1085\u001b[0m \u001b[43m    \u001b[49m\u001b[43mensure_min_features\u001b[49m\u001b[38;5;241;43m=\u001b[39;49m\u001b[43mensure_min_features\u001b[49m\u001b[43m,\u001b[49m\n\u001b[0;32m   1086\u001b[0m \u001b[43m    \u001b[49m\u001b[43mestimator\u001b[49m\u001b[38;5;241;43m=\u001b[39;49m\u001b[43mestimator\u001b[49m\u001b[43m,\u001b[49m\n\u001b[0;32m   1087\u001b[0m \u001b[43m    \u001b[49m\u001b[43minput_name\u001b[49m\u001b[38;5;241;43m=\u001b[39;49m\u001b[38;5;124;43m\"\u001b[39;49m\u001b[38;5;124;43mX\u001b[39;49m\u001b[38;5;124;43m\"\u001b[39;49m\u001b[43m,\u001b[49m\n\u001b[0;32m   1088\u001b[0m \u001b[43m\u001b[49m\u001b[43m)\u001b[49m\n\u001b[0;32m   1090\u001b[0m y \u001b[38;5;241m=\u001b[39m _check_y(y, multi_output\u001b[38;5;241m=\u001b[39mmulti_output, y_numeric\u001b[38;5;241m=\u001b[39my_numeric, estimator\u001b[38;5;241m=\u001b[39mestimator)\n\u001b[0;32m   1092\u001b[0m check_consistent_length(X, y)\n",
      "File \u001b[1;32m~\\AppData\\Local\\Programs\\Python\\Python310\\lib\\site-packages\\sklearn\\utils\\validation.py:856\u001b[0m, in \u001b[0;36mcheck_array\u001b[1;34m(array, accept_sparse, accept_large_sparse, dtype, order, copy, force_all_finite, ensure_2d, allow_nd, ensure_min_samples, ensure_min_features, estimator, input_name)\u001b[0m\n\u001b[0;32m    854\u001b[0m         array \u001b[38;5;241m=\u001b[39m array\u001b[38;5;241m.\u001b[39mastype(dtype, casting\u001b[38;5;241m=\u001b[39m\u001b[38;5;124m\"\u001b[39m\u001b[38;5;124munsafe\u001b[39m\u001b[38;5;124m\"\u001b[39m, copy\u001b[38;5;241m=\u001b[39m\u001b[38;5;28;01mFalse\u001b[39;00m)\n\u001b[0;32m    855\u001b[0m     \u001b[38;5;28;01melse\u001b[39;00m:\n\u001b[1;32m--> 856\u001b[0m         array \u001b[38;5;241m=\u001b[39m \u001b[43mnp\u001b[49m\u001b[38;5;241;43m.\u001b[39;49m\u001b[43masarray\u001b[49m\u001b[43m(\u001b[49m\u001b[43marray\u001b[49m\u001b[43m,\u001b[49m\u001b[43m \u001b[49m\u001b[43morder\u001b[49m\u001b[38;5;241;43m=\u001b[39;49m\u001b[43morder\u001b[49m\u001b[43m,\u001b[49m\u001b[43m \u001b[49m\u001b[43mdtype\u001b[49m\u001b[38;5;241;43m=\u001b[39;49m\u001b[43mdtype\u001b[49m\u001b[43m)\u001b[49m\n\u001b[0;32m    857\u001b[0m \u001b[38;5;28;01mexcept\u001b[39;00m ComplexWarning \u001b[38;5;28;01mas\u001b[39;00m complex_warning:\n\u001b[0;32m    858\u001b[0m     \u001b[38;5;28;01mraise\u001b[39;00m \u001b[38;5;167;01mValueError\u001b[39;00m(\n\u001b[0;32m    859\u001b[0m         \u001b[38;5;124m\"\u001b[39m\u001b[38;5;124mComplex data not supported\u001b[39m\u001b[38;5;130;01m\\n\u001b[39;00m\u001b[38;5;132;01m{}\u001b[39;00m\u001b[38;5;130;01m\\n\u001b[39;00m\u001b[38;5;124m\"\u001b[39m\u001b[38;5;241m.\u001b[39mformat(array)\n\u001b[0;32m    860\u001b[0m     ) \u001b[38;5;28;01mfrom\u001b[39;00m \u001b[38;5;21;01mcomplex_warning\u001b[39;00m\n",
      "File \u001b[1;32m~\\AppData\\Local\\Programs\\Python\\Python310\\lib\\site-packages\\pandas\\core\\generic.py:2070\u001b[0m, in \u001b[0;36mNDFrame.__array__\u001b[1;34m(self, dtype)\u001b[0m\n\u001b[0;32m   2069\u001b[0m \u001b[38;5;28;01mdef\u001b[39;00m \u001b[38;5;21m__array__\u001b[39m(\u001b[38;5;28mself\u001b[39m, dtype: npt\u001b[38;5;241m.\u001b[39mDTypeLike \u001b[38;5;241m|\u001b[39m \u001b[38;5;28;01mNone\u001b[39;00m \u001b[38;5;241m=\u001b[39m \u001b[38;5;28;01mNone\u001b[39;00m) \u001b[38;5;241m-\u001b[39m\u001b[38;5;241m>\u001b[39m np\u001b[38;5;241m.\u001b[39mndarray:\n\u001b[1;32m-> 2070\u001b[0m     \u001b[38;5;28;01mreturn\u001b[39;00m \u001b[43mnp\u001b[49m\u001b[38;5;241;43m.\u001b[39;49m\u001b[43masarray\u001b[49m\u001b[43m(\u001b[49m\u001b[38;5;28;43mself\u001b[39;49m\u001b[38;5;241;43m.\u001b[39;49m\u001b[43m_values\u001b[49m\u001b[43m,\u001b[49m\u001b[43m \u001b[49m\u001b[43mdtype\u001b[49m\u001b[38;5;241;43m=\u001b[39;49m\u001b[43mdtype\u001b[49m\u001b[43m)\u001b[49m\n",
      "\u001b[1;31mValueError\u001b[0m: could not convert string to float: 'indeterminado '"
     ]
    }
   ],
   "source": [
    "modelo_RL.fit(X_train,y_train)"
   ]
  },
  {
   "cell_type": "markdown",
   "id": "335e952b",
   "metadata": {},
   "source": [
    "## Prediccion"
   ]
  },
  {
   "cell_type": "code",
   "execution_count": 18,
   "id": "161ef894",
   "metadata": {},
   "outputs": [],
   "source": [
    "prediccion = modelo_RL.predict(X_test)"
   ]
  },
  {
   "cell_type": "markdown",
   "id": "1c9b1fc4",
   "metadata": {},
   "source": [
    "## Evaluacion del Modelo"
   ]
  },
  {
   "cell_type": "code",
   "execution_count": 19,
   "id": "43121080",
   "metadata": {},
   "outputs": [
    {
     "name": "stdout",
     "output_type": "stream",
     "text": [
      "Matriz de Confusión :\n",
      " [[1 0 0]\n",
      " [1 6 0]\n",
      " [1 0 0]]\n"
     ]
    }
   ],
   "source": [
    "print(\"Matriz de Confusión :\\n\",metrics.confusion_matrix(y_test, prediccion))\n",
    "# Para saber los aciertos que tiene"
   ]
  },
  {
   "cell_type": "code",
   "execution_count": 20,
   "id": "fe7f8611",
   "metadata": {},
   "outputs": [
    {
     "data": {
      "image/png": "[encoded data removed]",
      "text/plain": [
       "<Figure size 600x600 with 1 Axes>"
      ]
     },
     "metadata": {},
     "output_type": "display_data"
    }
   ],
   "source": [
    "from mlxtend.plotting import plot_confusion_matrix\n",
    "from sklearn.metrics import confusion_matrix\n",
    "matriz = confusion_matrix(y_test, prediccion)\n",
    "\n",
    "plot_confusion_matrix(conf_mat=matriz, figsize=(6,6), show_normed=False)\n",
    "plt.tight_layout()"
   ]
  },
  {
   "cell_type": "code",
   "execution_count": 21,
   "id": "8c2df191",
   "metadata": {},
   "outputs": [
    {
     "name": "stdout",
     "output_type": "stream",
     "text": [
      "Tasa de acierto: 0.777778\n"
     ]
    }
   ],
   "source": [
    "print(\"Tasa de acierto: {:4f}\".format(metrics.accuracy_score(y_test,prediccion)))"
   ]
  },
  {
   "cell_type": "code",
   "execution_count": 22,
   "id": "15289e37",
   "metadata": {},
   "outputs": [
    {
     "name": "stdout",
     "output_type": "stream",
     "text": [
      "Reporte de clasificacion:\n",
      "\n",
      "              precision    recall  f1-score   support\n",
      "\n",
      "         Bad       0.33      1.00      0.50         1\n",
      "        Good       1.00      0.86      0.92         7\n",
      "     Missing       0.00      0.00      0.00         1\n",
      "\n",
      "    accuracy                           0.78         9\n",
      "   macro avg       0.44      0.62      0.47         9\n",
      "weighted avg       0.81      0.78      0.77         9\n",
      "\n"
     ]
    },
    {
     "name": "stderr",
     "output_type": "stream",
     "text": [
      "C:\\Users\\Abraham\\AppData\\Local\\Programs\\Python\\Python310\\lib\\site-packages\\sklearn\\metrics\\_classification.py:1334: UndefinedMetricWarning: Precision and F-score are ill-defined and being set to 0.0 in labels with no predicted samples. Use `zero_division` parameter to control this behavior.\n",
      "  _warn_prf(average, modifier, msg_start, len(result))\n",
      "C:\\Users\\Abraham\\AppData\\Local\\Programs\\Python\\Python310\\lib\\site-packages\\sklearn\\metrics\\_classification.py:1334: UndefinedMetricWarning: Precision and F-score are ill-defined and being set to 0.0 in labels with no predicted samples. Use `zero_division` parameter to control this behavior.\n",
      "  _warn_prf(average, modifier, msg_start, len(result))\n",
      "C:\\Users\\Abraham\\AppData\\Local\\Programs\\Python\\Python310\\lib\\site-packages\\sklearn\\metrics\\_classification.py:1334: UndefinedMetricWarning: Precision and F-score are ill-defined and being set to 0.0 in labels with no predicted samples. Use `zero_division` parameter to control this behavior.\n",
      "  _warn_prf(average, modifier, msg_start, len(result))\n"
     ]
    }
   ],
   "source": [
    "print('Reporte de clasificacion:\\n')\n",
    "print(metrics.classification_report(y_test, prediccion))"
   ]
  },
  {
   "cell_type": "markdown",
   "id": "f70bd1ef",
   "metadata": {},
   "source": [
    "## Hasta aqui"
   ]
  },
  {
   "cell_type": "code",
   "execution_count": null,
   "id": "c9eb269a",
   "metadata": {},
   "outputs": [],
   "source": []
  },
  {
   "cell_type": "code",
   "execution_count": null,
   "id": "ba1d2d93",
   "metadata": {},
   "outputs": [],
   "source": []
  },
  {
   "cell_type": "code",
   "execution_count": null,
   "id": "0ca7b23a",
   "metadata": {},
   "outputs": [],
   "source": []
  },
  {
   "cell_type": "code",
   "execution_count": null,
   "id": "a687e112",
   "metadata": {},
   "outputs": [],
   "source": []
  },
  {
   "cell_type": "markdown",
   "id": "9a42d771",
   "metadata": {},
   "source": [
    "<h2> Mapa </h2>\n",
    "<ul>\n",
    "    <li>1-. Formular la pregunta y determinar los datos requeridos</li>\n",
    "    <li>2-. Adquirir los datos en un formato accesible</li>\n",
    "    <li>3-. Identifique y corrija los puntos de datos faltantes/anomalías según sea necesario</li>\n",
    "    <li>4-. Preparar los datos para el modelo de aprendizaje automático</li>\n",
    "    <li>5-. Entrenar el modelo en los datos de entrenamiento</li>\n",
    "    <li>6-. Predicciones sobre los datos de prueba</li>\n",
    "    <li>7-. Comparar las predicciones con los objetivos conocidos del conjunto de pruebas y calcule las métricas de rendimiento</li>\n",
    "    <li>8-. Reducción de caracteristicas, si el modelo no fue satisfactorio</li>\n",
    "    <li>9-. Interpretación el modelo y reporte los resultados visual y numéricamente</li>\n",
    "</ul>"
   ]
  },
  {
   "cell_type": "markdown",
   "id": "4927d01c",
   "metadata": {},
   "source": [
    "# 2-. Adquisición de datos\n",
    "Primero, necesitamos algunos datos. Para usar un ejemplo realista, recuperé datos de pacientes del Hospital Herminda Martin de Chillan. En general, aproximadamente el 80 % del tiempo dedicado al análisis de datos es limpiar y recuperar datos, pero esta carga de trabajo se puede reducir encontrando fuentes de datos de alta calidad."
   ]
  },
  {
   "cell_type": "code",
   "execution_count": 1,
   "id": "cfa3b8af",
   "metadata": {},
   "outputs": [
    {
     "data": {
      "text/html": [
       "<div>\n",
       "<style scoped>\n",
       "    .dataframe tbody tr th:only-of-type {\n",
       "        vertical-align: middle;\n",
       "    }\n",
       "\n",
       "    .dataframe tbody tr th {\n",
       "        vertical-align: top;\n",
       "    }\n",
       "\n",
       "    .dataframe thead th {\n",
       "        text-align: right;\n",
       "    }\n",
       "</style>\n",
       "<table border=\"1\" class=\"dataframe\">\n",
       "  <thead>\n",
       "    <tr style=\"text-align: right;\">\n",
       "      <th></th>\n",
       "      <th>CLAVE</th>\n",
       "      <th>COMUNA</th>\n",
       "      <th>TELEFONOS</th>\n",
       "      <th>FICHA CLINICA</th>\n",
       "      <th>CTA CTE</th>\n",
       "      <th>EDAD</th>\n",
       "      <th>PESO</th>\n",
       "      <th>TALLA</th>\n",
       "      <th>HTA</th>\n",
       "      <th>DIABETES</th>\n",
       "      <th>...</th>\n",
       "      <th>logVEGF</th>\n",
       "      <th>logPlGF</th>\n",
       "      <th>logPCR</th>\n",
       "      <th>PCR/VEGF ratio</th>\n",
       "      <th>PCR/PLGF ratio</th>\n",
       "      <th>IL-6 (pg/ml)</th>\n",
       "      <th>IL-6 corregida</th>\n",
       "      <th>log IL-6</th>\n",
       "      <th>IL-6/VEGF</th>\n",
       "      <th>IL-6/PlGF</th>\n",
       "    </tr>\n",
       "  </thead>\n",
       "  <tbody>\n",
       "    <tr>\n",
       "      <th>0</th>\n",
       "      <td>1</td>\n",
       "      <td>san carlos</td>\n",
       "      <td>NaN</td>\n",
       "      <td>2012418042</td>\n",
       "      <td>11998898</td>\n",
       "      <td>53.0</td>\n",
       "      <td>NaN</td>\n",
       "      <td>NaN</td>\n",
       "      <td>NaN</td>\n",
       "      <td>NaN</td>\n",
       "      <td>...</td>\n",
       "      <td>1.768165</td>\n",
       "      <td>0.973961</td>\n",
       "      <td>0.170262</td>\n",
       "      <td>0.096293</td>\n",
       "      <td>0.174814</td>\n",
       "      <td>18.586835</td>\n",
       "      <td>0.156953</td>\n",
       "      <td>-0.804231</td>\n",
       "      <td>-0.454840</td>\n",
       "      <td>-0.825732</td>\n",
       "    </tr>\n",
       "    <tr>\n",
       "      <th>1</th>\n",
       "      <td>2</td>\n",
       "      <td>coihueco</td>\n",
       "      <td>41723921-74822219</td>\n",
       "      <td>2000149601</td>\n",
       "      <td>12002852</td>\n",
       "      <td>54.0</td>\n",
       "      <td>88.0</td>\n",
       "      <td>165.0</td>\n",
       "      <td>si</td>\n",
       "      <td>si</td>\n",
       "      <td>...</td>\n",
       "      <td>2.143150</td>\n",
       "      <td>1.749737</td>\n",
       "      <td>0.222716</td>\n",
       "      <td>0.103920</td>\n",
       "      <td>0.127286</td>\n",
       "      <td>1.263441</td>\n",
       "      <td>0.012818</td>\n",
       "      <td>-1.892186</td>\n",
       "      <td>-0.882899</td>\n",
       "      <td>-1.081411</td>\n",
       "    </tr>\n",
       "    <tr>\n",
       "      <th>2</th>\n",
       "      <td>3</td>\n",
       "      <td>chillan</td>\n",
       "      <td>71818219-50323843</td>\n",
       "      <td>98085992</td>\n",
       "      <td>12003092</td>\n",
       "      <td>78.0</td>\n",
       "      <td>NaN</td>\n",
       "      <td>NaN</td>\n",
       "      <td>si</td>\n",
       "      <td>si</td>\n",
       "      <td>...</td>\n",
       "      <td>1.560877</td>\n",
       "      <td>1.213371</td>\n",
       "      <td>1.083144</td>\n",
       "      <td>0.693933</td>\n",
       "      <td>0.892673</td>\n",
       "      <td>49.091862</td>\n",
       "      <td>0.436365</td>\n",
       "      <td>-0.360150</td>\n",
       "      <td>-0.230736</td>\n",
       "      <td>-0.296817</td>\n",
       "    </tr>\n",
       "    <tr>\n",
       "      <th>3</th>\n",
       "      <td>4</td>\n",
       "      <td>coihueco</td>\n",
       "      <td>77107584-93406930</td>\n",
       "      <td>9772094</td>\n",
       "      <td>11995391</td>\n",
       "      <td>87.0</td>\n",
       "      <td>52.5</td>\n",
       "      <td>NaN</td>\n",
       "      <td>si</td>\n",
       "      <td>si</td>\n",
       "      <td>...</td>\n",
       "      <td>2.254849</td>\n",
       "      <td>1.660278</td>\n",
       "      <td>0.060698</td>\n",
       "      <td>0.026919</td>\n",
       "      <td>0.036559</td>\n",
       "      <td>96.544126</td>\n",
       "      <td>0.934859</td>\n",
       "      <td>-0.029254</td>\n",
       "      <td>-0.012974</td>\n",
       "      <td>-0.017620</td>\n",
       "    </tr>\n",
       "    <tr>\n",
       "      <th>4</th>\n",
       "      <td>5</td>\n",
       "      <td>yungay</td>\n",
       "      <td>99240760-77884029</td>\n",
       "      <td>98095110</td>\n",
       "      <td>12014450</td>\n",
       "      <td>69.0</td>\n",
       "      <td>94.0</td>\n",
       "      <td>NaN</td>\n",
       "      <td>si</td>\n",
       "      <td>si</td>\n",
       "      <td>...</td>\n",
       "      <td>2.015323</td>\n",
       "      <td>1.741045</td>\n",
       "      <td>0.107210</td>\n",
       "      <td>0.053197</td>\n",
       "      <td>0.061578</td>\n",
       "      <td>43.309864</td>\n",
       "      <td>0.379102</td>\n",
       "      <td>-0.421244</td>\n",
       "      <td>-0.209021</td>\n",
       "      <td>-0.241949</td>\n",
       "    </tr>\n",
       "  </tbody>\n",
       "</table>\n",
       "<p>5 rows × 85 columns</p>\n",
       "</div>"
      ],
      "text/plain": [
       "  CLAVE      COMUNA         TELEFONOS   FICHA CLINICA   CTA CTE  EDAD  PESO  \\\n",
       "0     1  san carlos                NaN     2012418042  11998898  53.0   NaN   \n",
       "1     2    coihueco  41723921-74822219     2000149601  12002852  54.0  88.0   \n",
       "2     3     chillan  71818219-50323843       98085992  12003092  78.0   NaN   \n",
       "3     4    coihueco  77107584-93406930        9772094  11995391  87.0  52.5   \n",
       "4     5      yungay  99240760-77884029       98095110  12014450  69.0  94.0   \n",
       "\n",
       "   TALLA  HTA DIABETES  ...   logVEGF   logPlGF    logPCR  PCR/VEGF ratio  \\\n",
       "0    NaN  NaN      NaN  ...  1.768165  0.973961  0.170262        0.096293   \n",
       "1  165.0   si       si  ...  2.143150  1.749737  0.222716        0.103920   \n",
       "2    NaN   si       si  ...  1.560877  1.213371  1.083144        0.693933   \n",
       "3    NaN   si       si  ...  2.254849  1.660278  0.060698        0.026919   \n",
       "4    NaN   si       si  ...  2.015323  1.741045  0.107210        0.053197   \n",
       "\n",
       "   PCR/PLGF ratio  IL-6 (pg/ml)  IL-6 corregida  log IL-6  IL-6/VEGF  \\\n",
       "0        0.174814     18.586835        0.156953 -0.804231  -0.454840   \n",
       "1        0.127286      1.263441        0.012818 -1.892186  -0.882899   \n",
       "2        0.892673     49.091862        0.436365 -0.360150  -0.230736   \n",
       "3        0.036559     96.544126        0.934859 -0.029254  -0.012974   \n",
       "4        0.061578     43.309864        0.379102 -0.421244  -0.209021   \n",
       "\n",
       "   IL-6/PlGF  \n",
       "0  -0.825732  \n",
       "1  -1.081411  \n",
       "2  -0.296817  \n",
       "3  -0.017620  \n",
       "4  -0.241949  \n",
       "\n",
       "[5 rows x 85 columns]"
      ]
     },
     "execution_count": 1,
     "metadata": {},
     "output_type": "execute_result"
    }
   ],
   "source": [
    "# Libreria para la manipulación de los datos\n",
    "import pandas as pd\n",
    "import numpy as np\n",
    "\n",
    "# Leer el dataframe\n",
    "dataframe = pd.read_excel('../bdd/dataframe.xlsx')\n",
    "dataframe.head(5)"
   ]
  },
  {
   "cell_type": "code",
   "execution_count": 2,
   "id": "2648e447",
   "metadata": {},
   "outputs": [
    {
     "name": "stdout",
     "output_type": "stream",
     "text": [
      "Existen 44 pacientes con 85 variables.\n"
     ]
    }
   ],
   "source": [
    "print('Existen {} pacientes con {} variables.'.format(*dataframe.shape))"
   ]
  },
  {
   "cell_type": "markdown",
   "id": "cf5405d5",
   "metadata": {},
   "source": [
    "# 3-. Identifique y corrija los puntos de datos faltantes/anomalías según sea necesario\n",
    "\n",
    "En este item, la base de datos será rellenada."
   ]
  },
  {
   "cell_type": "code",
   "execution_count": 4,
   "id": "1f195c72",
   "metadata": {},
   "outputs": [
    {
     "name": "stderr",
     "output_type": "stream",
     "text": [
      "C:\\Users\\Abraham\\AppData\\Local\\Temp\\ipykernel_1909660\\2763670976.py:6: SettingWithCopyWarning: \n",
      "A value is trying to be set on a copy of a slice from a DataFrame.\n",
      "Try using .loc[row_indexer,col_indexer] = value instead\n",
      "\n",
      "See the caveats in the documentation: https://pandas.pydata.org/pandas-docs/stable/user_guide/indexing.html#returning-a-view-versus-a-copy\n",
      "  dataset['NIHSS 6M'] = dataset['NIHSS 6M'].replace( ['fallecido'], 0)\n",
      "C:\\Users\\Abraham\\AppData\\Local\\Temp\\ipykernel_1909660\\2763670976.py:7: SettingWithCopyWarning: \n",
      "A value is trying to be set on a copy of a slice from a DataFrame.\n",
      "Try using .loc[row_indexer,col_indexer] = value instead\n",
      "\n",
      "See the caveats in the documentation: https://pandas.pydata.org/pandas-docs/stable/user_guide/indexing.html#returning-a-view-versus-a-copy\n",
      "  dataset['RANKIN 6M'] = dataset['RANKIN 6M'].replace( ['no'], 0)\n"
     ]
    },
    {
     "data": {
      "text/html": [
       "<div>\n",
       "<style scoped>\n",
       "    .dataframe tbody tr th:only-of-type {\n",
       "        vertical-align: middle;\n",
       "    }\n",
       "\n",
       "    .dataframe tbody tr th {\n",
       "        vertical-align: top;\n",
       "    }\n",
       "\n",
       "    .dataframe thead th {\n",
       "        text-align: right;\n",
       "    }\n",
       "</style>\n",
       "<table border=\"1\" class=\"dataframe\">\n",
       "  <thead>\n",
       "    <tr style=\"text-align: right;\">\n",
       "      <th></th>\n",
       "      <th>HTA</th>\n",
       "      <th>DIABETES</th>\n",
       "      <th>EDAD</th>\n",
       "      <th>TRIGLICERIDOS</th>\n",
       "      <th>PESO</th>\n",
       "      <th>TALLA</th>\n",
       "      <th>FC</th>\n",
       "      <th>GLUCOSA</th>\n",
       "      <th>Hb A/C  %</th>\n",
       "      <th>COL. TOTAL</th>\n",
       "      <th>...</th>\n",
       "      <th>Gamma glutamil</th>\n",
       "      <th>Transaminasa piruvica</th>\n",
       "      <th>Trans oxal</th>\n",
       "      <th>GLASGOW AL INICO ACV</th>\n",
       "      <th>NIHSS_INICO_ACV</th>\n",
       "      <th>RANKIN INICIO ACV</th>\n",
       "      <th>NIHSS alta ACV</th>\n",
       "      <th>RANKIN alta ACV</th>\n",
       "      <th>NIHSS 6M</th>\n",
       "      <th>RANKIN 6M</th>\n",
       "    </tr>\n",
       "  </thead>\n",
       "  <tbody>\n",
       "    <tr>\n",
       "      <th>0</th>\n",
       "      <td>DESCONOCIDO</td>\n",
       "      <td>DESCONOCIDO</td>\n",
       "      <td>53.0</td>\n",
       "      <td>130.0</td>\n",
       "      <td>78.25</td>\n",
       "      <td>164.25</td>\n",
       "      <td>78.416667</td>\n",
       "      <td>137.090000</td>\n",
       "      <td>5.9</td>\n",
       "      <td>268.0</td>\n",
       "      <td>...</td>\n",
       "      <td>41.660000</td>\n",
       "      <td>20.39000</td>\n",
       "      <td>25.51</td>\n",
       "      <td>11.0</td>\n",
       "      <td>14.0</td>\n",
       "      <td>5.0</td>\n",
       "      <td>42.0</td>\n",
       "      <td>6.0</td>\n",
       "      <td>0.000000</td>\n",
       "      <td>6.000000</td>\n",
       "    </tr>\n",
       "    <tr>\n",
       "      <th>1</th>\n",
       "      <td>si</td>\n",
       "      <td>si</td>\n",
       "      <td>54.0</td>\n",
       "      <td>130.0</td>\n",
       "      <td>88.00</td>\n",
       "      <td>165.00</td>\n",
       "      <td>56.000000</td>\n",
       "      <td>136.732703</td>\n",
       "      <td>6.5</td>\n",
       "      <td>187.0</td>\n",
       "      <td>...</td>\n",
       "      <td>39.527317</td>\n",
       "      <td>27.22425</td>\n",
       "      <td>27.34</td>\n",
       "      <td>15.0</td>\n",
       "      <td>6.0</td>\n",
       "      <td>5.0</td>\n",
       "      <td>0.0</td>\n",
       "      <td>2.0</td>\n",
       "      <td>0.000000</td>\n",
       "      <td>2.000000</td>\n",
       "    </tr>\n",
       "    <tr>\n",
       "      <th>2</th>\n",
       "      <td>si</td>\n",
       "      <td>si</td>\n",
       "      <td>78.0</td>\n",
       "      <td>97.0</td>\n",
       "      <td>78.25</td>\n",
       "      <td>164.25</td>\n",
       "      <td>91.000000</td>\n",
       "      <td>359.420000</td>\n",
       "      <td>13.8</td>\n",
       "      <td>159.0</td>\n",
       "      <td>...</td>\n",
       "      <td>130.390000</td>\n",
       "      <td>49.57000</td>\n",
       "      <td>23.40</td>\n",
       "      <td>15.0</td>\n",
       "      <td>5.0</td>\n",
       "      <td>3.0</td>\n",
       "      <td>2.0</td>\n",
       "      <td>1.0</td>\n",
       "      <td>2.052632</td>\n",
       "      <td>2.526316</td>\n",
       "    </tr>\n",
       "    <tr>\n",
       "      <th>3</th>\n",
       "      <td>si</td>\n",
       "      <td>si</td>\n",
       "      <td>87.0</td>\n",
       "      <td>133.0</td>\n",
       "      <td>52.50</td>\n",
       "      <td>164.25</td>\n",
       "      <td>59.000000</td>\n",
       "      <td>186.200000</td>\n",
       "      <td>5.9</td>\n",
       "      <td>193.0</td>\n",
       "      <td>...</td>\n",
       "      <td>33.950000</td>\n",
       "      <td>15.59000</td>\n",
       "      <td>22.93</td>\n",
       "      <td>15.0</td>\n",
       "      <td>1.0</td>\n",
       "      <td>4.0</td>\n",
       "      <td>0.0</td>\n",
       "      <td>2.0</td>\n",
       "      <td>0.000000</td>\n",
       "      <td>2.000000</td>\n",
       "    </tr>\n",
       "    <tr>\n",
       "      <th>4</th>\n",
       "      <td>si</td>\n",
       "      <td>si</td>\n",
       "      <td>69.0</td>\n",
       "      <td>137.0</td>\n",
       "      <td>94.00</td>\n",
       "      <td>164.25</td>\n",
       "      <td>104.000000</td>\n",
       "      <td>170.000000</td>\n",
       "      <td>16.7</td>\n",
       "      <td>184.0</td>\n",
       "      <td>...</td>\n",
       "      <td>39.527317</td>\n",
       "      <td>27.22425</td>\n",
       "      <td>27.34</td>\n",
       "      <td>15.0</td>\n",
       "      <td>3.0</td>\n",
       "      <td>4.0</td>\n",
       "      <td>2.0</td>\n",
       "      <td>1.0</td>\n",
       "      <td>0.000000</td>\n",
       "      <td>1.000000</td>\n",
       "    </tr>\n",
       "  </tbody>\n",
       "</table>\n",
       "<p>5 rows × 41 columns</p>\n",
       "</div>"
      ],
      "text/plain": [
       "           HTA     DIABETES  EDAD  TRIGLICERIDOS   PESO   TALLA          FC  \\\n",
       "0  DESCONOCIDO  DESCONOCIDO  53.0          130.0  78.25  164.25   78.416667   \n",
       "1           si           si  54.0          130.0  88.00  165.00   56.000000   \n",
       "2           si           si  78.0           97.0  78.25  164.25   91.000000   \n",
       "3           si           si  87.0          133.0  52.50  164.25   59.000000   \n",
       "4           si           si  69.0          137.0  94.00  164.25  104.000000   \n",
       "\n",
       "      GLUCOSA  Hb A/C  %  COL. TOTAL  ...  Gamma glutamil  \\\n",
       "0  137.090000        5.9       268.0  ...       41.660000   \n",
       "1  136.732703        6.5       187.0  ...       39.527317   \n",
       "2  359.420000       13.8       159.0  ...      130.390000   \n",
       "3  186.200000        5.9       193.0  ...       33.950000   \n",
       "4  170.000000       16.7       184.0  ...       39.527317   \n",
       "\n",
       "   Transaminasa piruvica  Trans oxal  GLASGOW AL INICO ACV  NIHSS_INICO_ACV  \\\n",
       "0               20.39000       25.51                  11.0             14.0   \n",
       "1               27.22425       27.34                  15.0              6.0   \n",
       "2               49.57000       23.40                  15.0              5.0   \n",
       "3               15.59000       22.93                  15.0              1.0   \n",
       "4               27.22425       27.34                  15.0              3.0   \n",
       "\n",
       "   RANKIN INICIO ACV  NIHSS alta ACV  RANKIN alta ACV  NIHSS 6M  RANKIN 6M  \n",
       "0                5.0            42.0              6.0  0.000000   6.000000  \n",
       "1                5.0             0.0              2.0  0.000000   2.000000  \n",
       "2                3.0             2.0              1.0  2.052632   2.526316  \n",
       "3                4.0             0.0              2.0  0.000000   2.000000  \n",
       "4                4.0             2.0              1.0  0.000000   1.000000  \n",
       "\n",
       "[5 rows x 41 columns]"
      ]
     },
     "execution_count": 4,
     "metadata": {},
     "output_type": "execute_result"
    }
   ],
   "source": [
    "# Tomaremos las variables más significativas para la investigación\n",
    "columnasMuestra = ['HTA', 'DIABETES', 'EDAD','TRIGLICERIDOS', 'PESO', 'TALLA', 'FC', 'GLUCOSA', 'Hb A/C  %', 'COL. TOTAL', 'TRIGLICERIDOS', 'LDL', 'HDL', 'HCTO', 'HB', 'VCM', 'HCM', 'VHS', 'PLAQUETAS', 'INR', 'CONTEO G.B.', 'P.C.R', 'Nitrogeno Ureico', 'Uremia', 'Creatinina', 'TTPA', 'TP', 'NA', 'K', 'CL', 'Fosfatasa Alcalina', 'Gamma glutamil', 'Transaminasa piruvica', 'Trans oxal', 'GLASGOW AL INICO ACV', 'NIHSS_INICO_ACV', 'RANKIN INICIO ACV', 'NIHSS alta ACV', 'RANKIN alta ACV', 'NIHSS 6M', 'RANKIN 6M']\n",
    "dataset = dataframe[[*columnasMuestra]]\n",
    "\n",
    "# Para los datos fallecidos y NaN realizamos la impuntación y manejo de datos a través del promedio\n",
    "dataset['NIHSS 6M'] = dataset['NIHSS 6M'].replace( ['fallecido'], 0)\n",
    "dataset['RANKIN 6M'] = dataset['RANKIN 6M'].replace( ['no'], 0)\n",
    "\n",
    "valores_por_defecto = {'HTA': \"DESCONOCIDO\",\n",
    "                       'DIABETES' : \"DESCONOCIDO\",\n",
    "                       'EDAD':dataset[\"EDAD\"].mean(),\n",
    "                       'TRIGLICERIDOS':dataset[\"TRIGLICERIDOS\"].mean(), \n",
    "                       'PESO':dataset[\"PESO\"].mean(),\n",
    "                       'TALLA':dataset[\"TALLA\"].mean(),\n",
    "                       'FC':dataset[\"FC\"].mean(),\n",
    "                       'GLUCOSA':dataset[\"GLUCOSA\"].mean(),\n",
    "                       'Hb A/C  %':dataset[\"Hb A/C  %\"].mean(), \n",
    "                       'COL. TOTAL':dataset[\"COL. TOTAL\"].mean(), \n",
    "                       'TRIGLICERIDOS':dataset[\"TRIGLICERIDOS\"].mean(),\n",
    "                       'LDL':dataset[\"LDL\"].mean(), \n",
    "                       'HDL':dataset[\"HDL\"].mean(),\n",
    "                       'HCTO':dataset[\"HCTO\"].mean(), \n",
    "                       'HB':dataset[\"HB\"].mean(),\n",
    "                       'VCM':dataset[\"VCM\"].mean(),\n",
    "                       'HCM':dataset[\"HCM\"].mean(), \n",
    "                       'VHS':dataset[\"VHS\"].mean(),\n",
    "                       'PLAQUETAS':dataset[\"PLAQUETAS\"].mean(),\n",
    "                       'INR':dataset[\"INR\"].mean(),\n",
    "                       'CONTEO G.B.':dataset[\"CONTEO G.B.\"].mean(),\n",
    "                       'P.C.R':dataset[\"P.C.R\"].mean(),\n",
    "                       'Nitrogeno Ureico':dataset[\"Nitrogeno Ureico\"].mean(),\n",
    "                       'Uremia':dataset[\"Uremia\"].mean(),\n",
    "                       'Creatinina':dataset[\"Creatinina\"].mean(), \n",
    "                       'TTPA':dataset[\"TTPA\"].mean(),\n",
    "                       'TP':dataset[\"TP\"].mean(), \n",
    "                       'NA':dataset[\"NA\"].mean(), \n",
    "                       'K':dataset[\"K\"].mean(),\n",
    "                       'CL':dataset[\"CL\"].mean(),\n",
    "                       'Fosfatasa Alcalina':dataset[\"Fosfatasa Alcalina\"].mean(),\n",
    "                       'Gamma glutamil':dataset[\"Gamma glutamil\"].mean(), \n",
    "                       'Transaminasa piruvica':dataset[\"Transaminasa piruvica\"].mean(),\n",
    "                       'Trans oxal':dataset[\"Trans oxal\"].mean(), \n",
    "                       'GLASGOW AL INICO ACV':dataset[\"GLASGOW AL INICO ACV\"].mean(),\n",
    "                       'NIHSS_INICO_ACV':dataset[\"NIHSS_INICO_ACV\"].mean().round(), \n",
    "                       'RANKIN INICIO ACV':dataset[\"RANKIN INICIO ACV\"].mean(), \n",
    "                       'NIHSS alta ACV':dataset[\"NIHSS alta ACV\"].mean(), \n",
    "                       'RANKIN alta ACV':dataset[\"RANKIN alta ACV\"].mean(), \n",
    "                       'NIHSS 6M':dataset[\"NIHSS 6M\"].mean(), \n",
    "                       'RANKIN 6M':dataset[\"RANKIN 6M\"].mean()\n",
    "                      }\n",
    "\n",
    "dataset = dataset.fillna(value=valores_por_defecto)\n",
    "dataset.head(5)"
   ]
  },
  {
   "cell_type": "code",
   "execution_count": 5,
   "id": "245d8913",
   "metadata": {},
   "outputs": [
    {
     "data": {
      "text/html": [
       "<div>\n",
       "<style scoped>\n",
       "    .dataframe tbody tr th:only-of-type {\n",
       "        vertical-align: middle;\n",
       "    }\n",
       "\n",
       "    .dataframe tbody tr th {\n",
       "        vertical-align: top;\n",
       "    }\n",
       "\n",
       "    .dataframe thead th {\n",
       "        text-align: right;\n",
       "    }\n",
       "</style>\n",
       "<table border=\"1\" class=\"dataframe\">\n",
       "  <thead>\n",
       "    <tr style=\"text-align: right;\">\n",
       "      <th></th>\n",
       "      <th>EDAD</th>\n",
       "      <th>TRIGLICERIDOS</th>\n",
       "      <th>PESO</th>\n",
       "      <th>TALLA</th>\n",
       "      <th>FC</th>\n",
       "      <th>GLUCOSA</th>\n",
       "      <th>Hb A/C  %</th>\n",
       "      <th>COL. TOTAL</th>\n",
       "      <th>TRIGLICERIDOS</th>\n",
       "      <th>LDL</th>\n",
       "      <th>...</th>\n",
       "      <th>Gamma glutamil</th>\n",
       "      <th>Transaminasa piruvica</th>\n",
       "      <th>Trans oxal</th>\n",
       "      <th>GLASGOW AL INICO ACV</th>\n",
       "      <th>NIHSS_INICO_ACV</th>\n",
       "      <th>RANKIN INICIO ACV</th>\n",
       "      <th>NIHSS alta ACV</th>\n",
       "      <th>RANKIN alta ACV</th>\n",
       "      <th>NIHSS 6M</th>\n",
       "      <th>RANKIN 6M</th>\n",
       "    </tr>\n",
       "  </thead>\n",
       "  <tbody>\n",
       "    <tr>\n",
       "      <th>count</th>\n",
       "      <td>44.00</td>\n",
       "      <td>44.00</td>\n",
       "      <td>44.00</td>\n",
       "      <td>44.00</td>\n",
       "      <td>44.00</td>\n",
       "      <td>44.00</td>\n",
       "      <td>44.00</td>\n",
       "      <td>44.00</td>\n",
       "      <td>44.00</td>\n",
       "      <td>44.00</td>\n",
       "      <td>...</td>\n",
       "      <td>44.00</td>\n",
       "      <td>44.00</td>\n",
       "      <td>44.00</td>\n",
       "      <td>44.00</td>\n",
       "      <td>44.00</td>\n",
       "      <td>44.00</td>\n",
       "      <td>44.00</td>\n",
       "      <td>44.00</td>\n",
       "      <td>44.00</td>\n",
       "      <td>44.00</td>\n",
       "    </tr>\n",
       "    <tr>\n",
       "      <th>mean</th>\n",
       "      <td>71.69</td>\n",
       "      <td>122.97</td>\n",
       "      <td>78.25</td>\n",
       "      <td>164.25</td>\n",
       "      <td>78.42</td>\n",
       "      <td>136.73</td>\n",
       "      <td>8.98</td>\n",
       "      <td>162.46</td>\n",
       "      <td>122.97</td>\n",
       "      <td>95.46</td>\n",
       "      <td>...</td>\n",
       "      <td>39.53</td>\n",
       "      <td>27.22</td>\n",
       "      <td>27.34</td>\n",
       "      <td>13.97</td>\n",
       "      <td>5.66</td>\n",
       "      <td>3.64</td>\n",
       "      <td>5.69</td>\n",
       "      <td>2.37</td>\n",
       "      <td>2.05</td>\n",
       "      <td>2.53</td>\n",
       "    </tr>\n",
       "    <tr>\n",
       "      <th>std</th>\n",
       "      <td>12.00</td>\n",
       "      <td>44.34</td>\n",
       "      <td>9.13</td>\n",
       "      <td>1.30</td>\n",
       "      <td>16.32</td>\n",
       "      <td>50.51</td>\n",
       "      <td>3.37</td>\n",
       "      <td>49.86</td>\n",
       "      <td>44.34</td>\n",
       "      <td>45.11</td>\n",
       "      <td>...</td>\n",
       "      <td>23.75</td>\n",
       "      <td>18.70</td>\n",
       "      <td>16.64</td>\n",
       "      <td>1.45</td>\n",
       "      <td>4.31</td>\n",
       "      <td>1.38</td>\n",
       "      <td>9.75</td>\n",
       "      <td>1.78</td>\n",
       "      <td>4.38</td>\n",
       "      <td>2.05</td>\n",
       "    </tr>\n",
       "    <tr>\n",
       "      <th>min</th>\n",
       "      <td>38.00</td>\n",
       "      <td>57.00</td>\n",
       "      <td>52.50</td>\n",
       "      <td>158.00</td>\n",
       "      <td>40.00</td>\n",
       "      <td>82.61</td>\n",
       "      <td>4.80</td>\n",
       "      <td>85.00</td>\n",
       "      <td>57.00</td>\n",
       "      <td>18.00</td>\n",
       "      <td>...</td>\n",
       "      <td>11.61</td>\n",
       "      <td>10.27</td>\n",
       "      <td>10.52</td>\n",
       "      <td>8.00</td>\n",
       "      <td>0.00</td>\n",
       "      <td>0.00</td>\n",
       "      <td>0.00</td>\n",
       "      <td>0.00</td>\n",
       "      <td>0.00</td>\n",
       "      <td>0.00</td>\n",
       "    </tr>\n",
       "    <tr>\n",
       "      <th>25%</th>\n",
       "      <td>64.25</td>\n",
       "      <td>91.50</td>\n",
       "      <td>78.25</td>\n",
       "      <td>164.25</td>\n",
       "      <td>67.75</td>\n",
       "      <td>101.17</td>\n",
       "      <td>5.90</td>\n",
       "      <td>120.50</td>\n",
       "      <td>91.50</td>\n",
       "      <td>63.50</td>\n",
       "      <td>...</td>\n",
       "      <td>24.94</td>\n",
       "      <td>15.90</td>\n",
       "      <td>19.32</td>\n",
       "      <td>13.97</td>\n",
       "      <td>3.00</td>\n",
       "      <td>3.00</td>\n",
       "      <td>0.00</td>\n",
       "      <td>1.00</td>\n",
       "      <td>0.00</td>\n",
       "      <td>1.00</td>\n",
       "    </tr>\n",
       "    <tr>\n",
       "      <th>50%</th>\n",
       "      <td>71.85</td>\n",
       "      <td>122.97</td>\n",
       "      <td>78.25</td>\n",
       "      <td>164.25</td>\n",
       "      <td>78.42</td>\n",
       "      <td>130.59</td>\n",
       "      <td>8.98</td>\n",
       "      <td>162.46</td>\n",
       "      <td>122.97</td>\n",
       "      <td>95.46</td>\n",
       "      <td>...</td>\n",
       "      <td>33.11</td>\n",
       "      <td>21.88</td>\n",
       "      <td>23.60</td>\n",
       "      <td>13.98</td>\n",
       "      <td>5.00</td>\n",
       "      <td>4.00</td>\n",
       "      <td>2.00</td>\n",
       "      <td>2.00</td>\n",
       "      <td>0.00</td>\n",
       "      <td>2.00</td>\n",
       "    </tr>\n",
       "    <tr>\n",
       "      <th>75%</th>\n",
       "      <td>80.50</td>\n",
       "      <td>137.00</td>\n",
       "      <td>78.25</td>\n",
       "      <td>164.25</td>\n",
       "      <td>90.00</td>\n",
       "      <td>161.17</td>\n",
       "      <td>11.00</td>\n",
       "      <td>184.75</td>\n",
       "      <td>137.00</td>\n",
       "      <td>114.25</td>\n",
       "      <td>...</td>\n",
       "      <td>42.33</td>\n",
       "      <td>29.39</td>\n",
       "      <td>27.45</td>\n",
       "      <td>15.00</td>\n",
       "      <td>6.00</td>\n",
       "      <td>5.00</td>\n",
       "      <td>5.69</td>\n",
       "      <td>4.00</td>\n",
       "      <td>2.05</td>\n",
       "      <td>4.00</td>\n",
       "    </tr>\n",
       "    <tr>\n",
       "      <th>max</th>\n",
       "      <td>90.00</td>\n",
       "      <td>232.00</td>\n",
       "      <td>110.00</td>\n",
       "      <td>170.00</td>\n",
       "      <td>126.00</td>\n",
       "      <td>359.42</td>\n",
       "      <td>16.70</td>\n",
       "      <td>342.00</td>\n",
       "      <td>232.00</td>\n",
       "      <td>254.00</td>\n",
       "      <td>...</td>\n",
       "      <td>130.39</td>\n",
       "      <td>105.36</td>\n",
       "      <td>104.42</td>\n",
       "      <td>15.00</td>\n",
       "      <td>21.00</td>\n",
       "      <td>5.00</td>\n",
       "      <td>42.00</td>\n",
       "      <td>6.00</td>\n",
       "      <td>25.00</td>\n",
       "      <td>6.00</td>\n",
       "    </tr>\n",
       "  </tbody>\n",
       "</table>\n",
       "<p>8 rows × 39 columns</p>\n",
       "</div>"
      ],
      "text/plain": [
       "        EDAD  TRIGLICERIDOS    PESO   TALLA      FC  GLUCOSA  Hb A/C  %  \\\n",
       "count  44.00          44.00   44.00   44.00   44.00    44.00      44.00   \n",
       "mean   71.69         122.97   78.25  164.25   78.42   136.73       8.98   \n",
       "std    12.00          44.34    9.13    1.30   16.32    50.51       3.37   \n",
       "min    38.00          57.00   52.50  158.00   40.00    82.61       4.80   \n",
       "25%    64.25          91.50   78.25  164.25   67.75   101.17       5.90   \n",
       "50%    71.85         122.97   78.25  164.25   78.42   130.59       8.98   \n",
       "75%    80.50         137.00   78.25  164.25   90.00   161.17      11.00   \n",
       "max    90.00         232.00  110.00  170.00  126.00   359.42      16.70   \n",
       "\n",
       "       COL. TOTAL  TRIGLICERIDOS     LDL  ...  Gamma glutamil  \\\n",
       "count       44.00          44.00   44.00  ...           44.00   \n",
       "mean       162.46         122.97   95.46  ...           39.53   \n",
       "std         49.86          44.34   45.11  ...           23.75   \n",
       "min         85.00          57.00   18.00  ...           11.61   \n",
       "25%        120.50          91.50   63.50  ...           24.94   \n",
       "50%        162.46         122.97   95.46  ...           33.11   \n",
       "75%        184.75         137.00  114.25  ...           42.33   \n",
       "max        342.00         232.00  254.00  ...          130.39   \n",
       "\n",
       "       Transaminasa piruvica  Trans oxal  GLASGOW AL INICO ACV  \\\n",
       "count                  44.00       44.00                 44.00   \n",
       "mean                   27.22       27.34                 13.97   \n",
       "std                    18.70       16.64                  1.45   \n",
       "min                    10.27       10.52                  8.00   \n",
       "25%                    15.90       19.32                 13.97   \n",
       "50%                    21.88       23.60                 13.98   \n",
       "75%                    29.39       27.45                 15.00   \n",
       "max                   105.36      104.42                 15.00   \n",
       "\n",
       "       NIHSS_INICO_ACV  RANKIN INICIO ACV  NIHSS alta ACV  RANKIN alta ACV  \\\n",
       "count            44.00              44.00           44.00            44.00   \n",
       "mean              5.66               3.64            5.69             2.37   \n",
       "std               4.31               1.38            9.75             1.78   \n",
       "min               0.00               0.00            0.00             0.00   \n",
       "25%               3.00               3.00            0.00             1.00   \n",
       "50%               5.00               4.00            2.00             2.00   \n",
       "75%               6.00               5.00            5.69             4.00   \n",
       "max              21.00               5.00           42.00             6.00   \n",
       "\n",
       "       NIHSS 6M  RANKIN 6M  \n",
       "count     44.00      44.00  \n",
       "mean       2.05       2.53  \n",
       "std        4.38       2.05  \n",
       "min        0.00       0.00  \n",
       "25%        0.00       1.00  \n",
       "50%        0.00       2.00  \n",
       "75%        2.05       4.00  \n",
       "max       25.00       6.00  \n",
       "\n",
       "[8 rows x 39 columns]"
      ]
     },
     "execution_count": 5,
     "metadata": {},
     "output_type": "execute_result"
    }
   ],
   "source": [
    "round(dataset.describe(), 2)"
   ]
  },
  {
   "cell_type": "markdown",
   "id": "62341b43",
   "metadata": {},
   "source": [
    "### Número de clase"
   ]
  },
  {
   "cell_type": "code",
   "execution_count": 6,
   "id": "092d2975",
   "metadata": {},
   "outputs": [
    {
     "name": "stdout",
     "output_type": "stream",
     "text": [
      "NIHSS_INICO_ACV\n",
      "0.0     1\n",
      "1.0     3\n",
      "2.0     6\n",
      "3.0     3\n",
      "4.0     7\n",
      "5.0     4\n",
      "6.0     4\n",
      "7.0     4\n",
      "10.0    1\n",
      "13.0    1\n",
      "14.0    1\n",
      "15.0    1\n",
      "16.0    1\n",
      "21.0    1\n",
      "dtype: int64\n"
     ]
    }
   ],
   "source": [
    "print(dataframe.groupby('NIHSS_INICO_ACV').size())"
   ]
  },
  {
   "cell_type": "code",
   "execution_count": 17,
   "id": "0787e09d",
   "metadata": {},
   "outputs": [
    {
     "data": {
      "image/png": "[encoded data removed]",
      "text/plain": [
       "<Figure size 600x384 with 1 Axes>"
      ]
     },
     "metadata": {},
     "output_type": "display_data"
    }
   ],
   "source": [
    "# Gráficos\n",
    "# ==============================================================================\n",
    "import matplotlib.pyplot as plt\n",
    "from matplotlib import style\n",
    "import seaborn as sns\n",
    "\n",
    "fig, ax = plt.subplots(figsize=(6, 3.84))\n",
    "\n",
    "sns.violinplot(\n",
    "        x     = 'HTA',\n",
    "        y     = 'NIHSS_INICO_ACV',\n",
    "        data  = dataset,\n",
    "        #color = \"white\",\n",
    "        ax    = ax\n",
    "    )\n",
    "\n",
    "ax.set_title('Distribución Hipertensión por NIHSS escala de llegada');"
   ]
  },
  {
   "cell_type": "code",
   "execution_count": 27,
   "id": "04b0179a",
   "metadata": {},
   "outputs": [
    {
     "name": "stderr",
     "output_type": "stream",
     "text": [
      "C:\\Users\\Abraham\\AppData\\Local\\Temp\\ipykernel_1909660\\3489633589.py:8: FutureWarning: In a future version of pandas all arguments of DataFrame.drop except for the argument 'labels' will be keyword-only.\n",
      "  dataframeMuestra.drop(['NIHSS_INICO_ACV'],1).hist()\n"
     ]
    },
    {
     "data": {
      "text/plain": [
       "<Figure size 100x100 with 0 Axes>"
      ]
     },
     "metadata": {},
     "output_type": "display_data"
    },
    {
     "data": {
      "image/png": "[encoded data removed]",
      "text/plain": [
       "<Figure size 640x480 with 4 Axes>"
      ]
     },
     "metadata": {},
     "output_type": "display_data"
    }
   ],
   "source": [
    "# Muestra\n",
    "columnasMuestra = ['HTA', 'DIABETES', 'EDAD','TRIGLICERIDOS', 'PESO', 'NIHSS_INICO_ACV']\n",
    "dataframeMuestra = dataframe[[*columnasMuestra]]\n",
    "\n",
    "\n",
    "\n",
    "plt.figure(figsize=(10,10), dpi=10)\n",
    "dataframeMuestra.drop(['NIHSS_INICO_ACV'],1).hist()\n",
    "plt.show()\n",
    "\n",
    "# Funciona para pocas columnas, pero es util para ver como estan respecto a la columna tomada."
   ]
  },
  {
   "cell_type": "markdown",
   "id": "5391ba47",
   "metadata": {},
   "source": [
    "# 4-. Preparar los datos para el modelo de aprendizaje automático\n",
    "## Preparación de datos\n",
    "\n",
    "Los pasos exactos para la preparación de los datos dependerán del modelo utilizado y de los datos recopilados, pero se requerirá cierta cantidad de manipulación de datos para cualquier aplicación de aprendizaje automático.\n",
    "\n",
    "##### Codificación One-Hot\n",
    "\n",
    "El primer paso para nosotros se conoce como codificación one-hotde los datos Este proceso toma variables categóricas, como Diabetes, y las convierte en una representación numérica sin un orden arbitrario"
   ]
  },
  {
   "cell_type": "code",
   "execution_count": 29,
   "id": "c351bdd8",
   "metadata": {},
   "outputs": [],
   "source": [
    "# One Hot Encoding\n",
    "dataset = pd.get_dummies(dataset)\n",
    "\n",
    "dataset.head(5)\n",
    "\n",
    "# Lista de características para uso posterior\n",
    "features = dataset.drop('NIHSS_INICO_ACV', axis = 1)\n",
    "feature_list = list(features.columns)"
   ]
  },
  {
   "cell_type": "markdown",
   "id": "8b855ed5",
   "metadata": {},
   "source": [
    "# 5-. Entrenar el modelo en los datos de entrenamiento"
   ]
  },
  {
   "cell_type": "code",
   "execution_count": 96,
   "id": "7155e8e6",
   "metadata": {},
   "outputs": [],
   "source": [
    "from sklearn.model_selection import train_test_split\n",
    "\n",
    "# X son nuestras variables independientes\n",
    "X = dataset.drop('NIHSS_INICO_ACV', axis = 1)\n",
    "\n",
    "# y es nuestra variable dependiente\n",
    "y = dataset['NIHSS_INICO_ACV']\n",
    "\n",
    "# Uso de Skicit-learn para dividir datos en conjuntos de entrenamiento y prueba \n",
    "# División 75% de datos para entrenamiento, 25% de datos para test\n",
    "X_train, X_test, y_train, y_test = train_test_split(X, y, test_size=0.8, random_state=0)"
   ]
  },
  {
   "cell_type": "markdown",
   "id": "05e37336",
   "metadata": {},
   "source": [
    "### Creamos el modelo y entrenamos"
   ]
  },
  {
   "cell_type": "code",
   "execution_count": 102,
   "id": "0d87814b",
   "metadata": {},
   "outputs": [
    {
     "data": {
      "text/html": [
       "<style>#sk-container-id-17 {color: black;background-color: white;}#sk-container-id-17 pre{padding: 0;}#sk-container-id-17 div.sk-toggleable {background-color: white;}#sk-container-id-17 label.sk-toggleable__label {cursor: pointer;display: block;width: 100%;margin-bottom: 0;padding: 0.3em;box-sizing: border-box;text-align: center;}#sk-container-id-17 label.sk-toggleable__label-arrow:before {content: \"▸\";float: left;margin-right: 0.25em;color: #696969;}#sk-container-id-17 label.sk-toggleable__label-arrow:hover:before {color: black;}#sk-container-id-17 div.sk-estimator:hover label.sk-toggleable__label-arrow:before {color: black;}#sk-container-id-17 div.sk-toggleable__content {max-height: 0;max-width: 0;overflow: hidden;text-align: left;background-color: #f0f8ff;}#sk-container-id-17 div.sk-toggleable__content pre {margin: 0.2em;color: black;border-radius: 0.25em;background-color: #f0f8ff;}#sk-container-id-17 input.sk-toggleable__control:checked~div.sk-toggleable__content {max-height: 200px;max-width: 100%;overflow: auto;}#sk-container-id-17 input.sk-toggleable__control:checked~label.sk-toggleable__label-arrow:before {content: \"▾\";}#sk-container-id-17 div.sk-estimator input.sk-toggleable__control:checked~label.sk-toggleable__label {background-color: #d4ebff;}#sk-container-id-17 div.sk-label input.sk-toggleable__control:checked~label.sk-toggleable__label {background-color: #d4ebff;}#sk-container-id-17 input.sk-hidden--visually {border: 0;clip: rect(1px 1px 1px 1px);clip: rect(1px, 1px, 1px, 1px);height: 1px;margin: -1px;overflow: hidden;padding: 0;position: absolute;width: 1px;}#sk-container-id-17 div.sk-estimator {font-family: monospace;background-color: #f0f8ff;border: 1px dotted black;border-radius: 0.25em;box-sizing: border-box;margin-bottom: 0.5em;}#sk-container-id-17 div.sk-estimator:hover {background-color: #d4ebff;}#sk-container-id-17 div.sk-parallel-item::after {content: \"\";width: 100%;border-bottom: 1px solid gray;flex-grow: 1;}#sk-container-id-17 div.sk-label:hover label.sk-toggleable__label {background-color: #d4ebff;}#sk-container-id-17 div.sk-serial::before {content: \"\";position: absolute;border-left: 1px solid gray;box-sizing: border-box;top: 0;bottom: 0;left: 50%;z-index: 0;}#sk-container-id-17 div.sk-serial {display: flex;flex-direction: column;align-items: center;background-color: white;padding-right: 0.2em;padding-left: 0.2em;position: relative;}#sk-container-id-17 div.sk-item {position: relative;z-index: 1;}#sk-container-id-17 div.sk-parallel {display: flex;align-items: stretch;justify-content: center;background-color: white;position: relative;}#sk-container-id-17 div.sk-item::before, #sk-container-id-17 div.sk-parallel-item::before {content: \"\";position: absolute;border-left: 1px solid gray;box-sizing: border-box;top: 0;bottom: 0;left: 50%;z-index: -1;}#sk-container-id-17 div.sk-parallel-item {display: flex;flex-direction: column;z-index: 1;position: relative;background-color: white;}#sk-container-id-17 div.sk-parallel-item:first-child::after {align-self: flex-end;width: 50%;}#sk-container-id-17 div.sk-parallel-item:last-child::after {align-self: flex-start;width: 50%;}#sk-container-id-17 div.sk-parallel-item:only-child::after {width: 0;}#sk-container-id-17 div.sk-dashed-wrapped {border: 1px dashed gray;margin: 0 0.4em 0.5em 0.4em;box-sizing: border-box;padding-bottom: 0.4em;background-color: white;}#sk-container-id-17 div.sk-label label {font-family: monospace;font-weight: bold;display: inline-block;line-height: 1.2em;}#sk-container-id-17 div.sk-label-container {text-align: center;}#sk-container-id-17 div.sk-container {/* jupyter's `normalize.less` sets `[hidden] { display: none; }` but bootstrap.min.css set `[hidden] { display: none !important; }` so we also need the `!important` here to be able to override the default hidden behavior on the sphinx rendered scikit-learn.org. See: https://github.com/scikit-learn/scikit-learn/issues/21755 */display: inline-block !important;position: relative;}#sk-container-id-17 div.sk-text-repr-fallback {display: none;}</style><div id=\"sk-container-id-17\" class=\"sk-top-container\"><div class=\"sk-text-repr-fallback\"><pre>LogisticRegression(max_iter=10000)</pre><b>In a Jupyter environment, please rerun this cell to show the HTML representation or trust the notebook. <br />On GitHub, the HTML representation is unable to render, please try loading this page with nbviewer.org.</b></div><div class=\"sk-container\" hidden><div class=\"sk-item\"><div class=\"sk-estimator sk-toggleable\"><input class=\"sk-toggleable__control sk-hidden--visually\" id=\"sk-estimator-id-17\" type=\"checkbox\" checked><label for=\"sk-estimator-id-17\" class=\"sk-toggleable__label sk-toggleable__label-arrow\">LogisticRegression</label><div class=\"sk-toggleable__content\"><pre>LogisticRegression(max_iter=10000)</pre></div></div></div></div></div>"
      ],
      "text/plain": [
       "LogisticRegression(max_iter=10000)"
      ]
     },
     "execution_count": 102,
     "metadata": {},
     "output_type": "execute_result"
    }
   ],
   "source": [
    "from sklearn import linear_model\n",
    "from sklearn.model_selection import train_test_split #separa las metricas\n",
    "from sklearn import metrics\n",
    "\n",
    "# Creamos el modelo de Arbol de Decisión (y configuramos el número máximo de nodos-hoja)\n",
    "lr = linear_model.LogisticRegression(solver='lbfgs', max_iter=10000)\n",
    "lr.fit(X_train, y_train)"
   ]
  },
  {
   "cell_type": "markdown",
   "id": "0e73a751",
   "metadata": {},
   "source": [
    "# 6-. Predicciones sobre los datos de prueba\n",
    "Se evalúa la capacidad predictiva del árbol inicial calculando el accuracy en el conjunto de test."
   ]
  },
  {
   "cell_type": "code",
   "execution_count": 111,
   "id": "1529eea9",
   "metadata": {},
   "outputs": [],
   "source": [
    "# Predicción Entrenamiento \n",
    "prediccionEntreno = lr.predict(X_train)\n",
    "\n",
    "# Predicción Tests\n",
    "prediccionTests = lr.predict(X_test)"
   ]
  },
  {
   "cell_type": "markdown",
   "id": "5099d768",
   "metadata": {},
   "source": [
    "### Generamos métricas para evaluar el modelo"
   ]
  },
  {
   "cell_type": "markdown",
   "id": "c6b22a65",
   "metadata": {},
   "source": [
    "## Fase de Entrenamiento"
   ]
  },
  {
   "cell_type": "code",
   "execution_count": 112,
   "id": "b55733f2",
   "metadata": {},
   "outputs": [
    {
     "name": "stdout",
     "output_type": "stream",
     "text": [
      "Entrenamiento - Accuracy : 1.0\n"
     ]
    }
   ],
   "source": [
    "from sklearn import metrics\n",
    "\n",
    "print(\"Entrenamiento - Accuracy :\", metrics.accuracy_score(y_train, prediccionEntreno))"
   ]
  },
  {
   "cell_type": "markdown",
   "id": "abf077ff",
   "metadata": {},
   "source": [
    "### Matriz de Confusión\n",
    "\n",
    "En el campo de la inteligencia artificial y en especial en el problema de la clasificación estadística, una matriz de confusión es una herramienta que permite la visualización del desempeño de un algoritmo que se emplea en aprendizaje supervisado."
   ]
  },
  {
   "cell_type": "code",
   "execution_count": 114,
   "id": "4e8ec965",
   "metadata": {},
   "outputs": [
    {
     "data": {
      "image/png": "[encoded data removed]",
      "text/plain": [
       "<Figure size 600x600 with 1 Axes>"
      ]
     },
     "metadata": {},
     "output_type": "display_data"
    }
   ],
   "source": [
    "from matplotlib import pyplot as plot\n",
    "from mlxtend.plotting import plot_confusion_matrix\n",
    "from sklearn.metrics import confusion_matrix\n",
    "\n",
    "matriz = confusion_matrix(y_train, prediccionEntreno)\n",
    "\n",
    "plot_confusion_matrix(conf_mat=matriz, figsize=(6,6), show_normed=False)\n",
    "plot.tight_layout()"
   ]
  },
  {
   "cell_type": "code",
   "execution_count": 115,
   "id": "37f86eed",
   "metadata": {},
   "outputs": [
    {
     "name": "stdout",
     "output_type": "stream",
     "text": [
      "Entrenamiento - Reporte de clasificación:\n",
      "               precision    recall  f1-score   support\n",
      "\n",
      "         1.0       1.00      1.00      1.00         3\n",
      "         2.0       1.00      1.00      1.00         2\n",
      "         6.0       1.00      1.00      1.00         1\n",
      "         7.0       1.00      1.00      1.00         1\n",
      "        14.0       1.00      1.00      1.00         1\n",
      "\n",
      "    accuracy                           1.00         8\n",
      "   macro avg       1.00      1.00      1.00         8\n",
      "weighted avg       1.00      1.00      1.00         8\n",
      "\n"
     ]
    }
   ],
   "source": [
    "print(\"Entrenamiento - Reporte de clasificación:\\n\", metrics.classification_report(y_train, prediccionEntreno))"
   ]
  },
  {
   "cell_type": "markdown",
   "id": "2841b768",
   "metadata": {},
   "source": [
    "# 7-. Comparar las predicciones con los objetivos conocidos del conjunto de pruebas y calcule las métricas de rendimiento\n",
    "\n",
    "Una vez entrenado el modelo, se pueden predecir nuevas observaciones."
   ]
  },
  {
   "cell_type": "markdown",
   "id": "4355878a",
   "metadata": {},
   "source": [
    "## Fase de validación  (Usando datos de Test)"
   ]
  },
  {
   "cell_type": "code",
   "execution_count": 116,
   "id": "9623af3e",
   "metadata": {},
   "outputs": [
    {
     "name": "stdout",
     "output_type": "stream",
     "text": [
      "Promedio - Accuracy : 0.08333333333333333\n"
     ]
    }
   ],
   "source": [
    "print(\"Promedio - Accuracy :\", metrics.accuracy_score(y_test, prediccionTests))"
   ]
  },
  {
   "cell_type": "markdown",
   "id": "88754c86",
   "metadata": {},
   "source": [
    "### Matriz de Confusión"
   ]
  },
  {
   "cell_type": "code",
   "execution_count": 117,
   "id": "96386f18",
   "metadata": {},
   "outputs": [
    {
     "name": "stderr",
     "output_type": "stream",
     "text": [
      "C:\\Users\\Abraham\\AppData\\Local\\Programs\\Python\\Python310\\lib\\site-packages\\mlxtend\\plotting\\plot_confusion_matrix.py:102: RuntimeWarning: invalid value encountered in divide\n",
      "  normed_conf_mat = conf_mat.astype(\"float\") / total_samples\n"
     ]
    },
    {
     "data": {
      "image/png": "[encoded data removed]",
      "text/plain": [
       "<Figure size 600x600 with 1 Axes>"
      ]
     },
     "metadata": {},
     "output_type": "display_data"
    }
   ],
   "source": [
    "matriz = confusion_matrix(y_test, prediccionTests)\n",
    "\n",
    "plot_confusion_matrix(conf_mat=matriz, figsize=(6,6), show_normed=False)\n",
    "plt.tight_layout()"
   ]
  },
  {
   "cell_type": "code",
   "execution_count": 118,
   "id": "cf7984f9",
   "metadata": {},
   "outputs": [
    {
     "name": "stdout",
     "output_type": "stream",
     "text": [
      "Entrenamiento - Reporte de clasificación:\n",
      "               precision    recall  f1-score   support\n",
      "\n",
      "         0.0       0.00      0.00      0.00         1\n",
      "         1.0       0.00      0.00      0.00         0\n",
      "         2.0       0.08      0.25      0.12         4\n",
      "         3.0       0.00      0.00      0.00         3\n",
      "         4.0       0.00      0.00      0.00         7\n",
      "         5.0       0.00      0.00      0.00         4\n",
      "         6.0       0.33      0.22      0.27         9\n",
      "         7.0       0.00      0.00      0.00         3\n",
      "        10.0       0.00      0.00      0.00         1\n",
      "        13.0       0.00      0.00      0.00         1\n",
      "        14.0       0.00      0.00      0.00         0\n",
      "        15.0       0.00      0.00      0.00         1\n",
      "        16.0       0.00      0.00      0.00         1\n",
      "        21.0       0.00      0.00      0.00         1\n",
      "\n",
      "    accuracy                           0.08        36\n",
      "   macro avg       0.03      0.03      0.03        36\n",
      "weighted avg       0.09      0.08      0.08        36\n",
      "\n"
     ]
    },
    {
     "name": "stderr",
     "output_type": "stream",
     "text": [
      "C:\\Users\\Abraham\\AppData\\Local\\Programs\\Python\\Python310\\lib\\site-packages\\sklearn\\metrics\\_classification.py:1334: UndefinedMetricWarning: Precision and F-score are ill-defined and being set to 0.0 in labels with no predicted samples. Use `zero_division` parameter to control this behavior.\n",
      "  _warn_prf(average, modifier, msg_start, len(result))\n",
      "C:\\Users\\Abraham\\AppData\\Local\\Programs\\Python\\Python310\\lib\\site-packages\\sklearn\\metrics\\_classification.py:1334: UndefinedMetricWarning: Recall and F-score are ill-defined and being set to 0.0 in labels with no true samples. Use `zero_division` parameter to control this behavior.\n",
      "  _warn_prf(average, modifier, msg_start, len(result))\n",
      "C:\\Users\\Abraham\\AppData\\Local\\Programs\\Python\\Python310\\lib\\site-packages\\sklearn\\metrics\\_classification.py:1334: UndefinedMetricWarning: Precision and F-score are ill-defined and being set to 0.0 in labels with no predicted samples. Use `zero_division` parameter to control this behavior.\n",
      "  _warn_prf(average, modifier, msg_start, len(result))\n",
      "C:\\Users\\Abraham\\AppData\\Local\\Programs\\Python\\Python310\\lib\\site-packages\\sklearn\\metrics\\_classification.py:1334: UndefinedMetricWarning: Recall and F-score are ill-defined and being set to 0.0 in labels with no true samples. Use `zero_division` parameter to control this behavior.\n",
      "  _warn_prf(average, modifier, msg_start, len(result))\n",
      "C:\\Users\\Abraham\\AppData\\Local\\Programs\\Python\\Python310\\lib\\site-packages\\sklearn\\metrics\\_classification.py:1334: UndefinedMetricWarning: Precision and F-score are ill-defined and being set to 0.0 in labels with no predicted samples. Use `zero_division` parameter to control this behavior.\n",
      "  _warn_prf(average, modifier, msg_start, len(result))\n",
      "C:\\Users\\Abraham\\AppData\\Local\\Programs\\Python\\Python310\\lib\\site-packages\\sklearn\\metrics\\_classification.py:1334: UndefinedMetricWarning: Recall and F-score are ill-defined and being set to 0.0 in labels with no true samples. Use `zero_division` parameter to control this behavior.\n",
      "  _warn_prf(average, modifier, msg_start, len(result))\n"
     ]
    }
   ],
   "source": [
    "print(\"Entrenamiento - Reporte de clasificación:\\n\", metrics.classification_report(y_test, prediccionTests))"
   ]
  },
  {
   "cell_type": "code",
   "execution_count": 121,
   "id": "81ffe28c",
   "metadata": {},
   "outputs": [
    {
     "data": {
      "text/html": [
       "<div>\n",
       "<style scoped>\n",
       "    .dataframe tbody tr th:only-of-type {\n",
       "        vertical-align: middle;\n",
       "    }\n",
       "\n",
       "    .dataframe tbody tr th {\n",
       "        vertical-align: top;\n",
       "    }\n",
       "\n",
       "    .dataframe thead th {\n",
       "        text-align: right;\n",
       "    }\n",
       "</style>\n",
       "<table border=\"1\" class=\"dataframe\">\n",
       "  <thead>\n",
       "    <tr style=\"text-align: right;\">\n",
       "      <th></th>\n",
       "      <th>1.0</th>\n",
       "      <th>2.0</th>\n",
       "      <th>6.0</th>\n",
       "      <th>7.0</th>\n",
       "      <th>14.0</th>\n",
       "    </tr>\n",
       "  </thead>\n",
       "  <tbody>\n",
       "    <tr>\n",
       "      <th>0</th>\n",
       "      <td>0.009780</td>\n",
       "      <td>0.974804</td>\n",
       "      <td>0.000037</td>\n",
       "      <td>2.030868e-08</td>\n",
       "      <td>0.015378</td>\n",
       "    </tr>\n",
       "    <tr>\n",
       "      <th>1</th>\n",
       "      <td>0.317201</td>\n",
       "      <td>0.680830</td>\n",
       "      <td>0.000296</td>\n",
       "      <td>1.030523e-05</td>\n",
       "      <td>0.001662</td>\n",
       "    </tr>\n",
       "    <tr>\n",
       "      <th>2</th>\n",
       "      <td>0.050474</td>\n",
       "      <td>0.949229</td>\n",
       "      <td>0.000112</td>\n",
       "      <td>3.773621e-06</td>\n",
       "      <td>0.000181</td>\n",
       "    </tr>\n",
       "  </tbody>\n",
       "</table>\n",
       "</div>"
      ],
      "text/plain": [
       "       1.0       2.0       6.0           7.0       14.0\n",
       "0  0.009780  0.974804  0.000037  2.030868e-08  0.015378\n",
       "1  0.317201  0.680830  0.000296  1.030523e-05  0.001662\n",
       "2  0.050474  0.949229  0.000112  3.773621e-06  0.000181"
      ]
     },
     "execution_count": 121,
     "metadata": {},
     "output_type": "execute_result"
    }
   ],
   "source": [
    "# Predicciones probabilísticas\n",
    "# ==============================================================================\n",
    "# Con .predict_proba() se obtiene, para cada observación, la probabilidad predicha\n",
    "# de pertenecer a cada una de las dos clases.\n",
    "predicciones = lr.predict_proba(X = X_test)\n",
    "predicciones = pd.DataFrame(predicciones, columns = lr.classes_)\n",
    "predicciones.head(3)"
   ]
  }
 ],
 "metadata": {
  "kernelspec": {
   "display_name": "Python 3 (ipykernel)",
   "language": "python",
   "name": "python3"
  },
  "language_info": {
   "codemirror_mode": {
    "name": "ipython",
    "version": 3
   },
   "file_extension": ".py",
   "mimetype": "text/x-python",
   "name": "python",
   "nbconvert_exporter": "python",
   "pygments_lexer": "ipython3",
   "version": "3.10.6"
  },
  "vscode": {
   "interpreter": {
    "hash": "606b51598694433430c015857b2ecf9fd14e8a095a5c0461ea2cbb483af7323f"
   }
  }
 },
 "nbformat": 4,
 "nbformat_minor": 5
}
